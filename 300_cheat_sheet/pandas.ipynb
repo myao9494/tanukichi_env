{
 "cells": [
  {
   "cell_type": "code",
   "execution_count": 9,
   "metadata": {
    "ExecuteTime": {
     "end_time": "2018-04-29T11:35:43.601074Z",
     "start_time": "2018-04-29T11:35:43.381650Z"
    }
   },
   "outputs": [],
   "source": [
    "! explorer ."
   ]
  },
  {
   "cell_type": "markdown",
   "metadata": {},
   "source": [
    "##  テストデータの作成"
   ]
  },
  {
   "cell_type": "markdown",
   "metadata": {},
   "source": [
    "### 時系列データ"
   ]
  },
  {
   "cell_type": "code",
   "execution_count": 2,
   "metadata": {
    "ExecuteTime": {
     "end_time": "2018-04-29T11:32:54.300222Z",
     "start_time": "2018-04-29T11:32:53.524657Z"
    }
   },
   "outputs": [],
   "source": [
    "import pandas as pd\n",
    "import datetime,time"
   ]
  },
  {
   "cell_type": "code",
   "execution_count": 46,
   "metadata": {
    "ExecuteTime": {
     "end_time": "2018-04-29T10:56:48.862892Z",
     "start_time": "2018-04-29T10:51:47.276712Z"
    },
    "collapsed": true
   },
   "outputs": [
    {
     "data": {
      "text/html": [
       "<div>\n",
       "<style scoped>\n",
       "    .dataframe tbody tr th:only-of-type {\n",
       "        vertical-align: middle;\n",
       "    }\n",
       "\n",
       "    .dataframe tbody tr th {\n",
       "        vertical-align: top;\n",
       "    }\n",
       "\n",
       "    .dataframe thead th {\n",
       "        text-align: right;\n",
       "    }\n",
       "</style>\n",
       "<table border=\"1\" class=\"dataframe\">\n",
       "  <thead>\n",
       "    <tr style=\"text-align: right;\">\n",
       "      <th></th>\n",
       "      <th>time</th>\n",
       "      <th>value</th>\n",
       "    </tr>\n",
       "  </thead>\n",
       "  <tbody>\n",
       "    <tr>\n",
       "      <th>0</th>\n",
       "      <td>2018-04-29 19:51:47.291724</td>\n",
       "      <td>0</td>\n",
       "    </tr>\n",
       "    <tr>\n",
       "      <th>1</th>\n",
       "      <td>2018-04-29 19:51:48.293639</td>\n",
       "      <td>1</td>\n",
       "    </tr>\n",
       "    <tr>\n",
       "      <th>2</th>\n",
       "      <td>2018-04-29 19:51:49.298578</td>\n",
       "      <td>2</td>\n",
       "    </tr>\n",
       "    <tr>\n",
       "      <th>3</th>\n",
       "      <td>2018-04-29 19:51:50.301232</td>\n",
       "      <td>3</td>\n",
       "    </tr>\n",
       "    <tr>\n",
       "      <th>4</th>\n",
       "      <td>2018-04-29 19:51:51.303521</td>\n",
       "      <td>4</td>\n",
       "    </tr>\n",
       "    <tr>\n",
       "      <th>5</th>\n",
       "      <td>2018-04-29 19:51:52.309442</td>\n",
       "      <td>5</td>\n",
       "    </tr>\n",
       "    <tr>\n",
       "      <th>6</th>\n",
       "      <td>2018-04-29 19:51:53.315551</td>\n",
       "      <td>6</td>\n",
       "    </tr>\n",
       "    <tr>\n",
       "      <th>7</th>\n",
       "      <td>2018-04-29 19:51:54.320570</td>\n",
       "      <td>7</td>\n",
       "    </tr>\n",
       "    <tr>\n",
       "      <th>8</th>\n",
       "      <td>2018-04-29 19:51:55.323944</td>\n",
       "      <td>8</td>\n",
       "    </tr>\n",
       "    <tr>\n",
       "      <th>9</th>\n",
       "      <td>2018-04-29 19:51:56.328414</td>\n",
       "      <td>9</td>\n",
       "    </tr>\n",
       "    <tr>\n",
       "      <th>10</th>\n",
       "      <td>2018-04-29 19:51:57.332384</td>\n",
       "      <td>10</td>\n",
       "    </tr>\n",
       "    <tr>\n",
       "      <th>11</th>\n",
       "      <td>2018-04-29 19:51:58.334710</td>\n",
       "      <td>11</td>\n",
       "    </tr>\n",
       "    <tr>\n",
       "      <th>12</th>\n",
       "      <td>2018-04-29 19:51:59.336071</td>\n",
       "      <td>12</td>\n",
       "    </tr>\n",
       "    <tr>\n",
       "      <th>13</th>\n",
       "      <td>2018-04-29 19:52:00.340997</td>\n",
       "      <td>13</td>\n",
       "    </tr>\n",
       "    <tr>\n",
       "      <th>14</th>\n",
       "      <td>2018-04-29 19:52:01.346383</td>\n",
       "      <td>14</td>\n",
       "    </tr>\n",
       "    <tr>\n",
       "      <th>15</th>\n",
       "      <td>2018-04-29 19:52:02.349517</td>\n",
       "      <td>15</td>\n",
       "    </tr>\n",
       "    <tr>\n",
       "      <th>16</th>\n",
       "      <td>2018-04-29 19:52:03.354854</td>\n",
       "      <td>16</td>\n",
       "    </tr>\n",
       "    <tr>\n",
       "      <th>17</th>\n",
       "      <td>2018-04-29 19:52:04.358559</td>\n",
       "      <td>17</td>\n",
       "    </tr>\n",
       "    <tr>\n",
       "      <th>18</th>\n",
       "      <td>2018-04-29 19:52:05.364217</td>\n",
       "      <td>18</td>\n",
       "    </tr>\n",
       "    <tr>\n",
       "      <th>19</th>\n",
       "      <td>2018-04-29 19:52:06.369259</td>\n",
       "      <td>19</td>\n",
       "    </tr>\n",
       "    <tr>\n",
       "      <th>20</th>\n",
       "      <td>2018-04-29 19:52:07.374943</td>\n",
       "      <td>20</td>\n",
       "    </tr>\n",
       "    <tr>\n",
       "      <th>21</th>\n",
       "      <td>2018-04-29 19:52:08.380116</td>\n",
       "      <td>21</td>\n",
       "    </tr>\n",
       "    <tr>\n",
       "      <th>22</th>\n",
       "      <td>2018-04-29 19:52:09.386740</td>\n",
       "      <td>22</td>\n",
       "    </tr>\n",
       "    <tr>\n",
       "      <th>23</th>\n",
       "      <td>2018-04-29 19:52:10.389873</td>\n",
       "      <td>23</td>\n",
       "    </tr>\n",
       "    <tr>\n",
       "      <th>24</th>\n",
       "      <td>2018-04-29 19:52:11.393642</td>\n",
       "      <td>24</td>\n",
       "    </tr>\n",
       "    <tr>\n",
       "      <th>25</th>\n",
       "      <td>2018-04-29 19:52:12.399525</td>\n",
       "      <td>25</td>\n",
       "    </tr>\n",
       "    <tr>\n",
       "      <th>26</th>\n",
       "      <td>2018-04-29 19:52:13.405066</td>\n",
       "      <td>26</td>\n",
       "    </tr>\n",
       "    <tr>\n",
       "      <th>27</th>\n",
       "      <td>2018-04-29 19:52:14.408425</td>\n",
       "      <td>27</td>\n",
       "    </tr>\n",
       "    <tr>\n",
       "      <th>28</th>\n",
       "      <td>2018-04-29 19:52:15.413691</td>\n",
       "      <td>28</td>\n",
       "    </tr>\n",
       "    <tr>\n",
       "      <th>29</th>\n",
       "      <td>2018-04-29 19:52:16.418750</td>\n",
       "      <td>29</td>\n",
       "    </tr>\n",
       "    <tr>\n",
       "      <th>...</th>\n",
       "      <td>...</td>\n",
       "      <td>...</td>\n",
       "    </tr>\n",
       "    <tr>\n",
       "      <th>271</th>\n",
       "      <td>2018-04-29 19:56:19.669723</td>\n",
       "      <td>271</td>\n",
       "    </tr>\n",
       "    <tr>\n",
       "      <th>272</th>\n",
       "      <td>2018-04-29 19:56:20.675005</td>\n",
       "      <td>272</td>\n",
       "    </tr>\n",
       "    <tr>\n",
       "      <th>273</th>\n",
       "      <td>2018-04-29 19:56:21.681294</td>\n",
       "      <td>273</td>\n",
       "    </tr>\n",
       "    <tr>\n",
       "      <th>274</th>\n",
       "      <td>2018-04-29 19:56:22.684316</td>\n",
       "      <td>274</td>\n",
       "    </tr>\n",
       "    <tr>\n",
       "      <th>275</th>\n",
       "      <td>2018-04-29 19:56:23.687368</td>\n",
       "      <td>275</td>\n",
       "    </tr>\n",
       "    <tr>\n",
       "      <th>276</th>\n",
       "      <td>2018-04-29 19:56:24.692544</td>\n",
       "      <td>276</td>\n",
       "    </tr>\n",
       "    <tr>\n",
       "      <th>277</th>\n",
       "      <td>2018-04-29 19:56:25.697571</td>\n",
       "      <td>277</td>\n",
       "    </tr>\n",
       "    <tr>\n",
       "      <th>278</th>\n",
       "      <td>2018-04-29 19:56:26.701335</td>\n",
       "      <td>278</td>\n",
       "    </tr>\n",
       "    <tr>\n",
       "      <th>279</th>\n",
       "      <td>2018-04-29 19:56:27.704363</td>\n",
       "      <td>279</td>\n",
       "    </tr>\n",
       "    <tr>\n",
       "      <th>280</th>\n",
       "      <td>2018-04-29 19:56:28.709653</td>\n",
       "      <td>280</td>\n",
       "    </tr>\n",
       "    <tr>\n",
       "      <th>281</th>\n",
       "      <td>2018-04-29 19:56:29.715636</td>\n",
       "      <td>281</td>\n",
       "    </tr>\n",
       "    <tr>\n",
       "      <th>282</th>\n",
       "      <td>2018-04-29 19:56:30.721539</td>\n",
       "      <td>282</td>\n",
       "    </tr>\n",
       "    <tr>\n",
       "      <th>283</th>\n",
       "      <td>2018-04-29 19:56:31.726593</td>\n",
       "      <td>283</td>\n",
       "    </tr>\n",
       "    <tr>\n",
       "      <th>284</th>\n",
       "      <td>2018-04-29 19:56:32.732512</td>\n",
       "      <td>284</td>\n",
       "    </tr>\n",
       "    <tr>\n",
       "      <th>285</th>\n",
       "      <td>2018-04-29 19:56:33.737955</td>\n",
       "      <td>285</td>\n",
       "    </tr>\n",
       "    <tr>\n",
       "      <th>286</th>\n",
       "      <td>2018-04-29 19:56:34.744859</td>\n",
       "      <td>286</td>\n",
       "    </tr>\n",
       "    <tr>\n",
       "      <th>287</th>\n",
       "      <td>2018-04-29 19:56:35.750309</td>\n",
       "      <td>287</td>\n",
       "    </tr>\n",
       "    <tr>\n",
       "      <th>288</th>\n",
       "      <td>2018-04-29 19:56:36.756057</td>\n",
       "      <td>288</td>\n",
       "    </tr>\n",
       "    <tr>\n",
       "      <th>289</th>\n",
       "      <td>2018-04-29 19:56:37.760702</td>\n",
       "      <td>289</td>\n",
       "    </tr>\n",
       "    <tr>\n",
       "      <th>290</th>\n",
       "      <td>2018-04-29 19:56:38.766678</td>\n",
       "      <td>290</td>\n",
       "    </tr>\n",
       "    <tr>\n",
       "      <th>291</th>\n",
       "      <td>2018-04-29 19:56:39.772280</td>\n",
       "      <td>291</td>\n",
       "    </tr>\n",
       "    <tr>\n",
       "      <th>292</th>\n",
       "      <td>2018-04-29 19:56:40.778712</td>\n",
       "      <td>292</td>\n",
       "    </tr>\n",
       "    <tr>\n",
       "      <th>293</th>\n",
       "      <td>2018-04-29 19:56:41.784449</td>\n",
       "      <td>293</td>\n",
       "    </tr>\n",
       "    <tr>\n",
       "      <th>294</th>\n",
       "      <td>2018-04-29 19:56:42.791010</td>\n",
       "      <td>294</td>\n",
       "    </tr>\n",
       "    <tr>\n",
       "      <th>295</th>\n",
       "      <td>2018-04-29 19:56:43.796525</td>\n",
       "      <td>295</td>\n",
       "    </tr>\n",
       "    <tr>\n",
       "      <th>296</th>\n",
       "      <td>2018-04-29 19:56:44.802038</td>\n",
       "      <td>296</td>\n",
       "    </tr>\n",
       "    <tr>\n",
       "      <th>297</th>\n",
       "      <td>2018-04-29 19:56:45.807354</td>\n",
       "      <td>297</td>\n",
       "    </tr>\n",
       "    <tr>\n",
       "      <th>298</th>\n",
       "      <td>2018-04-29 19:56:46.810645</td>\n",
       "      <td>298</td>\n",
       "    </tr>\n",
       "    <tr>\n",
       "      <th>299</th>\n",
       "      <td>2018-04-29 19:56:47.817002</td>\n",
       "      <td>299</td>\n",
       "    </tr>\n",
       "    <tr>\n",
       "      <th>300</th>\n",
       "      <td>2018-04-29 19:56:48.822885</td>\n",
       "      <td>300</td>\n",
       "    </tr>\n",
       "  </tbody>\n",
       "</table>\n",
       "<p>301 rows × 2 columns</p>\n",
       "</div>"
      ],
      "text/plain": [
       "                          time  value\n",
       "0   2018-04-29 19:51:47.291724      0\n",
       "1   2018-04-29 19:51:48.293639      1\n",
       "2   2018-04-29 19:51:49.298578      2\n",
       "3   2018-04-29 19:51:50.301232      3\n",
       "4   2018-04-29 19:51:51.303521      4\n",
       "5   2018-04-29 19:51:52.309442      5\n",
       "6   2018-04-29 19:51:53.315551      6\n",
       "7   2018-04-29 19:51:54.320570      7\n",
       "8   2018-04-29 19:51:55.323944      8\n",
       "9   2018-04-29 19:51:56.328414      9\n",
       "10  2018-04-29 19:51:57.332384     10\n",
       "11  2018-04-29 19:51:58.334710     11\n",
       "12  2018-04-29 19:51:59.336071     12\n",
       "13  2018-04-29 19:52:00.340997     13\n",
       "14  2018-04-29 19:52:01.346383     14\n",
       "15  2018-04-29 19:52:02.349517     15\n",
       "16  2018-04-29 19:52:03.354854     16\n",
       "17  2018-04-29 19:52:04.358559     17\n",
       "18  2018-04-29 19:52:05.364217     18\n",
       "19  2018-04-29 19:52:06.369259     19\n",
       "20  2018-04-29 19:52:07.374943     20\n",
       "21  2018-04-29 19:52:08.380116     21\n",
       "22  2018-04-29 19:52:09.386740     22\n",
       "23  2018-04-29 19:52:10.389873     23\n",
       "24  2018-04-29 19:52:11.393642     24\n",
       "25  2018-04-29 19:52:12.399525     25\n",
       "26  2018-04-29 19:52:13.405066     26\n",
       "27  2018-04-29 19:52:14.408425     27\n",
       "28  2018-04-29 19:52:15.413691     28\n",
       "29  2018-04-29 19:52:16.418750     29\n",
       "..                         ...    ...\n",
       "271 2018-04-29 19:56:19.669723    271\n",
       "272 2018-04-29 19:56:20.675005    272\n",
       "273 2018-04-29 19:56:21.681294    273\n",
       "274 2018-04-29 19:56:22.684316    274\n",
       "275 2018-04-29 19:56:23.687368    275\n",
       "276 2018-04-29 19:56:24.692544    276\n",
       "277 2018-04-29 19:56:25.697571    277\n",
       "278 2018-04-29 19:56:26.701335    278\n",
       "279 2018-04-29 19:56:27.704363    279\n",
       "280 2018-04-29 19:56:28.709653    280\n",
       "281 2018-04-29 19:56:29.715636    281\n",
       "282 2018-04-29 19:56:30.721539    282\n",
       "283 2018-04-29 19:56:31.726593    283\n",
       "284 2018-04-29 19:56:32.732512    284\n",
       "285 2018-04-29 19:56:33.737955    285\n",
       "286 2018-04-29 19:56:34.744859    286\n",
       "287 2018-04-29 19:56:35.750309    287\n",
       "288 2018-04-29 19:56:36.756057    288\n",
       "289 2018-04-29 19:56:37.760702    289\n",
       "290 2018-04-29 19:56:38.766678    290\n",
       "291 2018-04-29 19:56:39.772280    291\n",
       "292 2018-04-29 19:56:40.778712    292\n",
       "293 2018-04-29 19:56:41.784449    293\n",
       "294 2018-04-29 19:56:42.791010    294\n",
       "295 2018-04-29 19:56:43.796525    295\n",
       "296 2018-04-29 19:56:44.802038    296\n",
       "297 2018-04-29 19:56:45.807354    297\n",
       "298 2018-04-29 19:56:46.810645    298\n",
       "299 2018-04-29 19:56:47.817002    299\n",
       "300 2018-04-29 19:56:48.822885    300\n",
       "\n",
       "[301 rows x 2 columns]"
      ]
     },
     "execution_count": 46,
     "metadata": {},
     "output_type": "execute_result"
    }
   ],
   "source": [
    "i=0\n",
    "li=[datetime.datetime.now(),i]\n",
    "df = pd.DataFrame([li])\n",
    "\n",
    "for i in range(300):\n",
    "    time.sleep(1)\n",
    "    i=i+1\n",
    "    li=[datetime.datetime.now(),i]\n",
    "    df=df.append([li], ignore_index=True)\n",
    "df.columns=[\"time\", \"value\"]\n",
    "df.to_csv(\"test.csv\")\n",
    "df"
   ]
  },
  {
   "cell_type": "markdown",
   "metadata": {},
   "source": [
    "### 時系列以外"
   ]
  },
  {
   "cell_type": "code",
   "execution_count": 37,
   "metadata": {
    "ExecuteTime": {
     "end_time": "2018-04-28T01:52:08.306357Z",
     "start_time": "2018-04-28T01:52:08.283342Z"
    },
    "collapsed": true
   },
   "outputs": [
    {
     "data": {
      "text/html": [
       "<div>\n",
       "<style scoped>\n",
       "    .dataframe tbody tr th:only-of-type {\n",
       "        vertical-align: middle;\n",
       "    }\n",
       "\n",
       "    .dataframe tbody tr th {\n",
       "        vertical-align: top;\n",
       "    }\n",
       "\n",
       "    .dataframe thead th {\n",
       "        text-align: right;\n",
       "    }\n",
       "</style>\n",
       "<table border=\"1\" class=\"dataframe\">\n",
       "  <thead>\n",
       "    <tr style=\"text-align: right;\">\n",
       "      <th></th>\n",
       "      <th>A</th>\n",
       "      <th>B</th>\n",
       "      <th>C</th>\n",
       "    </tr>\n",
       "  </thead>\n",
       "  <tbody>\n",
       "    <tr>\n",
       "      <th>0</th>\n",
       "      <td>1</td>\n",
       "      <td>4</td>\n",
       "      <td>7</td>\n",
       "    </tr>\n",
       "    <tr>\n",
       "      <th>1</th>\n",
       "      <td>2</td>\n",
       "      <td>5</td>\n",
       "      <td>8</td>\n",
       "    </tr>\n",
       "    <tr>\n",
       "      <th>2</th>\n",
       "      <td>3</td>\n",
       "      <td>6</td>\n",
       "      <td>9</td>\n",
       "    </tr>\n",
       "  </tbody>\n",
       "</table>\n",
       "</div>"
      ],
      "text/plain": [
       "   A  B  C\n",
       "0  1  4  7\n",
       "1  2  5  8\n",
       "2  3  6  9"
      ]
     },
     "execution_count": 37,
     "metadata": {},
     "output_type": "execute_result"
    }
   ],
   "source": [
    "import pandas as pd\n",
    "df = pd.DataFrame({'A':[1,2,3],\n",
    "                   'B':[4,5,6],\n",
    "                   'C':[7,8,9]})\n",
    "df.to_csv(\"test.csv\")\n",
    "df"
   ]
  },
  {
   "cell_type": "markdown",
   "metadata": {},
   "source": [
    "## dataframe読み込み"
   ]
  },
  {
   "cell_type": "markdown",
   "metadata": {},
   "source": [
    "### 時系列"
   ]
  },
  {
   "cell_type": "markdown",
   "metadata": {},
   "source": [
    "#### 生データの読み込み"
   ]
  },
  {
   "cell_type": "code",
   "execution_count": 45,
   "metadata": {
    "ExecuteTime": {
     "end_time": "2018-04-29T11:57:40.715178Z",
     "start_time": "2018-04-29T11:57:40.673149Z"
    },
    "scrolled": true
   },
   "outputs": [
    {
     "name": "stderr",
     "output_type": "stream",
     "text": [
      "C:\\Users\\mineo\\Anaconda3\\envs\\kabu36\\lib\\site-packages\\ipykernel_launcher.py:14: FutureWarning: fill_method is deprecated to .resample()\n",
      "the new syntax is .resample(...).ohlc().ffill()\n",
      "  \n"
     ]
    },
    {
     "data": {
      "text/html": [
       "<div>\n",
       "<style scoped>\n",
       "    .dataframe tbody tr th:only-of-type {\n",
       "        vertical-align: middle;\n",
       "    }\n",
       "\n",
       "    .dataframe tbody tr th {\n",
       "        vertical-align: top;\n",
       "    }\n",
       "\n",
       "    .dataframe thead th {\n",
       "        text-align: right;\n",
       "    }\n",
       "</style>\n",
       "<table border=\"1\" class=\"dataframe\">\n",
       "  <thead>\n",
       "    <tr style=\"text-align: right;\">\n",
       "      <th></th>\n",
       "      <th>open</th>\n",
       "      <th>high</th>\n",
       "      <th>low</th>\n",
       "      <th>close</th>\n",
       "    </tr>\n",
       "    <tr>\n",
       "      <th>time</th>\n",
       "      <th></th>\n",
       "      <th></th>\n",
       "      <th></th>\n",
       "      <th></th>\n",
       "    </tr>\n",
       "  </thead>\n",
       "  <tbody>\n",
       "    <tr>\n",
       "      <th>2018-04-29 19:52:00</th>\n",
       "      <td>0.0</td>\n",
       "      <td>12.0</td>\n",
       "      <td>0.0</td>\n",
       "      <td>12.0</td>\n",
       "    </tr>\n",
       "    <tr>\n",
       "      <th>2018-04-29 19:52:20</th>\n",
       "      <td>13.0</td>\n",
       "      <td>32.0</td>\n",
       "      <td>13.0</td>\n",
       "      <td>32.0</td>\n",
       "    </tr>\n",
       "    <tr>\n",
       "      <th>2018-04-29 19:52:40</th>\n",
       "      <td>33.0</td>\n",
       "      <td>52.0</td>\n",
       "      <td>33.0</td>\n",
       "      <td>52.0</td>\n",
       "    </tr>\n",
       "    <tr>\n",
       "      <th>2018-04-29 19:53:00</th>\n",
       "      <td>53.0</td>\n",
       "      <td>72.0</td>\n",
       "      <td>53.0</td>\n",
       "      <td>72.0</td>\n",
       "    </tr>\n",
       "    <tr>\n",
       "      <th>2018-04-29 19:53:20</th>\n",
       "      <td>73.0</td>\n",
       "      <td>92.0</td>\n",
       "      <td>73.0</td>\n",
       "      <td>92.0</td>\n",
       "    </tr>\n",
       "    <tr>\n",
       "      <th>2018-04-29 19:53:40</th>\n",
       "      <td>93.0</td>\n",
       "      <td>112.0</td>\n",
       "      <td>93.0</td>\n",
       "      <td>112.0</td>\n",
       "    </tr>\n",
       "    <tr>\n",
       "      <th>2018-04-29 19:54:00</th>\n",
       "      <td>113.0</td>\n",
       "      <td>132.0</td>\n",
       "      <td>113.0</td>\n",
       "      <td>132.0</td>\n",
       "    </tr>\n",
       "    <tr>\n",
       "      <th>2018-04-29 19:54:20</th>\n",
       "      <td>133.0</td>\n",
       "      <td>151.0</td>\n",
       "      <td>133.0</td>\n",
       "      <td>151.0</td>\n",
       "    </tr>\n",
       "    <tr>\n",
       "      <th>2018-04-29 19:54:40</th>\n",
       "      <td>152.0</td>\n",
       "      <td>171.0</td>\n",
       "      <td>152.0</td>\n",
       "      <td>171.0</td>\n",
       "    </tr>\n",
       "    <tr>\n",
       "      <th>2018-04-29 19:55:00</th>\n",
       "      <td>172.0</td>\n",
       "      <td>191.0</td>\n",
       "      <td>172.0</td>\n",
       "      <td>191.0</td>\n",
       "    </tr>\n",
       "    <tr>\n",
       "      <th>2018-04-29 19:55:20</th>\n",
       "      <td>192.0</td>\n",
       "      <td>211.0</td>\n",
       "      <td>192.0</td>\n",
       "      <td>211.0</td>\n",
       "    </tr>\n",
       "    <tr>\n",
       "      <th>2018-04-29 19:55:40</th>\n",
       "      <td>212.0</td>\n",
       "      <td>231.0</td>\n",
       "      <td>212.0</td>\n",
       "      <td>231.0</td>\n",
       "    </tr>\n",
       "    <tr>\n",
       "      <th>2018-04-29 19:56:00</th>\n",
       "      <td>232.0</td>\n",
       "      <td>251.0</td>\n",
       "      <td>232.0</td>\n",
       "      <td>251.0</td>\n",
       "    </tr>\n",
       "    <tr>\n",
       "      <th>2018-04-29 19:56:20</th>\n",
       "      <td>252.0</td>\n",
       "      <td>271.0</td>\n",
       "      <td>252.0</td>\n",
       "      <td>271.0</td>\n",
       "    </tr>\n",
       "    <tr>\n",
       "      <th>2018-04-29 19:56:40</th>\n",
       "      <td>272.0</td>\n",
       "      <td>291.0</td>\n",
       "      <td>272.0</td>\n",
       "      <td>291.0</td>\n",
       "    </tr>\n",
       "    <tr>\n",
       "      <th>2018-04-29 19:57:00</th>\n",
       "      <td>292.0</td>\n",
       "      <td>300.0</td>\n",
       "      <td>292.0</td>\n",
       "      <td>300.0</td>\n",
       "    </tr>\n",
       "  </tbody>\n",
       "</table>\n",
       "</div>"
      ],
      "text/plain": [
       "                      open   high    low  close\n",
       "time                                           \n",
       "2018-04-29 19:52:00    0.0   12.0    0.0   12.0\n",
       "2018-04-29 19:52:20   13.0   32.0   13.0   32.0\n",
       "2018-04-29 19:52:40   33.0   52.0   33.0   52.0\n",
       "2018-04-29 19:53:00   53.0   72.0   53.0   72.0\n",
       "2018-04-29 19:53:20   73.0   92.0   73.0   92.0\n",
       "2018-04-29 19:53:40   93.0  112.0   93.0  112.0\n",
       "2018-04-29 19:54:00  113.0  132.0  113.0  132.0\n",
       "2018-04-29 19:54:20  133.0  151.0  133.0  151.0\n",
       "2018-04-29 19:54:40  152.0  171.0  152.0  171.0\n",
       "2018-04-29 19:55:00  172.0  191.0  172.0  191.0\n",
       "2018-04-29 19:55:20  192.0  211.0  192.0  211.0\n",
       "2018-04-29 19:55:40  212.0  231.0  212.0  231.0\n",
       "2018-04-29 19:56:00  232.0  251.0  232.0  251.0\n",
       "2018-04-29 19:56:20  252.0  271.0  252.0  271.0\n",
       "2018-04-29 19:56:40  272.0  291.0  272.0  291.0\n",
       "2018-04-29 19:57:00  292.0  300.0  292.0  300.0"
      ]
     },
     "execution_count": 45,
     "metadata": {},
     "output_type": "execute_result"
    }
   ],
   "source": [
    "file = \"test.csv\"\n",
    "headers=[\"time\", \"value\"]\n",
    "dtypes = {headers[0]:'str',\n",
    "          headers[1]:'float'\n",
    "         }\n",
    "df=pd.read_csv(file, header=0, names=headers, dtype=dtypes)\n",
    "\n",
    "dateTimeIndex=df\n",
    "dateTimeIndex = pd.DatetimeIndex(df['time'])\n",
    "df.index = dateTimeIndex#IndexをdateTimeIndexに変換\n",
    "df=df.dropna()\n",
    "df=df.drop(\"time\", axis=1)\n",
    "df"
   ]
  },
  {
   "cell_type": "markdown",
   "metadata": {},
   "source": [
    "#### リサンプリング"
   ]
  },
  {
   "cell_type": "code",
   "execution_count": 46,
   "metadata": {
    "ExecuteTime": {
     "end_time": "2018-04-29T11:58:36.726910Z",
     "start_time": "2018-04-29T11:58:36.700890Z"
    }
   },
   "outputs": [
    {
     "name": "stderr",
     "output_type": "stream",
     "text": [
      "C:\\Users\\mineo\\Anaconda3\\envs\\kabu36\\lib\\site-packages\\ipykernel_launcher.py:1: FutureWarning: fill_method is deprecated to .resample()\n",
      "the new syntax is .resample(...).ohlc().ffill()\n",
      "  \"\"\"Entry point for launching an IPython kernel.\n"
     ]
    },
    {
     "data": {
      "text/html": [
       "<div>\n",
       "<style scoped>\n",
       "    .dataframe tbody tr th:only-of-type {\n",
       "        vertical-align: middle;\n",
       "    }\n",
       "\n",
       "    .dataframe tbody tr th {\n",
       "        vertical-align: top;\n",
       "    }\n",
       "\n",
       "    .dataframe thead th {\n",
       "        text-align: right;\n",
       "    }\n",
       "</style>\n",
       "<table border=\"1\" class=\"dataframe\">\n",
       "  <thead>\n",
       "    <tr style=\"text-align: right;\">\n",
       "      <th></th>\n",
       "      <th>open</th>\n",
       "      <th>high</th>\n",
       "      <th>low</th>\n",
       "      <th>close</th>\n",
       "    </tr>\n",
       "    <tr>\n",
       "      <th>time</th>\n",
       "      <th></th>\n",
       "      <th></th>\n",
       "      <th></th>\n",
       "      <th></th>\n",
       "    </tr>\n",
       "  </thead>\n",
       "  <tbody>\n",
       "    <tr>\n",
       "      <th>2018-04-29 19:52:00</th>\n",
       "      <td>0.0</td>\n",
       "      <td>12.0</td>\n",
       "      <td>0.0</td>\n",
       "      <td>12.0</td>\n",
       "    </tr>\n",
       "    <tr>\n",
       "      <th>2018-04-29 19:52:20</th>\n",
       "      <td>13.0</td>\n",
       "      <td>32.0</td>\n",
       "      <td>13.0</td>\n",
       "      <td>32.0</td>\n",
       "    </tr>\n",
       "    <tr>\n",
       "      <th>2018-04-29 19:52:40</th>\n",
       "      <td>33.0</td>\n",
       "      <td>52.0</td>\n",
       "      <td>33.0</td>\n",
       "      <td>52.0</td>\n",
       "    </tr>\n",
       "    <tr>\n",
       "      <th>2018-04-29 19:53:00</th>\n",
       "      <td>53.0</td>\n",
       "      <td>72.0</td>\n",
       "      <td>53.0</td>\n",
       "      <td>72.0</td>\n",
       "    </tr>\n",
       "    <tr>\n",
       "      <th>2018-04-29 19:53:20</th>\n",
       "      <td>73.0</td>\n",
       "      <td>92.0</td>\n",
       "      <td>73.0</td>\n",
       "      <td>92.0</td>\n",
       "    </tr>\n",
       "    <tr>\n",
       "      <th>2018-04-29 19:53:40</th>\n",
       "      <td>93.0</td>\n",
       "      <td>112.0</td>\n",
       "      <td>93.0</td>\n",
       "      <td>112.0</td>\n",
       "    </tr>\n",
       "    <tr>\n",
       "      <th>2018-04-29 19:54:00</th>\n",
       "      <td>113.0</td>\n",
       "      <td>132.0</td>\n",
       "      <td>113.0</td>\n",
       "      <td>132.0</td>\n",
       "    </tr>\n",
       "    <tr>\n",
       "      <th>2018-04-29 19:54:20</th>\n",
       "      <td>133.0</td>\n",
       "      <td>151.0</td>\n",
       "      <td>133.0</td>\n",
       "      <td>151.0</td>\n",
       "    </tr>\n",
       "    <tr>\n",
       "      <th>2018-04-29 19:54:40</th>\n",
       "      <td>152.0</td>\n",
       "      <td>171.0</td>\n",
       "      <td>152.0</td>\n",
       "      <td>171.0</td>\n",
       "    </tr>\n",
       "    <tr>\n",
       "      <th>2018-04-29 19:55:00</th>\n",
       "      <td>172.0</td>\n",
       "      <td>191.0</td>\n",
       "      <td>172.0</td>\n",
       "      <td>191.0</td>\n",
       "    </tr>\n",
       "    <tr>\n",
       "      <th>2018-04-29 19:55:20</th>\n",
       "      <td>192.0</td>\n",
       "      <td>211.0</td>\n",
       "      <td>192.0</td>\n",
       "      <td>211.0</td>\n",
       "    </tr>\n",
       "    <tr>\n",
       "      <th>2018-04-29 19:55:40</th>\n",
       "      <td>212.0</td>\n",
       "      <td>231.0</td>\n",
       "      <td>212.0</td>\n",
       "      <td>231.0</td>\n",
       "    </tr>\n",
       "    <tr>\n",
       "      <th>2018-04-29 19:56:00</th>\n",
       "      <td>232.0</td>\n",
       "      <td>251.0</td>\n",
       "      <td>232.0</td>\n",
       "      <td>251.0</td>\n",
       "    </tr>\n",
       "    <tr>\n",
       "      <th>2018-04-29 19:56:20</th>\n",
       "      <td>252.0</td>\n",
       "      <td>271.0</td>\n",
       "      <td>252.0</td>\n",
       "      <td>271.0</td>\n",
       "    </tr>\n",
       "    <tr>\n",
       "      <th>2018-04-29 19:56:40</th>\n",
       "      <td>272.0</td>\n",
       "      <td>291.0</td>\n",
       "      <td>272.0</td>\n",
       "      <td>291.0</td>\n",
       "    </tr>\n",
       "    <tr>\n",
       "      <th>2018-04-29 19:57:00</th>\n",
       "      <td>292.0</td>\n",
       "      <td>300.0</td>\n",
       "      <td>292.0</td>\n",
       "      <td>300.0</td>\n",
       "    </tr>\n",
       "  </tbody>\n",
       "</table>\n",
       "</div>"
      ],
      "text/plain": [
       "                      open   high    low  close\n",
       "time                                           \n",
       "2018-04-29 19:52:00    0.0   12.0    0.0   12.0\n",
       "2018-04-29 19:52:20   13.0   32.0   13.0   32.0\n",
       "2018-04-29 19:52:40   33.0   52.0   33.0   52.0\n",
       "2018-04-29 19:53:00   53.0   72.0   53.0   72.0\n",
       "2018-04-29 19:53:20   73.0   92.0   73.0   92.0\n",
       "2018-04-29 19:53:40   93.0  112.0   93.0  112.0\n",
       "2018-04-29 19:54:00  113.0  132.0  113.0  132.0\n",
       "2018-04-29 19:54:20  133.0  151.0  133.0  151.0\n",
       "2018-04-29 19:54:40  152.0  171.0  152.0  171.0\n",
       "2018-04-29 19:55:00  172.0  191.0  172.0  191.0\n",
       "2018-04-29 19:55:20  192.0  211.0  192.0  211.0\n",
       "2018-04-29 19:55:40  212.0  231.0  212.0  231.0\n",
       "2018-04-29 19:56:00  232.0  251.0  232.0  251.0\n",
       "2018-04-29 19:56:20  252.0  271.0  252.0  271.0\n",
       "2018-04-29 19:56:40  272.0  291.0  272.0  291.0\n",
       "2018-04-29 19:57:00  292.0  300.0  292.0  300.0"
      ]
     },
     "execution_count": 46,
     "metadata": {},
     "output_type": "execute_result"
    }
   ],
   "source": [
    "ohlc = df.resample(\"20s\", how=\"ohlc\", closed=\"right\", label=\"right\", fill_method=\"ffill\")\n",
    "ohlc.columns = ['open', 'high', 'low', 'close']\n",
    "ohlc"
   ]
  },
  {
   "cell_type": "markdown",
   "metadata": {},
   "source": [
    "### 時系列以外"
   ]
  },
  {
   "cell_type": "code",
   "execution_count": 38,
   "metadata": {
    "ExecuteTime": {
     "end_time": "2018-04-28T01:52:11.229470Z",
     "start_time": "2018-04-28T01:52:11.209459Z"
    }
   },
   "outputs": [
    {
     "data": {
      "text/html": [
       "<div>\n",
       "<style scoped>\n",
       "    .dataframe tbody tr th:only-of-type {\n",
       "        vertical-align: middle;\n",
       "    }\n",
       "\n",
       "    .dataframe tbody tr th {\n",
       "        vertical-align: top;\n",
       "    }\n",
       "\n",
       "    .dataframe thead th {\n",
       "        text-align: right;\n",
       "    }\n",
       "</style>\n",
       "<table border=\"1\" class=\"dataframe\">\n",
       "  <thead>\n",
       "    <tr style=\"text-align: right;\">\n",
       "      <th></th>\n",
       "      <th>a</th>\n",
       "      <th>b</th>\n",
       "      <th>c</th>\n",
       "    </tr>\n",
       "  </thead>\n",
       "  <tbody>\n",
       "    <tr>\n",
       "      <th>1</th>\n",
       "      <td>2.0</td>\n",
       "      <td>5</td>\n",
       "      <td>8</td>\n",
       "    </tr>\n",
       "    <tr>\n",
       "      <th>2</th>\n",
       "      <td>3.0</td>\n",
       "      <td>6</td>\n",
       "      <td>9</td>\n",
       "    </tr>\n",
       "  </tbody>\n",
       "</table>\n",
       "</div>"
      ],
      "text/plain": [
       "     a  b  c\n",
       "1  2.0  5  8\n",
       "2  3.0  6  9"
      ]
     },
     "execution_count": 38,
     "metadata": {},
     "output_type": "execute_result"
    }
   ],
   "source": [
    "file = \"test.csv\"\n",
    "headers = ['a', 'b', 'c']\n",
    "dtypes = {headers[0]:'float',\n",
    "          headers[1]:'str', \n",
    "          headers[2]:'str'\n",
    "         }\n",
    "df=pd.read_csv(file, header=1, names=headers, dtype=dtypes)\n",
    "df"
   ]
  },
  {
   "cell_type": "markdown",
   "metadata": {},
   "source": [
    "# DataFrame や Series の重複データをチェック・削除－python\n",
    "http://ailaby.com/duplicated/"
   ]
  },
  {
   "cell_type": "markdown",
   "metadata": {},
   "source": [
    "# 重複しているものを抽出する"
   ]
  },
  {
   "cell_type": "code",
   "execution_count": 6,
   "metadata": {
    "ExecuteTime": {
     "end_time": "2018-04-28T00:32:43.209940Z",
     "start_time": "2018-04-28T00:32:43.203937Z"
    },
    "run_control": {
     "marked": false
    }
   },
   "outputs": [],
   "source": [
    "import pandas as pd\n",
    "\n",
    "df = pd.DataFrame([[1,1],[2,2]])"
   ]
  },
  {
   "cell_type": "code",
   "execution_count": 12,
   "metadata": {
    "ExecuteTime": {
     "end_time": "2017-11-06T12:35:59.980927Z",
     "start_time": "2017-11-06T12:35:59.963918Z"
    }
   },
   "outputs": [
    {
     "name": "stdout",
     "output_type": "stream",
     "text": [
      "   A  checksum\n",
      "4  4         1\n",
      "5  5         1\n",
      "   A  checksum\n",
      "5  5         1\n",
      "6  6         1\n",
      "   A  checksum\n",
      "6  6         1\n",
      "7  7         1\n"
     ]
    }
   ],
   "source": [
    "consecutive = 2\n",
    "    ix = df.loc[df['checksum'].rolling(consecutive).sum() == consecutive].index\n",
    "    for x in ix:\n",
    "        print(df.loc[x - consecutive + 1:x])"
   ]
  },
  {
   "cell_type": "code",
   "execution_count": 13,
   "metadata": {
    "ExecuteTime": {
     "end_time": "2017-11-06T12:37:51.151762Z",
     "start_time": "2017-11-06T12:37:51.144757Z"
    },
    "run_control": {
     "marked": false
    }
   },
   "outputs": [
    {
     "data": {
      "text/plain": [
       "Int64Index([5, 6, 7], dtype='int64')"
      ]
     },
     "execution_count": 13,
     "metadata": {},
     "output_type": "execute_result"
    }
   ],
   "source": [
    "ix"
   ]
  },
  {
   "cell_type": "markdown",
   "metadata": {
    "collapsed": true
   },
   "source": [
    "# for loop"
   ]
  },
  {
   "cell_type": "code",
   "execution_count": 2,
   "metadata": {
    "ExecuteTime": {
     "end_time": "2017-11-07T07:13:51.885523Z",
     "start_time": "2017-11-07T07:13:51.853520Z"
    }
   },
   "outputs": [
    {
     "data": {
      "text/html": [
       "<div>\n",
       "<style>\n",
       "    .dataframe thead tr:only-child th {\n",
       "        text-align: right;\n",
       "    }\n",
       "\n",
       "    .dataframe thead th {\n",
       "        text-align: left;\n",
       "    }\n",
       "\n",
       "    .dataframe tbody tr th {\n",
       "        vertical-align: top;\n",
       "    }\n",
       "</style>\n",
       "<table border=\"1\" class=\"dataframe\">\n",
       "  <thead>\n",
       "    <tr style=\"text-align: right;\">\n",
       "      <th></th>\n",
       "      <th>X</th>\n",
       "      <th>Y</th>\n",
       "    </tr>\n",
       "  </thead>\n",
       "  <tbody>\n",
       "    <tr>\n",
       "      <th>a</th>\n",
       "      <td>1</td>\n",
       "      <td>100</td>\n",
       "    </tr>\n",
       "    <tr>\n",
       "      <th>b</th>\n",
       "      <td>2</td>\n",
       "      <td>200</td>\n",
       "    </tr>\n",
       "    <tr>\n",
       "      <th>c</th>\n",
       "      <td>3</td>\n",
       "      <td>300</td>\n",
       "    </tr>\n",
       "  </tbody>\n",
       "</table>\n",
       "</div>"
      ],
      "text/plain": [
       "   X    Y\n",
       "a  1  100\n",
       "b  2  200\n",
       "c  3  300"
      ]
     },
     "execution_count": 2,
     "metadata": {},
     "output_type": "execute_result"
    }
   ],
   "source": [
    "from pandas import DataFrame\n",
    "data = DataFrame({'X': [1, 2, 3], 'Y': [100, 200, 300]}, index=['a', 'b', 'c'])\n",
    "data"
   ]
  },
  {
   "cell_type": "code",
   "execution_count": 3,
   "metadata": {
    "ExecuteTime": {
     "end_time": "2017-11-07T07:14:05.168879Z",
     "start_time": "2017-11-07T07:14:05.148882Z"
    }
   },
   "outputs": [
    {
     "name": "stdout",
     "output_type": "stream",
     "text": [
      "a 1 100\n",
      "b 2 200\n",
      "c 3 300\n"
     ]
    }
   ],
   "source": [
    "#====== iterrows =======\n",
    "# 縦方向にループ\n",
    " \n",
    "for i, v in data.iterrows(): #下記の場合は、X,Yの列名があり、行方向へのループ（列の場合は行名を入れる）\n",
    "    print (i, v['X'], v['Y'])    # iは行または列名　v は Series"
   ]
  },
  {
   "cell_type": "code",
   "execution_count": 4,
   "metadata": {
    "ExecuteTime": {
     "end_time": "2017-11-07T07:14:19.198553Z",
     "start_time": "2017-11-07T07:14:19.186556Z"
    }
   },
   "outputs": [
    {
     "name": "stdout",
     "output_type": "stream",
     "text": [
      "X 1 2 3\n",
      "Y 100 200 300\n"
     ]
    }
   ],
   "source": [
    "#====== iteritems ======\n",
    "# 横方向にループ\n",
    " \n",
    "for i, v in data.iteritems():\n",
    "    print (i, v['a'], v['b'], v['c'])   # v は Series\n"
   ]
  },
  {
   "cell_type": "code",
   "execution_count": null,
   "metadata": {
    "collapsed": true
   },
   "outputs": [],
   "source": []
  }
 ],
 "metadata": {
  "hide_input": false,
  "kernelspec": {
   "display_name": "Python 3",
   "language": "python",
   "name": "python3"
  },
  "language_info": {
   "codemirror_mode": {
    "name": "ipython",
    "version": 3
   },
   "file_extension": ".py",
   "mimetype": "text/x-python",
   "name": "python",
   "nbconvert_exporter": "python",
   "pygments_lexer": "ipython3",
   "version": "3.6.4"
  },
  "nbTranslate": {
   "displayLangs": [
    "ja",
    "en"
   ],
   "hotkey": "alt-t",
   "langInMainMenu": true,
   "sourceLang": "en",
   "targetLang": "ja",
   "useGoogleTranslate": true
  },
  "toc": {
   "nav_menu": {
    "height": "31px",
    "width": "252px"
   },
   "number_sections": true,
   "sideBar": true,
   "skip_h1_title": false,
   "title_cell": "Table of Contents",
   "title_sidebar": "Contents",
   "toc_cell": false,
   "toc_position": {
    "height": "969px",
    "left": "0px",
    "right": "967px",
    "top": "130.99px",
    "width": "206px"
   },
   "toc_section_display": "block",
   "toc_window_display": true
  },
  "varInspector": {
   "cols": {
    "lenName": 16,
    "lenType": 16,
    "lenVar": 40
   },
   "kernels_config": {
    "python": {
     "delete_cmd_postfix": "",
     "delete_cmd_prefix": "del ",
     "library": "var_list.py",
     "varRefreshCmd": "print(var_dic_list())"
    },
    "r": {
     "delete_cmd_postfix": ") ",
     "delete_cmd_prefix": "rm(",
     "library": "var_list.r",
     "varRefreshCmd": "cat(var_dic_list()) "
    }
   },
   "types_to_exclude": [
    "module",
    "function",
    "builtin_function_or_method",
    "instance",
    "_Feature"
   ],
   "window_display": false
  }
 },
 "nbformat": 4,
 "nbformat_minor": 1
}
