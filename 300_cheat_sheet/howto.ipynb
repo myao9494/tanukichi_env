{
 "cells": [
  {
   "cell_type": "code",
   "execution_count": 2,
   "metadata": {
    "ExecuteTime": {
     "end_time": "2018-05-03T06:59:06.552889Z",
     "start_time": "2018-05-03T06:59:06.289632Z"
    }
   },
   "outputs": [],
   "source": [
    "! explorer ."
   ]
  },
  {
   "cell_type": "markdown",
   "metadata": {},
   "source": [
    "# python"
   ]
  },
  {
   "cell_type": "markdown",
   "metadata": {},
   "source": [
    "## アンダースコア\"_\"の役割\n",
    "- アンダースコア二つで定義される関数は外部の参照を受けないもの。この場合、アンダースコアで囲う。\n",
    "- アンダースコア一つで定義される関数は参照はできるが、基本的に外部から参照しない ということを慣習化させたものらしい。"
   ]
  },
  {
   "cell_type": "code",
   "execution_count": null,
   "metadata": {},
   "outputs": [],
   "source": [
    "def __init__():\n",
    "def _variable_hogehoge(x):"
   ]
  },
  {
   "cell_type": "markdown",
   "metadata": {},
   "source": [
    "# [matplotlib](matplotlib.ipynb)"
   ]
  },
  {
   "cell_type": "markdown",
   "metadata": {
    "collapsed": true
   },
   "source": [
    "# subprocess\n",
    "http://qiita.com/mokemokechicken/items/a84b0aa96b94d1931f08"
   ]
  },
  {
   "cell_type": "markdown",
   "metadata": {
    "collapsed": true
   },
   "source": [
    "# sikuli\n",
    "- document http://sikulix-2014.readthedocs.io/en/latest/genindex.html\n",
    "- command http://sikulix-2014.readthedocs.io/en/latest/faq/010-command-line.html"
   ]
  },
  {
   "cell_type": "markdown",
   "metadata": {},
   "source": [
    "## サーバを立てて実行する\n",
    "http://sikulix.weebly.com/support.html"
   ]
  },
  {
   "cell_type": "markdown",
   "metadata": {},
   "source": [
    "- stop - stops the server\n",
    "- startp - initiates a Jython runner, so the next run request will start the script without delay *\n",
    "- scripts/folder/folder/folder/... - sets the folder where the runner finds the scripts **\n",
    "- images/folder/folder/folder/... - sets the folder where the runner finds the images used in a script (image path) **\n",
    "- run/script - looks for the script in the given folder and runs it (starts the respective runner if not yet done) ***"
   ]
  },
  {
   "cell_type": "markdown",
   "metadata": {
    "ExecuteTime": {
     "end_time": "2017-07-24T10:40:52.413149Z",
     "start_time": "2017-07-24T10:40:46.007873Z"
    }
   },
   "source": [
    "cd %sikuli_home%  \n",
    "runsikulix -s"
   ]
  },
  {
   "cell_type": "code",
   "execution_count": 1,
   "metadata": {
    "ExecuteTime": {
     "end_time": "2017-07-24T11:09:20.165615Z",
     "start_time": "2017-07-24T11:09:14.203598Z"
    }
   },
   "outputs": [],
   "source": [
    "from selenium import webdriver\n",
    "driver = webdriver.Chrome()\n",
    "driver.get(\"http://localhost:50001/startp\")\n",
    "driver.get(\"http://localhost:50001/scripts/home/OneDrive/anaconda/root/101_script\")"
   ]
  },
  {
   "cell_type": "code",
   "execution_count": 9,
   "metadata": {},
   "outputs": [
    {
     "data": {
      "text/plain": [
       "0"
      ]
     },
     "execution_count": 9,
     "metadata": {},
     "output_type": "execute_result"
    }
   ],
   "source": [
    "import os,subprocess\n",
    "\n",
    "args=[\"C:\\Program Files (x86)\\MarketSpeed\\MLauncher\\MLauncher.exe\" ,\"MarketSpeed\"]\n",
    "p1=subprocess.Popen(args)\n",
    "p1.wait()#処理待ちしない場合は、これを消す\n",
    "\n",
    "driver.get(\"http://localhost:50001/run/login_rakuten.sikuli\")\n",
    "\n",
    "args=[\"C:\\Program Files (x86)\\MarketSpeed\\MLauncher\\MLauncher.exe\" ,\"RSS\"]\n",
    "p2=subprocess.Popen(args)\n",
    "p2.wait()#処理待ちしない場合は、これを消す"
   ]
  },
  {
   "cell_type": "code",
   "execution_count": 16,
   "metadata": {
    "ExecuteTime": {
     "end_time": "2017-07-24T10:53:50.955970Z",
     "start_time": "2017-07-24T10:53:47.904891Z"
    }
   },
   "outputs": [],
   "source": [
    "driver.quit()"
   ]
  },
  {
   "cell_type": "markdown",
   "metadata": {},
   "source": [
    "# tikinter"
   ]
  },
  {
   "cell_type": "markdown",
   "metadata": {},
   "source": [
    "http://www.not-enough.org/abe/manual/program-aa08/pythontk1.html"
   ]
  },
  {
   "cell_type": "markdown",
   "metadata": {},
   "source": [
    "# Python で線形方程式系を解く"
   ]
  },
  {
   "cell_type": "markdown",
   "metadata": {},
   "source": [
    "<img  src=\"YWP6YFYMLD1XVFK3H4MHQKGC7GX89BWR.png\"/>"
   ]
  },
  {
   "cell_type": "code",
   "execution_count": 1,
   "metadata": {},
   "outputs": [
    {
     "name": "stdout",
     "output_type": "stream",
     "text": [
      "[ 4. -2. -9.]\n"
     ]
    }
   ],
   "source": [
    "import numpy as np\n",
    "\n",
    "A = np.array([[6, 4, 1],\n",
    "              [1, 8, -2],\n",
    "              [3, 2, 0]])\n",
    "b = np.array([7, 6, 8])\n",
    "\n",
    "x = np.linalg.solve(A, b)\n",
    "\n",
    "print(x)"
   ]
  },
  {
   "cell_type": "markdown",
   "metadata": {
    "collapsed": true
   },
   "source": [
    "# Codeの使い方"
   ]
  },
  {
   "cell_type": "markdown",
   "metadata": {},
   "source": [
    "## sikuliで作ったライブラリなどの補完機能を（Intellisense）追加"
   ]
  },
  {
   "cell_type": "markdown",
   "metadata": {},
   "source": [
    "Use the setting python.autoComplete.extraPaths = []\n",
    "For instance getting autocomplete/intellisense for Google App Engine, add the following to your settings file:\n",
    "\"python.autoComplete.extraPaths\": [\n",
    "\"C:/Program Files (x86)/Google/google_appengine\",\n",
    "\"C:/Program Files (x86)/Google/google_appengine/lib\" ]"
   ]
  },
  {
   "cell_type": "code",
   "execution_count": 17,
   "metadata": {},
   "outputs": [],
   "source": [
    "! explorer \"%userprofile%\\AppData\\Roaming\\Code\\User\""
   ]
  },
  {
   "cell_type": "markdown",
   "metadata": {},
   "source": [
    "https://qiita.com/t-mimura/items/e0f12ea5678b1a10bba3"
   ]
  }
 ],
 "metadata": {
  "hide_input": false,
  "kernelspec": {
   "display_name": "Python 3",
   "language": "python",
   "name": "python3"
  },
  "language_info": {
   "codemirror_mode": {
    "name": "ipython",
    "version": 3
   },
   "file_extension": ".py",
   "mimetype": "text/x-python",
   "name": "python",
   "nbconvert_exporter": "python",
   "pygments_lexer": "ipython3",
   "version": "3.6.4"
  },
  "nbTranslate": {
   "displayLangs": [
    "*"
   ],
   "hotkey": "alt-t",
   "langInMainMenu": true,
   "sourceLang": "en",
   "targetLang": "fr",
   "useGoogleTranslate": true
  },
  "toc": {
   "base_numbering": 1,
   "nav_menu": {
    "height": "30px",
    "width": "252px"
   },
   "number_sections": true,
   "sideBar": true,
   "skip_h1_title": false,
   "title_cell": "Table of Contents",
   "title_sidebar": "Contents",
   "toc_cell": false,
   "toc_position": {
    "height": "627px",
    "left": "0px",
    "right": "998px",
    "top": "107px",
    "width": "226px"
   },
   "toc_section_display": "block",
   "toc_window_display": true
  },
  "varInspector": {
   "cols": {
    "lenName": 16,
    "lenType": 16,
    "lenVar": 40
   },
   "kernels_config": {
    "python": {
     "delete_cmd_postfix": "",
     "delete_cmd_prefix": "del ",
     "library": "var_list.py",
     "varRefreshCmd": "print(var_dic_list())"
    },
    "r": {
     "delete_cmd_postfix": ") ",
     "delete_cmd_prefix": "rm(",
     "library": "var_list.r",
     "varRefreshCmd": "cat(var_dic_list()) "
    }
   },
   "types_to_exclude": [
    "module",
    "function",
    "builtin_function_or_method",
    "instance",
    "_Feature"
   ],
   "window_display": false
  }
 },
 "nbformat": 4,
 "nbformat_minor": 2
}
