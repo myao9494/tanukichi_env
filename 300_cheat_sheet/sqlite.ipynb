{
 "cells": [
  {
   "cell_type": "markdown",
   "metadata": {},
   "source": [
    "## 考え方"
   ]
  },
  {
   "cell_type": "markdown",
   "metadata": {},
   "source": [
    "### SQLite3 データベースへの接続\n",
    "sqlite3.connect() でデータベースファイルを指定すると、データベースへの接続（sqlite3.Connection オブジェクト）を取得できます。 指定したデータベースファイルが存在しない場合は新規に作成されます。"
   ]
  },
  {
   "cell_type": "code",
   "execution_count": 1,
   "metadata": {
    "ExecuteTime": {
     "end_time": "2018-07-21T19:50:21.757080Z",
     "start_time": "2018-07-21T19:50:21.745083Z"
    }
   },
   "outputs": [],
   "source": [
    "import sqlite3\n",
    "\n",
    "# Create a 'Connection' object.\n",
    "conn = sqlite3.connect('sample.db')"
   ]
  },
  {
   "cell_type": "markdown",
   "metadata": {},
   "source": [
    "### テーブルの作成\n",
    "SQL コマンドを実行するには、Connection#cursor() により sqlite3.Cursor オブジェクトを作成し、execute() メソッドを呼び出します。 次の例では、データベースに新しいテーブル memo を作成しています。"
   ]
  },
  {
   "cell_type": "code",
   "execution_count": 2,
   "metadata": {
    "ExecuteTime": {
     "end_time": "2018-07-21T19:50:45.098107Z",
     "start_time": "2018-07-21T19:50:45.066120Z"
    }
   },
   "outputs": [
    {
     "data": {
      "text/plain": [
       "<sqlite3.Cursor at 0x120e85cb7a0>"
      ]
     },
     "execution_count": 2,
     "metadata": {},
     "output_type": "execute_result"
    }
   ],
   "source": [
    "# Create a 'Cursor' object from 'Connection' object.\n",
    "cur = conn.cursor()\n",
    "\n",
    "# Create a table\n",
    "cur.execute('''CREATE TABLE memo\n",
    "        (date TEXT, title TEXT, body TEXT)''')"
   ]
  },
  {
   "cell_type": "markdown",
   "metadata": {},
   "source": [
    "### テーブルにレコードを追加\n",
    "テーブルを作成するのと同様に、Cursor#execute() を使ってレコードを追加できます。"
   ]
  },
  {
   "cell_type": "code",
   "execution_count": 7,
   "metadata": {
    "ExecuteTime": {
     "end_time": "2018-07-21T19:54:27.583330Z",
     "start_time": "2018-07-21T19:54:27.575334Z"
    }
   },
   "outputs": [
    {
     "data": {
      "text/plain": [
       "<sqlite3.Cursor at 0x120e85cb7a0>"
      ]
     },
     "execution_count": 7,
     "metadata": {},
     "output_type": "execute_result"
    }
   ],
   "source": [
    "# Insert a record\n",
    "cur.execute(\"\"\"INSERT INTO memo\n",
    "    VALUES('2007-01-01', 'Memo1', 'Body1')\"\"\")"
   ]
  },
  {
   "cell_type": "markdown",
   "metadata": {},
   "source": [
    "DB-API の ? 文字によるパラメータ置換（プレースホルダ機能）を使えば、各列の値を保持したタプルを渡すことによってレコードを追加することができます。"
   ]
  },
  {
   "cell_type": "code",
   "execution_count": 5,
   "metadata": {
    "ExecuteTime": {
     "end_time": "2018-07-21T19:51:44.827688Z",
     "start_time": "2018-07-21T19:51:44.819691Z"
    }
   },
   "outputs": [],
   "source": [
    "for t in (('2007-01-01', 'Memo1', 'Body1'),\n",
    "    ('2007-01-02', 'Memo2', 'Body2'),\n",
    "    ('2007-01-03', 'Memo3', 'Body3')):\n",
    "    cur.execute('INSERT INTO memo VALUES(?,?,?)', t)"
   ]
  },
  {
   "cell_type": "markdown",
   "metadata": {},
   "source": [
    "一方で、以下のように % を使って SQL クエリ文字列を作成してしまうと、SQL インジェクション攻撃に対して脆弱性が残ってしまう可能性が高いので、DB-API の ? を使ったパラメータ置換を行うようにしたほうが安全です。"
   ]
  },
  {
   "cell_type": "markdown",
   "metadata": {},
   "source": [
    "コミットと終了"
   ]
  },
  {
   "cell_type": "code",
   "execution_count": 8,
   "metadata": {
    "ExecuteTime": {
     "end_time": "2018-07-21T19:55:39.825730Z",
     "start_time": "2018-07-21T19:55:39.809732Z"
    }
   },
   "outputs": [],
   "source": [
    "# コミット\n",
    "conn.commit()\n",
    " \n",
    "# コネクションをクローズ\n",
    "conn.close()"
   ]
  },
  {
   "attachments": {
    "image.png": {
     "image/png": "[encoded data removed]"
    }
   },
   "cell_type": "markdown",
   "metadata": {},
   "source": [
    "## 確認の仕方\n",
    "VScodeのsqliteのプラグインを適用して、見る\n",
    "![image.png](attachment:image.png)"
   ]
  },
  {
   "cell_type": "code",
   "execution_count": 6,
   "metadata": {
    "ExecuteTime": {
     "end_time": "2018-07-21T19:52:58.880780Z",
     "start_time": "2018-07-21T19:52:58.467585Z"
    }
   },
   "outputs": [],
   "source": [
    "! code ."
   ]
  },
  {
   "cell_type": "markdown",
   "metadata": {},
   "source": [
    "## タプルの追加"
   ]
  },
  {
   "cell_type": "code",
   "execution_count": 2,
   "metadata": {
    "ExecuteTime": {
     "end_time": "2018-07-21T20:11:08.476835Z",
     "start_time": "2018-07-21T20:11:08.468840Z"
    }
   },
   "outputs": [],
   "source": [
    "a=7974"
   ]
  },
  {
   "cell_type": "code",
   "execution_count": 3,
   "metadata": {
    "ExecuteTime": {
     "end_time": "2018-07-21T20:11:09.084657Z",
     "start_time": "2018-07-21T20:11:09.076661Z"
    }
   },
   "outputs": [],
   "source": [
    "t=()"
   ]
  },
  {
   "cell_type": "code",
   "execution_count": 4,
   "metadata": {
    "ExecuteTime": {
     "end_time": "2018-07-21T20:11:09.552517Z",
     "start_time": "2018-07-21T20:11:09.548522Z"
    }
   },
   "outputs": [],
   "source": [
    "# a=str(a)"
   ]
  },
  {
   "cell_type": "code",
   "execution_count": 5,
   "metadata": {
    "ExecuteTime": {
     "end_time": "2018-07-21T20:11:09.884420Z",
     "start_time": "2018-07-21T20:11:09.868428Z"
    }
   },
   "outputs": [
    {
     "data": {
      "text/plain": [
       "7974"
      ]
     },
     "execution_count": 5,
     "metadata": {},
     "output_type": "execute_result"
    }
   ],
   "source": [
    "a"
   ]
  },
  {
   "cell_type": "code",
   "execution_count": 6,
   "metadata": {
    "ExecuteTime": {
     "end_time": "2018-07-21T20:11:11.387976Z",
     "start_time": "2018-07-21T20:11:11.383981Z"
    }
   },
   "outputs": [],
   "source": [
    "t += (a,)"
   ]
  },
  {
   "cell_type": "code",
   "execution_count": 7,
   "metadata": {
    "ExecuteTime": {
     "end_time": "2018-07-21T20:11:12.131757Z",
     "start_time": "2018-07-21T20:11:12.123761Z"
    }
   },
   "outputs": [
    {
     "data": {
      "text/plain": [
       "(7974,)"
      ]
     },
     "execution_count": 7,
     "metadata": {},
     "output_type": "execute_result"
    }
   ],
   "source": [
    "t"
   ]
  },
  {
   "cell_type": "markdown",
   "metadata": {},
   "source": [
    "## pandasで読み込み"
   ]
  },
  {
   "cell_type": "code",
   "execution_count": 8,
   "metadata": {
    "ExecuteTime": {
     "end_time": "2018-07-22T04:12:55.722128Z",
     "start_time": "2018-07-22T04:12:53.185567Z"
    }
   },
   "outputs": [
    {
     "name": "stdout",
     "output_type": "stream",
     "text": [
      "   col1  col2\n",
      "0  hoge  1234\n"
     ]
    }
   ],
   "source": [
    "import pandas as pd\n",
    "import sqlite3\n",
    "\n",
    "conn = sqlite3.connect('foo.sqlite3')\n",
    "df = pd.DataFrame(columns=[\"col1\", \"col2\"])\n",
    "df[\"col1\"] = [\"hoge\"]\n",
    "df[\"col2\"] = [1234]\n",
    "# 出力\n",
    "print(df)\n",
    "df.to_sql(\"table1\", conn, index=False, if_exists='replace')\n",
    "\n",
    "# 読み込み\n",
    "df2 = pd.read_sql_query('select * from {}'.format('table1'), conn)\n",
    "print(df2)"
   ]
  },
  {
   "cell_type": "code",
   "execution_count": 9,
   "metadata": {
    "ExecuteTime": {
     "end_time": "2018-07-22T04:13:02.441070Z",
     "start_time": "2018-07-22T04:13:02.429076Z"
    }
   },
   "outputs": [
    {
     "name": "stdout",
     "output_type": "stream",
     "text": [
      "   col1  col2\n",
      "0  hoge  1234\n"
     ]
    }
   ],
   "source": []
  },
  {
   "cell_type": "code",
   "execution_count": null,
   "metadata": {},
   "outputs": [],
   "source": []
  }
 ],
 "metadata": {
  "hide_input": false,
  "kernelspec": {
   "display_name": "Python 3",
   "language": "python",
   "name": "python3"
  },
  "nbTranslate": {
   "displayLangs": [
    "*"
   ],
   "hotkey": "alt-t",
   "langInMainMenu": true,
   "sourceLang": "en",
   "targetLang": "fr",
   "useGoogleTranslate": true
  },
  "toc": {
   "base_numbering": 1,
   "nav_menu": {},
   "number_sections": true,
   "sideBar": true,
   "skip_h1_title": false,
   "title_cell": "Table of Contents",
   "title_sidebar": "Contents",
   "toc_cell": false,
   "toc_position": {},
   "toc_section_display": true,
   "toc_window_display": false
  },
  "varInspector": {
   "cols": {
    "lenName": 16,
    "lenType": 16,
    "lenVar": "100"
   },
   "kernels_config": {
    "python": {
     "delete_cmd_postfix": "",
     "delete_cmd_prefix": "del ",
     "library": "var_list.py",
     "varRefreshCmd": "print(var_dic_list())"
    },
    "r": {
     "delete_cmd_postfix": ") ",
     "delete_cmd_prefix": "rm(",
     "library": "var_list.r",
     "varRefreshCmd": "cat(var_dic_list()) "
    }
   },
   "types_to_exclude": [
    "module",
    "function",
    "builtin_function_or_method",
    "instance",
    "_Feature"
   ],
   "window_display": false
  }
 },
 "nbformat": 4,
 "nbformat_minor": 2
}
