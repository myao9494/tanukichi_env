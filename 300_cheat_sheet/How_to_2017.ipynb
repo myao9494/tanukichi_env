{
 "cells": [
  {
   "cell_type": "markdown",
   "metadata": {},
   "source": [
    "2017-12-10 08:49:53 "
   ]
  },
  {
   "cell_type": "markdown",
   "metadata": {},
   "source": [
    "## 便利"
   ]
  },
  {
   "cell_type": "code",
   "execution_count": null,
   "metadata": {
    "collapsed": true
   },
   "outputs": [],
   "source": [
    "! explorer ."
   ]
  },
  {
   "cell_type": "code",
   "execution_count": null,
   "metadata": {
    "collapsed": true
   },
   "outputs": [],
   "source": [
    "import jupyter_tanuki,importlib;obj=jupyter_tanuki.jupyter_tanuki();obj.tree()"
   ]
  },
  {
   "cell_type": "markdown",
   "metadata": {},
   "source": [
    "## メモ"
   ]
  },
  {
   "cell_type": "markdown",
   "metadata": {},
   "source": [
    "- カーソルが消えた。notebookが古いバージョンであるか、extentionsが悪さをしている"
   ]
  },
  {
   "cell_type": "markdown",
   "metadata": {},
   "source": [
    "# パッケージ"
   ]
  },
  {
   "cell_type": "markdown",
   "metadata": {},
   "source": [
    "- インストールされているライブラリ: pip freeze \n",
    "- ライブラリのアップデート　：　pip install -U ライブラリ名"
   ]
  },
  {
   "cell_type": "code",
   "execution_count": 1,
   "metadata": {
    "ExecuteTime": {
     "end_time": "2017-12-09T23:49:16.082801Z",
     "start_time": "2017-12-09T23:49:14.010693Z"
    },
    "collapsed": true
   },
   "outputs": [
    {
     "name": "stdout",
     "output_type": "stream",
     "text": [
      "agate==1.6.0\n",
      "agate-dbf==0.2.0\n",
      "agate-excel==0.2.1\n",
      "agate-sql==0.5.2\n",
      "alabaster==0.7.10\n",
      "anaconda-client==1.6.5\n",
      "appdirs==1.4.3\n",
      "asn1crypto==0.22.0\n",
      "astroid==1.5.3\n",
      "attrs==17.2.0\n",
      "Automat==0.6.0\n",
      "babel==2.5.0\n",
      "backports.weakref==1.0rc1\n",
      "baron==0.6.6\n",
      "basemap==1.1.0\n",
      "beautifulsoup4==4.6.0\n",
      "bleach==1.5.0\n",
      "bokeh==0.12.10\n",
      "certifi==2017.7.27.1\n",
      "cffi==1.10.0\n",
      "chainer==2.1.0\n",
      "chardet==3.0.4\n",
      "click==6.7\n",
      "cloudpickle==0.4.0\n",
      "clyent==1.2.2\n",
      "colorama==0.3.9\n",
      "comtypes==1.1.2\n",
      "constantly==15.1.0\n",
      "cryptography==1.8.1\n",
      "cssselect==1.0.1\n",
      "csvkit==1.0.2\n",
      "cycler==0.10.0\n",
      "Cython==0.26\n",
      "cytoolz==0.8.2\n",
      "dask==0.15.3\n",
      "dbfread==2.0.7\n",
      "decorator==4.1.2\n",
      "distributed==1.19.1\n",
      "docutils==0.14\n",
      "entrypoints==0.2.3\n",
      "et-xmlfile==1.0.1\n",
      "fbprophet==0.2\n",
      "filelock==2.0.12\n",
      "Flask==0.12.2\n",
      "Flask-Cors==3.0.3\n",
      "Flask-Login==0.4.0\n",
      "Flask-WTF==0.14.2\n",
      "future==0.16.0\n",
      "gitdb2==2.0.0\n",
      "GitPython==2.1.3\n",
      "h5py==2.7.0\n",
      "heapdict==1.0.0\n",
      "holoviews==1.8.3\n",
      "html5lib==0.9999999\n",
      "httplib2==0.10.3\n",
      "hyperlink==17.1.1\n",
      "hypothesis==3.23.0\n",
      "idna==2.6\n",
      "imageio==2.2.0\n",
      "imagesize==0.7.1\n",
      "incremental==17.5.0\n",
      "ipykernel==4.6.1\n",
      "ipython==6.1.0\n",
      "ipython-genutils==0.2.0\n",
      "ipywidgets==7.0.0\n",
      "isodate==0.6.0\n",
      "isort==4.2.15\n",
      "itsdangerous==0.24\n",
      "jdcal==1.3\n",
      "jedi==0.10.2\n",
      "Jinja2==2.9.6\n",
      "jsonschema==2.6.0\n",
      "jupyter-client==5.1.0\n",
      "jupyter-contrib-core==0.3.3\n",
      "jupyter-contrib-nbextensions==0.3.3\n",
      "jupyter-core==4.3.0\n",
      "jupyter-highlight-selected-word==0.0.10\n",
      "jupyter-latex-envs==1.3.8.2\n",
      "jupyter-nbextensions-configurator==0.2.8\n",
      "jupyterlab==0.27.0\n",
      "jupyterlab-launcher==0.4.0\n",
      "Keras==2.0.6\n",
      "keras-rl==0.3.1\n",
      "lazy-object-proxy==1.3.1\n",
      "leather==0.3.3\n",
      "locket==0.2.0\n",
      "lxml==4.1.0\n",
      "mako==1.0.7\n",
      "Markdown==2.6.9\n",
      "MarkupSafe==1.0\n",
      "matplotlib==2.1.0\n",
      "mccabe==0.6.1\n",
      "mistune==0.7.4\n",
      "mock==2.0.0\n",
      "msgpack-python==0.4.8\n",
      "nb-anacondacloud==1.4.0\n",
      "nb-conda==2.2.0\n",
      "nb-conda-kernels==2.1.0\n",
      "nbconvert==5.3.1\n",
      "nbdime==0.3.0\n",
      "nbformat==4.4.0\n",
      "nbpresent==3.0.2\n",
      "networkx==2.0\n",
      "nose==1.3.7\n",
      "notebook==5.0.0\n",
      "numpy==1.13.3\n",
      "numpydoc==0.7.0\n",
      "olefile==0.44\n",
      "opencv-python==3.3.1\n",
      "openmdao==2.0.2\n",
      "openpyxl==2.4.8\n",
      "packaging==16.8\n",
      "pandas==0.20.3\n",
      "pandas-datareader==0.5.0\n",
      "pandas-profiling==1.4.0\n",
      "pandasql==0.7.3\n",
      "pandocfilters==1.4.2\n",
      "param==1.5.1\n",
      "parameterized==0.6.1\n",
      "parsedatetime==2.4\n",
      "parsel==1.2.0\n",
      "partd==0.3.8\n",
      "pbr==3.1.1\n",
      "pickleshare==0.7.4\n",
      "Pillow==4.2.1\n",
      "pkgconfig==1.2.2\n",
      "prompt-toolkit==1.0.15\n",
      "protobuf==3.3.2\n",
      "psutil==5.4.0\n",
      "py4j==0.10.6\n",
      "pyasn1==0.3.7\n",
      "pyasn1-modules==0.0.8\n",
      "PyAutoGUI==0.9.36\n",
      "pycodestyle==2.3.1\n",
      "pycparser==2.18\n",
      "PyDispatcher==2.0.5\n",
      "pydocstyle==2.1.1\n",
      "pydot==1.2.3\n",
      "Pygments==2.2.0\n",
      "pygpu==0.6.9\n",
      "pylint==1.7.4\n",
      "Pympler==0.5\n",
      "PyMsgBox==1.0.6\n",
      "pyOpenSSL==17.0.0\n",
      "pyparsing==2.2.0\n",
      "pyproj==1.9.5.1\n",
      "PyScreeze==0.1.13\n",
      "pyshp==1.2.12\n",
      "PySocks==1.6.7\n",
      "pystan==2.17.0.0\n",
      "python-dateutil==2.6.1\n",
      "python-redmine==2.0.2\n",
      "python-slugify==1.2.4\n",
      "pytimeparse==1.1.7\n",
      "PyTweening==1.0.3\n",
      "pytz==2017.2\n",
      "PyWavelets==0.5.2\n",
      "pywin32==221\n",
      "PyYAML==3.12\n",
      "pyzmq==16.0.2\n",
      "queuelib==1.4.2\n",
      "redbaron==0.6.3\n",
      "requests==2.18.4\n",
      "requests-file==1.4.1\n",
      "requests-ftp==0.3.1\n",
      "requests-mock==1.3.0\n",
      "rply==0.7.5\n",
      "scikit-image==0.13.0\n",
      "scikit-learn==0.19.1\n",
      "scikit-rf==0.14.5\n",
      "scipy==0.19.1\n",
      "Scrapy==1.4.0\n",
      "selenium==3.6.0\n",
      "service-identity==17.0.0\n",
      "simplegeneric==0.8.1\n",
      "six==1.11.0\n",
      "smmap2==2.0.1\n",
      "snowballstemmer==1.2.1\n",
      "sortedcontainers==1.5.7\n",
      "Sphinx==1.6.5\n",
      "sphinxcontrib-websupport==1.0.1\n",
      "SQLAlchemy==1.1.13\n",
      "sqlitedict==1.5.0\n",
      "tblib==1.3.2\n",
      "tensorflow==1.2.1\n",
      "testflo==1.2\n",
      "testpath==0.3.1\n",
      "tflearn==0.3.2\n",
      "Theano==0.9.0\n",
      "toolz==0.8.2\n",
      "tornado==4.5.2\n",
      "traitlets==4.3.2\n",
      "Twisted==17.9.0\n",
      "Unidecode==0.4.21\n",
      "urllib3==1.22\n",
      "w3lib==1.18.0\n",
      "wcwidth==0.1.7\n",
      "webencodings==0.5.1\n",
      "Werkzeug==0.12.2\n",
      "widgetsnbextension==3.0.2\n",
      "win-inet-pton==1.0.1\n",
      "wincertstore==0.2\n",
      "winspeech==1.0.1\n",
      "wrapt==1.10.11\n",
      "WTForms==2.1\n",
      "xlrd==1.1.0\n",
      "XlsxWriter==1.0.2\n",
      "xlutils==2.0.0\n",
      "xlwings==0.11.4\n",
      "xlwt==1.3.0\n",
      "zict==0.1.3\n",
      "zope.interface==4.4.3\n"
     ]
    }
   ],
   "source": [
    "! pip freeze"
   ]
  },
  {
   "cell_type": "markdown",
   "metadata": {
    "collapsed": true
   },
   "source": [
    "# Jupyter Notebook"
   ]
  },
  {
   "cell_type": "markdown",
   "metadata": {},
   "source": [
    "## jupyterのマジックコマンド"
   ]
  },
  {
   "cell_type": "markdown",
   "metadata": {
    "ExecuteTime": {
     "end_time": "2017-12-09T23:52:02.658654Z",
     "start_time": "2017-12-09T23:52:02.650648Z"
    }
   },
   "source": [
    "- %who      : 宣言されている変数一覧の表示\n",
    "- %whos     : 宣言されている変数一覧の詳細表示(型と値)\n",
    "- obj?      : Objectの型と値の表示\n",
    "- %quickref : サポートされるMagic Commandの一覧の表示\n",
    "- %matplotlib inline : jupyter内に表示させる"
   ]
  },
  {
   "cell_type": "markdown",
   "metadata": {},
   "source": [
    "## jupyterのdiff gitを使う\n",
    "- ライブラリは以下を使用する\n",
    ">https://github.com/jupyter/nbdime\n",
    "\n",
    "- 上記のgitリポジトリの中の.gitattributesをユーザ直下にコピー\n",
    "- .gitconfig(ユーザフォルダ直下）を編集（編集済のものをTBDに置く）"
   ]
  },
  {
   "cell_type": "code",
   "execution_count": null,
   "metadata": {
    "collapsed": true
   },
   "outputs": [],
   "source": []
  }
 ],
 "metadata": {
  "kernelspec": {
   "display_name": "Python [conda env:mine36]",
   "language": "python",
   "name": "conda-env-mine36-py"
  },
  "language_info": {
   "codemirror_mode": {
    "name": "ipython",
    "version": 3
   },
   "file_extension": ".py",
   "mimetype": "text/x-python",
   "name": "python",
   "nbconvert_exporter": "python",
   "pygments_lexer": "ipython3",
   "version": "3.6.2"
  },
  "toc": {
   "nav_menu": {},
   "number_sections": true,
   "sideBar": true,
   "skip_h1_title": false,
   "toc_cell": false,
   "toc_position": {
    "height": "681px",
    "left": "0px",
    "right": "20px",
    "top": "108px",
    "width": "141px"
   },
   "toc_section_display": "block",
   "toc_window_display": true
  },
  "varInspector": {
   "cols": {
    "lenName": 16,
    "lenType": 16,
    "lenVar": 40
   },
   "kernels_config": {
    "python": {
     "delete_cmd_postfix": "",
     "delete_cmd_prefix": "del ",
     "library": "var_list.py",
     "varRefreshCmd": "print(var_dic_list())"
    },
    "r": {
     "delete_cmd_postfix": ") ",
     "delete_cmd_prefix": "rm(",
     "library": "var_list.r",
     "varRefreshCmd": "cat(var_dic_list()) "
    }
   },
   "types_to_exclude": [
    "module",
    "function",
    "builtin_function_or_method",
    "instance",
    "_Feature"
   ],
   "window_display": false
  }
 },
 "nbformat": 4,
 "nbformat_minor": 2
}
