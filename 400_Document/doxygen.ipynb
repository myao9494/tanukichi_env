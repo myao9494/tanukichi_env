{
 "cells": [
  {
   "cell_type": "code",
   "execution_count": 8,
   "metadata": {
    "ExecuteTime": {
     "end_time": "2018-06-20T11:04:09.539520Z",
     "start_time": "2018-06-20T11:04:09.048794Z"
    }
   },
   "outputs": [],
   "source": [
    "! code ."
   ]
  },
  {
   "cell_type": "code",
   "execution_count": 1,
   "metadata": {
    "ExecuteTime": {
     "end_time": "2018-06-20T11:00:08.328570Z",
     "start_time": "2018-06-20T11:00:07.840413Z"
    }
   },
   "outputs": [],
   "source": [
    "! explorer ."
   ]
  },
  {
   "cell_type": "code",
   "execution_count": 18,
   "metadata": {
    "ExecuteTime": {
     "end_time": "2018-06-20T11:17:11.271067Z",
     "start_time": "2018-06-20T11:17:11.263070Z"
    }
   },
   "outputs": [],
   "source": [
    "tg_path = \"C:/Users/mineo/OneDrive/anaconda/root/TradingGym/trading_env/envs\"\n",
    "# output_path = tg_path + \"/document\"\n",
    "output_path=\"C:/Users/mineo/Documents/trading_env\"\n"
   ]
  },
  {
   "cell_type": "code",
   "execution_count": 19,
   "metadata": {
    "ExecuteTime": {
     "end_time": "2018-06-20T11:17:11.727785Z",
     "start_time": "2018-06-20T11:17:11.675468Z"
    }
   },
   "outputs": [],
   "source": [
    "#!/usr/bin/python\n",
    "# coding: UTF-8\n",
    "\n",
    "import re\n",
    "import os\n",
    "\n",
    "target_word_1=\"INPUT                  = \"\n",
    "target_word_2= \"OUTPUT_DIRECTORY       = \"\n",
    "\n",
    "open_file=\"Doxyfile\"\n",
    "temp_file = \"temp_file\"\n",
    "read_file = None\n",
    "write_file = None\n",
    "read_file = open(open_file, 'r')\n",
    "write_file = open(temp_file, 'w')\n",
    "for line in read_file:\n",
    "    if line.find(target_word_1) != -1:\n",
    "        line = re.sub(target_word_1 + \".*\", target_word_1 + tg_path, line)\n",
    "#         print(line)\n",
    "        write_file.write(line)\n",
    "    elif line.find(target_word_2) != -1:\n",
    "        line = re.sub(target_word_2 + \".*\", target_word_2 + output_path, line)\n",
    "#         print(line)\n",
    "        write_file.write(line)\n",
    "    else:\n",
    "        write_file.write(line)\n",
    "        \n",
    "read_file.close()\n",
    "write_file.close() \n",
    "os.remove(open_file)\n",
    "os.rename(temp_file, open_file)\n"
   ]
  },
  {
   "cell_type": "code",
   "execution_count": 20,
   "metadata": {
    "ExecuteTime": {
     "end_time": "2018-06-20T11:17:12.780384Z",
     "start_time": "2018-06-20T11:17:12.312578Z"
    }
   },
   "outputs": [
    {
     "name": "stdout",
     "output_type": "stream",
     "text": [
      "Searching for include files...\n",
      "Searching for example files...\n",
      "Searching for images...\n",
      "Searching for dot files...\n",
      "Searching for msc files...\n",
      "Searching for dia files...\n",
      "Searching for files to exclude\n",
      "Searching INPUT for files to process...\n",
      "Searching for files in directory C:/Users/mineo/OneDrive/anaconda/root/TradingGym/trading_env/envs\n",
      "Searching for files in directory C:/Users/mineo/OneDrive/anaconda/root/TradingGym/trading_env/envs/__pycache__\n",
      "Reading and parsing tag files\n",
      "Parsing files\n",
      "Reading C:/Users/mineo/OneDrive/anaconda/root/TradingGym/trading_env/envs/__init__.py...\n",
      "Parsing file C:/Users/mineo/OneDrive/anaconda/root/TradingGym/trading_env/envs/__init__.py...\n",
      "Reading C:/Users/mineo/OneDrive/anaconda/root/TradingGym/trading_env/envs/backtest_v0.py...\n",
      "Parsing file C:/Users/mineo/OneDrive/anaconda/root/TradingGym/trading_env/envs/backtest_v0.py...\n",
      "Reading C:/Users/mineo/OneDrive/anaconda/root/TradingGym/trading_env/envs/backtest_v1.py...\n",
      "Parsing file C:/Users/mineo/OneDrive/anaconda/root/TradingGym/trading_env/envs/backtest_v1.py...\n",
      "Reading C:/Users/mineo/OneDrive/anaconda/root/TradingGym/trading_env/envs/training_v0.py...\n",
      "Parsing file C:/Users/mineo/OneDrive/anaconda/root/TradingGym/trading_env/envs/training_v0.py...\n",
      "Reading C:/Users/mineo/OneDrive/anaconda/root/TradingGym/trading_env/envs/training_v1.py...\n",
      "Parsing file C:/Users/mineo/OneDrive/anaconda/root/TradingGym/trading_env/envs/training_v1.py...\n",
      "Building group list...\n",
      "Building directory list...\n",
      "Building namespace list...\n",
      "Building file list...\n",
      "Building class list...\n",
      "Associating documentation with classes...\n",
      "Computing nesting relations for classes...\n",
      "Building example list...\n",
      "Searching for enumerations...\n",
      "Searching for documented typedefs...\n",
      "Searching for members imported via using declarations...\n",
      "Searching for included using directives...\n",
      "Searching for documented variables...\n",
      "Building interface member list...\n",
      "Building member list...\n",
      "Searching for friends...\n",
      "Searching for documented defines...\n",
      "Computing class inheritance relations...\n",
      "Computing class usage relations...\n",
      "Flushing cached template relations that have become invalid...\n",
      "Computing class relations...\n",
      "Add enum values to enums...\n",
      "Searching for member function documentation...\n",
      "Creating members for template instances...\n",
      "Building page list...\n",
      "Search for main page...\n",
      "Computing page relations...\n",
      "Determining the scope of groups...\n",
      "Sorting lists...\n",
      "Freeing entry tree\n",
      "Determining which enums are documented\n",
      "Computing member relations...\n",
      "Building full member lists recursively...\n",
      "Adding members to member groups.\n",
      "Computing member references...\n",
      "Inheriting documentation...\n",
      "Generating disk names...\n",
      "Adding source references...\n",
      "Adding xrefitems...\n",
      "Sorting member lists...\n",
      "Computing dependencies between directories...\n",
      "Generating citations page...\n",
      "Counting data structures...\n",
      "Resolving user defined references...\n",
      "Finding anchors and sections in the documentation...\n",
      "Transferring function references...\n",
      "Combining using relations...\n",
      "Adding members to index pages...\n",
      "Generating style sheet...\n",
      "Generating search indices...\n",
      "Generating example documentation...\n",
      "Generating file sources...\n",
      "Generating code for file C:/Users/mineo/OneDrive/anaconda/root/TradingGym/trading_env/envs/__init__.py...\n",
      "Generating code for file C:/Users/mineo/OneDrive/anaconda/root/TradingGym/trading_env/envs/backtest_v0.py...\n",
      "Generating code for file C:/Users/mineo/OneDrive/anaconda/root/TradingGym/trading_env/envs/backtest_v1.py...\n",
      "Generating code for file C:/Users/mineo/OneDrive/anaconda/root/TradingGym/trading_env/envs/training_v0.py...\n",
      "Generating code for file C:/Users/mineo/OneDrive/anaconda/root/TradingGym/trading_env/envs/training_v1.py...\n",
      "Generating file documentation...\n",
      "Generating docs for file C:/Users/mineo/OneDrive/anaconda/root/TradingGym/trading_env/envs/__init__.py...\n",
      "Generating docs for file C:/Users/mineo/OneDrive/anaconda/root/TradingGym/trading_env/envs/backtest_v0.py...\n",
      "Generating docs for file C:/Users/mineo/OneDrive/anaconda/root/TradingGym/trading_env/envs/backtest_v1.py...\n",
      "Generating docs for file C:/Users/mineo/OneDrive/anaconda/root/TradingGym/trading_env/envs/training_v0.py...\n",
      "Generating docs for file C:/Users/mineo/OneDrive/anaconda/root/TradingGym/trading_env/envs/training_v1.py...\n",
      "Generating page documentation...\n",
      "Generating group documentation...\n",
      "Generating class documentation...\n",
      "Generating namespace index...\n",
      "Generating docs for namespace trading_env\n",
      "Generating docs for namespace trading_env::envs\n",
      "Generating docs for namespace trading_env::envs::backtest_v0\n",
      "Generating docs for compound trading_env::envs::backtest_v0::trading_env...\n",
      "Generating docs for namespace trading_env::envs::backtest_v1\n",
      "Generating docs for compound trading_env::envs::backtest_v1::trading_env...\n",
      "Generating docs for namespace trading_env::envs::training_v0\n",
      "Generating docs for compound trading_env::envs::training_v0::trading_env...\n",
      "Generating docs for namespace trading_env::envs::training_v1\n",
      "Generating docs for compound trading_env::envs::training_v1::trading_env...\n",
      "Generating graph info page...\n",
      "Generating directory documentation...\n",
      "Generating index page...\n",
      "Generating page index...\n",
      "Generating module index...\n",
      "Generating namespace index...\n",
      "Generating namespace member index...\n",
      "Generating annotated compound index...\n",
      "Generating alphabetical compound index...\n",
      "Generating hierarchical class index...\n",
      "Generating graphical class hierarchy...\n",
      "Generating member index...\n",
      "Generating file index...\n",
      "Generating file member index...\n",
      "Generating example index...\n",
      "finalizing index lists...\n",
      "writing tag file...\n",
      "Running dot...\n",
      "lookup cache used 347/65536 hits=1484 misses=362\n",
      "finished...\n"
     ]
    }
   ],
   "source": [
    "! doxygen Doxyfile"
   ]
  },
  {
   "cell_type": "code",
   "execution_count": 21,
   "metadata": {
    "ExecuteTime": {
     "end_time": "2018-06-20T11:17:13.921394Z",
     "start_time": "2018-06-20T11:17:13.595786Z"
    }
   },
   "outputs": [],
   "source": [
    "!\"C:\\Users\\mineo\\Documents\\trading_env\\html\\index.html\""
   ]
  },
  {
   "cell_type": "code",
   "execution_count": null,
   "metadata": {},
   "outputs": [],
   "source": []
  }
 ],
 "metadata": {
  "hide_input": false,
  "kernelspec": {
   "display_name": "Python 3",
   "language": "python",
   "name": "python3"
  },
  "language_info": {
   "codemirror_mode": {
    "name": "ipython",
    "version": 3
   },
   "file_extension": ".py",
   "mimetype": "text/x-python",
   "name": "python",
   "nbconvert_exporter": "python",
   "pygments_lexer": "ipython3",
   "version": "3.6.4"
  },
  "nbTranslate": {
   "displayLangs": [
    "*"
   ],
   "hotkey": "alt-t",
   "langInMainMenu": true,
   "sourceLang": "en",
   "targetLang": "fr",
   "useGoogleTranslate": true
  },
  "toc": {
   "base_numbering": 1,
   "nav_menu": {},
   "number_sections": true,
   "sideBar": true,
   "skip_h1_title": false,
   "title_cell": "Table of Contents",
   "title_sidebar": "Contents",
   "toc_cell": false,
   "toc_position": {},
   "toc_section_display": true,
   "toc_window_display": false
  },
  "varInspector": {
   "cols": {
    "lenName": 16,
    "lenType": 16,
    "lenVar": "100"
   },
   "kernels_config": {
    "python": {
     "delete_cmd_postfix": "",
     "delete_cmd_prefix": "del ",
     "library": "var_list.py",
     "varRefreshCmd": "print(var_dic_list())"
    },
    "r": {
     "delete_cmd_postfix": ") ",
     "delete_cmd_prefix": "rm(",
     "library": "var_list.r",
     "varRefreshCmd": "cat(var_dic_list()) "
    }
   },
   "types_to_exclude": [
    "module",
    "function",
    "builtin_function_or_method",
    "instance",
    "_Feature"
   ],
   "window_display": false
  }
 },
 "nbformat": 4,
 "nbformat_minor": 2
}
