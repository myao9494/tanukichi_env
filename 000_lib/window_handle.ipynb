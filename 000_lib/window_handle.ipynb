{
 "cells": [
  {
   "cell_type": "code",
   "execution_count": 6,
   "metadata": {
    "ExecuteTime": {
     "end_time": "2017-07-28T11:50:38.570542Z",
     "start_time": "2017-07-28T11:50:38.379041Z"
    },
    "collapsed": true
   },
   "outputs": [],
   "source": [
    "! explorer ."
   ]
  },
  {
   "cell_type": "markdown",
   "metadata": {
    "run_control": {
     "frozen": false,
     "read_only": false
    }
   },
   "source": [
    "## 環境設定\n",
    "必要な環境変数の設定"
   ]
  },
  {
   "cell_type": "code",
   "execution_count": null,
   "metadata": {
    "collapsed": true,
    "run_control": {
     "frozen": false,
     "read_only": false
    }
   },
   "outputs": [],
   "source": [
    "! setx python_exe_path \"***/python.exe\""
   ]
  },
  {
   "cell_type": "code",
   "execution_count": null,
   "metadata": {
    "collapsed": true,
    "run_control": {
     "frozen": false,
     "read_only": false
    }
   },
   "outputs": [],
   "source": [
    "! setx jupyter_home \"***/root\""
   ]
  },
  {
   "cell_type": "markdown",
   "metadata": {
    "heading_collapsed": true,
    "run_control": {
     "frozen": false,
     "read_only": false
    }
   },
   "source": [
    "# windowsのウインドウをアクティブにする"
   ]
  },
  {
   "cell_type": "markdown",
   "metadata": {
    "hidden": true,
    "run_control": {
     "frozen": false,
     "read_only": false
    }
   },
   "source": [
    "sikuliのアプリケーションのアクティブ化を目的としている。なので、jythonから呼び出せるように、subprocessからアクセスを可能としてる。はじめは画像認識でやっていたが、残念ながら環境依存がスゴイので、別の方法を考えた。  \n",
    "- input : アプリケーションの名前の一部（半角英数字のみ　日本語不可）  \n",
    "　　　　　※アプリケーションの名前は下記コードを実行して取得する\n",
    "- output :　指定したアプリケーションの表示"
   ]
  },
  {
   "cell_type": "code",
   "execution_count": 1,
   "metadata": {
    "ExecuteTime": {
     "end_time": "2017-07-28T11:45:40.815807Z",
     "start_time": "2017-07-28T11:45:40.749307Z"
    },
    "hidden": true,
    "run_control": {
     "frozen": false,
     "read_only": false
    }
   },
   "outputs": [
    {
     "name": "stdout",
     "output_type": "stream",
     "text": [
      "(131778, 'window_handle - Google Chrome')\n",
      "(1837648, '【生放送】アドラー心理学をベースとした課題解決アプローチ - Schoo（スクー） - Google Chrome')\n",
      "(226297340, '例外エラー')\n",
      "(328346, 'Market Speed Ver15.6')\n",
      "(201065854, '2338pm20170727.csv — kabu_lib — Visual Studio Code')\n",
      "(13764654, 'kabu_lib')\n",
      "(132306, 'C:\\\\WINDOWS\\\\system32\\\\cmd.exe - jupyter  notebook')\n",
      "(328406, '設定')\n",
      "(787544, '設定')\n",
      "(590546, 'ストア')\n",
      "(263002, 'ストア')\n",
      "(328446, 'Windows シェル エクスペリエンス ホスト')\n",
      "(65870, 'Program Manager')\n"
     ]
    }
   ],
   "source": [
    "import win32gui\n",
    "def window_enum_handler(hwnd, resultList):\n",
    "    if win32gui.IsWindowVisible(hwnd) and win32gui.GetWindowText(hwnd) != '':\n",
    "        resultList.append((hwnd, win32gui.GetWindowText(hwnd)))\n",
    "\n",
    "def get_app_list(handles=[]):\n",
    "    mlst=[]\n",
    "    win32gui.EnumWindows(window_enum_handler, handles)\n",
    "    for handle in handles:\n",
    "        mlst.append(handle)\n",
    "    return mlst\n",
    "\n",
    "appwindows = get_app_list()\n",
    "for i in appwindows:\n",
    "    print (i)"
   ]
  },
  {
   "cell_type": "markdown",
   "metadata": {
    "heading_collapsed": true,
    "run_control": {
     "frozen": false,
     "read_only": false
    }
   },
   "source": [
    "# window_hande(関数）"
   ]
  },
  {
   "cell_type": "code",
   "execution_count": 5,
   "metadata": {
    "hidden": true,
    "run_control": {
     "frozen": false,
     "read_only": false
    }
   },
   "outputs": [
    {
     "name": "stdout",
     "output_type": "stream",
     "text": [
      "4\n"
     ]
    }
   ],
   "source": [
    "# -*- coding: utf-8 -*-\n",
    "import win32gui,win32con,time\n",
    "a=input()\n",
    "# print(a)\n",
    "# a.decode(\"utf-8\",\"ignore\")\n",
    "def window_enum_handler(hwnd, resultList):\n",
    "    if win32gui.IsWindowVisible(hwnd) and win32gui.GetWindowText(hwnd) != '':\n",
    "        resultList.append((hwnd, win32gui.GetWindowText(hwnd)))\n",
    "\n",
    "def get_app_list(handles=[]):\n",
    "    mlst=[]\n",
    "    win32gui.EnumWindows(window_enum_handler, handles)\n",
    "    for handle in handles:\n",
    "        mlst.append(handle)\n",
    "    return mlst\n",
    "\n",
    "def hyoji(handle_n):\n",
    "    win32gui.SetWindowPos(handle_n,win32con.HWND_TOPMOST, 0, 0, 0, 0, win32con.SWP_NOMOVE | win32con.SWP_NOSIZE | win32con.SWP_SHOWWINDOW)\n",
    "    win32gui.ShowWindow( handle_n, win32con.SW_SHOWMAXIMIZED)\n",
    "    \n",
    "def kaijyo(handle_n):\n",
    "    win32gui.SetWindowPos(handle_n,win32con.HWND_NOTOPMOST, 0, 0, 0, 0, win32con.SWP_NOMOVE | win32con.SWP_NOSIZE | win32con.SWP_SHOWWINDOW)\n",
    "    \n",
    "appwindows = get_app_list()\n",
    "for i in appwindows:\n",
    "    try:\n",
    "        aa=i[1].encode(\"utf-8\",\"ignore\")\n",
    "        # print(aa)\n",
    "        if aa.find(a.encode(\"utf-8\",\"ignore\")) != -1:\n",
    "            # print(aa)\n",
    "            # print(i[0])\n",
    "            hyoji(i[0])\n",
    "            time.sleep(0.2)\n",
    "            kaijyo(i[0])\n",
    "            win32gui.PostMessage(i[0],win32con.WM_CLOSE,0,0)\n",
    "    except:\n",
    "        print(\"error\")"
   ]
  },
  {
   "cell_type": "markdown",
   "metadata": {
    "hidden": true,
    "run_control": {
     "frozen": false,
     "read_only": false
    }
   },
   "source": [
    "## test\n",
    "- inp_strがインプットで、下記例の場合は、VS Codeが表示される  \n",
    "  ※sikuliから実行できることも確認済"
   ]
  },
  {
   "cell_type": "code",
   "execution_count": 3,
   "metadata": {
    "hidden": true,
    "run_control": {
     "frozen": false,
     "read_only": false
    }
   },
   "outputs": [
    {
     "ename": "SyntaxError",
     "evalue": "invalid syntax (<ipython-input-3-a475b047dd39>, line 5)",
     "output_type": "error",
     "traceback": [
      "\u001b[1;36m  File \u001b[1;32m\"<ipython-input-3-a475b047dd39>\"\u001b[1;36m, line \u001b[1;32m5\u001b[0m\n\u001b[1;33m    path2=os.path.join(os.environ[\"jupyter_home\"],\"000_lib/window_handle.py\")s\u001b[0m\n\u001b[1;37m                                                                             ^\u001b[0m\n\u001b[1;31mSyntaxError\u001b[0m\u001b[1;31m:\u001b[0m invalid syntax\n"
     ]
    }
   ],
   "source": [
    "inp_str=\"例外エラー\"\n",
    "\n",
    "import subprocess,os\n",
    "path1=os.environ[\"python_exe_path\"]\n",
    "path2=os.path.join(os.environ[\"jupyter_home\"],\"000_lib/window_handle.py\")\n",
    "args=[path1,path2]\n",
    "# args\n",
    "p=subprocess.Popen(args, shell=True, stdin=subprocess.PIPE, stdout=subprocess.PIPE, stderr=subprocess.PIPE)\n",
    "stdout_value = p.communicate(input=inp_str.encode(\"utf-8\"))[0]\n",
    "# k=stdout_value.decode(\"utf-8\",\"ignore\")\n",
    "# k"
   ]
  },
  {
   "cell_type": "markdown",
   "metadata": {},
   "source": [
    "# window_hande.py(クラス)"
   ]
  },
  {
   "cell_type": "code",
   "execution_count": 56,
   "metadata": {
    "ExecuteTime": {
     "end_time": "2017-07-28T12:55:45.587540Z",
     "start_time": "2017-07-28T12:55:45.446541Z"
    },
    "collapsed": true
   },
   "outputs": [],
   "source": [
    "# -*- coding: utf-8; py-indent-offset:4 -*-\n",
    "###############################################################################\n",
    "#\n",
    "# Copyright (C) Mineo Sudo\n",
    "# \n",
    "###############################################################################\n",
    "import win32gui,win32con,time\n",
    "\n",
    "class window_ope():\n",
    "    '''\n",
    "    windowのオペレーションをまとめます\n",
    "    '''\n",
    "    def __init__(self):\n",
    "        self.taisho_name = \"\"\n",
    "        self.handle=\"\"\n",
    "        self.mlst=[]\n",
    "\n",
    "    def window_enum_handler_1(self,hwnd,resultList):\n",
    "        if win32gui.IsWindowVisible(hwnd) and win32gui.GetWindowText(hwnd) != '':\n",
    "            resultList.append((hwnd, win32gui.GetWindowText(hwnd)))\n",
    "            \n",
    "    def window_enum_handler_2(self,hwnd,resultList):\n",
    "        if win32gui.IsChild(hwnd) and win32gui.GetWindowText(hwnd) != '':\n",
    "            resultList.append((hwnd, win32gui.GetWindowText(hwnd)))\n",
    "            \n",
    "    def get_app_list(self,handles=[]):\n",
    "        self.mlst.clear()\n",
    "        handles.clear()\n",
    "#         win32gui.EnumWindows(self.window_enum_handler_1, handles)\n",
    "#         for handle in handles:\n",
    "#             self.mlst.append(handle)\n",
    "        win32gui.EnumWindows(self.window_enum_handler_2, handles)\n",
    "        for handle in handles:\n",
    "            self.mlst.append(handle)\n",
    "            \n",
    "    def hyoji(self,handle_n):\n",
    "        win32gui.SetWindowPos(handle_n,win32con.HWND_TOPMOST, 0, 0, 0, 0, win32con.SWP_NOMOVE | win32con.SWP_NOSIZE | win32con.SWP_SHOWWINDOW)\n",
    "        win32gui.ShowWindow( handle_n, win32con.SW_SHOWMAXIMIZED)\n",
    "    \n",
    "    def kaijyo(self,handle_n):\n",
    "        win32gui.SetWindowPos(handle_n,win32con.HWND_NOTOPMOST, 0, 0, 0, 0, win32con.SWP_NOMOVE | win32con.SWP_NOSIZE | win32con.SWP_SHOWWINDOW)\n",
    "\n",
    "    def get_handle(self):\n",
    "        self.get_app_list()\n",
    "        for i in self.mlst:\n",
    "            try:\n",
    "                aa=i[1].encode(\"utf-8\",\"ignore\")\n",
    "                if aa.find(self.taisho_name.encode(\"utf-8\",\"ignore\")) != -1:\n",
    "                    self.handle=i[0]\n",
    "            except:\n",
    "                print(\"error\")\n",
    "                \n",
    "    def window_hyoji(self):\n",
    "        self.hyoji(self.handle)\n",
    "        time.sleep(0.2)\n",
    "        self.kaijyo(self.handle)\n",
    "        \n",
    "    def window_close(self):\n",
    "        win32gui.PostMessage(self.handle,win32con.WM_CLOSE,0,0)\n"
   ]
  },
  {
   "cell_type": "code",
   "execution_count": 69,
   "metadata": {
    "collapsed": true
   },
   "outputs": [],
   "source": [
    "import subprocess\n",
    "import time\n",
    "\n",
    "import win32con\n",
    "import win32gui\n",
    "import win32process\n",
    "\n",
    "\n",
    "def get_hwnds_for_pid ():\n",
    "\n",
    "   def callback (hwnd, hwnds):\n",
    "     if win32gui.IsWindowVisible (hwnd) and win32gui.IsWindowEnabled (hwnd):\n",
    "       _, found_pid = win32process.GetWindowThreadProcessId (hwnd)\n",
    "       hwnds.append (hwnd)\n",
    "     return True\n",
    "\n",
    "   hwnds = []\n",
    "   win32gui.EnumWindows (callback, hwnds)\n",
    "   return hwnds\n",
    "\n",
    "# if __name__ == '__main__':\n",
    "#    notepad = subprocess.Popen ([r\"notepad.exe\"])\n",
    "#    #\n",
    "#    # sleep to give the window time to appear\n",
    "#    #\n",
    "#    time.sleep (2.0)\n",
    "\n",
    "#    for hwnd in get_hwnds_for_pid (notepad.pid):\n",
    "#      print (hwnd, \"=>\", win32gui.GetWindowText (hwnd))\n",
    "#      win32gui.SendMessage (hwnd, win32con.WM_CLOSE, 0, 0)\n"
   ]
  },
  {
   "cell_type": "code",
   "execution_count": 73,
   "metadata": {},
   "outputs": [
    {
     "name": "stdout",
     "output_type": "stream",
     "text": [
      "65778 => \n",
      "65812 => \n",
      "131928 => window_handle - Google Chrome\n",
      "657738 => 無題 - メモ帳\n",
      "2230606 => 無題 - メモ帳\n",
      "1311474 => タスク マネージャー\n",
      "918722 => Market Speed Ver15.6\n",
      "66118 => Windows シェル エクスペリエンス ホスト\n",
      "65990 => \n",
      "65984 => \n",
      "66956 => Windows シェル エクスペリエンス ホスト\n",
      "328722 => \n",
      "67764 => window_handle.py — 000_lib — Visual Studio Code\n",
      "590766 => C:\\WINDOWS\\system32\\cmd.exe - jupyter  notebook\n",
      "984870 => 000_lib\n",
      "65924 => Program Manager\n"
     ]
    }
   ],
   "source": [
    "a=get_hwnds_for_pid ()\n",
    "for hand in a:\n",
    "    print (hand, \"=>\", win32gui.GetWindowText (hand))"
   ]
  },
  {
   "cell_type": "code",
   "execution_count": 72,
   "metadata": {},
   "outputs": [
    {
     "data": {
      "text/plain": [
       "[65778,\n",
       " 65812,\n",
       " 131928,\n",
       " 657738,\n",
       " 2230606,\n",
       " 1311474,\n",
       " 918722,\n",
       " 66118,\n",
       " 65990,\n",
       " 65984,\n",
       " 66956,\n",
       " 328722,\n",
       " 67764,\n",
       " 590766,\n",
       " 984870,\n",
       " 65924]"
      ]
     },
     "execution_count": 72,
     "metadata": {},
     "output_type": "execute_result"
    }
   ],
   "source": [
    "a"
   ]
  },
  {
   "cell_type": "code",
   "execution_count": null,
   "metadata": {
    "collapsed": true
   },
   "outputs": [],
   "source": []
  },
  {
   "cell_type": "code",
   "execution_count": 57,
   "metadata": {
    "ExecuteTime": {
     "end_time": "2017-07-28T12:55:45.597541Z",
     "start_time": "2017-07-28T12:55:45.590040Z"
    },
    "collapsed": true
   },
   "outputs": [],
   "source": [
    "obj=window_ope()"
   ]
  },
  {
   "cell_type": "code",
   "execution_count": 58,
   "metadata": {
    "ExecuteTime": {
     "end_time": "2017-07-28T12:55:59.438994Z",
     "start_time": "2017-07-28T12:55:59.434992Z"
    }
   },
   "outputs": [
    {
     "ename": "TypeError",
     "evalue": "GetMenuItemID() takes exactly 2 arguments (1 given)",
     "output_type": "error",
     "traceback": [
      "\u001b[1;31m---------------------------------------------------------------------------\u001b[0m",
      "\u001b[1;31mTypeError\u001b[0m                                 Traceback (most recent call last)",
      "\u001b[1;32m<ipython-input-58-7b2b3b76b8b0>\u001b[0m in \u001b[0;36m<module>\u001b[1;34m()\u001b[0m\n\u001b[1;32m----> 1\u001b[1;33m \u001b[0mobj\u001b[0m\u001b[1;33m.\u001b[0m\u001b[0mget_app_list\u001b[0m\u001b[1;33m(\u001b[0m\u001b[1;33m)\u001b[0m\u001b[1;33m\u001b[0m\u001b[0m\n\u001b[0m",
      "\u001b[1;32m<ipython-input-56-bf692f7f5749>\u001b[0m in \u001b[0;36mget_app_list\u001b[1;34m(self, handles)\u001b[0m\n\u001b[0;32m     30\u001b[0m \u001b[1;31m#         for handle in handles:\u001b[0m\u001b[1;33m\u001b[0m\u001b[1;33m\u001b[0m\u001b[0m\n\u001b[0;32m     31\u001b[0m \u001b[1;31m#             self.mlst.append(handle)\u001b[0m\u001b[1;33m\u001b[0m\u001b[1;33m\u001b[0m\u001b[0m\n\u001b[1;32m---> 32\u001b[1;33m         \u001b[0mwin32gui\u001b[0m\u001b[1;33m.\u001b[0m\u001b[0mEnumWindows\u001b[0m\u001b[1;33m(\u001b[0m\u001b[0mself\u001b[0m\u001b[1;33m.\u001b[0m\u001b[0mwindow_enum_handler_2\u001b[0m\u001b[1;33m,\u001b[0m \u001b[0mhandles\u001b[0m\u001b[1;33m)\u001b[0m\u001b[1;33m\u001b[0m\u001b[0m\n\u001b[0m\u001b[0;32m     33\u001b[0m         \u001b[1;32mfor\u001b[0m \u001b[0mhandle\u001b[0m \u001b[1;32min\u001b[0m \u001b[0mhandles\u001b[0m\u001b[1;33m:\u001b[0m\u001b[1;33m\u001b[0m\u001b[0m\n\u001b[0;32m     34\u001b[0m             \u001b[0mself\u001b[0m\u001b[1;33m.\u001b[0m\u001b[0mmlst\u001b[0m\u001b[1;33m.\u001b[0m\u001b[0mappend\u001b[0m\u001b[1;33m(\u001b[0m\u001b[0mhandle\u001b[0m\u001b[1;33m)\u001b[0m\u001b[1;33m\u001b[0m\u001b[0m\n",
      "\u001b[1;32m<ipython-input-56-bf692f7f5749>\u001b[0m in \u001b[0;36mwindow_enum_handler_2\u001b[1;34m(self, hwnd, resultList)\u001b[0m\n\u001b[0;32m     21\u001b[0m \u001b[1;33m\u001b[0m\u001b[0m\n\u001b[0;32m     22\u001b[0m     \u001b[1;32mdef\u001b[0m \u001b[0mwindow_enum_handler_2\u001b[0m\u001b[1;33m(\u001b[0m\u001b[0mself\u001b[0m\u001b[1;33m,\u001b[0m\u001b[0mhwnd\u001b[0m\u001b[1;33m,\u001b[0m\u001b[0mresultList\u001b[0m\u001b[1;33m)\u001b[0m\u001b[1;33m:\u001b[0m\u001b[1;33m\u001b[0m\u001b[0m\n\u001b[1;32m---> 23\u001b[1;33m         \u001b[1;32mif\u001b[0m \u001b[0mwin32gui\u001b[0m\u001b[1;33m.\u001b[0m\u001b[0mGetMenuItemID\u001b[0m\u001b[1;33m(\u001b[0m\u001b[0mhwnd\u001b[0m\u001b[1;33m)\u001b[0m \u001b[1;32mand\u001b[0m \u001b[0mwin32gui\u001b[0m\u001b[1;33m.\u001b[0m\u001b[0mGetWindowText\u001b[0m\u001b[1;33m(\u001b[0m\u001b[0mhwnd\u001b[0m\u001b[1;33m)\u001b[0m \u001b[1;33m!=\u001b[0m \u001b[1;34m''\u001b[0m\u001b[1;33m:\u001b[0m\u001b[1;33m\u001b[0m\u001b[0m\n\u001b[0m\u001b[0;32m     24\u001b[0m             \u001b[0mresultList\u001b[0m\u001b[1;33m.\u001b[0m\u001b[0mappend\u001b[0m\u001b[1;33m(\u001b[0m\u001b[1;33m(\u001b[0m\u001b[0mhwnd\u001b[0m\u001b[1;33m,\u001b[0m \u001b[0mwin32gui\u001b[0m\u001b[1;33m.\u001b[0m\u001b[0mGetWindowText\u001b[0m\u001b[1;33m(\u001b[0m\u001b[0mhwnd\u001b[0m\u001b[1;33m)\u001b[0m\u001b[1;33m)\u001b[0m\u001b[1;33m)\u001b[0m\u001b[1;33m\u001b[0m\u001b[0m\n\u001b[0;32m     25\u001b[0m \u001b[1;33m\u001b[0m\u001b[0m\n",
      "\u001b[1;31mTypeError\u001b[0m: GetMenuItemID() takes exactly 2 arguments (1 given)"
     ]
    }
   ],
   "source": [
    "obj.get_app_list()"
   ]
  },
  {
   "cell_type": "code",
   "execution_count": 59,
   "metadata": {
    "ExecuteTime": {
     "end_time": "2017-07-28T12:55:59.769346Z",
     "start_time": "2017-07-28T12:55:59.762845Z"
    }
   },
   "outputs": [
    {
     "data": {
      "text/plain": [
       "[]"
      ]
     },
     "execution_count": 59,
     "metadata": {},
     "output_type": "execute_result"
    }
   ],
   "source": [
    "obj.mlst"
   ]
  },
  {
   "cell_type": "code",
   "execution_count": 5,
   "metadata": {
    "ExecuteTime": {
     "end_time": "2017-07-28T12:55:48.447397Z",
     "start_time": "2017-07-28T12:55:48.443390Z"
    },
    "collapsed": true
   },
   "outputs": [],
   "source": [
    "obj.mlst.clear()"
   ]
  },
  {
   "cell_type": "code",
   "execution_count": 54,
   "metadata": {
    "ExecuteTime": {
     "end_time": "2017-07-28T12:28:42.288475Z",
     "start_time": "2017-07-28T12:28:42.284478Z"
    },
    "collapsed": true
   },
   "outputs": [],
   "source": [
    "obj.taisho_name=\"Real\""
   ]
  },
  {
   "cell_type": "code",
   "execution_count": 55,
   "metadata": {
    "ExecuteTime": {
     "end_time": "2017-07-28T12:28:42.863447Z",
     "start_time": "2017-07-28T12:28:42.858447Z"
    }
   },
   "outputs": [
    {
     "data": {
      "text/plain": [
       "''"
      ]
     },
     "execution_count": 55,
     "metadata": {},
     "output_type": "execute_result"
    }
   ],
   "source": [
    "obj.get_handle()\n",
    "obj.handle"
   ]
  },
  {
   "cell_type": "code",
   "execution_count": 22,
   "metadata": {
    "ExecuteTime": {
     "end_time": "2017-07-28T12:28:47.615068Z",
     "start_time": "2017-07-28T12:28:47.611567Z"
    },
    "collapsed": true
   },
   "outputs": [],
   "source": [
    "# obj.window_hyoji()"
   ]
  },
  {
   "cell_type": "code",
   "execution_count": 23,
   "metadata": {
    "ExecuteTime": {
     "end_time": "2017-07-28T12:28:52.102370Z",
     "start_time": "2017-07-28T12:28:52.098369Z"
    },
    "collapsed": true
   },
   "outputs": [],
   "source": [
    "obj.window_close()"
   ]
  },
  {
   "cell_type": "code",
   "execution_count": 24,
   "metadata": {
    "ExecuteTime": {
     "end_time": "2017-07-28T12:29:23.591684Z",
     "start_time": "2017-07-28T12:29:23.587184Z"
    },
    "collapsed": true
   },
   "outputs": [],
   "source": [
    "obj.taisho_name=\"Market Speed\""
   ]
  },
  {
   "cell_type": "code",
   "execution_count": 25,
   "metadata": {
    "ExecuteTime": {
     "end_time": "2017-07-28T12:29:24.950862Z",
     "start_time": "2017-07-28T12:29:24.946858Z"
    },
    "collapsed": true
   },
   "outputs": [],
   "source": [
    "obj.get_handle()"
   ]
  },
  {
   "cell_type": "code",
   "execution_count": 26,
   "metadata": {
    "ExecuteTime": {
     "end_time": "2017-07-28T12:29:25.671947Z",
     "start_time": "2017-07-28T12:29:25.667444Z"
    },
    "collapsed": true
   },
   "outputs": [],
   "source": [
    "obj.window_close()"
   ]
  },
  {
   "cell_type": "code",
   "execution_count": null,
   "metadata": {
    "collapsed": true
   },
   "outputs": [],
   "source": []
  },
  {
   "cell_type": "markdown",
   "metadata": {},
   "source": [
    "## test"
   ]
  },
  {
   "cell_type": "code",
   "execution_count": 1,
   "metadata": {
    "ExecuteTime": {
     "end_time": "2017-07-28T12:57:11.222261Z",
     "start_time": "2017-07-28T12:57:11.204760Z"
    },
    "collapsed": true
   },
   "outputs": [],
   "source": [
    "from window_handle import *"
   ]
  },
  {
   "cell_type": "code",
   "execution_count": 2,
   "metadata": {
    "ExecuteTime": {
     "end_time": "2017-07-28T12:57:11.534761Z",
     "start_time": "2017-07-28T12:57:11.530761Z"
    },
    "collapsed": true
   },
   "outputs": [],
   "source": [
    "obj=window_ope()"
   ]
  },
  {
   "cell_type": "code",
   "execution_count": 6,
   "metadata": {
    "ExecuteTime": {
     "end_time": "2017-07-28T13:05:55.736984Z",
     "start_time": "2017-07-28T13:05:55.731483Z"
    },
    "collapsed": true
   },
   "outputs": [],
   "source": [
    "obj.taisho_name=\"Market Speed\"\n",
    "obj.get_app_list()\n",
    "obj.get_handle()"
   ]
  },
  {
   "cell_type": "code",
   "execution_count": 7,
   "metadata": {
    "ExecuteTime": {
     "end_time": "2017-07-28T13:05:56.105088Z",
     "start_time": "2017-07-28T13:05:56.099592Z"
    }
   },
   "outputs": [
    {
     "data": {
      "text/plain": [
       "[(131930, 'window_handle - Google Chrome'),\n",
       " (199112, 'window_handle.py — 000_lib — Visual Studio Code'),\n",
       " (29558646, '000_lib'),\n",
       " (131610, 'Market Speed Ver15.6'),\n",
       " (262820, 'kabu_lib'),\n",
       " (197348, 'kabu_jikan.py — kabu_lib — Visual Studio Code'),\n",
       " (67008, 'Windows シェル エクスペリエンス ホスト'),\n",
       " (394450, 'C:\\\\WINDOWS\\\\system32\\\\cmd.exe - jupyter  notebook'),\n",
       " (327822, 'ドキュメント'),\n",
       " (65920, 'Program Manager')]"
      ]
     },
     "execution_count": 7,
     "metadata": {},
     "output_type": "execute_result"
    }
   ],
   "source": [
    "obj.mlst"
   ]
  },
  {
   "cell_type": "code",
   "execution_count": 8,
   "metadata": {
    "ExecuteTime": {
     "end_time": "2017-07-28T13:05:57.086814Z",
     "start_time": "2017-07-28T13:05:57.083315Z"
    },
    "collapsed": true
   },
   "outputs": [],
   "source": [
    "obj.window_close()"
   ]
  },
  {
   "cell_type": "code",
   "execution_count": 10,
   "metadata": {
    "ExecuteTime": {
     "end_time": "2017-07-28T12:58:50.713288Z",
     "start_time": "2017-07-28T12:58:50.507184Z"
    },
    "collapsed": true
   },
   "outputs": [],
   "source": [
    "obj.window_hyoji()"
   ]
  },
  {
   "cell_type": "code",
   "execution_count": null,
   "metadata": {
    "collapsed": true
   },
   "outputs": [],
   "source": []
  }
 ],
 "metadata": {
  "hide_input": false,
  "kernelspec": {
   "display_name": "Python 3",
   "language": "python",
   "name": "python3"
  },
  "language_info": {
   "codemirror_mode": {
    "name": "ipython",
    "version": 3
   },
   "file_extension": ".py",
   "mimetype": "text/x-python",
   "name": "python",
   "nbconvert_exporter": "python",
   "pygments_lexer": "ipython3",
   "version": "3.5.3"
  },
  "nbTranslate": {
   "displayLangs": [
    "*"
   ],
   "hotkey": "alt-t",
   "langInMainMenu": true,
   "sourceLang": "en",
   "targetLang": "fr",
   "useGoogleTranslate": true
  },
  "toc": {
   "colors": {
    "hover_highlight": "#DAA520",
    "running_highlight": "#FF0000",
    "selected_highlight": "#FFD700"
   },
   "moveMenuLeft": true,
   "nav_menu": {
    "height": "83px",
    "width": "252px"
   },
   "navigate_menu": true,
   "number_sections": true,
   "sideBar": true,
   "threshold": 4,
   "toc_cell": false,
   "toc_position": {
    "height": "632px",
    "left": "0px",
    "right": "1135px",
    "top": "130px",
    "width": "212px"
   },
   "toc_section_display": "block",
   "toc_window_display": true,
   "widenNotebook": false
  }
 },
 "nbformat": 4,
 "nbformat_minor": 2
}
