{
 "cells": [
  {
   "cell_type": "markdown",
   "metadata": {},
   "source": [
    "## iriir"
   ]
  },
  {
   "cell_type": "code",
   "execution_count": 21,
   "metadata": {
    "ExecuteTime": {
     "end_time": "2017-06-25T21:14:15.440094Z",
     "start_time": "2017-06-25T21:14:15.259069Z"
    }
   },
   "outputs": [],
   "source": [
    "! explorer ."
   ]
  },
  {
   "cell_type": "markdown",
   "metadata": {},
   "source": [
    "[テンプレートファイルへのリンク](http://localhost:8080/notebooks/991_template/template.ipynb)"
   ]
  },
  {
   "cell_type": "code",
   "execution_count": 1,
   "metadata": {
    "ExecuteTime": {
     "end_time": "2017-06-25T11:03:26.431047Z",
     "start_time": "2017-06-25T11:03:26.379519Z"
    }
   },
   "outputs": [
    {
     "name": "stdout",
     "output_type": "stream",
     "text": [
      "直下のフォルダを作成して、テンプレートファイルを作成\n",
      "下記をコピペ、markdownのセルへ\n",
      "# [google_spread_sheet](google_spread_sheet/google_spread_sheet.ipynb)\n"
     ]
    }
   ],
   "source": [
    "import jupyter_tanuki\n",
    "obj=jupyter_tanuki.jupyter_tanuki()\n",
    "obj.add_file(\"google_spread_sheet\") #フォルダを追加してテンプレートファイルをファイルを追加\n",
    "# obj.child_notebook_filelist() #フォルダ内のノートブックファイルを表示\n",
    "# obj.add_file_no_folder(\"test\")\n",
    "# obj.child_folder() #フォルダのリストを表示"
   ]
  },
  {
   "cell_type": "markdown",
   "metadata": {},
   "source": [
    "## 参考\n",
    "- http://qiita.com/mima_ita/items/1a939db423d8ee295c85\n",
    "- https://python-redmine.com/\n",
    "- https://github.com/maxtepkeev/python-redmine/"
   ]
  },
  {
   "cell_type": "markdown",
   "metadata": {},
   "source": [
    "## [google_spread_sheet](google_spread_sheet/google_spread_sheet.ipynb)"
   ]
  },
  {
   "cell_type": "markdown",
   "metadata": {},
   "source": [
    "# レッドマインをpythonから操作する"
   ]
  },
  {
   "cell_type": "markdown",
   "metadata": {},
   "source": [
    "## 目的  \n",
    "redmineのユーザインタフェースがイマイチなので、自分で作ってしまうおう\n",
    "## ゴール  \n",
    "- チケットを新規に登録できること（その際にIDを取得する）\n",
    "- チケットを編集して更新する（メールを送信してレスポンスをredmineに入れるイメージ）\n",
    "- チケットの削除"
   ]
  },
  {
   "cell_type": "markdown",
   "metadata": {},
   "source": [
    "# クラス"
   ]
  },
  {
   "cell_type": "code",
   "execution_count": 23,
   "metadata": {
    "ExecuteTime": {
     "end_time": "2017-06-26T21:23:40.318658Z",
     "start_time": "2017-06-26T21:23:40.240640Z"
    },
    "collapsed": true
   },
   "outputs": [],
   "source": [
    "\n",
    "# -*- coding: utf-8; py-indent-offset:4 -*-\n",
    "###############################################################################\n",
    "#\n",
    "# Copyright (C) Mineo Sudo\n",
    "# \n",
    "###############################################################################\n",
    "from redminelib import Redmine\n",
    "redmine = Redmine('http://35.187.198.72', username='admin', password='adminadmin')\n",
    "\n",
    "class redmine_tanuki():\n",
    "    '''\n",
    "    自分自身が使いやすい環境を構築する\n",
    "    '''\n",
    "    def __init__(self,url,user_name,pass_word):\n",
    "        self.redmine = Redmine(url, username=user_name, password=pass_word)\n",
    "#         self.file_path = os.getcwd()\n",
    "#         self.files = os.listdir(self.file_path)\n",
    "\n",
    "    def add_file(self, file_name):\n",
    "        try:\n",
    "            self.file_name=file_name\n",
    "            self.t_path=os.path.join(os.environ[\"jupyter_home\"],'991_template/template.ipynb')\n",
    "            self.c_path=file_name + \"/\" + file_name + \".ipynb\"\n",
    "            self.markup_code=\"# [\" + file_name + \"](\" + self.c_path + \")\"\n",
    "\n",
    "            print(\"直下のフォルダを作成して、テンプレートファイルを作成\")\n",
    "            os.mkdir(self.file_name)\n",
    "            shutil.copyfile(self.t_path, self.c_path)\n",
    "            print(\"下記をコピペ、markdownのセルへ\")\n",
    "            print(self.markup_code)\n",
    "        except:\n",
    "            print(\"Error! 既にフォルダがないこと,フォルダ名を入れているかを確認して下さい\")\n",
    "\n",
    "    def child_notebook_filelist(self):\n",
    "        print(\"下記をコピペ、markdownのセルへ\")\n",
    "        for file in self.files:\n",
    "            if (file.find('.ipynb') != -1 and file.find('.ipynb')!= 0):\n",
    "                print (\"# [\" + file[:file.find('.ipynb')] + \"](\" + file + \")\")\n",
    "\n",
    "# if __name__ == '__main__':\n",
    "#     obj=redmine_tanuki()"
   ]
  },
  {
   "cell_type": "markdown",
   "metadata": {},
   "source": [
    "# 共通"
   ]
  },
  {
   "cell_type": "markdown",
   "metadata": {},
   "source": [
    "- サーバ上のredmineを取得"
   ]
  },
  {
   "cell_type": "code",
   "execution_count": 1,
   "metadata": {
    "ExecuteTime": {
     "end_time": "2017-06-25T21:02:09.508374Z",
     "start_time": "2017-06-25T21:02:09.158983Z"
    }
   },
   "outputs": [],
   "source": [
    "from redminelib import Redmine\n",
    "redmine = Redmine('http://35.187.198.72', username='admin', password='adminadmin')"
   ]
  },
  {
   "cell_type": "markdown",
   "metadata": {},
   "source": [
    "- プロジェクトのリスト"
   ]
  },
  {
   "cell_type": "code",
   "execution_count": 2,
   "metadata": {
    "ExecuteTime": {
     "end_time": "2017-06-25T21:02:11.881934Z",
     "start_time": "2017-06-25T21:02:11.790267Z"
    },
    "scrolled": false
   },
   "outputs": [
    {
     "name": "stdout",
     "output_type": "stream",
     "text": [
      "2 redmine\n",
      "1 test\n"
     ]
    }
   ],
   "source": [
    "projects = redmine.project.all()\n",
    "for projec in projects:\n",
    "    print (projec.id,projec.name)"
   ]
  },
  {
   "cell_type": "markdown",
   "metadata": {},
   "source": [
    "- 対象プロジェクトを選択"
   ]
  },
  {
   "cell_type": "code",
   "execution_count": 3,
   "metadata": {
    "ExecuteTime": {
     "end_time": "2017-06-25T21:02:14.061630Z",
     "start_time": "2017-06-25T21:02:13.988990Z"
    }
   },
   "outputs": [],
   "source": [
    "project = redmine.project.get('redmine')"
   ]
  },
  {
   "cell_type": "markdown",
   "metadata": {},
   "source": [
    "# チケットのバックアップ\n",
    "project_id  \n",
    "subject  \n",
    "tracker_id  \n",
    "description  \n",
    "status_id  \n",
    "priority_id  \n",
    "assigned_to_id  \n",
    "watcher_user_ids  \n",
    "parent_issue_id  \n",
    "start_date  \n",
    "due_date  \n",
    "estimated_hours  \n",
    "done_ratio  \n",
    "custom_fields  "
   ]
  },
  {
   "cell_type": "code",
   "execution_count": 19,
   "metadata": {
    "ExecuteTime": {
     "end_time": "2017-06-25T21:13:30.835569Z",
     "start_time": "2017-06-25T21:13:30.561438Z"
    }
   },
   "outputs": [
    {
     "name": "stdout",
     "output_type": "stream",
     "text": [
      "3 test asfh 機能\n",
      "4 test adfh 機能\n",
      "5 test adf 機能\n",
      "6 test aadhfda 機能\n",
      "7 test dsgahda タスク\n",
      "11 redmine 入力インタフェースを決める（pandasは経由すること） 機能\n",
      "13 redmine テストで登録する 機能\n",
      "17 redmine 疑問点 機能\n",
      "19 redmine spread sheet　→pandas タスク\n",
      "20 redmine spread sheetに入力 タスク\n",
      "21 redmine バックアップはspread sheetでとれるかどうかを確認する タスク\n",
      "2 test dafhdah 機能\n",
      "8 redmine レッドマインへチケットを登録させる 機能\n",
      "9 redmine 任意のチケットを編集可能な状態とする 機能\n",
      "10 redmine 作業時間を入れられるように考える 機能\n"
     ]
    }
   ],
   "source": [
    "issues = redmine.issue.all(sort='category:desc')\n",
    "for issue in issues:\n",
    "    print (issue.id,\n",
    "           issue.project,\n",
    "           issue.subject,\n",
    "           issue.tracker,\n",
    "          )\n"
   ]
  },
  {
   "cell_type": "code",
   "execution_count": 23,
   "metadata": {
    "ExecuteTime": {
     "end_time": "2017-06-25T21:16:29.896326Z",
     "start_time": "2017-06-25T21:16:20.564907Z"
    }
   },
   "outputs": [],
   "source": [
    "issues = redmine.issue.all(sort='category:desc')\n",
    "for issue in issues:\n",
    "    issuea = redmine.issue.get(issue.id)\n",
    "    issuea.export('pdf', savepath='')"
   ]
  },
  {
   "cell_type": "code",
   "execution_count": 24,
   "metadata": {
    "ExecuteTime": {
     "end_time": "2017-06-25T21:18:08.954711Z",
     "start_time": "2017-06-25T21:18:06.614181Z"
    }
   },
   "outputs": [
    {
     "data": {
      "text/plain": [
       "'issues.pdf'"
      ]
     },
     "execution_count": 24,
     "metadata": {},
     "output_type": "execute_result"
    }
   ],
   "source": [
    "issues = redmine.issue.all(sort='category:desc')\n",
    "issues.export('pdf', savepath='')"
   ]
  },
  {
   "cell_type": "markdown",
   "metadata": {
    "ExecuteTime": {
     "end_time": "2017-06-25T07:13:15.422063Z",
     "start_time": "2017-06-25T07:13:15.045682Z"
    },
    "collapsed": true
   },
   "source": [
    "# チケットを新規に登録"
   ]
  },
  {
   "cell_type": "markdown",
   "metadata": {},
   "source": [
    "チケットに関する情報は下記を参照すればOK  \n",
    "https://python-redmine.com/resources/issue.html"
   ]
  },
  {
   "cell_type": "markdown",
   "metadata": {},
   "source": [
    "まずは、チケットを登録するプロジェクトを"
   ]
  },
  {
   "cell_type": "code",
   "execution_count": null,
   "metadata": {},
   "outputs": [],
   "source": []
  },
  {
   "cell_type": "code",
   "execution_count": null,
   "metadata": {},
   "outputs": [],
   "source": []
  },
  {
   "cell_type": "code",
   "execution_count": null,
   "metadata": {},
   "outputs": [],
   "source": []
  },
  {
   "cell_type": "code",
   "execution_count": null,
   "metadata": {},
   "outputs": [],
   "source": []
  },
  {
   "cell_type": "code",
   "execution_count": null,
   "metadata": {},
   "outputs": [],
   "source": []
  },
  {
   "cell_type": "code",
   "execution_count": 2,
   "metadata": {
    "ExecuteTime": {
     "end_time": "2017-06-25T07:13:29.537194Z",
     "start_time": "2017-06-25T07:13:29.403414Z"
    }
   },
   "outputs": [],
   "source": [
    "project = redmine.project.get('redmine')"
   ]
  },
  {
   "cell_type": "code",
   "execution_count": 3,
   "metadata": {
    "ExecuteTime": {
     "end_time": "2017-06-25T07:13:44.045616Z",
     "start_time": "2017-06-25T07:13:44.027628Z"
    }
   },
   "outputs": [
    {
     "data": {
      "text/plain": [
       "2"
      ]
     },
     "execution_count": 3,
     "metadata": {},
     "output_type": "execute_result"
    }
   ],
   "source": [
    "project.id"
   ]
  },
  {
   "cell_type": "code",
   "execution_count": 4,
   "metadata": {
    "ExecuteTime": {
     "end_time": "2017-06-25T07:13:51.842281Z",
     "start_time": "2017-06-25T07:13:51.835274Z"
    }
   },
   "outputs": [
    {
     "data": {
      "text/plain": [
       "'redmine'"
      ]
     },
     "execution_count": 4,
     "metadata": {},
     "output_type": "execute_result"
    }
   ],
   "source": [
    "project.identifier"
   ]
  },
  {
   "cell_type": "code",
   "execution_count": null,
   "metadata": {
    "ExecuteTime": {
     "end_time": "2017-06-25T07:16:58.434438Z",
     "start_time": "2017-06-25T07:16:58.252847Z"
    }
   },
   "outputs": [],
   "source": []
  },
  {
   "cell_type": "code",
   "execution_count": 6,
   "metadata": {
    "ExecuteTime": {
     "end_time": "2017-06-25T07:16:54.588515Z",
     "start_time": "2017-06-25T07:16:54.384137Z"
    }
   },
   "outputs": [
    {
     "data": {
      "text/plain": [
       "True"
      ]
     },
     "execution_count": 6,
     "metadata": {},
     "output_type": "execute_result"
    }
   ],
   "source": [
    "redmine.issue.delete(1)"
   ]
  },
  {
   "cell_type": "code",
   "execution_count": null,
   "metadata": {},
   "outputs": [],
   "source": []
  }
 ],
 "metadata": {
  "hide_input": false,
  "kernelspec": {
   "display_name": "Python 3",
   "language": "python",
   "name": "python3"
  },
  "language_info": {
   "codemirror_mode": {
    "name": "ipython",
    "version": 3
   },
   "file_extension": ".py",
   "mimetype": "text/x-python",
   "name": "python",
   "nbconvert_exporter": "python",
   "pygments_lexer": "ipython3",
   "version": "3.6.2"
  },
  "nbTranslate": {
   "displayLangs": [
    "*"
   ],
   "hotkey": "alt-t",
   "langInMainMenu": true,
   "sourceLang": "en",
   "targetLang": "fr",
   "useGoogleTranslate": true
  },
  "toc": {
   "nav_menu": {
    "height": "30px",
    "width": "252px"
   },
   "number_sections": true,
   "sideBar": true,
   "skip_h1_title": false,
   "toc_cell": false,
   "toc_position": {
    "height": "475px",
    "left": "0px",
    "right": "998px",
    "top": "106px",
    "width": "212px"
   },
   "toc_section_display": "block",
   "toc_window_display": true
  }
 },
 "nbformat": 4,
 "nbformat_minor": 2
}
