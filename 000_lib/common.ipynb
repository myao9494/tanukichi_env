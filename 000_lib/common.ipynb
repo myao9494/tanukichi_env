{
 "cells": [
  {
   "cell_type": "code",
   "execution_count": 1,
   "metadata": {
    "ExecuteTime": {
     "end_time": "2017-10-11T10:47:17.303348Z",
     "start_time": "2017-10-11T10:47:17.271344Z"
    },
    "collapsed": true
   },
   "outputs": [],
   "source": [
    "import common ; common.jikou(\"sikuli\")"
   ]
  },
  {
   "cell_type": "code",
   "execution_count": 3,
   "metadata": {
    "ExecuteTime": {
     "end_time": "2017-10-11T10:49:37.447395Z",
     "start_time": "2017-10-11T10:49:33.709169Z"
    }
   },
   "outputs": [
    {
     "name": "stdout",
     "output_type": "stream",
     "text": [
      "+++ running this Java\r\n",
      "+++ trying to run SikuliX\r\n",
      "+++ using: -Xms64M -Xmx512M -Dfile.encoding=UTF-8 -Dsikuli.FromCommandLine -jar C:\\Users\\mineo\\OneDrive\\anaconda\\root\\N00_personal\\N96_sikuli\\sikulix.jar \r\n",
      "[info] HotkeyManager: add Capture Hotkey: CTRL+SHIFT 2 (50, 3)\r\n",
      "[error] WindowsHotkeyManager: JIntellitype problem: Could not load JIntellitype.dll from local file system or from inside JAR\r\n",
      "\n",
      "java version \"1.8.0_141\"\r\n",
      "Java(TM) SE Runtime Environment (build 1.8.0_141-b15)\r\n",
      "Java HotSpot(TM) Client VM (build 25.141-b15, mixed mode, sharing)\r\n",
      "10 11, 2017 7:49:34 午後 java.util.prefs.WindowsPreferences <init>\r\n",
      "WARNING: Could not open/create prefs root node Software\\JavaSoft\\Prefs at root 0x80000002. Windows RegCreateKeyEx(...) returned error code 5.\r\n",
      "\n"
     ]
    }
   ],
   "source": [
    "# -*- coding: utf-8; py-indent-offset:4 -*-\n",
    "###############################################################################\n",
    "#\n",
    "# Copyright (C) Mineo Sudo\n",
    "# PYTHONPATHに\"%jupyterhome%\\000_lib\"を設定する\n",
    "# \n",
    "###############################################################################\n",
    "import subprocess,os\n",
    "\n",
    "def jikou(exe_path=\"\"):\n",
    "    if exe_path == \"\" :\n",
    "        print(\"pathが入力されていません\")\n",
    "\n",
    "    elif exe_path == \"code\" :\n",
    "        args=[os.environ[\"code_exe_path\"]]\n",
    "        p=subprocess.Popen(args) \n",
    "\n",
    "    elif exe_path == \"sikuli\" :\n",
    "        args=[os.path.join(os.environ[\"SIKULI_HOME\"],\"runsikulix.cmd\")]\n",
    "        p=subprocess.Popen(args, shell=True, stdout=subprocess.PIPE, stderr=subprocess.PIPE)\n",
    "        try:\n",
    "            out,errs=p.communicate()\n",
    "        except:\n",
    "            p.kill\n",
    "            out,ers=p.communicate()\n",
    "        print(out.decode(\"utf-8\"))\n",
    "        print(errs.decode(\"utf-8\"))\n",
    "    else:\n",
    "        args=[[exe_path]]\n",
    "        p=subprocess.Popen(args)\n",
    "\n",
    "if __name__ == '__main__':\n",
    "    jikou(\"sikuli\")"
   ]
  },
  {
   "cell_type": "code",
   "execution_count": null,
   "metadata": {
    "collapsed": true
   },
   "outputs": [],
   "source": []
  },
  {
   "cell_type": "code",
   "execution_count": null,
   "metadata": {
    "collapsed": true
   },
   "outputs": [],
   "source": []
  }
 ],
 "metadata": {
  "hide_input": false,
  "kernelspec": {
   "display_name": "Python 3",
   "language": "python",
   "name": "python3"
  },
  "language_info": {
   "codemirror_mode": {
    "name": "ipython",
    "version": 3
   },
   "file_extension": ".py",
   "mimetype": "text/x-python",
   "name": "python",
   "nbconvert_exporter": "python",
   "pygments_lexer": "ipython3",
   "version": "3.6.3"
  },
  "nbTranslate": {
   "displayLangs": [
    "*"
   ],
   "hotkey": "alt-t",
   "langInMainMenu": true,
   "sourceLang": "en",
   "targetLang": "fr",
   "useGoogleTranslate": true
  },
  "toc": {
   "nav_menu": {
    "height": "12px",
    "width": "252px"
   },
   "number_sections": true,
   "sideBar": true,
   "skip_h1_title": false,
   "toc_cell": false,
   "toc_position": {},
   "toc_section_display": "block",
   "toc_window_display": false
  },
  "varInspector": {
   "cols": {
    "lenName": 16,
    "lenType": 16,
    "lenVar": 40
   },
   "kernels_config": {
    "python": {
     "delete_cmd_postfix": "",
     "delete_cmd_prefix": "del ",
     "library": "var_list.py",
     "varRefreshCmd": "print(var_dic_list())"
    },
    "r": {
     "delete_cmd_postfix": ") ",
     "delete_cmd_prefix": "rm(",
     "library": "var_list.r",
     "varRefreshCmd": "cat(var_dic_list()) "
    }
   },
   "types_to_exclude": [
    "module",
    "function",
    "builtin_function_or_method",
    "instance",
    "_Feature"
   ],
   "window_display": false
  }
 },
 "nbformat": 4,
 "nbformat_minor": 2
}
