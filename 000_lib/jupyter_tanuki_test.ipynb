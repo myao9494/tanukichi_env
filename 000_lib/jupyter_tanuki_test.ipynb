{
 "cells": [
  {
   "cell_type": "code",
   "execution_count": 17,
   "metadata": {
    "ExecuteTime": {
     "end_time": "2017-11-05T03:52:34.920991Z",
     "start_time": "2017-11-05T03:52:34.762385Z"
    },
    "run_control": {
     "frozen": false,
     "read_only": false
    }
   },
   "outputs": [],
   "source": [
    "! explorer ."
   ]
  },
  {
   "cell_type": "markdown",
   "metadata": {
    "run_control": {
     "frozen": false,
     "read_only": false
    }
   },
   "source": [
    "# isuue"
   ]
  },
  {
   "cell_type": "code",
   "execution_count": null,
   "metadata": {
    "ExecuteTime": {
     "end_time": "2017-11-03T04:31:01.883806Z",
     "start_time": "2017-11-03T04:31:01.636116Z"
    },
    "run_control": {
     "frozen": false,
     "read_only": false
    }
   },
   "outputs": [],
   "source": [
    "\n",
    "# -*- coding: utf-8; py-indent-offset:4 -*-\n",
    "###############################################################################\n",
    "#\n",
    "# Copyright (C) Mineo Sudo\n",
    "# PYTHONPATHに\"%jupyterhome%\\000_lib\"を設定する\n",
    "# \n",
    "###############################################################################\n",
    "import os, shutil\n",
    "\n",
    "class jupyter_tanuki():\n",
    "    '''\n",
    "    jupyterの繰り返し作業を纏めました。便利になるはず！\n",
    "    '''\n",
    "    def __init__(self):\n",
    "        self.file_name = \"\"\n",
    "        self.t_path = \"\"\n",
    "        self.c_path = \"\"\n",
    "        self.markup_code = \"\"\n",
    "        self.file_path = os.getcwd() #実行しているファイルのpathを取得する\n",
    "        self.files = [f for f in os.listdir(self.file_path) if os.path.isfile(os.path.join(self.file_path, f))] #ファイル一覧を取得\n",
    "        self.folders = [f for f in os.listdir(self.file_path) if os.path.isdir(os.path.join(self.file_path, f))] #フォルダ一覧を取得\n",
    "                \n",
    "    def add_file_no_folder(self, file_name): #フォルダを作らずにテンプレートファイrからファイルを作る\n",
    "        try:\n",
    "            self.file_name=file_name\n",
    "            self.t_path=os.path.join(os.environ[\"jupyter_home\"],'991_template/template.ipynb')\n",
    "            self.c_path= file_name + \".ipynb\"\n",
    "            self.markup_code=\"# [\" + file_name + \"](\" + self.c_path + \")\"\n",
    "            shutil.copyfile(self.t_path, self.c_path)\n",
    "            print(\"下記をコピペ、markdownのセルへ\")\n",
    "            print(self.markup_code)\n",
    "        except:\n",
    "            print(\"Error! 既にファイルがないことを確認して下さい\")\n",
    "\n",
    "    def add_file(self, file_name): #引数のフォルダを作成し、引数のファイル名でフォルダ内にファイルを作成\n",
    "        try:\n",
    "            self.file_name=file_name\n",
    "            self.t_path=os.path.join(os.environ[\"jupyter_home\"],'991_template/template.ipynb')\n",
    "            self.c_path=file_name + \"/\" + file_name + \".ipynb\"\n",
    "            self.markup_code=\"# [\" + file_name + \"](\" + self.c_path + \")\"\n",
    "\n",
    "            print(\"直下のフォルダを作成して、テンプレートファイルを作成\")\n",
    "            os.mkdir(self.file_name)\n",
    "            shutil.copyfile(self.t_path, self.c_path)\n",
    "            print(\"下記をコピペ、markdownのセルへ\")\n",
    "            print(self.markup_code)\n",
    "        except:\n",
    "            print(\"Error! 既にフォルダがないこと,フォルダ名を入れているかを確認して下さい\")\n",
    "            \n",
    "    def child_notebook_filelist(self): #フォルダ内のipynbファイルをリストで表示\n",
    "        print(\"下記をコピペ、markdownのセルへ\")\n",
    "        for file in self.files:\n",
    "            if (file.find('.ipynb') != -1 and file.find('.ipynb')!= 0 ):\n",
    "                print (\"# [\" + file[:file.find('.ipynb')] + \"](\" + file + \")\")\n",
    "                \n",
    "    def child_folder(self): #フォルダ内のふぉるだを表示\n",
    "        print(\"下記をコピペ、markdownのセルへ\")\n",
    "        for file in self.folders:\n",
    "            if (file.find('ipynb_checkpoints') == -1 and file.find(\"__pycache__\" )==-1 ) :\n",
    "                print (\"# [\" + file + \"](\" + file + \")\")\n",
    "                \n",
    "    def tree(self): #フォルダ以下のtreeを表示\n",
    "        print(\"下記をコピペ、markdownのセルへ\")\n",
    "        i=0\n",
    "        for root, dirs, files in os.walk(self.file_path):\n",
    "            level = root.replace(self.file_path, '').count(os.sep)\n",
    "            if i==0:\n",
    "                level=1\n",
    "            print('')\n",
    "            if (os.path.basename(root).find('ipynb_checkpoints') == -1 and os.path.basename(root).find(\"__pycache__\" )==-1 ) :\n",
    "                print( '#' * 1 * (level) + '[' +os.path.basename(root) + ']' + '(' + os.path.basename(root) + ')')\n",
    "            for f in files:\n",
    "                if (f.find('.ipynb') != -1 and f.find('.ipynb')!= 0 ):\n",
    "                    a=os.path.basename(root)+ '/'\n",
    "                    if i==0:\n",
    "                        a=\"\"\n",
    "                    print('>' + '#' * 1 * (level + 1) +' [' + f + ']' + '(' + a  + f +')')\n",
    "            i=i+1\n",
    "                \n",
    "if __name__ == '__main__':\n",
    "    obj=jupyter_tanuki()"
   ]
  },
  {
   "cell_type": "code",
   "execution_count": null,
   "metadata": {
    "ExecuteTime": {
     "end_time": "2017-11-03T04:31:02.049732Z",
     "start_time": "2017-11-03T04:31:02.035722Z"
    },
    "run_control": {
     "frozen": false,
     "read_only": false
    }
   },
   "outputs": [],
   "source": [
    "obj.file_path"
   ]
  },
  {
   "cell_type": "code",
   "execution_count": null,
   "metadata": {
    "ExecuteTime": {
     "end_time": "2017-11-03T04:31:02.369801Z",
     "start_time": "2017-11-03T04:31:02.348266Z"
    },
    "run_control": {
     "frozen": false,
     "read_only": false
    }
   },
   "outputs": [],
   "source": [
    "import jupyter_tanuki\n",
    "obj=jupyter_tanuki.jupyter_tanuki()"
   ]
  },
  {
   "cell_type": "code",
   "execution_count": null,
   "metadata": {
    "ExecuteTime": {
     "end_time": "2017-11-03T04:31:02.948422Z",
     "start_time": "2017-11-03T04:31:02.940886Z"
    },
    "run_control": {
     "frozen": false,
     "read_only": false
    },
    "scrolled": false
   },
   "outputs": [],
   "source": [
    "obj.tree()"
   ]
  },
  {
   "cell_type": "code",
   "execution_count": null,
   "metadata": {
    "ExecuteTime": {
     "end_time": "2017-06-25T04:14:03.082084Z",
     "start_time": "2017-06-25T04:14:03.068571Z"
    },
    "run_control": {
     "frozen": false,
     "read_only": false
    }
   },
   "outputs": [],
   "source": [
    "obj.file_path()"
   ]
  },
  {
   "cell_type": "code",
   "execution_count": null,
   "metadata": {
    "ExecuteTime": {
     "end_time": "2017-06-11T12:38:45.157702Z",
     "start_time": "2017-06-11T12:38:45.139699Z"
    },
    "run_control": {
     "frozen": false,
     "read_only": false
    }
   },
   "outputs": [],
   "source": [
    "obj.add_file_no_folder(\"test\")"
   ]
  },
  {
   "cell_type": "code",
   "execution_count": null,
   "metadata": {
    "ExecuteTime": {
     "end_time": "2017-06-10T10:22:51.490865Z",
     "start_time": "2017-06-10T10:22:51.480866Z"
    },
    "run_control": {
     "frozen": false,
     "read_only": false
    }
   },
   "outputs": [],
   "source": [
    "obj.add_file(\"adsafhwdgsadhs\")"
   ]
  },
  {
   "cell_type": "code",
   "execution_count": null,
   "metadata": {
    "ExecuteTime": {
     "end_time": "2017-06-07T20:34:38.664060Z",
     "start_time": "2017-06-07T20:34:38.656056Z"
    },
    "run_control": {
     "frozen": false,
     "read_only": false
    },
    "scrolled": true
   },
   "outputs": [],
   "source": [
    "obj.child_notebook_filelist()"
   ]
  },
  {
   "cell_type": "code",
   "execution_count": null,
   "metadata": {
    "ExecuteTime": {
     "end_time": "2017-06-07T20:34:39.032812Z",
     "start_time": "2017-06-07T20:34:39.024299Z"
    },
    "run_control": {
     "frozen": false,
     "read_only": false
    }
   },
   "outputs": [],
   "source": [
    "obj.child_folder()"
   ]
  },
  {
   "cell_type": "code",
   "execution_count": null,
   "metadata": {
    "ExecuteTime": {
     "end_time": "2017-06-07T20:37:39.186003Z",
     "start_time": "2017-06-07T20:37:39.167006Z"
    },
    "run_control": {
     "frozen": false,
     "read_only": false
    },
    "scrolled": true
   },
   "outputs": [],
   "source": [
    "obj.add_file(\"adsafhadhss\")\n",
    "obj.child_notebook_filelist()\n",
    "obj.child_folder()"
   ]
  },
  {
   "cell_type": "markdown",
   "metadata": {},
   "source": [
    "# 環境差分"
   ]
  },
  {
   "cell_type": "markdown",
   "metadata": {},
   "source": [
    "ハッシュ値、大きくアバウトに言ってしまうと、データを特定するするために、あるアルゴリズム（関数）から算出される値。\n",
    "簡単な例では、データの同一性をチェックするための「チェックサム」もその１つ。コンパイラの高速テーブル検索でもハッシュが使われる。\n",
    "「チェックサム」では、データを一定のビット数で区切ってその総和を、送り側で計算してデータに付加しておく。これが「チェックサム」といわれるの由来。\n",
    "受け側でこの「チェックサム」を除く、純データの「チェックサム」を計算し直し、付き合わせることでデータの同一性をかなりの高確率で保証できる。"
   ]
  },
  {
   "cell_type": "code",
   "execution_count": null,
   "metadata": {
    "ExecuteTime": {
     "end_time": "2017-11-03T04:31:24.594532Z",
     "start_time": "2017-11-03T04:31:24.590028Z"
    }
   },
   "outputs": [],
   "source": [
    "import glob\n",
    "files = glob.glob(obj.file_path)"
   ]
  },
  {
   "cell_type": "code",
   "execution_count": null,
   "metadata": {
    "ExecuteTime": {
     "end_time": "2017-11-03T04:31:30.291500Z",
     "start_time": "2017-11-03T04:31:30.284995Z"
    }
   },
   "outputs": [],
   "source": [
    "files"
   ]
  },
  {
   "cell_type": "code",
   "execution_count": null,
   "metadata": {
    "ExecuteTime": {
     "end_time": "2017-11-03T05:15:40.989904Z",
     "start_time": "2017-11-03T05:15:40.982902Z"
    }
   },
   "outputs": [],
   "source": [
    "import hashlib\n",
    "# fname=\"test_file - コピー\"\n",
    "fname=\"test_file\"\n",
    "# fname=\"haikei_2.ipynb\"\n",
    "with open(fname, 'rb') as f:\n",
    "    checksum = hashlib.md5(f.read()).hexdigest()"
   ]
  },
  {
   "cell_type": "code",
   "execution_count": null,
   "metadata": {
    "ExecuteTime": {
     "end_time": "2017-11-03T05:15:41.352477Z",
     "start_time": "2017-11-03T05:15:41.347474Z"
    }
   },
   "outputs": [],
   "source": [
    "checksum"
   ]
  },
  {
   "cell_type": "code",
   "execution_count": null,
   "metadata": {},
   "outputs": [],
   "source": [
    "test_file - コピー'd41d8cd98f00b204e9800998ecf8427e'"
   ]
  },
  {
   "cell_type": "markdown",
   "metadata": {},
   "source": [
    "## ファイルパス"
   ]
  },
  {
   "cell_type": "code",
   "execution_count": 2,
   "metadata": {
    "ExecuteTime": {
     "end_time": "2017-11-05T03:31:58.786072Z",
     "start_time": "2017-11-05T03:31:58.779067Z"
    }
   },
   "outputs": [],
   "source": [
    "import os, shutil\n"
   ]
  },
  {
   "cell_type": "code",
   "execution_count": 10,
   "metadata": {
    "ExecuteTime": {
     "end_time": "2017-11-05T03:36:40.137222Z",
     "start_time": "2017-11-05T03:36:36.874052Z"
    }
   },
   "outputs": [
    {
     "name": "stdout",
     "output_type": "stream",
     "text": [
      "0\n",
      "['conda-meta', 'DLLs', 'etc', 'include', 'Lib', 'Library', 'libs', 'Scripts', 'selenium', 'share', 'sip', 'ssl', 'tcl', 'Tools']\n",
      "['.nonadmin', 'api-ms-win-core-console-l1-1-0.dll', 'api-ms-win-core-datetime-l1-1-0.dll', 'api-ms-win-core-debug-l1-1-0.dll', 'api-ms-win-core-errorhandling-l1-1-0.dll', 'api-ms-win-core-file-l1-1-0.dll', 'api-ms-win-core-file-l1-2-0.dll', 'api-ms-win-core-file-l2-1-0.dll', 'api-ms-win-core-handle-l1-1-0.dll', 'api-ms-win-core-heap-l1-1-0.dll', 'api-ms-win-core-interlocked-l1-1-0.dll', 'api-ms-win-core-libraryloader-l1-1-0.dll', 'api-ms-win-core-localization-l1-2-0.dll', 'api-ms-win-core-memory-l1-1-0.dll', 'api-ms-win-core-namedpipe-l1-1-0.dll', 'api-ms-win-core-processenvironment-l1-1-0.dll', 'api-ms-win-core-processthreads-l1-1-0.dll', 'api-ms-win-core-processthreads-l1-1-1.dll', 'api-ms-win-core-profile-l1-1-0.dll', 'api-ms-win-core-rtlsupport-l1-1-0.dll', 'api-ms-win-core-string-l1-1-0.dll', 'api-ms-win-core-synch-l1-1-0.dll', 'api-ms-win-core-synch-l1-2-0.dll', 'api-ms-win-core-sysinfo-l1-1-0.dll', 'api-ms-win-core-timezone-l1-1-0.dll', 'api-ms-win-core-util-l1-1-0.dll', 'api-ms-win-crt-conio-l1-1-0.dll', 'api-ms-win-crt-convert-l1-1-0.dll', 'api-ms-win-crt-environment-l1-1-0.dll', 'api-ms-win-crt-filesystem-l1-1-0.dll', 'api-ms-win-crt-heap-l1-1-0.dll', 'api-ms-win-crt-locale-l1-1-0.dll', 'api-ms-win-crt-math-l1-1-0.dll', 'api-ms-win-crt-multibyte-l1-1-0.dll', 'api-ms-win-crt-private-l1-1-0.dll', 'api-ms-win-crt-process-l1-1-0.dll', 'api-ms-win-crt-runtime-l1-1-0.dll', 'api-ms-win-crt-stdio-l1-1-0.dll', 'api-ms-win-crt-string-l1-1-0.dll', 'api-ms-win-crt-time-l1-1-0.dll', 'api-ms-win-crt-utility-l1-1-0.dll', 'concrt140.dll', 'LICENSE_PYTHON.txt', 'msvcp140.dll', 'openssl.exe', 'python.exe', 'python.pdb', 'python3.dll', 'python36.dll', 'python36.pdb', 'pythonw.exe', 'pythonw.pdb', 'qt.conf', 'ucrtbase.dll', 'vccorlib140.dll', 'vcomp140.dll', 'vcruntime140.dll']\n",
      "1\n",
      "[]\n",
      "['asn1crypto-0.22.0-py36h8e79faa_1.json', 'bleach-2.0.0-py36_0.json', 'bokeh-0.12.9-py36h4605247_0.json', 'ca-certificates-2017.08.26-h94faf87_0.json', 'cachecontrol-0.12.3-py36hfe50d7b_0.json', 'certifi-2017.7.27.1-py36h043bc9e_0.json', 'cffi-1.10.0-py36hae3d1b5_1.json', 'chardet-3.0.4-py36h420ce6e_1.json', 'click-6.7-py36hec8c647_0.json', 'cloudpickle-0.4.0-py36h639d8dc_0.json', 'colorama-0.3.9-py36h029ae33_0.json', 'cryptography-2.0.3-py36h123decb_1.json', 'cycler-0.10.0-py36h009560c_0.json', 'dask-0.15.3-py36h396fcb9_0.json', 'dask-core-0.15.3-py36hd651449_0.json', 'decorator-4.1.2-py36_0.json', 'distlib-0.2.5-py36h51371be_0.json', 'distributed-1.19.1-py36h8504682_0.json', 'entrypoints-0.2.3-py36_1.json', 'freetype-2.8-vc14h17c9bdf_0.json', 'heapdict-1.0.0-py36h21fa5f4_0.json', 'history', 'html5lib-0.999999999-py36ha09b1f3_0.json', 'icc_rt-2017.0.4-h97af966_0.json', 'icu-58.2-vc14hc45fdbb_0.json', 'idna-2.6-py36h148d497_1.json', 'imageio-2.2.0-py36had6c2d2_0.json', 'intel-openmp-2018.0.0-hcd89f80_7.json', 'ipykernel-4.6.1-py36_0.json', 'ipython-6.2.1-py36_0.json', 'ipython_genutils-0.2.0-py36_0.json', 'jedi-0.10.2-py36_0.json', 'jinja2-2.9.6-py36_0.json', 'jpeg-9b-vc14h4d7706e_1.json', 'jsonschema-2.5.1-py36_0.json', 'jupyter_client-5.1.0-py36_0.json', 'jupyter_contrib_core-0.3.3-py36_0.json', 'jupyter_contrib_nbextensions-0.3.1-py36_0.json', 'jupyter_core-4.3.0-py36_0.json', 'jupyter_highlight_selected_word-0.0.10-py36_0.json', 'jupyter_latex_envs-1.3.8.2-py36_1.json', 'jupyter_nbextensions_configurator-0.2.8-py36_0.json', 'libpng-1.6.32-vc14hce43e6c_2.json', 'libtiff-4.0.8-vc14h04e2a1e_10.json', 'locket-0.2.0-py36hfed976d_1.json', 'lockfile-0.12.2-py36h0468280_0.json', 'markupsafe-1.0-py36_0.json', 'matplotlib-2.0.2-py36h58ba717_1.json', 'mistune-0.7.4-py36_0.json', 'mkl-2018.0.0-h36b65af_4.json', 'msgpack-python-0.4.8-py36h58b1e9d_0.json', 'nbconvert-5.3.1-py_1.json', 'nbformat-4.4.0-py36_0.json', 'networkx-1.11-py36hdf4b0f5_0.json', 'notebook-5.1.0-py36_0.json', 'numpy-1.13.3-py36ha320f96_0.json', 'olefile-0.44-py36h0a7bdd2_0.json', 'openssl-1.0.2l-vc14hcac20b0_2.json', 'packaging-16.8-py36ha0986f6_1.json', 'pandas-0.20.3-py36hce827b7_2.json', 'pandoc-1.19.2-0.json', 'pandocfilters-1.4.1-py36_0.json', 'partd-0.3.8-py36hc8e763b_0.json', 'pickleshare-0.7.4-py36_0.json', 'pillow-4.2.1-py36hdb25ab2_0.json', 'pip-9.0.1-py36hadba87b_3.json', 'progress-1.3-py36hbeca8d3_0.json', 'prompt_toolkit-1.0.15-py36_0.json', 'psutil-5.3.1-py36h8502a95_0.json', 'pycparser-2.18-py36hd053e01_1.json', 'pygments-2.2.0-py36_0.json', 'pyopenssl-17.2.0-py36h15ca2fc_0.json', 'pyparsing-2.2.0-py36h785a196_1.json', 'pyqt-5.6.0-py36hb5ed885_5.json', 'pysocks-1.6.7-py36h698d350_1.json', 'python-3.6.3-h3389d20_0.json', 'python-dateutil-2.6.1-py36_0.json', 'pytz-2017.2-py36h05d413f_1.json', 'pywavelets-0.5.2-py36hc649158_0.json', 'pyyaml-3.12-py36_1.json', 'pyzmq-16.0.2-py36_2.json', 'qt-5.6.2-vc14h6f8c307_12.json', 'requests-2.18.4-py36h4371aae_1.json', 'scikit-image-0.13.0-py36h6dffa3f_1.json', 'scipy-0.19.1-py36h7565378_3.json', 'setuptools-36.5.0-py36h65f9e6e_0.json', 'simplegeneric-0.8.1-py36_0.json', 'sip-4.18.1-py36h9c25514_2.json', 'six-1.10.0-py36h2c0fdd8_1.json', 'sortedcontainers-1.5.7-py36ha90ac20_0.json', 'sqlite-3.20.1-vc14h7ce8c62_1.json', 'tblib-1.3.2-py36h30f5020_0.json', 'testpath-0.3.1-py36_0.json', 'toolz-0.8.2-py36he152a52_0.json', 'tornado-4.5.2-py36_0.json', 'traitlets-4.3.2-py36_0.json', 'urllib3-1.22-py36h276f60a_0.json', 'vc-14-h2379b0c_1.json', 'vs2015_runtime-14.0.25123-hd4c4e62_1.json', 'wcwidth-0.1.7-py36_0.json', 'webencodings-0.5.1-py36h67c50ae_1.json', 'wheel-0.29.0-py36h6ce6cde_1.json', 'wincertstore-0.2-py36h7fe50ca_0.json', 'win_inet_pton-1.0.1-py36he67d7fd_1.json', 'yaml-0.1.6-vc14_0.json', 'zict-0.1.3-py36h2d8e73e_0.json', 'zlib-1.2.11-vc14h1cdd9ab_1.json']\n",
      "1\n",
      "['instrumented']\n",
      "['py.ico', 'pyc.ico', 'pyexpat.pyd', 'select.pyd', 'sqlite3.dll', 'tcl86t.dll', 'tk86t.dll', 'unicodedata.pyd', 'winsound.pyd', '_asyncio.pyd', '_bz2.pyd', '_ctypes.pyd', '_ctypes_test.pyd', '_decimal.pyd', '_elementtree.pyd', '_hashlib.pyd', '_lzma.pyd', '_msi.pyd', '_multiprocessing.pyd', '_overlapped.pyd', '_socket.pyd', '_sqlite3.pyd', '_ssl.pyd', '_testbuffer.pyd', '_testcapi.pyd', '_testconsole.pyd', '_testimportmultiple.pyd', '_testmultiphase.pyd', '_tkinter.pyd']\n",
      "2\n",
      "[]\n",
      "['pyexpat.pyd', 'select.pyd', 'unicodedata.pyd', 'winsound.pyd', '_asyncio.pyd', '_bz2.pyd', '_ctypes.pyd', '_ctypes_test.pyd', '_decimal.pyd', '_elementtree.pyd', '_hashlib.pyd', '_lzma.pyd', '_msi.pyd', '_multiprocessing.pyd', '_overlapped.pyd', '_socket.pyd', '_sqlite3.pyd', '_ssl.pyd', '_testbuffer.pyd', '_testcapi.pyd', '_testconsole.pyd', '_testimportmultiple.pyd', '_testmultiphase.pyd', '_tkinter.pyd']\n",
      "1\n",
      "['jupyter']\n",
      "[]\n",
      "2\n",
      "['nbconfig']\n",
      "['jupyter_nbconvert_config.json', 'jupyter_notebook_config.json']\n",
      "3\n",
      "[]\n",
      "['notebook.json', 'tree.json']\n",
      "1\n",
      "[]\n",
      "['abstract.h', 'accu.h', 'asdl.h', 'ast.h', 'bitset.h', 'bltinmodule.h', 'boolobject.h', 'bytearrayobject.h', 'bytesobject.h', 'bytes_methods.h', 'cellobject.h', 'ceval.h', 'classobject.h', 'code.h', 'codecs.h', 'compile.h', 'complexobject.h', 'datetime.h', 'descrobject.h', 'dictobject.h', 'dtoa.h', 'dynamic_annotations.h', 'enumobject.h', 'errcode.h', 'eval.h', 'fileobject.h', 'fileutils.h', 'floatobject.h', 'frameobject.h', 'funcobject.h', 'genobject.h', 'graminit.h', 'grammar.h', 'import.h', 'intrcheck.h', 'iterobject.h', 'listobject.h', 'longintrepr.h', 'longobject.h', 'marshal.h', 'memoryobject.h', 'metagrammar.h', 'methodobject.h', 'modsupport.h', 'moduleobject.h', 'namespaceobject.h', 'node.h', 'object.h', 'objimpl.h', 'odictobject.h', 'opcode.h', 'osdefs.h', 'osmodule.h', 'parsetok.h', 'patchlevel.h', 'pgen.h', 'pgenheaders.h', 'pyarena.h', 'pyatomic.h', 'pycapsule.h', 'pyconfig.h', 'pyctype.h', 'pydebug.h', 'pydtrace.d', 'pydtrace.h', 'pyerrors.h', 'pyexpat.h', 'pyfpe.h', 'pygetopt.h', 'pyhash.h', 'pylifecycle.h', 'pymacconfig.h', 'pymacro.h', 'pymath.h', 'pymem.h', 'pyport.h', 'pystate.h', 'pystrcmp.h', 'pystrhex.h', 'pystrtod.h', 'Python-ast.h', 'Python.h', 'pythonrun.h', 'pythread.h', 'pytime.h', 'py_curses.h', 'rangeobject.h', 'setobject.h', 'sip.h', 'sliceobject.h', 'structmember.h', 'structseq.h', 'symtable.h', 'sysmodule.h', 'token.h', 'traceback.h', 'tupleobject.h', 'typeslots.h', 'ucnhash.h', 'unicodeobject.h', 'warnings.h', 'weakrefobject.h']\n",
      "1\n",
      "['asyncio', 'collections', 'concurrent', 'ctypes', 'curses', 'dbm', 'distutils', 'email', 'encodings', 'html', 'http', 'idlelib', 'importlib', 'json', 'lib2to3', 'logging', 'msilib', 'multiprocessing', 'pydoc_data', 'site-packages', 'sqlite3', 'test', 'tkinter', 'turtledemo', 'unittest', 'urllib', 'venv', 'wsgiref', 'xml', 'xmlrpc', '__pycache__']\n",
      "['abc.py', 'aifc.py', 'antigravity.py', 'argparse.py', 'ast.py', 'asynchat.py', 'asyncore.py', 'base64.py', 'bdb.py', 'binhex.py', 'bisect.py', 'bz2.py', 'calendar.py', 'cgi.py', 'cgitb.py', 'chunk.py', 'cmd.py', 'code.py', 'codecs.py', 'codeop.py', 'colorsys.py', 'compileall.py', 'configparser.py', 'contextlib.py', 'copy.py', 'copyreg.py', 'cProfile.py', 'crypt.py', 'csv.py', 'datetime.py', 'decimal.py', 'difflib.py', 'dis.py', 'doctest.py', 'dummy_threading.py', 'enum.py', 'filecmp.py', 'fileinput.py', 'fnmatch.py', 'formatter.py', 'fractions.py', 'ftplib.py', 'functools.py', 'genericpath.py', 'getopt.py', 'getpass.py', 'gettext.py', 'glob.py', 'gzip.py', 'hashlib.py', 'heapq.py', 'hmac.py', 'imaplib.py', 'imghdr.py', 'imp.py', 'inspect.py', 'io.py', 'ipaddress.py', 'keyword.py', 'linecache.py', 'locale.py', 'lzma.py', 'macpath.py', 'macurl2path.py', 'mailbox.py', 'mailcap.py', 'mimetypes.py', 'modulefinder.py', 'netrc.py', 'nntplib.py', 'ntpath.py', 'nturl2path.py', 'numbers.py', 'opcode.py', 'operator.py', 'optparse.py', 'os.py', 'pathlib.py', 'pdb.py', 'pickle.py', 'pickletools.py', 'pipes.py', 'pkgutil.py', 'platform.py', 'plistlib.py', 'poplib.py', 'posixpath.py', 'pprint.py', 'profile.py', 'pstats.py', 'pty.py', 'pyclbr.py', 'pydoc.py', 'py_compile.py', 'queue.py', 'quopri.py', 'random.py', 're.py', 'repr"
     ]
    },
    {
     "data": {
      "text/html": [
       "<b>limit_output extension: Maximum message size of 10000 exceeded with 68921 characters</b>"
      ]
     },
     "metadata": {},
     "output_type": "display_data"
    }
   ],
   "source": [
    "\n",
    "# file_path=obj.file_path\n",
    "file_path='C:\\\\Users\\\\mineo\\\\Anaconda3\\\\envs\\\\mine01'\n",
    "for root, dirs, files in os.walk(file_path):\n",
    "    level = root.replace(file_path, '').count(os.sep)\n",
    "    print(level)\n",
    "    print(dirs)\n",
    "    print(files)    "
   ]
  },
  {
   "cell_type": "code",
   "execution_count": 4,
   "metadata": {
    "ExecuteTime": {
     "end_time": "2017-11-05T03:32:53.733941Z",
     "start_time": "2017-11-05T03:32:53.718931Z"
    }
   },
   "outputs": [
    {
     "data": {
      "text/plain": [
       "{'conda-meta'}"
      ]
     },
     "execution_count": 4,
     "metadata": {},
     "output_type": "execute_result"
    }
   ],
   "source": [
    "s"
   ]
  },
  {
   "cell_type": "code",
   "execution_count": null,
   "metadata": {},
   "outputs": [],
   "source": []
  },
  {
   "cell_type": "code",
   "execution_count": 1,
   "metadata": {
    "ExecuteTime": {
     "end_time": "2017-11-05T04:10:17.886164Z",
     "start_time": "2017-11-05T04:10:14.473246Z"
    }
   },
   "outputs": [],
   "source": [
    "import pandas as pd\n",
    "import os.path\n",
    "import os\n",
    "\n",
    "working_dir = 'C:\\\\Users\\\\mineo\\\\Anaconda3\\\\envs\\\\mine01'\n",
    "file_list = []\n",
    "for root, dirs, files in os.walk(working_dir):\n",
    "    for filename in files:\n",
    "        file_list.append(os.path.join(root, filename)) \n",
    "#     print(file_list)\n",
    "#     df_list = [pd.read_table(file) for file in file_list]\n",
    "#     if df_list:\n",
    "#         final_df = pd.concat(df_list) \n",
    "#         final_df.to_csv(os.path.join(root, \"Final.csv\"))\n"
   ]
  },
  {
   "cell_type": "code",
   "execution_count": 2,
   "metadata": {
    "ExecuteTime": {
     "end_time": "2017-11-05T04:10:20.907341Z",
     "start_time": "2017-11-05T04:10:20.829288Z"
    }
   },
   "outputs": [
    {
     "data": {
      "text/plain": [
       "['C:\\\\Users\\\\mineo\\\\Anaconda3\\\\envs\\\\mine01\\\\.nonadmin',\n",
       " 'C:\\\\Users\\\\mineo\\\\Anaconda3\\\\envs\\\\mine01\\\\api-ms-win-core-console-l1-1-0.dll',\n",
       " 'C:\\\\Users\\\\mineo\\\\Anaconda3\\\\envs\\\\mine01\\\\api-ms-win-core-datetime-l1-1-0.dll',\n",
       " 'C:\\\\Users\\\\mineo\\\\Anaconda3\\\\envs\\\\mine01\\\\api-ms-win-core-debug-l1-1-0.dll',\n",
       " 'C:\\\\Users\\\\mineo\\\\Anaconda3\\\\envs\\\\mine01\\\\api-ms-win-core-errorhandling-l1-1-0.dll',\n",
       " 'C:\\\\Users\\\\mineo\\\\Anaconda3\\\\envs\\\\mine01\\\\api-ms-win-core-file-l1-1-0.dll',\n",
       " 'C:\\\\Users\\\\mineo\\\\Anaconda3\\\\envs\\\\mine01\\\\api-ms-win-core-file-l1-2-0.dll',\n",
       " 'C:\\\\Users\\\\mineo\\\\Anaconda3\\\\envs\\\\mine01\\\\api-ms-win-core-file-l2-1-0.dll',\n",
       " 'C:\\\\Users\\\\mineo\\\\Anaconda3\\\\envs\\\\mine01\\\\api-ms-win-core-handle-l1-1-0.dll',\n",
       " 'C:\\\\Users\\\\mineo\\\\Anaconda3\\\\envs\\\\mine01\\\\api-ms-win-core-heap-l1-1-0.dll',\n",
       " 'C:\\\\Users\\\\mineo\\\\Anaconda3\\\\envs\\\\mine01\\\\api-ms-win-core-interlocked-l1-1-0.dll',\n",
       " 'C:\\\\Users\\\\mineo\\\\Anaconda3\\\\envs\\\\mine01\\\\api-ms-win-core-libraryloader-l1-1-0.dll',\n",
       " 'C:\\\\Users\\\\mineo\\\\Anaconda3\\\\envs\\\\mine01\\\\api-ms-win-core-localization-l1-2-0.dll',\n",
       " 'C:\\\\Users\\\\mineo\\\\Anaconda3\\\\envs\\\\mine01\\\\api-ms-win-core-memory-l1-1-0.dll',\n",
       " 'C:\\\\Users\\\\mineo\\\\Anaconda3\\\\envs\\\\mine01\\\\api-ms-win-core-namedpipe-l1-1-0.dll',\n",
       " 'C:\\\\Users\\\\mineo\\\\Anaconda3\\\\envs\\\\mine01\\\\api-ms-win-core-processenvironment-l1-1-0.dll',\n",
       " 'C:\\\\Users\\\\mineo\\\\Anaconda3\\\\envs\\\\mine01\\\\api-ms-win-core-processthreads-l1-1-0.dll',\n",
       " 'C:\\\\Users\\\\mineo\\\\Anaconda3\\\\envs\\\\mine01\\\\api-ms-win-core-processthreads-l1-1-1.dll',\n",
       " 'C:\\\\Users\\\\mineo\\\\Anaconda3\\\\envs\\\\mine01\\\\api-ms-win-core-profile-l1-1-0.dll',\n",
       " 'C:\\\\Users\\\\mineo\\\\Anaconda3\\\\envs\\\\mine01\\\\api-ms-win-core-rtlsupport-l1-1-0.dll',\n",
       " 'C:\\\\Users\\\\mineo\\\\Anaconda3\\\\envs\\\\mine01\\\\api-ms-win-core-string-l1-1-0.dll',\n",
       " 'C:\\\\Users\\\\mineo\\\\Anaconda3\\\\envs\\\\mine01\\\\api-ms-win-core-synch-l1-1-0.dll',\n",
       " 'C:\\\\Users\\\\mineo\\\\Anaconda3\\\\envs\\\\mine01\\\\api-ms-win-core-synch-l1-2-0.dll',\n",
       " 'C:\\\\Users\\\\mineo\\\\Anaconda3\\\\envs\\\\mine01\\\\api-ms-win-core-sysinfo-l1-1-0.dll',\n",
       " 'C:\\\\Users\\\\mineo\\\\Anaconda3\\\\envs\\\\mine01\\\\api-ms-win-core-timezone-l1-1-0.dll',\n",
       " 'C:\\\\Users\\\\mineo\\\\Anaconda3\\\\envs\\\\mine01\\\\api-ms-win-core-util-l1-1-0.dll',\n",
       " 'C:\\\\Users\\\\mineo\\\\Anaconda3\\\\envs\\\\mine01\\\\api-ms-win-crt-conio-l1-1-0.dll',\n",
       " 'C:\\\\Users\\\\mineo\\\\Anaconda3\\\\envs\\\\mine01\\\\api-ms-win-crt-convert-l1-1-0.dll',\n",
       " 'C:\\\\Users\\\\mineo\\\\Anaconda3\\\\envs\\\\mine01\\\\api-ms-win-crt-environment-l1-1-0.dll',\n",
       " 'C:\\\\Users\\\\mineo\\\\Anaconda3\\\\envs\\\\mine01\\\\api-ms-win-crt-filesystem-l1-1-0.dll',\n",
       " 'C:\\\\Users\\\\mineo\\\\Anaconda3\\\\envs\\\\mine01\\\\api-ms-win-crt-heap-l1-1-0.dll',\n",
       " 'C:\\\\Users\\\\mineo\\\\Anaconda3\\\\envs\\\\mine01\\\\api-ms-win-crt-locale-l1-1-0.dll',\n",
       " 'C:\\\\Users\\\\mineo\\\\Anaconda3\\\\envs\\\\mine01\\\\api-ms-win-crt-math-l1-1-0.dll',\n",
       " 'C:\\\\Users\\\\mineo\\\\Anaconda3\\\\envs\\\\mine01\\\\api-ms-win-crt-multibyte-l1-1-0.dll',\n",
       " 'C:\\\\Users\\\\mineo\\\\Anaconda3\\\\envs\\\\mine01\\\\api-ms-win-crt-private-l1-1-0.dll',\n",
       " 'C:\\\\Users\\\\mineo\\\\Anaconda3\\\\envs\\\\mine01\\\\api-ms-win-crt-process-l1-1-0.dll',\n",
       " 'C:\\\\Users\\\\mineo\\\\Anaconda3\\\\envs\\\\mine01\\\\api-ms-win-crt-runtime-l1-1-0.dll',\n",
       " 'C:\\\\Users\\\\mineo\\\\Anaconda3\\\\envs\\\\mine01\\\\api-ms-win-crt-stdio-l1-1-0.dll',\n",
       " 'C:\\\\Users\\\\mineo\\\\Anaconda3\\\\envs\\\\mine01\\\\api-ms-win-crt-string-l1-1-0.dll',\n",
       " 'C:\\\\Users\\\\mineo\\\\Anaconda3\\\\envs\\\\mine01\\\\api-ms-win-crt-time-l1-1-0.dll',\n",
       " 'C:\\\\Users\\\\mineo\\\\Anaconda3\\\\envs\\\\mine01\\\\api-ms-win-crt-utility-l1-1-0.dll',\n",
       " 'C:\\\\Users\\\\mineo\\\\Anaconda3\\\\envs\\\\mine01\\\\concrt140.dll',\n",
       " 'C:\\\\Users\\\\mineo\\\\Anaconda3\\\\envs\\\\mine01\\\\LICENSE_PYTHON.txt',\n",
       " 'C:\\\\Users\\\\mineo\\\\Anaconda3\\\\envs\\\\mine01\\\\msvcp140.dll',\n",
       " 'C:\\\\Users\\\\mineo\\\\Anaconda3\\\\envs\\\\mine01\\\\openssl.exe',\n",
       " 'C:\\\\Users\\\\mineo\\\\Anaconda3\\\\envs\\\\mine01\\\\python.exe',\n",
       " 'C:\\\\Users\\\\mineo\\\\Anaconda3\\\\envs\\\\mine01\\\\python.pdb',\n",
       " 'C:\\\\Users\\\\mineo\\\\Anaconda3\\\\envs\\\\mine01\\\\python3.dll',\n",
       " 'C:\\\\Users\\\\mineo\\\\Anaconda3\\\\envs\\\\mine01\\\\python36.dll',\n",
       " 'C:\\\\Users\\\\mineo\\\\Anaconda3\\\\envs\\\\mine01\\\\python36.pdb',\n",
       " 'C:\\\\Users\\\\mineo\\\\Anaconda3\\\\envs\\\\mine01\\\\pythonw.exe',\n",
       " 'C:\\\\Users\\\\mineo\\\\Anaconda3\\\\envs\\\\mine01\\\\pythonw.pdb',\n",
       " 'C:\\\\Users\\\\mineo\\\\Anaconda3\\\\envs\\\\mine01\\\\qt.conf',\n",
       " 'C:\\\\Users\\\\mineo\\\\Anaconda3\\\\envs\\\\mine01\\\\ucrtbase.dll',\n",
       " 'C:\\\\Users\\\\mineo\\\\Anaconda3\\\\envs\\\\mine01\\\\vccorlib140.dll',\n",
       " 'C:\\\\Users\\\\mineo\\\\Anaconda3\\\\envs\\\\mine01\\\\vcomp140.dll',\n",
       " 'C:\\\\Users\\\\mineo\\\\Anaconda3\\\\envs\\\\mine01\\\\vcruntime140.dll',\n",
       " 'C:\\\\Users\\\\mineo\\\\Anaconda3\\\\envs\\\\mine01\\\\conda-meta\\\\asn1crypto-0.22.0-py36h8e79faa_1.json',\n",
       " 'C:\\\\Users\\\\mineo\\\\Anaconda3\\\\envs\\\\mine01\\\\conda-meta\\\\bleach-2.0.0-py36_0.json',\n",
       " 'C:\\\\Users\\\\mineo\\\\Anaconda3\\\\envs\\\\mine01\\\\conda-meta\\\\bokeh-0.12.9-py36h4605247_0.json',\n",
       " 'C:\\\\Users\\\\mineo\\\\Anaconda3\\\\envs\\\\mine01\\\\conda-meta\\\\ca-certificates-2017.08.26-h94faf87_0.json',\n",
       " 'C:\\\\Users\\\\mineo\\\\Anaconda3\\\\envs\\\\mine01\\\\conda-meta\\\\cachecontrol-0.12.3-py36hfe50d7b_0.json',\n",
       " 'C:\\\\Users\\\\mineo\\\\Anaconda3\\\\envs\\\\mine01\\\\conda-meta\\\\certifi-2017.7.27.1-py36h043bc9e_0.json',\n",
       " 'C:\\\\Users\\\\mineo\\\\Anaconda3\\\\envs\\\\mine01\\\\conda-meta\\\\cffi-1.10.0-py36hae3d1b5_1.json',\n",
       " 'C:\\\\Users\\\\mineo\\\\Anaconda3\\\\envs\\\\mine01\\\\conda-meta\\\\chardet-3.0.4-py36h420ce6e_1.json',\n",
       " 'C:\\\\Users\\\\mineo\\\\Anaconda3\\\\envs\\\\mine01\\\\conda-meta\\\\click-6.7-py36hec8c647_0.json',\n",
       " 'C:\\\\Users\\\\mineo\\\\Anaconda3\\\\envs\\\\mine01\\\\conda-meta\\\\cloudpickle-0.4.0-py36h639d8dc_0.json',\n",
       " 'C:\\\\Users\\\\mineo\\\\Anaconda3\\\\envs\\\\mine01\\\\conda-meta\\\\colorama-0.3.9-py36h029ae33_0.json',\n",
       " 'C:\\\\Users\\\\mineo\\\\Anaconda3\\\\envs\\\\mine01\\\\conda-meta\\\\cryptography-2.0.3-py36h123decb_1.json',\n",
       " 'C:\\\\Users\\\\mineo\\\\Anaconda3\\\\envs\\\\mine01\\\\conda-meta\\\\cycler-0.10.0-py36h009560c_0.json',\n",
       " 'C:\\\\Users\\\\mineo\\\\Anaconda3\\\\envs\\\\mine01\\\\conda-meta\\\\dask-0.15.3-py36h396fcb9_0.json',\n",
       " 'C:\\\\Users\\\\mineo\\\\Anaconda3\\\\envs\\\\mine01\\\\conda-meta\\\\dask-core-0.15.3-py36hd651449_0.json',\n",
       " 'C:\\\\Users\\\\mineo\\\\Anaconda3\\\\envs\\\\mine01\\\\conda-meta\\\\decorator-4.1.2-py36_0.json',\n",
       " 'C:\\\\Users\\\\mineo\\\\Anaconda3\\\\envs\\\\mine01\\\\conda-meta\\\\distlib-0.2.5-py36h51371be_0.json',\n",
       " 'C:\\\\Users\\\\mineo\\\\Anaconda3\\\\envs\\\\mine01\\\\conda-meta\\\\distributed-1.19.1-py36h8504682_0.json',\n",
       " 'C:\\\\Users\\\\mineo\\\\Anaconda3\\\\envs\\\\mine01\\\\conda-meta\\\\entrypoints-0.2.3-py36_1.json',\n",
       " 'C:\\\\Users\\\\mineo\\\\Anaconda3\\\\envs\\\\mine01\\\\conda-meta\\\\freetype-2.8-vc14h17c9bdf_0.json',\n",
       " 'C:\\\\Users\\\\mineo\\\\Anaconda3\\\\envs\\\\mine01\\\\conda-meta\\\\heapdict-1.0.0-py36h21fa5f4_0.json',\n",
       " 'C:\\\\Users\\\\mineo\\\\Anaconda3\\\\envs\\\\mine01\\\\conda-meta\\\\history',\n",
       " 'C:\\\\Users\\\\mineo\\\\Anaconda3\\\\envs\\\\mine01\\\\conda-meta\\\\html5lib-0.999999999-py36ha09b1f3_0.json',\n",
       " 'C:\\\\Users\\\\mineo\\\\Anaconda3\\\\envs\\\\mine01\\\\conda-meta\\\\icc_rt-2017.0.4-h97af966_0.json',\n",
       " 'C:\\\\Users\\\\mineo\\\\Anaconda3\\\\envs\\\\mine01\\\\conda-meta\\\\icu-58.2-vc14hc45fdbb_0.json',\n",
       " 'C:\\\\Users\\\\mineo\\\\Anaconda3\\\\envs\\\\mine01\\\\conda-meta\\\\idna-2.6-py36h148d497_1.json',\n",
       " 'C:\\\\Users\\\\mineo\\\\Anaconda3\\\\envs\\\\mine01\\\\conda-meta\\\\imageio-2.2.0-py36had6c2d2_0.json',\n",
       " 'C:\\\\Users\\\\mineo\\\\Anaconda3\\\\envs\\\\mine01\\\\conda-meta\\\\intel-openmp-2018.0.0-hcd89f80_7.json',\n",
       " 'C:\\\\Users\\\\mineo\\\\Anaconda3\\\\envs\\\\mine01\\\\conda-meta\\\\ipykernel-4.6.1-py36_0.json',\n",
       " 'C:\\\\Users\\\\mineo\\\\Anaconda3\\\\envs\\\\mine01\\\\conda-meta\\\\ipython-6.2.1-py36_0.json',\n",
       " 'C:\\\\Users\\\\mineo\\\\Anaconda3\\\\envs\\\\mine01\\\\conda-meta\\\\ipython_genutils-0.2.0-py36_0.json',\n",
       " 'C:\\\\Users\\\\mineo\\\\Anaconda3\\\\envs\\\\mine01\\\\conda-meta\\\\jedi-0.10.2-py36_0.json',\n",
       " 'C:\\\\Users\\\\mineo\\\\Anaconda3\\\\envs\\\\mine01\\\\conda-meta\\\\jinja2-2.9.6-py36_0.json',\n",
       " 'C:\\\\Users\\\\mineo\\\\Anaconda3\\\\envs\\\\mine01\\\\conda-meta\\\\jpeg-9b-vc14h4d7706e_1.json',\n",
       " 'C:\\\\Users\\\\mineo\\\\Anaconda3\\\\envs\\\\mine01\\\\conda-meta\\\\jsonschema-2.5.1-py36_0.json',\n",
       " 'C:\\\\Users\\\\mineo\\\\Anaconda3\\\\envs\\\\mine01\\\\conda-meta\\\\jupyter_client-5.1.0-py36_0.json',\n",
       " 'C:\\\\Users\\\\mineo\\\\Anaconda3\\\\envs\\\\mine01\\\\conda-meta\\\\jupyter_contrib_core-0.3.3-py36_0.json',\n",
       " 'C:\\\\Users\\\\mineo\\\\Anaconda3\\\\envs\\\\mine01\\\\conda-meta\\\\jupyter_contrib_nbextensions-0.3.1-py36_0.json',\n",
       " 'C:\\\\Users\\\\mineo\\\\Anaconda3\\\\envs\\\\mine01\\\\conda-meta\\\\jupyter_core-4.3.0-py36_0.json',\n",
       " 'C:\\\\Users\\\\mineo\\\\Anaconda3\\\\envs\\\\mine01\\\\conda-meta\\\\jupyter_highlight_selected_word-0.0.10-py36_0.json',\n",
       " 'C:\\\\Users\\\\mineo\\\\Anaconda3\\\\envs\\\\mine01\\\\conda-meta\\\\jupyter_latex_envs-1.3.8.2-py36_1.json',\n",
       " 'C:\\\\Users\\\\mineo\\\\Anaconda3\\\\envs\\\\mine01\\\\conda-meta\\\\jupyter_nbextensions_configurator-0.2.8-py36_0.json',\n",
       " 'C:\\\\Users\\\\mineo\\\\Anaconda3\\\\envs\\\\mine01\\\\conda-meta\\\\libpng-1.6.32-vc14hce43e6c_2.json',\n",
       " 'C:\\\\Users\\\\mineo\\\\Anaconda3\\\\envs\\\\mine01\\\\conda-meta\\\\libtiff-4.0.8-vc14h04e2a1e_10.json',\n",
       " 'C:\\\\Users\\\\mineo\\\\Anaconda3\\\\envs\\\\mine01\\\\conda-meta\\\\locket-0.2.0-py36hfed976d_1.json',\n",
       " 'C:\\\\Users\\\\mineo\\\\Anaconda3\\\\envs\\\\mine01\\\\conda-meta\\\\lockfile-0.12.2-py36h0468280_0.json',\n",
       " 'C:\\\\Users\\\\mineo\\\\Anaconda3\\\\envs\\\\mine01\\\\conda-meta\\\\markupsafe-1.0-py36_0.json',\n",
       " 'C:\\\\Users\\\\mineo\\\\Anaconda3\\\\envs\\\\mine01\\\\conda-meta\\\\matplotlib-2.0.2-py36h58ba717_1.json',\n",
       " 'C:\\\\Users\\\\mineo\\\\Anaconda3\\\\envs\\\\mine01\\\\conda-meta\\\\mistune-0.7.4-py36_0.json',\n",
       " 'C:\\\\Users\\\\mineo\\\\Anaconda3\\\\envs\\\\mine01\\\\conda-meta\\\\mkl-2018.0.0-h36b65af_4.json',\n",
       " 'C:\\\\Users\\\\mineo\\\\Anaconda3\\\\envs\\\\mine01\\\\conda-meta\\\\msgpack-python-0.4.8-py36h58b1e9d_0.json',\n",
       " 'C:\\\\Users\\\\mineo\\\\Anaconda3\\\\envs\\\\mine01\\\\conda-meta\\\\nbconvert-5.3.1-py_1.json',\n",
       " 'C:\\\\Users\\\\mineo\\\\Anaconda3\\\\envs\\\\mine01\\\\conda-meta\\\\nbformat-4.4.0-py36_0.json',\n",
       " 'C:\\\\Users\\\\mineo\\\\Anaconda3\\\\envs\\\\mine01\\\\conda-meta\\\\networkx-1.11-py36hdf4b0f5_0.json',\n",
       " 'C:\\\\Users\\\\mineo\\\\Anaconda3\\\\envs\\\\mine01\\\\conda-meta\\\\notebook-5.1.0-py36_0.json',\n",
       " 'C:\\\\Users\\\\mineo\\\\Anaconda3\\\\envs\\\\mine01\\\\conda-meta\\\\numpy-1.13.3-py36ha320f96_0.json',\n",
       " 'C:\\\\Users\\\\mineo\\\\Anaconda3\\\\envs\\\\mine01\\\\conda-meta\\\\olefile-0.44-py36h0a7bdd2_0.json',\n",
       " 'C:\\\\Users\\\\mineo\\\\Anaconda3\\\\envs\\\\mine01\\\\conda-meta\\\\openssl-1.0.2l-vc14hcac20b0_2.json',\n",
       " 'C:\\\\Users\\\\mineo\\\\Anaconda3\\\\envs\\\\mine01\\\\conda-meta\\\\packaging-16.8-py36ha0986f6_1.json',\n",
       " 'C:\\\\Users\\\\mineo\\\\Anaconda3\\\\envs\\\\mine01\\\\conda-meta\\\\pandas-0.20.3-py36hce827b7_2.json',\n",
       " 'C:\\\\Users\\\\mineo\\\\Anaconda3\\\\envs\\\\mine01\\\\conda-meta\\\\pandoc-1.19.2-0.json',\n",
       " 'C:\\\\Users\\\\mineo\\\\Anaconda3\\\\envs\\\\mine01\\\\conda-meta\\\\pandocfi"
      ]
     },
     "execution_count": 2,
     "metadata": {},
     "output_type": "execute_result"
    },
    {
     "data": {
      "text/html": [
       "<b>limit_output extension: Maximum message size of 10000 exceeded with 82108 characters</b>"
      ]
     },
     "metadata": {},
     "output_type": "display_data"
    }
   ],
   "source": [
    "file_list"
   ]
  },
  {
   "cell_type": "code",
   "execution_count": 5,
   "metadata": {
    "ExecuteTime": {
     "end_time": "2017-11-05T04:20:45.841158Z",
     "start_time": "2017-11-05T04:20:45.834153Z"
    }
   },
   "outputs": [
    {
     "data": {
      "text/plain": [
       "30269"
      ]
     },
     "execution_count": 5,
     "metadata": {},
     "output_type": "execute_result"
    }
   ],
   "source": [
    "len(file_list)"
   ]
  },
  {
   "cell_type": "markdown",
   "metadata": {},
   "source": [
    "## 合成"
   ]
  },
  {
   "cell_type": "code",
   "execution_count": 7,
   "metadata": {
    "ExecuteTime": {
     "end_time": "2017-11-05T04:51:51.267671Z",
     "start_time": "2017-11-05T04:50:37.532147Z"
    }
   },
   "outputs": [],
   "source": [
    "import os,hashlib\n",
    "\n",
    "working_dir = 'C:\\\\Users\\\\mineo\\\\Anaconda3\\\\envs\\\\mine01'\n",
    "file_list = []\n",
    "for root, dirs, files in os.walk(working_dir):\n",
    "    for filename in files:\n",
    "        fname=os.path.join(root, filename)\n",
    "        with open(fname, 'rb') as f:\n",
    "            checksum = hashlib.md5(f.read()).hexdigest()\n",
    "        file_list.append([fname,checksum]) "
   ]
  },
  {
   "cell_type": "code",
   "execution_count": 8,
   "metadata": {
    "ExecuteTime": {
     "end_time": "2017-11-05T04:51:51.473488Z",
     "start_time": "2017-11-05T04:51:51.417952Z"
    }
   },
   "outputs": [
    {
     "data": {
      "text/plain": [
       "[['C:\\\\Users\\\\mineo\\\\Anaconda3\\\\envs\\\\mine01\\\\.nonadmin',\n",
       "  'd41d8cd98f00b204e9800998ecf8427e'],\n",
       " ['C:\\\\Users\\\\mineo\\\\Anaconda3\\\\envs\\\\mine01\\\\api-ms-win-core-console-l1-1-0.dll',\n",
       "  'af9db9ff1a9b491bd27e28043669f344'],\n",
       " ['C:\\\\Users\\\\mineo\\\\Anaconda3\\\\envs\\\\mine01\\\\api-ms-win-core-datetime-l1-1-0.dll',\n",
       "  'bd19d470a98672265908656de115673a'],\n",
       " ['C:\\\\Users\\\\mineo\\\\Anaconda3\\\\envs\\\\mine01\\\\api-ms-win-core-debug-l1-1-0.dll',\n",
       "  '98fd60e992f755fc0a0400851a82d60f'],\n",
       " ['C:\\\\Users\\\\mineo\\\\Anaconda3\\\\envs\\\\mine01\\\\api-ms-win-core-errorhandling-l1-1-0.dll',\n",
       "  '3f2c1ef59173fd852ab20368fe4f3650'],\n",
       " ['C:\\\\Users\\\\mineo\\\\Anaconda3\\\\envs\\\\mine01\\\\api-ms-win-core-file-l1-1-0.dll',\n",
       "  '1b4ebe35b02f87db4e91dfca25a406fe'],\n",
       " ['C:\\\\Users\\\\mineo\\\\Anaconda3\\\\envs\\\\mine01\\\\api-ms-win-core-file-l1-2-0.dll',\n",
       "  'c08c42ddc06fe610461f4e5614723305'],\n",
       " ['C:\\\\Users\\\\mineo\\\\Anaconda3\\\\envs\\\\mine01\\\\api-ms-win-core-file-l2-1-0.dll',\n",
       "  '90c778d7ecbf3aebc199046f399017ec'],\n",
       " ['C:\\\\Users\\\\mineo\\\\Anaconda3\\\\envs\\\\mine01\\\\api-ms-win-core-handle-l1-1-0.dll',\n",
       "  'cafdeb377f0e8bd6e19a1eb63b4105fc'],\n",
       " ['C:\\\\Users\\\\mineo\\\\Anaconda3\\\\envs\\\\mine01\\\\api-ms-win-core-heap-l1-1-0.dll',\n",
       "  '273e274c119ea920838be909fa28209b'],\n",
       " ['C:\\\\Users\\\\mineo\\\\Anaconda3\\\\envs\\\\mine01\\\\api-ms-win-core-interlocked-l1-1-0.dll',\n",
       "  'a6a9b9face1c1ac81d6ab357edf234b7'],\n",
       " ['C:\\\\Users\\\\mineo\\\\Anaconda3\\\\envs\\\\mine01\\\\api-ms-win-core-libraryloader-l1-1-0.dll',\n",
       "  '5c1098bd3c8b5e29a9b96d4f9d6bf5ec'],\n",
       " ['C:\\\\Users\\\\mineo\\\\Anaconda3\\\\envs\\\\mine01\\\\api-ms-win-core-localization-l1-2-0.dll',\n",
       "  '12f773ca67b9cdbc6140a0e251c2c94e'],\n",
       " ['C:\\\\Users\\\\mineo\\\\Anaconda3\\\\envs\\\\mine01\\\\api-ms-win-core-memory-l1-1-0.dll',\n",
       "  'c461421633c2dcc4ae829b06acfcc18a'],\n",
       " ['C:\\\\Users\\\\mineo\\\\Anaconda3\\\\envs\\\\mine01\\\\api-ms-win-core-namedpipe-l1-1-0.dll',\n",
       "  '3b0e7ca094b02f272893a24a8b869e65'],\n",
       " ['C:\\\\Users\\\\mineo\\\\Anaconda3\\\\envs\\\\mine01\\\\api-ms-win-core-processenvironment-l1-1-0.dll',\n",
       "  'a285f21dd73ff76f60bfca9fd84b36eb'],\n",
       " ['C:\\\\Users\\\\mineo\\\\Anaconda3\\\\envs\\\\mine01\\\\api-ms-win-core-processthreads-l1-1-0.dll',\n",
       "  'eb677e258d713265a5ea88d99f06d35e'],\n",
       " ['C:\\\\Users\\\\mineo\\\\Anaconda3\\\\envs\\\\mine01\\\\api-ms-win-core-processthreads-l1-1-1.dll',\n",
       "  'df5d657416d68e46306fff5e4345a741'],\n",
       " ['C:\\\\Users\\\\mineo\\\\Anaconda3\\\\envs\\\\mine01\\\\api-ms-win-core-profile-l1-1-0.dll',\n",
       "  '1927defeeaa7261fc79d83fece134f32'],\n",
       " ['C:\\\\Users\\\\mineo\\\\Anaconda3\\\\envs\\\\mine01\\\\api-ms-win-core-rtlsupport-l1-1-0.dll',\n",
       "  '024e55c36ac1ebb9cb075a57f470ce1f'],\n",
       " ['C:\\\\Users\\\\mineo\\\\Anaconda3\\\\envs\\\\mine01\\\\api-ms-win-core-string-l1-1-0.dll',\n",
       "  '222aa39177bb568e27bbcb8160dac7dd'],\n",
       " ['C:\\\\Users\\\\mineo\\\\Anaconda3\\\\envs\\\\mine01\\\\api-ms-win-core-synch-l1-1-0.dll',\n",
       "  '340f92ff11daf2d16ff82f6999f59b63'],\n",
       " ['C:\\\\Users\\\\mineo\\\\Anaconda3\\\\envs\\\\mine01\\\\api-ms-win-core-synch-l1-2-0.dll',\n",
       "  '0589b33e5084d2883f895f35f4448ccd'],\n",
       " ['C:\\\\Users\\\\mineo\\\\Anaconda3\\\\envs\\\\mine01\\\\api-ms-win-core-sysinfo-l1-1-0.dll',\n",
       "  '761b789bdc2f0711111510742c1c3433'],\n",
       " ['C:\\\\Users\\\\mineo\\\\Anaconda3\\\\envs\\\\mine01\\\\api-ms-win-core-timezone-l1-1-0.dll',\n",
       "  'db9ea15a28a7dedb1b40cf010e13e148'],\n",
       " ['C:\\\\Users\\\\mineo\\\\Anaconda3\\\\envs\\\\mine01\\\\api-ms-win-core-util-l1-1-0.dll',\n",
       "  '9e8002d3e54cb642554ce77c8fad6fa2'],\n",
       " ['C:\\\\Users\\\\mineo\\\\Anaconda3\\\\envs\\\\mine01\\\\api-ms-win-crt-conio-l1-1-0.dll',\n",
       "  'f6552ec848d93b87376b084f40d176bf'],\n",
       " ['C:\\\\Users\\\\mineo\\\\Anaconda3\\\\envs\\\\mine01\\\\api-ms-win-crt-convert-l1-1-0.dll',\n",
       "  '726eba7eb8050dc266b3a83e7c42eed2'],\n",
       " ['C:\\\\Users\\\\mineo\\\\Anaconda3\\\\envs\\\\mine01\\\\api-ms-win-crt-environment-l1-1-0.dll',\n",
       "  '2c40d7cbb56dbe5f0b8dd1ff2e2547d5'],\n",
       " ['C:\\\\Users\\\\mineo\\\\Anaconda3\\\\envs\\\\mine01\\\\api-ms-win-crt-filesystem-l1-1-0.dll',\n",
       "  '44b28a94391cc22b7e296440c0bb274a'],\n",
       " ['C:\\\\Users\\\\mineo\\\\Anaconda3\\\\envs\\\\mine01\\\\api-ms-win-crt-heap-l1-1-0.dll',\n",
       "  '69f853350d9487559f31ef141704eb01'],\n",
       " ['C:\\\\Users\\\\mineo\\\\Anaconda3\\\\envs\\\\mine01\\\\api-ms-win-crt-locale-l1-1-0.dll',\n",
       "  '3fe162bf7a25072dec89f6c000c63e6d'],\n",
       " ['C:\\\\Users\\\\mineo\\\\Anaconda3\\\\envs\\\\mine01\\\\api-ms-win-crt-math-l1-1-0.dll',\n",
       "  '04ed81c2c88d7fec572ef94bc337d3c5'],\n",
       " ['C:\\\\Users\\\\mineo\\\\Anaconda3\\\\envs\\\\mine01\\\\api-ms-win-crt-multibyte-l1-1-0.dll',\n",
       "  '7941cf7821c98fe15484f32181b82204'],\n",
       " ['C:\\\\Users\\\\mineo\\\\Anaconda3\\\\envs\\\\mine01\\\\api-ms-win-crt-private-l1-1-0.dll',\n",
       "  '1b73ccb501d3abdfcbd8ecaf4e5732c5'],\n",
       " ['C:\\\\Users\\\\mineo\\\\Anaconda3\\\\envs\\\\mine01\\\\api-ms-win-crt-process-l1-1-0.dll',\n",
       "  'c0e06a0ffcf1bba277113382867b47c8'],\n",
       " ['C:\\\\Users\\\\mineo\\\\Anaconda3\\\\envs\\\\mine01\\\\api-ms-win-crt-runtime-l1-1-0.dll',\n",
       "  '1328be72ddcb7c45b72bf2eca384fbd5'],\n",
       " ['C:\\\\Users\\\\mineo\\\\Anaconda3\\\\envs\\\\mine01\\\\api-ms-win-crt-stdio-l1-1-0.dll',\n",
       "  '02e78f7b075b1402a6d1355ecf1e1806'],\n",
       " ['C:\\\\Users\\\\mineo\\\\Anaconda3\\\\envs\\\\mine01\\\\api-ms-win-crt-string-l1-1-0.dll',\n",
       "  '94435ff0f40f1b928fac453eb2a954e0'],\n",
       " ['C:\\\\Users\\\\mineo\\\\Anaconda3\\\\envs\\\\mine01\\\\api-ms-win-crt-time-l1-1-0.dll',\n",
       "  'a6e01d85b774c73f71c446af98bd746d'],\n",
       " ['C:\\\\Users\\\\mineo\\\\Anaconda3\\\\envs\\\\mine01\\\\api-ms-win-crt-utility-l1-1-0.dll',\n",
       "  'f2ee7edc07ff6ad88bf6aca70f8d075b'],\n",
       " ['C:\\\\Users\\\\mineo\\\\Anaconda3\\\\envs\\\\mine01\\\\concrt140.dll',\n",
       "  '14b7a99127ca18df05dd1f5be3ac0245'],\n",
       " ['C:\\\\Users\\\\mineo\\\\Anaconda3\\\\envs\\\\mine01\\\\LICENSE_PYTHON.txt',\n",
       "  'f741e51de91d4eeea5930b9c3c7fa69d'],\n",
       " ['C:\\\\Users\\\\mineo\\\\Anaconda3\\\\envs\\\\mine01\\\\msvcp140.dll',\n",
       "  '9ff712c25312821b8aec84c4f8782a34'],\n",
       " ['C:\\\\Users\\\\mineo\\\\Anaconda3\\\\envs\\\\mine01\\\\openssl.exe',\n",
       "  '56ca242125860694850f5a6f90f9f9a2'],\n",
       " ['C:\\\\Users\\\\mineo\\\\Anaconda3\\\\envs\\\\mine01\\\\python.exe',\n",
       "  '06d1220ff788fe7ce64b4e02ecba911e'],\n",
       " ['C:\\\\Users\\\\mineo\\\\Anaconda3\\\\envs\\\\mine01\\\\python.pdb',\n",
       "  '0add277ef87ed7781529af0b16a0448c'],\n",
       " ['C:\\\\Users\\\\mineo\\\\Anaconda3\\\\envs\\\\mine01\\\\python3.dll',\n",
       "  '85fb47b6930d541774d08b5cbd330cfe'],\n",
       " ['C:\\\\Users\\\\mineo\\\\Anaconda3\\\\envs\\\\mine01\\\\python36.dll',\n",
       "  '48ee61fd14e3a812791c3bb5175c837a'],\n",
       " ['C:\\\\Users\\\\mineo\\\\Anaconda3\\\\envs\\\\mine01\\\\python36.pdb',\n",
       "  '49cc93dd99a5441fc11d0d45093f53f2'],\n",
       " ['C:\\\\Users\\\\mineo\\\\Anaconda3\\\\envs\\\\mine01\\\\pythonw.exe',\n",
       "  '4acf7a281c01ea52d34b74f840552b77'],\n",
       " ['C:\\\\Users\\\\mineo\\\\Anaconda3\\\\envs\\\\mine01\\\\pythonw.pdb',\n",
       "  '4487624e69ae9bc330e4206e2563f799'],\n",
       " ['C:\\\\Users\\\\mineo\\\\Anaconda3\\\\envs\\\\mine01\\\\qt.conf',\n",
       "  'a72c3ff93c9c0b8819e19b902f77c30a'],\n",
       " ['C:\\\\Users\\\\mineo\\\\Anaconda3\\\\envs\\\\mine01\\\\ucrtbase.dll',\n",
       "  '5b48e0f2753822d45bb6e25517926f74'],\n",
       " ['C:\\\\Users\\\\mineo\\\\Anaconda3\\\\envs\\\\mine01\\\\vccorlib140.dll',\n",
       "  '3d8e0ebbb613cbe80320a61259d18514'],\n",
       " ['C:\\\\Users\\\\mineo\\\\Anaconda3\\\\envs\\\\mine01\\\\vcomp140.dll',\n",
       "  '52204dfe5d83d5a7ce94deded15cac1e'],\n",
       " ['C:\\\\Users\\\\mineo\\\\Anaconda3\\\\envs\\\\mine01\\\\vcruntime140.dll',\n",
       "  'edf9d5c18111d82cf10ec99f6afa6b47'],\n",
       " ['C:\\\\Users\\\\mineo\\\\Anaconda3\\\\envs\\\\mine01\\\\conda-meta\\\\asn1crypto-0.22.0-py36h8e79faa_1.json',\n",
       "  'ab64810ee47a93bddd930769504eac1b'],\n",
       " ['C:\\\\Users\\\\mineo\\\\Anaconda3\\\\envs\\\\mine01\\\\conda-meta\\\\bleach-2.0.0-py36_0.json',\n",
       "  'b712753d97407a375524ec4983112a5b'],\n",
       " ['C:\\\\Users\\\\mineo\\\\Anaconda3\\\\envs\\\\mine01\\\\conda-meta\\\\bokeh-0.12.9-py36h4605247_0.json',\n",
       "  '3416a43d6034bc885dfe6240132518c8'],\n",
       " ['C:\\\\Users\\\\mineo\\\\Anaconda3\\\\envs\\\\mine01\\\\conda-meta\\\\ca-certificates-2017.08.26-h94faf87_0.json',\n",
       "  '832dff13612cd8bb080ca182d8fd360f'],\n",
       " ['C:\\\\Users\\\\mineo\\\\Anaconda3\\\\envs\\\\mine01\\\\conda-meta\\\\cachecontrol-0.12.3-py36hfe50d7b_0.json',\n",
       "  'b8665f97c76517e2f31ff85b05b87837'],\n",
       " ['C:\\\\Users\\\\mineo\\\\Anaconda3\\\\envs\\\\mine01\\\\conda-meta\\\\certifi-2017.7.27.1-py36h043bc9e_0.json',\n",
       "  'b79a3f60dfda911902772439dfc4a16f'],\n",
       " ['C:\\\\Users\\\\mineo\\\\Anaconda3\\\\envs\\\\mine01\\\\conda-meta\\\\cffi-1.10.0-py36hae3d1b5_1.json',\n",
       "  '77147c1ab514215bba1369ec7302040e'],\n",
       " ['C:\\\\Users\\\\mineo\\\\Anaconda3\\\\envs\\\\mine01\\\\conda-meta\\\\chardet-3.0.4-py36h420ce6e_1.json',\n",
       "  'fe777c27002a6ee2013e3866970a22ae'],\n",
       " ['C:\\\\Users\\\\mineo\\\\Anaconda3\\\\envs\\\\mine01\\\\conda-meta\\\\click-6.7-py36hec8c647_0.json',\n",
       "  '5d4f7e028692cca758eee8091df78a95'],\n",
       " ['C:\\\\Users\\\\mineo\\\\Anaconda3\\\\envs\\\\mine01\\\\conda-meta\\\\cloudpickle-0.4.0-py36h639d8dc_0.json',\n",
       "  '80aff1ef20bff13535762311571daf34'],\n",
       " ['C:\\\\Users\\\\mineo\\\\Anaconda3\\\\envs\\\\mine01\\\\conda-meta\\\\colorama-0.3.9-py36h029ae33_0.json',\n",
       "  '9857c3b22be0f61c9cc62dd7d90014a1'],\n",
       " ['C:\\\\Users\\\\mineo\\\\Anaconda3\\\\envs\\\\mine01\\\\conda-meta\\\\cryptography-2.0.3-py36h123decb_1.json',\n",
       "  'ca7634ff645c6a69c646a567b6c3be4b'],\n",
       " ['C:\\\\Users\\\\mineo\\\\Anaconda3\\\\envs\\\\mine01\\\\conda-meta\\\\cycler-0.10.0-py36h009560c_0.json',\n",
       "  '2058579c7553e72a8297b0272d105bdb'],\n",
       " ['C:\\\\Users\\\\mineo\\\\Anaconda3\\\\envs\\\\mine01\\\\conda-meta\\\\dask-0.15.3-py36h396fcb9_0.json',\n",
       "  '91e965c76654fff7f1338fa682d0cebe'],\n",
       " ['C:\\\\Users\\\\mineo\\\\Anaconda3\\\\envs\\\\mine01\\\\conda-meta\\\\dask-core-0.15.3-py36hd651449_0.json',\n",
       "  'afae3b8cf2239704fffae5783e07e373'],\n",
       " ['C:\\\\Users\\\\mineo\\\\Anaconda3\\\\envs\\\\mine01\\\\conda-meta\\\\decorator-4.1.2-py36_0.json',\n",
       "  'e2c5e4f7121bb3ac41357e57fd55977d'],\n",
       " ['C:\\\\Users\\\\mineo\\\\Anaconda3\\\\envs\\\\mine01\\\\conda-meta\\\\distlib-0.2.5-py36h51371be_0.json',\n",
       "  '227d89373b5f0d77bef14885f4bf6caf'],\n",
       " ['C:\\\\Users\\\\mineo\\\\Anaconda3\\\\envs\\\\mine01\\\\conda-meta\\\\distributed-1.19.1-py36h8504682_0.json',\n",
       "  'dfc72ba9104dbad1d0d79b5f5c4b46f9'],\n",
       " ['C:\\\\Users\\\\mineo\\\\Anaconda3\\\\envs\\\\mine01\\\\conda-meta\\\\entrypoints-0.2.3-py36_1.json',\n",
       "  '2474328c5341bb6ad7e12f6af66077fa'],\n",
       " ['C:\\\\Users\\\\mineo\\\\Anaconda3\\\\envs\\\\mine01\\\\conda-meta\\\\freetype-2.8-vc14h17c9bdf_0.json',\n",
       "  '67d526c88c1bde6428cbe888557da1bf'],\n",
       " ['C:\\\\Users\\\\mineo\\\\Anaconda3\\\\envs\\\\mine01\\\\conda-meta\\\\heapdict-1.0.0-py36h21fa5f4_0.json',\n",
       "  'b713c5bd04f3ebe26316bc405d48cca7'],\n",
       " ['C:\\\\Users\\\\mineo\\\\Anaconda3\\\\envs\\\\mine01\\\\conda-meta\\\\history',\n",
       "  '63ff9f5aa50630c3a973a955af553fbf'],\n",
       " ['C:\\\\Users\\\\mineo\\\\Anaconda3\\\\envs\\\\mine01\\\\conda-meta\\\\html5lib-0.999999999-py36ha09b1f3_0.json',\n",
       "  '5421e2f90eb2c23d7b5a042b08a68e6e'],\n",
       " ['C:\\\\Users\\\\mineo\\\\Anaconda3\\\\envs\\\\mine01\\\\conda-meta\\\\icc_rt-2017.0.4-h97af966_0.json',\n",
       "  'fe93b0a134b9c5ea2c569c0ad57840c8'],\n",
       " ['C:\\\\Users\\\\mineo\\\\Anaconda3\\\\envs\\\\mine01\\\\conda-meta\\\\icu-58.2-vc14hc45fdbb_0.json',\n",
       "  'cb8e55e5cdef590a55ae1ed31b470f34'],\n",
       " ['C:\\\\Users\\\\mineo\\\\Anaconda3\\\\envs\\\\mine01\\\\conda-meta\\\\idna-2.6-py36h148d497_1.json',\n",
       "  'b55d2154"
      ]
     },
     "execution_count": 8,
     "metadata": {},
     "output_type": "execute_result"
    },
    {
     "data": {
      "text/html": [
       "<b>limit_output extension: Maximum message size of 10000 exceeded with 122108 characters</b>"
      ]
     },
     "metadata": {},
     "output_type": "display_data"
    }
   ],
   "source": [
    "file_list"
   ]
  },
  {
   "cell_type": "code",
   "execution_count": 9,
   "metadata": {
    "ExecuteTime": {
     "end_time": "2017-11-05T04:52:11.338457Z",
     "start_time": "2017-11-05T04:52:11.332952Z"
    }
   },
   "outputs": [
    {
     "data": {
      "text/plain": [
       "30269"
      ]
     },
     "execution_count": 9,
     "metadata": {},
     "output_type": "execute_result"
    }
   ],
   "source": [
    "len(file_list)"
   ]
  },
  {
   "cell_type": "code",
   "execution_count": 12,
   "metadata": {
    "ExecuteTime": {
     "end_time": "2017-11-05T05:02:42.943900Z",
     "start_time": "2017-11-05T05:02:42.913382Z"
    }
   },
   "outputs": [],
   "source": [
    "hikaku_1=set()\n",
    "for i in file_list:\n",
    "    hikaku_1.add(i[0]+\"_____hash_____\"+i[1])"
   ]
  },
  {
   "cell_type": "code",
   "execution_count": 13,
   "metadata": {
    "ExecuteTime": {
     "end_time": "2017-11-05T05:02:47.852551Z",
     "start_time": "2017-11-05T05:02:47.826535Z"
    }
   },
   "outputs": [
    {
     "data": {
      "text/plain": [
       "{'C:\\\\Users\\\\mineo\\\\Anaconda3\\\\envs\\\\mine01\\\\Library\\\\qml\\\\Qt\\\\labs\\\\controls\\\\designer\\\\TextAreaSpecifics.qml_____hash_____3e933e8c2237af1d7e2ff0525f196d5c',\n",
       " 'C:\\\\Users\\\\mineo\\\\Anaconda3\\\\envs\\\\mine01\\\\Lib\\\\site-packages\\\\notebook\\\\static\\\\components\\\\MathJax\\\\jax\\\\output\\\\HTML-CSS\\\\fonts\\\\STIX-Web\\\\Script\\\\Regular\\\\Main.js_____hash_____ed0dce13cbf9046e29fd3cf0a73c8e31',\n",
       " 'C:\\\\Users\\\\mineo\\\\Anaconda3\\\\envs\\\\mine01\\\\Library\\\\include\\\\qt\\\\Qt3DCore\\\\5.6.2\\\\Qt3DCore\\\\private\\\\qboundedcircularbuffer_p.h_____hash_____f99e86f62e046ffad80659842c5590b2',\n",
       " 'C:\\\\Users\\\\mineo\\\\Anaconda3\\\\envs\\\\mine01\\\\Library\\\\mkspecs\\\\features\\\\unix\\\\separate_debug_info.prf_____hash_____89cae47e13974f18910cd153e6107ef9',\n",
       " 'C:\\\\Users\\\\mineo\\\\Anaconda3\\\\envs\\\\mine01\\\\Library\\\\include\\\\qt\\\\QtXmlPatterns\\\\5.6.2\\\\QtXmlPatterns\\\\private\\\\qstaticnamespacecontext_p.h_____hash_____f6ec430d43066e54a6ceae6140e16462',\n",
       " 'C:\\\\Users\\\\mineo\\\\Anaconda3\\\\envs\\\\mine01\\\\Library\\\\qml\\\\Qt\\\\labs\\\\settings\\\\qmldir_____hash_____2e2db99735dd15977e8c73d601c29173',\n",
       " 'C:\\\\Users\\\\mineo\\\\Anaconda3\\\\envs\\\\mine01\\\\Library\\\\include\\\\qt\\\\QtQuickParticles\\\\QtQuickParticles_____hash_____4ff339f5f8cf26d965708a9cda3fbc31',\n",
       " 'C:\\\\Users\\\\mineo\\\\Anaconda3\\\\envs\\\\mine01\\\\share\\\\jupyter\\\\nbextensions\\\\highlighter\\\\readme.md_____hash_____66967c68b9b6d0e62ba83ff5616dcb90',\n",
       " 'C:\\\\Users\\\\mineo\\\\Anaconda3\\\\envs\\\\mine01\\\\Lib\\\\site-packages\\\\IPython\\\\utils\\\\tests\\\\test_dir2.py_____hash_____e9daaa8f5f77a7b040ee11d97df5633c',\n",
       " 'C:\\\\Users\\\\mineo\\\\Anaconda3\\\\envs\\\\mine01\\\\Lib\\\\site-packages\\\\ipykernel\\\\serialize.py_____hash_____575098b23ab6383b0c7a558f5cea1646',\n",
       " 'C:\\\\Users\\\\mineo\\\\Anaconda3\\\\envs\\\\mine01\\\\Lib\\\\site-packages\\\\pygments\\\\lexers\\\\theorem.py_____hash_____67ac46ddfa91061ecd7da5c459a55e30',\n",
       " 'C:\\\\Users\\\\mineo\\\\Anaconda3\\\\envs\\\\mine01\\\\Lib\\\\site-packages\\\\notebook\\\\static\\\\components\\\\xterm.js\\\\dist\\\\xterm.js_____hash_____4890b48be5b07006f50873d8afc6931e',\n",
       " 'C:\\\\Users\\\\mineo\\\\Anaconda3\\\\envs\\\\mine01\\\\Lib\\\\site-packages\\\\pandas\\\\tests\\\\io\\\\data\\\\times_1904.xlsx_____hash_____13393aa115e830a0be7a56e58eff2f1c',\n",
       " 'C:\\\\Users\\\\mineo\\\\Anaconda3\\\\envs\\\\mine01\\\\Library\\\\include\\\\unicode\\\\uchriter.h_____hash_____899c05dd41c509b5cb355dcbc277429b',\n",
       " 'C:\\\\Users\\\\mineo\\\\Anaconda3\\\\envs\\\\mine01\\\\Lib\\\\site-packages\\\\pytz\\\\zoneinfo\\\\America\\\\Grenada_____hash_____6a95f4e0602e0869a03a18a7501c6675',\n",
       " 'C:\\\\Users\\\\mineo\\\\Anaconda3\\\\envs\\\\mine01\\\\Lib\\\\site-packages\\\\scipy\\\\sparse\\\\tests\\\\__pycache__\\\\test_construct.cpython-36.pyc_____hash_____e23eb1960a42ec26a06cbe19bdc5163d',\n",
       " 'C:\\\\Users\\\\mineo\\\\Anaconda3\\\\envs\\\\mine01\\\\Library\\\\include\\\\qt\\\\QtScriptTools\\\\5.6.2\\\\QtScriptTools\\\\private\\\\qscriptdebuggercommandschedulerfrontend_p.h_____hash_____56d6afe155c101b94d2970f22953946e',\n",
       " 'C:\\\\Users\\\\mineo\\\\Anaconda3\\\\envs\\\\mine01\\\\Tools\\\\scripts\\\\__pycache__\\\\ptags.cpython-36.pyc_____hash_____e542a203037a0979c62420e486997a8b',\n",
       " 'C:\\\\Users\\\\mineo\\\\Anaconda3\\\\envs\\\\mine01\\\\Lib\\\\unittest\\\\test\\\\__pycache__\\\\test_assertions.cpython-36.pyc_____hash_____50432a03fa974f36cc97d5fb1af2d570',\n",
       " 'C:\\\\Users\\\\mineo\\\\Anaconda3\\\\envs\\\\mine01\\\\tcl\\\\tcl8.6\\\\tzdata\\\\Asia\\\\Pyongyang_____hash_____03f7e1dba4e82e33605fece76f0ae4a8',\n",
       " 'C:\\\\Users\\\\mineo\\\\Anaconda3\\\\envs\\\\mine01\\\\Lib\\\\site-packages\\\\pytz\\\\zoneinfo\\\\Australia\\\\Lindeman_____hash_____20a611f23e891c733c9c14542f60e4f8',\n",
       " 'C:\\\\Users\\\\mineo\\\\Anaconda3\\\\envs\\\\mine01\\\\Library\\\\include\\\\qt\\\\Qt3DRender\\\\5.6.2\\\\Qt3DRender\\\\private\\\\qabstracttextureimage_p.h_____hash_____924a55b98493a189fe67e9bffd20b4f9',\n",
       " 'C:\\\\Users\\\\mineo\\\\Anaconda3\\\\envs\\\\mine01\\\\Lib\\\\site-packages\\\\selenium\\\\webdriver\\\\blackberry\\\\__pycache__\\\\webdriver.cpython-36.pyc_____hash_____c6cc586907a14c64f7091737509c34ac',\n",
       " 'C:\\\\Users\\\\mineo\\\\Anaconda3\\\\envs\\\\mine01\\\\Library\\\\include\\\\qt\\\\QtGui\\\\5.6.2\\\\QtGui\\\\private\\\\qshortcutmap_p.h_____hash_____ec8a0e007d4330910976b720114e288e',\n",
       " 'C:\\\\Users\\\\mineo\\\\Anaconda3\\\\envs\\\\mine01\\\\Lib\\\\site-packages\\\\pylint\\\\test\\\\input\\\\__pycache__\\\\func_w0613.cpython-36.pyc_____hash_____1a3e4fdc8c0080ae5ffb239c188f652e',\n",
       " 'C:\\\\Users\\\\mineo\\\\Anaconda3\\\\envs\\\\mine01\\\\Lib\\\\site-packages\\\\chardet\\\\__pycache__\\\\euctwfreq.cpython-36.pyc_____hash_____8957921d76e73c0342be3c7ad464d502',\n",
       " 'C:\\\\Users\\\\mineo\\\\Anaconda3\\\\envs\\\\mine01\\\\Lib\\\\site-packages\\\\pandas\\\\tests\\\\io\\\\json\\\\__pycache__\\\\test_normalize.cpython-36.pyc_____hash_____576ccaf8b6d7c46514c81a8dfcea6ba4',\n",
       " 'C:\\\\Users\\\\mineo\\\\Anaconda3\\\\envs\\\\mine01\\\\Lib\\\\site-packages\\\\ipykernel\\\\inprocess\\\\client.py_____hash_____64b02b64d2a383a5c4299fb23c06bfd0',\n",
       " 'C:\\\\Users\\\\mineo\\\\Anaconda3\\\\envs\\\\mine01\\\\Lib\\\\site-packages\\\\notebook\\\\static\\\\components\\\\MathJax\\\\jax\\\\element\\\\mml\\\\optable\\\\BasicLatin.js_____hash_____b60bc1d274137c868168c32d8b31951c',\n",
       " 'C:\\\\Users\\\\mineo\\\\Anaconda3\\\\envs\\\\mine01\\\\Lib\\\\site-packages\\\\IPython\\\\testing\\\\plugin\\\\simple.py_____hash_____1c325a02bd22c3dbba1823f29f1b5d30',\n",
       " 'C:\\\\Users\\\\mineo\\\\Anaconda3\\\\envs\\\\mine01\\\\Lib\\\\site-packages\\\\astroid\\\\tests\\\\testdata\\\\python3\\\\data\\\\SSL1\\\\__init__.py_____hash_____937d1e02cacc2444e60c1d9296b233c4',\n",
       " 'C:\\\\Users\\\\mineo\\\\Anaconda3\\\\envs\\\\mine01\\\\Lib\\\\site-packages\\\\dateutil\\\\tzwin.py_____hash_____be2ec72a367bdcb6cb7998caa76d6efd',\n",
       " 'C:\\\\Users\\\\mineo\\\\Anaconda3\\\\envs\\\\mine01\\\\Lib\\\\site-packages\\\\traitlets\\\\config\\\\tests\\\\test_application.py_____hash_____1e57489a57e1535432d97e55a4b698fc',\n",
       " 'C:\\\\Users\\\\mineo\\\\Anaconda3\\\\envs\\\\mine01\\\\Lib\\\\site-packages\\\\pandas\\\\io\\\\sas\\\\__pycache__\\\\sasreader.cpython-36.pyc_____hash_____d645d0d4ddac2a4e29a6a65a5dccbc55',\n",
       " 'C:\\\\Users\\\\mineo\\\\Anaconda3\\\\envs\\\\mine01\\\\Lib\\\\site-packages\\\\bokeh\\\\client\\\\__pycache__\\\\states.cpython-36.pyc_____hash_____4ebd7c0881f0b3a6d4b29247b9a9d238',\n",
       " 'C:\\\\Users\\\\mineo\\\\Anaconda3\\\\envs\\\\mine01\\\\Lib\\\\site-packages\\\\astroid-1.5.3.dist-info\\\\DESCRIPTION.rst_____hash_____e555e571a29a2dec4cb52d57c6b7f380',\n",
       " 'C:\\\\Users\\\\mineo\\\\Anaconda3\\\\envs\\\\mine01\\\\Lib\\\\__pycache__\\\\functools.cpython-36.pyc_____hash_____8c520b9768dff3f7e44852eebdc82d64',\n",
       " 'C:\\\\Users\\\\mineo\\\\Anaconda3\\\\envs\\\\mine01\\\\Lib\\\\site-packages\\\\jupyter_contrib_nbextensions\\\\nbextensions\\\\varInspector\\\\var_list.r_____hash_____29c0d92c321a512640408cf75ce980f6',\n",
       " 'C:\\\\Users\\\\mineo\\\\Anaconda3\\\\envs\\\\mine01\\\\Lib\\\\turtledemo\\\\__main__.py_____hash_____5c5a3d853327aa79b2349ec1af0ffea4',\n",
       " 'C:\\\\Users\\\\mineo\\\\Anaconda3\\\\envs\\\\mine01\\\\Lib\\\\site-packages\\\\pandas\\\\tests\\\\series\\\\__pycache__\\\\test_subclass.cpython-36.pyc_____hash_____42ffefc20e450fb03a448358c63a65b9',\n",
       " 'C:\\\\Users\\\\mineo\\\\Anaconda3\\\\envs\\\\mine01\\\\Library\\\\include\\\\qt\\\\QtQmlDevTools\\\\5.6.2\\\\QtQmlDevTools\\\\private\\\\qpodvector_p.h_____hash_____1874f4be2995dbf778a3bf15d1c5d8e2',\n",
       " 'C:\\\\Users\\\\mineo\\\\Anaconda3\\\\envs\\\\mine01\\\\sip\\\\PyQt5\\\\QtCore\\\\qfileinfo.sip_____hash_____78f5e410168c4a4d617a621a8bd2123d',\n",
       " 'C:\\\\Users\\\\mineo\\\\Anaconda3\\\\envs\\\\mine01\\\\Lib\\\\unittest\\\\test\\\\testmock\\\\__main__.py_____hash_____d98a7fe7000f4a8ba5a5e97fa1c70a11',\n",
       " 'C:\\\\Users\\\\mineo\\\\Anaconda3\\\\envs\\\\mine01\\\\Lib\\\\site-packages\\\\pylint\\\\test\\\\extensions\\\\__pycache__\\\\test_check_raise_docs.cpython-36.pyc_____hash_____8fe1a15242f2e4ed67208052e23d401a',\n",
       " 'C:\\\\Users\\\\mineo\\\\Anaconda3\\\\envs\\\\mine01\\\\Library\\\\include\\\\qt\\\\QtCore\\\\QSemaphore_____hash_____203d37b994068d20c27e28cd62c28242',\n",
       " 'C:\\\\Users\\\\mineo\\\\Anaconda3\\\\envs\\\\mine01\\\\Lib\\\\site-packages\\\\pylint\\\\test\\\\input\\\\func_bug113231.py_____hash_____fa6ff30e8b6a4b623837263ea21af2ff',\n",
       " 'C:\\\\Users\\\\mineo\\\\Anaconda3\\\\envs\\\\mine01\\\\Library\\\\include\\\\qt\\\\Qt3DRender\\\\qtechniquefilter.h_____hash_____94e750b1933879a87c06fc6be721bcf2',\n",
       " 'C:\\\\Users\\\\mineo\\\\Anaconda3\\\\envs\\\\mine01\\\\Lib\\\\site-packages\\\\networkx\\\\readwrite\\\\tests\\\\test_gml.py_____hash_____0d105317a8ae118adad55c46a285f1b7',\n",
       " 'C:\\\\Users\\\\mineo\\\\Anaconda3\\\\envs\\\\mine01\\\\Lib\\\\site-packages\\\\pandas\\\\core\\\\computation\\\\ops.py_____hash_____e120b8438de88120162bb349ede67f52',\n",
       " 'C:\\\\Users\\\\mineo\\\\Anaconda3\\\\envs\\\\mine01\\\\Lib\\\\site-packages\\\\notebook\\\\static\\\\components\\\\MathJax\\\\localization\\\\lb\\\\TeX.js_____hash_____82a87d7253708e4c78c92b5e554eea5d',\n",
       " 'C:\\\\Users\\\\mineo\\\\Anaconda3\\\\envs\\\\mine01\\\\Lib\\\\site-packages\\\\zmq\\\\utils\\\\jsonapi.py_____hash_____44ec0c19623ab3496fada27c789433b4',\n",
       " 'C:\\\\Users\\\\mineo\\\\Anaconda3\\\\envs\\\\mine01\\\\Lib\\\\site-packages\\\\asn1crypto\\\\__pycache__\\\\algos.cpython-36.pyc_____hash_____34ed440b42f236a52d5bb40ea1d0013d',\n",
       " 'C:\\\\Users\\\\mineo\\\\Anaconda3\\\\envs\\\\mine01\\\\Library\\\\include\\\\qt\\\\QtWidgets\\\\5.6.2\\\\QtWidgets\\\\private\\\\qtoolbarextension_p.h_____hash_____09e366f4bd2ab9d8985fe61849549d90',\n",
       " 'C:\\\\Users\\\\mineo\\\\Anaconda3\\\\envs\\\\mine01\\\\Lib\\\\site-packages\\\\pytz\\\\zoneinfo\\\\EET_____hash_____16b84f2a83840fd4132c2e3fbff3b758',\n",
       " 'C:\\\\Users\\\\mineo\\\\Anaconda3\\\\envs\\\\mine01\\\\Lib\\\\site-packages\\\\scipy\\\\stats\\\\tests\\\\test_morestats.py_____hash_____3e8c26c423b7ae3fcffafaaa508723b4',\n",
       " 'C:\\\\Users\\\\mineo\\\\Anaconda3\\\\envs\\\\mine01\\\\Lib\\\\site-packages\\\\jupyter_contrib_nbextensions\\\\nbextensions\\\\snippets_menu\\\\snippets_submenus_python\\\\h5py.js_____hash_____e1f3bd9ee362247f20d0bc2dec21dc2d',\n",
       " 'C:\\\\Users\\\\mineo\\\\Anaconda3\\\\envs\\\\mine01\\\\Lib\\\\site-packages\\\\nbconvert\\\\preprocessors\\\\tests\\\\files\\\\Unicode.ipynb_____hash_____e5ab8aca8caee8d7113beaafd861f74b',\n",
       " 'C:\\\\Users\\\\mineo\\\\Anaconda3\\\\envs\\\\mine01\\\\Lib\\\\site-packages\\\\tornado\\\\test\\\\static\\\\robots.txt_____hash_____f71d20196d4caf35b6a670db8c70b03d',\n",
       " 'C:\\\\Users\\\\mineo\\\\Anaconda3\\\\envs\\\\mine01\\\\Lib\\\\site-packages\\\\click\\\\decorators.py_____hash_____2ff2edd346a9f5ca5ffe4943965cc855',\n",
       " 'C:\\\\Users\\\\mineo\\\\Anaconda3\\\\envs\\\\mine01\\\\Library\\\\translations\\\\qt_he.qm_____hash_____6094180a1fe30f76b33c60f8765854ea',\n",
       " 'C:\\\\Users\\\\mineo\\\\Anaconda3\\\\envs\\\\mine01\\\\Lib\\\\site-packages\\\\numpy\\\\matrixlib\\\\tests\\\\test_numeric.py_____hash_____d853c0c4996290c82c3d9c680169678a',\n",
       " 'C:\\\\Users\\\\mineo\\\\Anaconda3\\\\envs\\\\mine01\\\\Library\\\\include\\\\qt\\\\QtScript\\\\5.6.2\\\\QtScript\\\\private\\\\qscriptcontext_p.h_____hash_____e4f2d6d41c593a7301e75b28f02b0d37',\n",
       " 'C:\\\\Users\\\\mineo\\\\Anaconda3\\\\envs\\\\mine01\\\\Lib\\\\site-packages\\\\numpy\\\\core\\\\info.py_____hash_____89f0449d8eee4d0957d2474b6b27d7e6',\n",
       " 'C:\\\\Users\\\\mineo\\\\Anaconda3\\\\envs\\\\mine01\\\\include\\\\tracebac"
      ]
     },
     "execution_count": 13,
     "metadata": {},
     "output_type": "execute_result"
    },
    {
     "data": {
      "text/html": [
       "<b>limit_output extension: Maximum message size of 10000 exceeded with 155088 characters</b>"
      ]
     },
     "metadata": {},
     "output_type": "display_data"
    }
   ],
   "source": [
    "hikaku_1"
   ]
  },
  {
   "cell_type": "code",
   "execution_count": 14,
   "metadata": {
    "ExecuteTime": {
     "end_time": "2017-11-05T05:03:03.772823Z",
     "start_time": "2017-11-05T05:03:03.766819Z"
    }
   },
   "outputs": [
    {
     "data": {
      "text/plain": [
       "30269"
      ]
     },
     "execution_count": 14,
     "metadata": {},
     "output_type": "execute_result"
    }
   ],
   "source": [
    "len(hikaku_1)"
   ]
  },
  {
   "cell_type": "code",
   "execution_count": null,
   "metadata": {},
   "outputs": [],
   "source": []
  }
 ],
 "metadata": {
  "hide_input": false,
  "kernelspec": {
   "display_name": "Python 3",
   "language": "python",
   "name": "python3"
  },
  "language_info": {
   "codemirror_mode": {
    "name": "ipython",
    "version": 3
   },
   "file_extension": ".py",
   "mimetype": "text/x-python",
   "name": "python",
   "nbconvert_exporter": "python",
   "pygments_lexer": "ipython3",
   "version": "3.6.4"
  },
  "nbTranslate": {
   "displayLangs": [
    "*"
   ],
   "hotkey": "alt-t",
   "langInMainMenu": true,
   "sourceLang": "en",
   "targetLang": "fr",
   "useGoogleTranslate": true
  },
  "toc": {
   "base_numbering": 1,
   "nav_menu": {
    "height": "30px",
    "width": "252px"
   },
   "number_sections": true,
   "sideBar": true,
   "skip_h1_title": false,
   "title_cell": "Table of Contents",
   "title_sidebar": "Contents",
   "toc_cell": false,
   "toc_position": {
    "height": "675px",
    "left": "0px",
    "right": "998px",
    "top": "134px",
    "width": "212px"
   },
   "toc_section_display": "block",
   "toc_window_display": true
  },
  "varInspector": {
   "cols": {
    "lenName": 16,
    "lenType": 16,
    "lenVar": "100"
   },
   "kernels_config": {
    "python": {
     "delete_cmd_postfix": "",
     "delete_cmd_prefix": "del ",
     "library": "var_list.py",
     "varRefreshCmd": "print(var_dic_list())"
    },
    "r": {
     "delete_cmd_postfix": ") ",
     "delete_cmd_prefix": "rm(",
     "library": "var_list.r",
     "varRefreshCmd": "cat(var_dic_list()) "
    }
   },
   "types_to_exclude": [
    "module",
    "function",
    "builtin_function_or_method",
    "instance",
    "_Feature"
   ],
   "window_display": false
  }
 },
 "nbformat": 4,
 "nbformat_minor": 2
}
