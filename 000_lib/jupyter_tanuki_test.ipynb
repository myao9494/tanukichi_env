{
 "cells": [
  {
   "cell_type": "code",
   "execution_count": null,
   "metadata": {
    "ExecuteTime": {
     "end_time": "2017-06-25T04:22:56.553330Z",
     "start_time": "2017-06-25T04:22:56.070997Z"
    },
    "run_control": {
     "frozen": false,
     "read_only": false
    }
   },
   "outputs": [],
   "source": [
    "! explorer ."
   ]
  },
  {
   "cell_type": "markdown",
   "metadata": {
    "run_control": {
     "frozen": false,
     "read_only": false
    }
   },
   "source": [
    "# isuue"
   ]
  },
  {
   "cell_type": "code",
   "execution_count": 3,
   "metadata": {
    "ExecuteTime": {
     "end_time": "2017-06-25T04:26:47.336318Z",
     "start_time": "2017-06-25T04:26:47.012282Z"
    },
    "run_control": {
     "frozen": false,
     "read_only": false
    }
   },
   "outputs": [],
   "source": [
    "\n",
    "# -*- coding: utf-8; py-indent-offset:4 -*-\n",
    "###############################################################################\n",
    "#\n",
    "# Copyright (C) Mineo Sudo\n",
    "# PYTHONPATHに\"%jupyterhome%\\000_lib\"を設定する\n",
    "# \n",
    "###############################################################################\n",
    "import os, shutil\n",
    "\n",
    "class jupyter_tanuki():\n",
    "    '''\n",
    "    jupyterの繰り返し作業を纏めました。便利になるはず！\n",
    "    '''\n",
    "    def __init__(self):\n",
    "        self.file_name = \"\"\n",
    "        self.t_path = \"\"\n",
    "        self.c_path = \"\"\n",
    "        self.markup_code = \"\"\n",
    "        self.file_path = os.getcwd() #実行しているファイルのpathを取得する\n",
    "        self.files = [f for f in os.listdir(self.file_path) if os.path.isfile(os.path.join(self.file_path, f))] #ファイル一覧を取得\n",
    "        self.folders = [f for f in os.listdir(self.file_path) if os.path.isdir(os.path.join(self.file_path, f))] #フォルダ一覧を取得\n",
    "                \n",
    "    def add_file_no_folder(self, file_name): #フォルダを作らずにテンプレートファイrからファイルを作る\n",
    "        try:\n",
    "            self.file_name=file_name\n",
    "            self.t_path=os.path.join(os.environ[\"jupyter_home\"],'991_template/template.ipynb')\n",
    "            self.c_path= file_name + \".ipynb\"\n",
    "            self.markup_code=\"# [\" + file_name + \"](\" + self.c_path + \")\"\n",
    "            shutil.copyfile(self.t_path, self.c_path)\n",
    "            print(\"下記をコピペ、markdownのセルへ\")\n",
    "            print(self.markup_code)\n",
    "        except:\n",
    "            print(\"Error! 既にファイルがないことを確認して下さい\")\n",
    "\n",
    "    def add_file(self, file_name): #引数のフォルダを作成し、引数のファイル名でフォルダ内にファイルを作成\n",
    "        try:\n",
    "            self.file_name=file_name\n",
    "            self.t_path=os.path.join(os.environ[\"jupyter_home\"],'991_template/template.ipynb')\n",
    "            self.c_path=file_name + \"/\" + file_name + \".ipynb\"\n",
    "            self.markup_code=\"# [\" + file_name + \"](\" + self.c_path + \")\"\n",
    "\n",
    "            print(\"直下のフォルダを作成して、テンプレートファイルを作成\")\n",
    "            os.mkdir(self.file_name)\n",
    "            shutil.copyfile(self.t_path, self.c_path)\n",
    "            print(\"下記をコピペ、markdownのセルへ\")\n",
    "            print(self.markup_code)\n",
    "        except:\n",
    "            print(\"Error! 既にフォルダがないこと,フォルダ名を入れているかを確認して下さい\")\n",
    "            \n",
    "    def child_notebook_filelist(self): #フォルダ内のipynbファイルをリストで表示\n",
    "        print(\"下記をコピペ、markdownのセルへ\")\n",
    "        for file in self.files:\n",
    "            if (file.find('.ipynb') != -1 and file.find('.ipynb')!= 0 ):\n",
    "                print (\"# [\" + file[:file.find('.ipynb')] + \"](\" + file + \")\")\n",
    "                \n",
    "    def child_folder(self): #フォルダ内のふぉるだを表示\n",
    "        print(\"下記をコピペ、markdownのセルへ\")\n",
    "        for file in self.folders:\n",
    "            if (file.find('ipynb_checkpoints') == -1 and file.find(\"__pycache__\" )==-1 ) :\n",
    "                print (\"# [\" + file + \"](\" + file + \")\")\n",
    "                \n",
    "    def tree(self): #フォルダ以下のtreeを表示\n",
    "        print(\"下記をコピペ、markdownのセルへ\")\n",
    "        i=0\n",
    "        for root, dirs, files in os.walk(self.file_path):\n",
    "            level = root.replace(self.file_path, '').count(os.sep)\n",
    "            if i==0:\n",
    "                level=1\n",
    "            print('')\n",
    "            if (os.path.basename(root).find('ipynb_checkpoints') == -1 and os.path.basename(root).find(\"__pycache__\" )==-1 ) :\n",
    "                print( '#' * 1 * (level) + '[' +os.path.basename(root) + ']' + '(' + os.path.basename(root) + ')')\n",
    "            for f in files:\n",
    "                if (f.find('.ipynb') != -1 and f.find('.ipynb')!= 0 ):\n",
    "                    a=os.path.basename(root)+ '/'\n",
    "                    if i==0:\n",
    "                        a=\"\"\n",
    "                    print('>' + '#' * 1 * (level + 1) +' [' + f + ']' + '(' + a  + f +')')\n",
    "            i=i+1\n",
    "                \n",
    "if __name__ == '__main__':\n",
    "    obj=jupyter_tanuki()"
   ]
  },
  {
   "cell_type": "code",
   "execution_count": null,
   "metadata": {
    "ExecuteTime": {
     "end_time": "2017-06-25T04:23:41.471440Z",
     "start_time": "2017-06-25T04:23:41.463442Z"
    },
    "run_control": {
     "frozen": false,
     "read_only": false
    }
   },
   "outputs": [],
   "source": [
    "obj.file_path"
   ]
  },
  {
   "cell_type": "code",
   "execution_count": 1,
   "metadata": {
    "ExecuteTime": {
     "end_time": "2017-06-25T04:24:05.163143Z",
     "start_time": "2017-06-25T04:24:05.144131Z"
    },
    "run_control": {
     "frozen": false,
     "read_only": false
    }
   },
   "outputs": [],
   "source": [
    "import jupyter_tanuki\n",
    "obj=jupyter_tanuki.jupyter_tanuki()"
   ]
  },
  {
   "cell_type": "code",
   "execution_count": 4,
   "metadata": {
    "ExecuteTime": {
     "end_time": "2017-06-25T04:26:50.230748Z",
     "start_time": "2017-06-25T04:26:50.217751Z"
    },
    "run_control": {
     "frozen": false,
     "read_only": false
    },
    "scrolled": false
   },
   "outputs": [
    {
     "name": "stdout",
     "output_type": "stream",
     "text": [
      "下記をコピペ、markdownのセルへ\n",
      "\n",
      "#[000_lib](000_lib)\n",
      ">## [jupyter_tanuki_test.ipynb](jupyter_tanuki_test.ipynb)\n",
      ">## [reminder.ipynb](reminder.ipynb)\n",
      "\n",
      ">## [jupyter_tanuki_test-checkpoint.ipynb](.ipynb_checkpoints/jupyter_tanuki_test-checkpoint.ipynb)\n",
      ">## [remind-checkpoint.ipynb](.ipynb_checkpoints/remind-checkpoint.ipynb)\n",
      ">## [reminder-checkpoint.ipynb](.ipynb_checkpoints/reminder-checkpoint.ipynb)\n",
      "\n"
     ]
    }
   ],
   "source": [
    "obj.tree()"
   ]
  },
  {
   "cell_type": "code",
   "execution_count": null,
   "metadata": {
    "ExecuteTime": {
     "end_time": "2017-06-25T04:14:03.082084Z",
     "start_time": "2017-06-25T04:14:03.068571Z"
    },
    "run_control": {
     "frozen": false,
     "read_only": false
    }
   },
   "outputs": [],
   "source": [
    "obj.file_path()"
   ]
  },
  {
   "cell_type": "code",
   "execution_count": null,
   "metadata": {
    "ExecuteTime": {
     "end_time": "2017-06-11T12:38:45.157702Z",
     "start_time": "2017-06-11T12:38:45.139699Z"
    },
    "run_control": {
     "frozen": false,
     "read_only": false
    }
   },
   "outputs": [],
   "source": [
    "obj.add_file_no_folder(\"test\")"
   ]
  },
  {
   "cell_type": "code",
   "execution_count": null,
   "metadata": {
    "ExecuteTime": {
     "end_time": "2017-06-10T10:22:51.490865Z",
     "start_time": "2017-06-10T10:22:51.480866Z"
    },
    "run_control": {
     "frozen": false,
     "read_only": false
    }
   },
   "outputs": [],
   "source": [
    "obj.add_file(\"adsafhwdgsadhs\")"
   ]
  },
  {
   "cell_type": "code",
   "execution_count": null,
   "metadata": {
    "ExecuteTime": {
     "end_time": "2017-06-07T20:34:38.664060Z",
     "start_time": "2017-06-07T20:34:38.656056Z"
    },
    "run_control": {
     "frozen": false,
     "read_only": false
    },
    "scrolled": true
   },
   "outputs": [],
   "source": [
    "obj.child_notebook_filelist()"
   ]
  },
  {
   "cell_type": "code",
   "execution_count": null,
   "metadata": {
    "ExecuteTime": {
     "end_time": "2017-06-07T20:34:39.032812Z",
     "start_time": "2017-06-07T20:34:39.024299Z"
    },
    "run_control": {
     "frozen": false,
     "read_only": false
    }
   },
   "outputs": [],
   "source": [
    "obj.child_folder()"
   ]
  },
  {
   "cell_type": "code",
   "execution_count": null,
   "metadata": {
    "ExecuteTime": {
     "end_time": "2017-06-07T20:37:39.186003Z",
     "start_time": "2017-06-07T20:37:39.167006Z"
    },
    "run_control": {
     "frozen": false,
     "read_only": false
    },
    "scrolled": true
   },
   "outputs": [],
   "source": [
    "obj.add_file(\"adsafhadhss\")\n",
    "obj.child_notebook_filelist()\n",
    "obj.child_folder()"
   ]
  }
 ],
 "metadata": {
  "hide_input": false,
  "kernelspec": {
   "display_name": "Python 3",
   "language": "python",
   "name": "python3"
  },
  "language_info": {
   "codemirror_mode": {
    "name": "ipython",
    "version": 3
   },
   "file_extension": ".py",
   "mimetype": "text/x-python",
   "name": "python",
   "nbconvert_exporter": "python",
   "pygments_lexer": "ipython3",
   "version": "3.5.3"
  },
  "nbTranslate": {
   "displayLangs": [
    "*"
   ],
   "hotkey": "alt-t",
   "langInMainMenu": true,
   "sourceLang": "en",
   "targetLang": "fr",
   "useGoogleTranslate": true
  },
  "toc": {
   "colors": {
    "hover_highlight": "#DAA520",
    "running_highlight": "#FF0000",
    "selected_highlight": "#FFD700"
   },
   "moveMenuLeft": true,
   "nav_menu": {
    "height": "30px",
    "width": "252px"
   },
   "navigate_menu": true,
   "number_sections": true,
   "sideBar": true,
   "threshold": 4,
   "toc_cell": false,
   "toc_position": {
    "height": "682px",
    "left": "0px",
    "right": "998px",
    "top": "107px",
    "width": "212px"
   },
   "toc_section_display": "block",
   "toc_window_display": true,
   "widenNotebook": false
  }
 },
 "nbformat": 4,
 "nbformat_minor": 2
}
