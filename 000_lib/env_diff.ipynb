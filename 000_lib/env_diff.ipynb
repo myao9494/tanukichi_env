{
 "cells": [
  {
   "cell_type": "code",
   "execution_count": 6,
   "metadata": {
    "ExecuteTime": {
     "end_time": "2018-11-06T20:53:27.693784Z",
     "start_time": "2018-11-06T20:44:51.701396Z"
    }
   },
   "outputs": [],
   "source": [
    "import pandas as pd\n",
    "import os,hashlib\n",
    "class env_copy_right():\n",
    "    '''\n",
    "    pythonのパッケージを入れた際のファイルの変化を見える化します\n",
    "    '''\n",
    "    def __init__(self):\n",
    "        self.working_dir = \"\"\n",
    "        self.file_list = []\n",
    "        self.file_list_batsu = []\n",
    "\n",
    "    def get_list(self):\n",
    "        for root, dirs, files in os.walk(working_dir):\n",
    "#             self.folder_list.append(root)\n",
    "            for filename in files:\n",
    "                fname=os.path.join(root, filename)\n",
    "                try:\n",
    "                    with open(fname, 'rb') as f:\n",
    "                        checksum = hashlib.md5(f.read()).hexdigest()\n",
    "                    self.file_list.append([fname,checksum,os.path.getsize(fname)/1000000,root])\n",
    "                except:\n",
    "                    self.file_list_batsu.append([fname,\"batu\"])\n",
    "                    \n",
    "if __name__ == '__main__':\n",
    "    working_dir = os.path.join(os.environ['USERPROFILE'],\"Anaconda2\")\n",
    "    obj=env_copy_right()\n",
    "    obj.working_dir = working_dir\n",
    "    obj.get_list()"
   ]
  },
  {
   "cell_type": "code",
   "execution_count": 7,
   "metadata": {
    "ExecuteTime": {
     "end_time": "2018-11-06T20:56:02.609144Z",
     "start_time": "2018-11-06T20:56:02.604143Z"
    }
   },
   "outputs": [
    {
     "data": {
      "text/plain": [
       "[]"
      ]
     },
     "execution_count": 7,
     "metadata": {},
     "output_type": "execute_result"
    }
   ],
   "source": [
    "obj.file_list_batsu"
   ]
  },
  {
   "cell_type": "code",
   "execution_count": 9,
   "metadata": {
    "ExecuteTime": {
     "end_time": "2018-11-06T20:56:35.771694Z",
     "start_time": "2018-11-06T20:56:35.659884Z"
    }
   },
   "outputs": [],
   "source": [
    "df = pd.DataFrame(obj.file_list)\n",
    "# df1 = pd.DataFrame(obj.folder_list)\n",
    "df.columns=[\"path\",\"hash\",\"MB\",\"folder\"]\n",
    "# df.sort_values(by=['MB'])"
   ]
  },
  {
   "cell_type": "code",
   "execution_count": 10,
   "metadata": {
    "ExecuteTime": {
     "end_time": "2018-11-06T20:56:40.895203Z",
     "start_time": "2018-11-06T20:56:38.176644Z"
    }
   },
   "outputs": [],
   "source": [
    "df.to_csv(\"file_env.csv\")\n",
    "# df1.to_csv(\"folder_env.csv\")"
   ]
  },
  {
   "cell_type": "code",
   "execution_count": null,
   "metadata": {},
   "outputs": [],
   "source": [
    "df_file_after=pd.read_csv(\"file_env.csv\", index_col=0)\n",
    "# df_folder_after=pd.read_csv(\"folder_env.csv\", index_col=0)\n",
    "df_file_before=pd.read_csv(\"initial_file_env.csv\", index_col=0)\n",
    "# df_folder_before=pd.read_csv(\"initial_folder_env.csv\", index_col=0)"
   ]
  },
  {
   "cell_type": "code",
   "execution_count": null,
   "metadata": {},
   "outputs": [],
   "source": [
    "a = df_file_after\n",
    "b = df_file_before\n",
    "b.columns=[\"path\",\"hash\"]\n",
    "c=a[~a[\"path\"].isin(b[\"path\"])]\n",
    "pd.set_option(\"display.max_colwidth\", 150)\n",
    "c.to_csv(\"file_env_diff.csv\")"
   ]
  },
  {
   "cell_type": "code",
   "execution_count": null,
   "metadata": {},
   "outputs": [],
   "source": [
    "import os\n",
    "import shutil"
   ]
  },
  {
   "cell_type": "code",
   "execution_count": null,
   "metadata": {},
   "outputs": [],
   "source": [
    "li=c[\"path\"].values.tolist()\n",
    "def copy_file(f_path_moto):\n",
    "    f_path_copy = f_path_moto.replace(\"anaconda2\",\"diff_env\")\n",
    "    if not os.path.exists(os.path.dirname(f_path_copy)):\n",
    "        os.makedirs(os.path.dirname(f_path_copy))\n",
    "    shutil.copyfile(f_path_moto,f_path_copy)"
   ]
  },
  {
   "cell_type": "code",
   "execution_count": null,
   "metadata": {},
   "outputs": [],
   "source": [
    "for p in li:\n",
    "    copy_file(p)\n",
    "    print p,\"OK\""
   ]
  }
 ],
 "metadata": {
  "kernelspec": {
   "display_name": "Python 3",
   "language": "python",
   "name": "python3"
  },
  "language_info": {
   "codemirror_mode": {
    "name": "ipython",
    "version": 3
   },
   "file_extension": ".py",
   "mimetype": "text/x-python",
   "name": "python",
   "nbconvert_exporter": "python",
   "pygments_lexer": "ipython3",
   "version": "3.6.6"
  },
  "toc": {
   "base_numbering": 1,
   "nav_menu": {},
   "number_sections": true,
   "sideBar": true,
   "skip_h1_title": false,
   "title_cell": "Table of Contents",
   "title_sidebar": "Contents",
   "toc_cell": false,
   "toc_position": {},
   "toc_section_display": true,
   "toc_window_display": false
  },
  "varInspector": {
   "cols": {
    "lenName": 16,
    "lenType": 16,
    "lenVar": 40
   },
   "kernels_config": {
    "python": {
     "delete_cmd_postfix": "",
     "delete_cmd_prefix": "del ",
     "library": "var_list.py",
     "varRefreshCmd": "print(var_dic_list())"
    },
    "r": {
     "delete_cmd_postfix": ") ",
     "delete_cmd_prefix": "rm(",
     "library": "var_list.r",
     "varRefreshCmd": "cat(var_dic_list()) "
    }
   },
   "types_to_exclude": [
    "module",
    "function",
    "builtin_function_or_method",
    "instance",
    "_Feature"
   ],
   "window_display": false
  }
 },
 "nbformat": 4,
 "nbformat_minor": 2
}
