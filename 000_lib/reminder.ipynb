{
 "cells": [
  {
   "cell_type": "code",
   "execution_count": 1,
   "metadata": {
    "ExecuteTime": {
     "end_time": "2017-08-31T21:18:51.521293Z",
     "start_time": "2017-08-31T21:18:51.362768Z"
    },
    "run_control": {
     "frozen": false,
     "read_only": false
    }
   },
   "outputs": [],
   "source": [
    "! explorer ."
   ]
  },
  {
   "cell_type": "markdown",
   "metadata": {
    "run_control": {
     "frozen": false,
     "read_only": false
    }
   },
   "source": [
    "[テンプレートファイルへのリンク](http://localhost:8080/notebooks/991_template/template.ipynb)"
   ]
  },
  {
   "cell_type": "code",
   "execution_count": null,
   "metadata": {
    "ExecuteTime": {
     "end_time": "2017-08-30T08:23:49.906065Z",
     "start_time": "2017-08-30T08:23:49.894065Z"
    },
    "run_control": {
     "frozen": false,
     "read_only": false
    }
   },
   "outputs": [],
   "source": [
    "import jupyter_tanuki\n",
    "obj=jupyter_tanuki.jupyter_tanuki()\n",
    "# obj.add_file(\"aaa\") #フォルダを追加してテンプレートファイルをファイルを追加\n",
    "# obj.child_notebook_filelist() #フォルダ内のノートブックファイルを表示\n",
    "# obj.child_folder() #フォルダのリストを表示"
   ]
  },
  {
   "cell_type": "markdown",
   "metadata": {
    "run_control": {
     "frozen": false,
     "read_only": false
    }
   },
   "source": [
    "# [reminder](reminder.ipynb)\n",
    "- 参考サイト　https://github.com/michaelgundlach/pyspeech"
   ]
  },
  {
   "cell_type": "markdown",
   "metadata": {
    "ExecuteTime": {
     "end_time": "2017-08-30T08:23:52.849062Z",
     "start_time": "2017-08-30T08:23:49.987Z"
    },
    "collapsed": true,
    "run_control": {
     "frozen": false,
     "read_only": false
    }
   },
   "source": [
    "## いろいろ\n",
    "- reminder.py\n",
    "- issue countdown、中止の仕方"
   ]
  },
  {
   "cell_type": "markdown",
   "metadata": {
    "run_control": {
     "frozen": false,
     "read_only": false
    }
   },
   "source": [
    "## pyファイルのテスト"
   ]
  },
  {
   "cell_type": "code",
   "execution_count": 34,
   "metadata": {
    "ExecuteTime": {
     "end_time": "2017-08-31T22:06:04.518738Z",
     "start_time": "2017-08-31T22:06:04.486725Z"
    },
    "run_control": {
     "frozen": false,
     "read_only": false
    }
   },
   "outputs": [],
   "source": [
    "from reminder import *\n",
    "import pandas as pd\n",
    "import datetime\n",
    "dn=datetime.datetime.now()\n",
    "string_list =[str(dn.hour),str(int(dn.minute)+2),\"test\",\"test\",\"0\"]\n",
    "string_list\n",
    "df = pd.DataFrame(string_list)\n",
    "df.to_excel('reminder.xlsx',sheet_name='sample')"
   ]
  },
  {
   "cell_type": "code",
   "execution_count": 35,
   "metadata": {
    "ExecuteTime": {
     "end_time": "2017-08-31T22:06:04.690064Z",
     "start_time": "2017-08-31T22:06:04.678063Z"
    }
   },
   "outputs": [
    {
     "data": {
      "text/plain": [
       "['7', '8', 'test', 'test', '0']"
      ]
     },
     "execution_count": 35,
     "metadata": {},
     "output_type": "execute_result"
    }
   ],
   "source": [
    "#受け側のこ\n",
    "df = pd.read_excel('reminder.xlsx')\n",
    "df=df.T\n",
    "li=df.values.tolist()[0]\n",
    "li"
   ]
  },
  {
   "cell_type": "code",
   "execution_count": 36,
   "metadata": {
    "ExecuteTime": {
     "end_time": "2017-08-31T22:08:00.067492Z",
     "start_time": "2017-08-31T22:06:05.133558Z"
    }
   },
   "outputs": [
    {
     "ename": "TclError",
     "evalue": "can't invoke \"label\" command: application has been destroyed",
     "output_type": "error",
     "traceback": [
      "\u001b[1;31m---------------------------------------------------------------------------\u001b[0m",
      "\u001b[1;31mTclError\u001b[0m                                  Traceback (most recent call last)",
      "\u001b[1;32m<ipython-input-36-a3b91fc154f5>\u001b[0m in \u001b[0;36m<module>\u001b[1;34m()\u001b[0m\n\u001b[0;32m      9\u001b[0m \u001b[0mobj\u001b[0m\u001b[1;33m.\u001b[0m\u001b[0mbasho\u001b[0m\u001b[1;33m=\u001b[0m\u001b[0mstr\u001b[0m\u001b[1;33m(\u001b[0m\u001b[0mli\u001b[0m\u001b[1;33m[\u001b[0m\u001b[1;36m3\u001b[0m\u001b[1;33m]\u001b[0m\u001b[1;33m)\u001b[0m\u001b[1;33m\u001b[0m\u001b[0m\n\u001b[0;32m     10\u001b[0m \u001b[0mobj\u001b[0m\u001b[1;33m.\u001b[0m\u001b[0myoyu_min\u001b[0m\u001b[1;33m=\u001b[0m\u001b[0mint\u001b[0m\u001b[1;33m(\u001b[0m\u001b[0mli\u001b[0m\u001b[1;33m[\u001b[0m\u001b[1;36m4\u001b[0m\u001b[1;33m]\u001b[0m\u001b[1;33m)\u001b[0m\u001b[1;33m\u001b[0m\u001b[0m\n\u001b[1;32m---> 11\u001b[1;33m \u001b[0mobj\u001b[0m\u001b[1;33m.\u001b[0m\u001b[0mmain\u001b[0m\u001b[1;33m(\u001b[0m\u001b[1;33m)\u001b[0m\u001b[1;33m\u001b[0m\u001b[0m\n\u001b[0m",
      "\u001b[1;32mC:\\Users\\mineo\\OneDrive\\anaconda\\root\\common\\000_lib\\reminder.py\u001b[0m in \u001b[0;36mmain\u001b[1;34m(self)\u001b[0m\n\u001b[0;32m     51\u001b[0m         \u001b[0mtime\u001b[0m\u001b[1;33m.\u001b[0m\u001b[0msleep\u001b[0m\u001b[1;33m(\u001b[0m\u001b[0mself\u001b[0m\u001b[1;33m.\u001b[0m\u001b[0mwait_time\u001b[0m\u001b[1;33m)\u001b[0m\u001b[1;33m\u001b[0m\u001b[0m\n\u001b[0;32m     52\u001b[0m         \u001b[0mself\u001b[0m\u001b[1;33m.\u001b[0m\u001b[0msay_message\u001b[0m\u001b[1;33m(\u001b[0m\u001b[1;33m)\u001b[0m\u001b[1;33m\u001b[0m\u001b[0m\n\u001b[1;32m---> 53\u001b[1;33m         \u001b[0mself\u001b[0m\u001b[1;33m.\u001b[0m\u001b[0mmsg_box\u001b[0m\u001b[1;33m(\u001b[0m\u001b[1;33m)\u001b[0m\u001b[1;33m\u001b[0m\u001b[0m\n\u001b[0m\u001b[0;32m     54\u001b[0m \u001b[1;33m\u001b[0m\u001b[0m\n\u001b[0;32m     55\u001b[0m \u001b[1;31m#----------------以下は呼び出される関数--------------------------\u001b[0m\u001b[1;33m\u001b[0m\u001b[1;33m\u001b[0m\u001b[0m\n",
      "\u001b[1;32mC:\\Users\\mineo\\OneDrive\\anaconda\\root\\common\\000_lib\\reminder.py\u001b[0m in \u001b[0;36mmsg_box\u001b[1;34m(self)\u001b[0m\n\u001b[0;32m     61\u001b[0m         la = Label(root, text=str(self.target_time)+\"予定は\"+self.message+\"です。場所は\"+self.basho+\"です\",\n\u001b[0;32m     62\u001b[0m                    \u001b[0mfont\u001b[0m\u001b[1;33m=\u001b[0m\u001b[1;33m(\u001b[0m\u001b[1;34m\"\"\u001b[0m\u001b[1;33m,\u001b[0m\u001b[1;36m20\u001b[0m\u001b[1;33m)\u001b[0m\u001b[1;33m,\u001b[0m\u001b[1;33m\u001b[0m\u001b[0m\n\u001b[1;32m---> 63\u001b[1;33m                    bg=\"#00ffff\")\n\u001b[0m\u001b[0;32m     64\u001b[0m         \u001b[0mla\u001b[0m\u001b[1;33m.\u001b[0m\u001b[0mplace\u001b[0m\u001b[1;33m(\u001b[0m\u001b[0mx\u001b[0m \u001b[1;33m=\u001b[0m \u001b[1;36m100\u001b[0m\u001b[1;33m,\u001b[0m\u001b[0my\u001b[0m \u001b[1;33m=\u001b[0m \u001b[1;36m500\u001b[0m\u001b[1;33m)\u001b[0m\u001b[1;33m\u001b[0m\u001b[0m\n\u001b[0;32m     65\u001b[0m         \u001b[0mla\u001b[0m\u001b[1;33m.\u001b[0m\u001b[0mpack\u001b[0m\u001b[1;33m(\u001b[0m\u001b[1;33m)\u001b[0m\u001b[1;33m\u001b[0m\u001b[0m\n",
      "\u001b[1;32mC:\\Users\\mineo\\Anaconda3\\envs\\mine01\\lib\\tkinter\\__init__.py\u001b[0m in \u001b[0;36m__init__\u001b[1;34m(self, master, cnf, **kw)\u001b[0m\n\u001b[0;32m   2613\u001b[0m \u001b[1;33m\u001b[0m\u001b[0m\n\u001b[0;32m   2614\u001b[0m         \"\"\"\n\u001b[1;32m-> 2615\u001b[1;33m         \u001b[0mWidget\u001b[0m\u001b[1;33m.\u001b[0m\u001b[0m__init__\u001b[0m\u001b[1;33m(\u001b[0m\u001b[0mself\u001b[0m\u001b[1;33m,\u001b[0m \u001b[0mmaster\u001b[0m\u001b[1;33m,\u001b[0m \u001b[1;34m'label'\u001b[0m\u001b[1;33m,\u001b[0m \u001b[0mcnf\u001b[0m\u001b[1;33m,\u001b[0m \u001b[0mkw\u001b[0m\u001b[1;33m)\u001b[0m\u001b[1;33m\u001b[0m\u001b[0m\n\u001b[0m\u001b[0;32m   2616\u001b[0m \u001b[1;33m\u001b[0m\u001b[0m\n\u001b[0;32m   2617\u001b[0m \u001b[1;32mclass\u001b[0m \u001b[0mListbox\u001b[0m\u001b[1;33m(\u001b[0m\u001b[0mWidget\u001b[0m\u001b[1;33m,\u001b[0m \u001b[0mXView\u001b[0m\u001b[1;33m,\u001b[0m \u001b[0mYView\u001b[0m\u001b[1;33m)\u001b[0m\u001b[1;33m:\u001b[0m\u001b[1;33m\u001b[0m\u001b[0m\n",
      "\u001b[1;32mC:\\Users\\mineo\\Anaconda3\\envs\\mine01\\lib\\tkinter\\__init__.py\u001b[0m in \u001b[0;36m__init__\u001b[1;34m(self, master, widgetName, cnf, kw, extra)\u001b[0m\n\u001b[0;32m   2146\u001b[0m             \u001b[1;32mdel\u001b[0m \u001b[0mcnf\u001b[0m\u001b[1;33m[\u001b[0m\u001b[0mk\u001b[0m\u001b[1;33m]\u001b[0m\u001b[1;33m\u001b[0m\u001b[0m\n\u001b[0;32m   2147\u001b[0m         self.tk.call(\n\u001b[1;32m-> 2148\u001b[1;33m             (widgetName, self._w) + extra + self._options(cnf))\n\u001b[0m\u001b[0;32m   2149\u001b[0m         \u001b[1;32mfor\u001b[0m \u001b[0mk\u001b[0m\u001b[1;33m,\u001b[0m \u001b[0mv\u001b[0m \u001b[1;32min\u001b[0m \u001b[0mclasses\u001b[0m\u001b[1;33m:\u001b[0m\u001b[1;33m\u001b[0m\u001b[0m\n\u001b[0;32m   2150\u001b[0m             \u001b[0mk\u001b[0m\u001b[1;33m.\u001b[0m\u001b[0mconfigure\u001b[0m\u001b[1;33m(\u001b[0m\u001b[0mself\u001b[0m\u001b[1;33m,\u001b[0m \u001b[0mv\u001b[0m\u001b[1;33m)\u001b[0m\u001b[1;33m\u001b[0m\u001b[0m\n",
      "\u001b[1;31mTclError\u001b[0m: can't invoke \"label\" command: application has been destroyed"
     ]
    }
   ],
   "source": [
    "obj=remind()\n",
    "df = pd.read_excel('reminder.xlsx')\n",
    "df=df.T\n",
    "#     input_lines1 = sys.stdin.readlines()\n",
    "li=df.values.tolist()[0]\n",
    "obj.tg_time_ji=int(li[0])\n",
    "obj.tg_time_hun=int(li[1])\n",
    "obj.message=str(li[2])\n",
    "obj.basho=str(li[3])\n",
    "obj.yoyu_min=int(li[4])\n",
    "obj.main()"
   ]
  },
  {
   "cell_type": "markdown",
   "metadata": {
    "ExecuteTime": {
     "end_time": "2017-08-30T08:51:58.264835Z",
     "start_time": "2017-08-30T08:51:56.182872Z"
    },
    "run_control": {
     "frozen": false,
     "read_only": false
    }
   },
   "source": [
    "# 実装\n",
    "サブプロセスを立ち上げて、その時間が来るまで待たせる"
   ]
  },
  {
   "cell_type": "code",
   "execution_count": 2,
   "metadata": {
    "ExecuteTime": {
     "end_time": "2017-08-31T21:21:02.971408Z",
     "start_time": "2017-08-31T21:21:01.112691Z"
    },
    "run_control": {
     "frozen": false,
     "read_only": false
    }
   },
   "outputs": [],
   "source": [
    "import subprocess\n",
    "import pandas as pd\n",
    "string_list = ['21', '42', '寝る時間だよ', 'ベッドの王国', '0']\n",
    "df = pd.DataFrame(string_list)\n",
    "df.to_excel('reminder.xlsx',sheet_name='sample')\n",
    "\n",
    "args=[\"python\",\"reminder.py\"]\n",
    "p=subprocess.Popen(args)\n",
    "# p.wait()#処理待ちしない場合は、これを消す"
   ]
  },
  {
   "cell_type": "code",
   "execution_count": 3,
   "metadata": {
    "ExecuteTime": {
     "end_time": "2017-08-31T21:21:04.140474Z",
     "start_time": "2017-08-31T21:21:03.912449Z"
    },
    "run_control": {
     "frozen": false,
     "read_only": false
    }
   },
   "outputs": [
    {
     "data": {
      "text/plain": [
       "['21', '42', '寝る時間だよ', 'ベッドの王国', '0']"
      ]
     },
     "execution_count": 3,
     "metadata": {},
     "output_type": "execute_result"
    }
   ],
   "source": [
    "#受け側のこ\n",
    "df = pd.read_excel('reminder.xlsx')\n",
    "df=df.T\n",
    "li=df.values.tolist()[0]\n",
    "li"
   ]
  },
  {
   "cell_type": "markdown",
   "metadata": {},
   "source": [
    "# 要素開発"
   ]
  },
  {
   "cell_type": "markdown",
   "metadata": {
    "run_control": {
     "frozen": false,
     "read_only": false
    }
   },
   "source": [
    "## 読み上げる"
   ]
  },
  {
   "cell_type": "code",
   "execution_count": 17,
   "metadata": {
    "ExecuteTime": {
     "end_time": "2017-08-30T08:23:52.851560Z",
     "start_time": "2017-08-30T08:23:50.069Z"
    },
    "run_control": {
     "frozen": false,
     "read_only": false
    }
   },
   "outputs": [],
   "source": [
    "# Say anything you type, and write anything you say.\n",
    "# Stops when you say \"turn off\" or type \"turn off\".\n",
    "\n",
    "import winspeech\n",
    "import sys\n",
    "\n",
    "# Start an in-process recognizer. Don't want the shared one with built-in windows commands.\n",
    "winspeech.initialize_recognizer(winspeech.INPROC_RECOGNIZER)\n",
    "\n",
    "winspeech.say(\"かなえたい、そうぞうは、りょうてにかかえられないほどだ\")"
   ]
  },
  {
   "cell_type": "markdown",
   "metadata": {
    "run_control": {
     "frozen": false,
     "read_only": false
    }
   },
   "source": [
    "## タイマー"
   ]
  },
  {
   "cell_type": "code",
   "execution_count": null,
   "metadata": {
    "ExecuteTime": {
     "end_time": "2017-08-30T08:23:52.853060Z",
     "start_time": "2017-08-30T08:23:50.104Z"
    },
    "run_control": {
     "frozen": false,
     "read_only": false
    }
   },
   "outputs": [],
   "source": [
    "import datetime\n",
    "import time\n",
    "from winsound import Beep\n",
    "dn=datetime.datetime.now()\n",
    "dm1=datetime.datetime(dn.year,dn.month,dn.day,7,29,0)\n",
    "dm2=datetime.datetime(dn.year,dn.month,dn.day,8,5,0)\n",
    "dm3=datetime.datetime(dn.year,dn.month,dn.day,10,0,0)\n",
    "dm4=datetime.datetime(dn.year,dn.month,dn.day,14,0,0)\n",
    "\n",
    "def timer(dm2,msg):\n",
    "    while True:\n",
    "        if datetime.datetime.now()>dm2:\n",
    "            print(msg)\n",
    "            Beep(1000,500)\n",
    "            Beep(1000,500)\n",
    "            Beep(1000,500)\n",
    "            break\n",
    "        else:\n",
    "            time.sleep(5)"
   ]
  },
  {
   "cell_type": "markdown",
   "metadata": {
    "run_control": {
     "frozen": false,
     "read_only": false
    }
   },
   "source": [
    "## Message Box\n",
    "- pyautogui : http://pyautogui.readthedocs.io/en/latest/msgbox.html\n",
    "- Tkinter : https://www.tutorialspoint.com/python3/tk_messagebox.htm"
   ]
  },
  {
   "cell_type": "code",
   "execution_count": null,
   "metadata": {
    "ExecuteTime": {
     "end_time": "2017-08-30T08:23:52.857060Z",
     "start_time": "2017-08-30T08:23:50.138Z"
    },
    "run_control": {
     "frozen": false,
     "read_only": false
    }
   },
   "outputs": [],
   "source": [
    "import pyautogui\n",
    "pyautogui.alert(text='', title='', button='OK')"
   ]
  },
  {
   "cell_type": "code",
   "execution_count": null,
   "metadata": {
    "ExecuteTime": {
     "end_time": "2017-08-30T08:23:52.858059Z",
     "start_time": "2017-08-30T08:23:50.162Z"
    },
    "run_control": {
     "frozen": false,
     "read_only": false
    }
   },
   "outputs": [],
   "source": [
    "# !/usr/bin/python3\n",
    "from tkinter import *\n",
    "\n",
    "from tkinter import messagebox\n",
    "\n",
    "top = Tk()\n",
    "top.geometry(\"100x100\")\n",
    "def hello():\n",
    "    messagebox.showinfo(\"Say Hello\", \"Hello World\")\n",
    "\n",
    "B1 = Button(top, text = \"Say Hello\", command = hello)\n",
    "B1.place(x = 35,y = 50)\n",
    "\n",
    "top.mainloop()"
   ]
  }
 ],
 "metadata": {
  "hide_input": false,
  "kernelspec": {
   "display_name": "Python 3",
   "language": "python",
   "name": "python3"
  },
  "language_info": {
   "codemirror_mode": {
    "name": "ipython",
    "version": 3
   },
   "file_extension": ".py",
   "mimetype": "text/x-python",
   "name": "python",
   "nbconvert_exporter": "python",
   "pygments_lexer": "ipython3",
   "version": "3.5.3"
  },
  "nbTranslate": {
   "displayLangs": [
    "*"
   ],
   "hotkey": "alt-t",
   "langInMainMenu": true,
   "sourceLang": "en",
   "targetLang": "fr",
   "useGoogleTranslate": true
  },
  "toc": {
   "colors": {
    "hover_highlight": "#DAA520",
    "running_highlight": "#FF0000",
    "selected_highlight": "#FFD700"
   },
   "moveMenuLeft": true,
   "nav_menu": {
    "height": "30px",
    "width": "252px"
   },
   "navigate_menu": true,
   "number_sections": true,
   "sideBar": true,
   "threshold": 4,
   "toc_cell": false,
   "toc_position": {
    "height": "604px",
    "left": "0px",
    "right": "998px",
    "top": "106px",
    "width": "212px"
   },
   "toc_section_display": "block",
   "toc_window_display": true,
   "widenNotebook": false
  }
 },
 "nbformat": 4,
 "nbformat_minor": 2
}
