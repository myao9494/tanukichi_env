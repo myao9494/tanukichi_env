{
 "cells": [
  {
   "cell_type": "code",
   "execution_count": 1,
   "metadata": {
    "ExecuteTime": {
     "end_time": "2017-08-31T21:18:51.521293Z",
     "start_time": "2017-08-31T21:18:51.362768Z"
    },
    "collapsed": true,
    "run_control": {
     "frozen": false,
     "read_only": false
    }
   },
   "outputs": [],
   "source": [
    "! explorer ."
   ]
  },
  {
   "cell_type": "markdown",
   "metadata": {
    "run_control": {
     "frozen": false,
     "read_only": false
    }
   },
   "source": [
    "[テンプレートファイルへのリンク](http://localhost:8080/notebooks/991_template/template.ipynb)"
   ]
  },
  {
   "cell_type": "code",
   "execution_count": null,
   "metadata": {
    "ExecuteTime": {
     "end_time": "2017-08-30T08:23:49.906065Z",
     "start_time": "2017-08-30T08:23:49.894065Z"
    },
    "collapsed": true,
    "run_control": {
     "frozen": false,
     "read_only": false
    }
   },
   "outputs": [],
   "source": [
    "import jupyter_tanuki\n",
    "obj=jupyter_tanuki.jupyter_tanuki()\n",
    "# obj.add_file(\"aaa\") #フォルダを追加してテンプレートファイルをファイルを追加\n",
    "# obj.child_notebook_filelist() #フォルダ内のノートブックファイルを表示\n",
    "# obj.child_folder() #フォルダのリストを表示"
   ]
  },
  {
   "cell_type": "markdown",
   "metadata": {
    "run_control": {
     "frozen": false,
     "read_only": false
    }
   },
   "source": [
    "# [reminder](reminder.ipynb)\n",
    "- 参考サイト　https://github.com/michaelgundlach/pyspeech"
   ]
  },
  {
   "cell_type": "markdown",
   "metadata": {
    "ExecuteTime": {
     "end_time": "2017-08-30T08:23:52.849062Z",
     "start_time": "2017-08-30T08:23:49.987Z"
    },
    "collapsed": true,
    "run_control": {
     "frozen": false,
     "read_only": false
    }
   },
   "source": [
    "## いろいろ\n",
    "- reminder.py\n",
    "- issue countdown、中止の仕方"
   ]
  },
  {
   "cell_type": "markdown",
   "metadata": {
    "run_control": {
     "frozen": false,
     "read_only": false
    }
   },
   "source": [
    "## pyファイルのテスト"
   ]
  },
  {
   "cell_type": "code",
   "execution_count": 2,
   "metadata": {
    "ExecuteTime": {
     "end_time": "2017-08-31T22:06:04.518738Z",
     "start_time": "2017-08-31T22:06:04.486725Z"
    },
    "collapsed": true,
    "run_control": {
     "frozen": false,
     "read_only": false
    }
   },
   "outputs": [],
   "source": [
    "from reminder import *\n",
    "import pandas as pd\n",
    "import datetime\n",
    "dn=datetime.datetime.now()\n",
    "string_list =[str(dn.hour),str(int(dn.minute)+2),\"test\",\"test\",\"0\"]\n",
    "string_list\n",
    "df = pd.DataFrame(string_list)\n",
    "df.to_excel('reminder.xlsx',sheet_name='sample')"
   ]
  },
  {
   "cell_type": "code",
   "execution_count": 3,
   "metadata": {
    "ExecuteTime": {
     "end_time": "2017-08-31T22:06:04.690064Z",
     "start_time": "2017-08-31T22:06:04.678063Z"
    }
   },
   "outputs": [
    {
     "data": {
      "text/plain": [
       "['20', '12', 'test', 'test', '0']"
      ]
     },
     "execution_count": 3,
     "metadata": {},
     "output_type": "execute_result"
    }
   ],
   "source": [
    "#受け側のこ\n",
    "df = pd.read_excel('reminder.xlsx')\n",
    "df=df.T\n",
    "li=df.values.tolist()[0]\n",
    "li"
   ]
  },
  {
   "cell_type": "code",
   "execution_count": 4,
   "metadata": {
    "ExecuteTime": {
     "end_time": "2017-08-31T22:08:00.067492Z",
     "start_time": "2017-08-31T22:06:05.133558Z"
    },
    "collapsed": true
   },
   "outputs": [],
   "source": [
    "obj=remind()\n",
    "df = pd.read_excel('reminder.xlsx')\n",
    "df=df.T\n",
    "#     input_lines1 = sys.stdin.readlines()\n",
    "li=df.values.tolist()[0]\n",
    "obj.tg_time_ji=int(li[0])\n",
    "obj.tg_time_hun=int(li[1])\n",
    "obj.message=str(li[2])\n",
    "obj.basho=str(li[3])\n",
    "obj.yoyu_min=int(li[4])\n",
    "obj.main()"
   ]
  },
  {
   "cell_type": "markdown",
   "metadata": {
    "ExecuteTime": {
     "end_time": "2017-08-30T08:51:58.264835Z",
     "start_time": "2017-08-30T08:51:56.182872Z"
    },
    "run_control": {
     "frozen": false,
     "read_only": false
    }
   },
   "source": [
    "# 実装\n",
    "サブプロセスを立ち上げて、その時間が来るまで待たせる"
   ]
  },
  {
   "cell_type": "code",
   "execution_count": 2,
   "metadata": {
    "ExecuteTime": {
     "end_time": "2017-08-31T21:21:02.971408Z",
     "start_time": "2017-08-31T21:21:01.112691Z"
    },
    "collapsed": true,
    "run_control": {
     "frozen": false,
     "read_only": false
    }
   },
   "outputs": [],
   "source": [
    "import subprocess,os\n",
    "import pandas as pd\n",
    "import datetime\n",
    "l_path=os.path.join(os.environ[\"JUPYTER_HOME\"],\"common\",\"000_lib\")\n",
    "e_path=os.path.join(l_path,\"reminder.xlsx\")\n",
    "r_path=os.path.join(l_path,\"reminder.py\")"
   ]
  },
  {
   "cell_type": "code",
   "execution_count": 3,
   "metadata": {
    "collapsed": true
   },
   "outputs": [],
   "source": [
    "dn=datetime.datetime.now()\n",
    "string_list =[str(dn.hour),str(int(dn.minute)+2),\"test\",\"test\",\"0\"]\n",
    "string_list = ['9', '0', '祭礼委員', '五協会館', '10']\n",
    "\n",
    "df = pd.DataFrame(string_list)\n",
    "df.to_excel(e_path,sheet_name='sample')\n",
    "\n",
    "args=[\"python\",r_path]\n",
    "p=subprocess.Popen(args)\n",
    "# p.wait()#処理待ちしない場合は、これを消す"
   ]
  },
  {
   "cell_type": "markdown",
   "metadata": {},
   "source": [
    "# 要素開発"
   ]
  },
  {
   "cell_type": "markdown",
   "metadata": {
    "run_control": {
     "frozen": false,
     "read_only": false
    }
   },
   "source": [
    "## 読み上げる"
   ]
  },
  {
   "cell_type": "code",
   "execution_count": 17,
   "metadata": {
    "ExecuteTime": {
     "end_time": "2017-08-30T08:23:52.851560Z",
     "start_time": "2017-08-30T08:23:50.069Z"
    },
    "collapsed": true,
    "run_control": {
     "frozen": false,
     "read_only": false
    }
   },
   "outputs": [],
   "source": [
    "# Say anything you type, and write anything you say.\n",
    "# Stops when you say \"turn off\" or type \"turn off\".\n",
    "\n",
    "import winspeech\n",
    "import sys\n",
    "\n",
    "# Start an in-process recognizer. Don't want the shared one with built-in windows commands.\n",
    "winspeech.initialize_recognizer(winspeech.INPROC_RECOGNIZER)\n",
    "\n",
    "winspeech.say(\"かなえたい、そうぞうは、りょうてにかかえられないほどだ\")"
   ]
  },
  {
   "cell_type": "markdown",
   "metadata": {
    "run_control": {
     "frozen": false,
     "read_only": false
    }
   },
   "source": [
    "## タイマー"
   ]
  },
  {
   "cell_type": "code",
   "execution_count": null,
   "metadata": {
    "ExecuteTime": {
     "end_time": "2017-08-30T08:23:52.853060Z",
     "start_time": "2017-08-30T08:23:50.104Z"
    },
    "collapsed": true,
    "run_control": {
     "frozen": false,
     "read_only": false
    }
   },
   "outputs": [],
   "source": [
    "import datetime\n",
    "import time\n",
    "from winsound import Beep\n",
    "dn=datetime.datetime.now()\n",
    "dm1=datetime.datetime(dn.year,dn.month,dn.day,7,29,0)\n",
    "dm2=datetime.datetime(dn.year,dn.month,dn.day,8,5,0)\n",
    "dm3=datetime.datetime(dn.year,dn.month,dn.day,10,0,0)\n",
    "dm4=datetime.datetime(dn.year,dn.month,dn.day,14,0,0)\n",
    "\n",
    "def timer(dm2,msg):\n",
    "    while True:\n",
    "        if datetime.datetime.now()>dm2:\n",
    "            print(msg)\n",
    "            Beep(1000,500)\n",
    "            Beep(1000,500)\n",
    "            Beep(1000,500)\n",
    "            break\n",
    "        else:\n",
    "            time.sleep(5)"
   ]
  },
  {
   "cell_type": "markdown",
   "metadata": {
    "run_control": {
     "frozen": false,
     "read_only": false
    }
   },
   "source": [
    "## Message Box\n",
    "- pyautogui : http://pyautogui.readthedocs.io/en/latest/msgbox.html\n",
    "- Tkinter : https://www.tutorialspoint.com/python3/tk_messagebox.htm"
   ]
  },
  {
   "cell_type": "code",
   "execution_count": null,
   "metadata": {
    "ExecuteTime": {
     "end_time": "2017-08-30T08:23:52.857060Z",
     "start_time": "2017-08-30T08:23:50.138Z"
    },
    "collapsed": true,
    "run_control": {
     "frozen": false,
     "read_only": false
    }
   },
   "outputs": [],
   "source": [
    "import pyautogui\n",
    "pyautogui.alert(text='', title='', button='OK')"
   ]
  },
  {
   "cell_type": "code",
   "execution_count": null,
   "metadata": {
    "ExecuteTime": {
     "end_time": "2017-08-30T08:23:52.858059Z",
     "start_time": "2017-08-30T08:23:50.162Z"
    },
    "collapsed": true,
    "run_control": {
     "frozen": false,
     "read_only": false
    }
   },
   "outputs": [],
   "source": [
    "# !/usr/bin/python3\n",
    "from tkinter import *\n",
    "\n",
    "from tkinter import messagebox\n",
    "\n",
    "top = Tk()\n",
    "top.geometry(\"100x100\")\n",
    "def hello():\n",
    "    messagebox.showinfo(\"Say Hello\", \"Hello World\")\n",
    "\n",
    "B1 = Button(top, text = \"Say Hello\", command = hello)\n",
    "B1.place(x = 35,y = 50)\n",
    "\n",
    "top.mainloop()"
   ]
  }
 ],
 "metadata": {
  "hide_input": false,
  "kernelspec": {
   "display_name": "Python 3",
   "language": "python",
   "name": "python3"
  },
  "language_info": {
   "codemirror_mode": {
    "name": "ipython",
    "version": 3
   },
   "file_extension": ".py",
   "mimetype": "text/x-python",
   "name": "python",
   "nbconvert_exporter": "python",
   "pygments_lexer": "ipython3",
   "version": "3.5.3"
  },
  "nbTranslate": {
   "displayLangs": [
    "*"
   ],
   "hotkey": "alt-t",
   "langInMainMenu": true,
   "sourceLang": "en",
   "targetLang": "fr",
   "useGoogleTranslate": true
  },
  "toc": {
   "colors": {
    "hover_highlight": "#DAA520",
    "running_highlight": "#FF0000",
    "selected_highlight": "#FFD700"
   },
   "moveMenuLeft": true,
   "nav_menu": {
    "height": "30px",
    "width": "252px"
   },
   "navigate_menu": true,
   "number_sections": true,
   "sideBar": true,
   "threshold": 4,
   "toc_cell": false,
   "toc_position": {
    "height": "604px",
    "left": "0px",
    "right": "998px",
    "top": "106px",
    "width": "212px"
   },
   "toc_section_display": "block",
   "toc_window_display": true,
   "widenNotebook": false
  }
 },
 "nbformat": 4,
 "nbformat_minor": 2
}
