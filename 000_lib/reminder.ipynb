{
 "cells": [
  {
   "cell_type": "code",
   "execution_count": 1,
   "metadata": {
    "ExecuteTime": {
     "end_time": "2017-08-21T21:10:05.104617Z",
     "start_time": "2017-08-21T21:10:04.946622Z"
    },
    "run_control": {
     "frozen": false,
     "read_only": false
    }
   },
   "outputs": [],
   "source": [
    "! explorer ."
   ]
  },
  {
   "cell_type": "markdown",
   "metadata": {
    "run_control": {
     "frozen": false,
     "read_only": false
    }
   },
   "source": [
    "[テンプレートファイルへのリンク](http://localhost:8080/notebooks/991_template/template.ipynb)"
   ]
  },
  {
   "cell_type": "code",
   "execution_count": null,
   "metadata": {
    "ExecuteTime": {
     "end_time": "2017-06-08T20:43:34.757844Z",
     "start_time": "2017-06-08T20:43:34.729340Z"
    },
    "run_control": {
     "frozen": false,
     "read_only": false
    }
   },
   "outputs": [],
   "source": [
    "import jupyter_tanuki\n",
    "obj=jupyter_tanuki.jupyter_tanuki()\n",
    "# obj.add_file(\"aaa\") #フォルダを追加してテンプレートファイルをファイルを追加\n",
    "# obj.child_notebook_filelist() #フォルダ内のノートブックファイルを表示\n",
    "# obj.child_folder() #フォルダのリストを表示"
   ]
  },
  {
   "cell_type": "markdown",
   "metadata": {
    "run_control": {
     "frozen": false,
     "read_only": false
    }
   },
   "source": [
    "# [reminder](reminder.ipynb)\n",
    "- 参考サイト　https://github.com/michaelgundlach/pyspeech"
   ]
  },
  {
   "cell_type": "code",
   "execution_count": 2,
   "metadata": {
    "ExecuteTime": {
     "end_time": "2017-06-12T21:51:50.597126Z",
     "start_time": "2017-06-12T21:51:50.517420Z"
    },
    "run_control": {
     "frozen": false,
     "read_only": false
    }
   },
   "outputs": [],
   "source": [
    "#買うんtダウンｋのう\\\\\\\\\n",
    "# -*- coding: utf-8; py-indent-offset:4 -*-\n",
    "###############################################################################\n",
    "#\n",
    "# Copyright (C) Mineo Sudo\n",
    "# \n",
    "###############################################################################\n",
    "import winspeech\n",
    "import sys,datetime,time\n",
    "from winsound import Beep\n",
    "from tkinter import *\n",
    "from tkinter import messagebox\n",
    "\n",
    "winspeech.initialize_recognizer(winspeech.INPROC_RECOGNIZER)\n",
    "\n",
    "class remind():\n",
    "    '''\n",
    "    リマインド機能をまとめています\n",
    "    '''\n",
    "    def __init__(self,tg_time_ji,tg_time_hun,message,yoyu_min):\n",
    "        self.dn=datetime.datetime.now()\n",
    "        self.target_time = datetime.datetime(self.dn.year,\n",
    "                                      self.dn.month,\n",
    "                                      self.dn.day,\n",
    "                                      tg_time_ji,\n",
    "                                      tg_time_hun,0)\n",
    "        self.yoyu_min=yoyu_min\n",
    "        self.wait_time=(self.target_time-self.dn).total_seconds()-self.yoyu_min*60\n",
    "        self.message = message\n",
    "        \n",
    "    def main(self):\n",
    "        self.say_message()\n",
    "        time.sleep(self.wait_time)\n",
    "        self.say_message()\n",
    "        \n",
    "#----------------以下は呼び出される関数--------------------------\n",
    "    def say_message(self):\n",
    "        winspeech.say(self.target_time)\n",
    "        winspeech.say(\"予定は\"+self.message+\"です\")\n",
    "        \n",
    "    def msg_box(self):\n",
    "        top = Tk()\n",
    "        top.geometry(\"500x100\")\n",
    "#         def hello():\n",
    "#             messagebox.showinfo(\"Say Hello\", \"Hello World\")\n",
    "#         B1 = Button(top, text = \"Say Hello\", command = hello)\n",
    "        B1 = Button(top, text = \"予定は\"+self.message+\"です\")\n",
    "        B1.place(x = 35,y = 50)\n",
    "        top.mainloop()\n",
    "\n",
    "# if __name__ == '__main__':\n",
    "#     obj=remind(tg_time_ji=6,tg_time_hun=46,message=\"test\")"
   ]
  },
  {
   "cell_type": "code",
   "execution_count": 5,
   "metadata": {
    "run_control": {
     "frozen": false,
     "read_only": false
    }
   },
   "outputs": [],
   "source": [
    "obj=remind(tg_time_ji=9,tg_time_hun=15,message=\"お祭りだよ\",yoyu_min=10)"
   ]
  },
  {
   "cell_type": "code",
   "execution_count": 6,
   "metadata": {
    "ExecuteTime": {
     "end_time": "2017-06-12T21:54:36.462103Z",
     "start_time": "2017-06-12T21:54:36.453106Z"
    },
    "run_control": {
     "frozen": false,
     "read_only": false
    }
   },
   "outputs": [],
   "source": [
    "obj.main()"
   ]
  },
  {
   "cell_type": "code",
   "execution_count": 9,
   "metadata": {
    "ExecuteTime": {
     "end_time": "2017-06-12T21:54:38.670708Z",
     "start_time": "2017-06-12T21:54:37.311888Z"
    },
    "run_control": {
     "frozen": false,
     "read_only": false
    }
   },
   "outputs": [],
   "source": [
    "obj.msg_box()"
   ]
  },
  {
   "cell_type": "code",
   "execution_count": null,
   "metadata": {
    "ExecuteTime": {
     "end_time": "2017-06-12T21:54:41.293552Z",
     "start_time": "2017-06-12T21:54:39.279533Z"
    },
    "run_control": {
     "frozen": false,
     "read_only": false
    }
   },
   "outputs": [],
   "source": [
    "obj.timer()"
   ]
  },
  {
   "cell_type": "code",
   "execution_count": null,
   "metadata": {
    "ExecuteTime": {
     "end_time": "2017-06-12T21:54:41.787683Z",
     "start_time": "2017-06-12T21:54:41.779684Z"
    },
    "run_control": {
     "frozen": false,
     "read_only": false
    }
   },
   "outputs": [],
   "source": [
    "obj.time"
   ]
  },
  {
   "cell_type": "code",
   "execution_count": null,
   "metadata": {
    "ExecuteTime": {
     "end_time": "2017-06-12T21:54:42.712891Z",
     "start_time": "2017-06-12T21:54:42.704383Z"
    },
    "run_control": {
     "frozen": false,
     "read_only": false
    }
   },
   "outputs": [],
   "source": [
    "obj.message"
   ]
  },
  {
   "cell_type": "code",
   "execution_count": null,
   "metadata": {
    "ExecuteTime": {
     "end_time": "2017-06-12T21:54:32.505141Z",
     "start_time": "2017-06-12T21:54:32.498636Z"
    },
    "run_control": {
     "frozen": false,
     "read_only": false
    }
   },
   "outputs": [],
   "source": [
    "import reminder\n",
    "obj=reminder.remind(tg_time_ji=6,tg_time_hun=46,message=\"test\")"
   ]
  },
  {
   "cell_type": "markdown",
   "metadata": {
    "run_control": {
     "frozen": false,
     "read_only": false
    }
   },
   "source": [
    "## 読み上げる"
   ]
  },
  {
   "cell_type": "code",
   "execution_count": null,
   "metadata": {
    "ExecuteTime": {
     "end_time": "2017-06-08T20:45:23.438047Z",
     "start_time": "2017-06-08T20:45:23.285009Z"
    },
    "run_control": {
     "frozen": false,
     "read_only": false
    }
   },
   "outputs": [],
   "source": [
    "# Say anything you type, and write anything you say.\n",
    "# Stops when you say \"turn off\" or type \"turn off\".\n",
    "\n",
    "import winspeech\n",
    "import sys\n",
    "\n",
    "# Start an in-process recognizer. Don't want the shared one with built-in windows commands.\n",
    "winspeech.initialize_recognizer(winspeech.INPROC_RECOGNIZER)\n",
    "\n",
    "winspeech.say(\"かなえたい、そうぞうは、りょうてにかかえられないほどだ\")"
   ]
  },
  {
   "cell_type": "markdown",
   "metadata": {
    "run_control": {
     "frozen": false,
     "read_only": false
    }
   },
   "source": [
    "## タイマー"
   ]
  },
  {
   "cell_type": "code",
   "execution_count": null,
   "metadata": {
    "run_control": {
     "frozen": false,
     "read_only": false
    }
   },
   "outputs": [],
   "source": [
    "import datetime\n",
    "import time\n",
    "from winsound import Beep\n",
    "dn=datetime.datetime.now()\n",
    "dm1=datetime.datetime(dn.year,dn.month,dn.day,7,29,0)\n",
    "dm2=datetime.datetime(dn.year,dn.month,dn.day,8,5,0)\n",
    "dm3=datetime.datetime(dn.year,dn.month,dn.day,10,0,0)\n",
    "dm4=datetime.datetime(dn.year,dn.month,dn.day,14,0,0)\n",
    "\n",
    "def timer(dm2,msg):\n",
    "    while True:\n",
    "        if datetime.datetime.now()>dm2:\n",
    "            print(msg)\n",
    "            Beep(1000,500)\n",
    "            Beep(1000,500)\n",
    "            Beep(1000,500)\n",
    "            break\n",
    "        else:\n",
    "            time.sleep(5)"
   ]
  },
  {
   "cell_type": "markdown",
   "metadata": {
    "run_control": {
     "frozen": false,
     "read_only": false
    }
   },
   "source": [
    "## Message Box\n",
    "- pyautogui : http://pyautogui.readthedocs.io/en/latest/msgbox.html\n",
    "- Tkinter : https://www.tutorialspoint.com/python3/tk_messagebox.htm"
   ]
  },
  {
   "cell_type": "code",
   "execution_count": null,
   "metadata": {
    "ExecuteTime": {
     "end_time": "2017-06-08T21:05:00.106279Z",
     "start_time": "2017-06-08T21:04:56.963079Z"
    },
    "run_control": {
     "frozen": false,
     "read_only": false
    }
   },
   "outputs": [],
   "source": [
    "import pyautogui\n",
    "pyautogui.alert(text='', title='', button='OK')"
   ]
  },
  {
   "cell_type": "code",
   "execution_count": null,
   "metadata": {
    "ExecuteTime": {
     "end_time": "2017-06-08T21:04:50.620189Z",
     "start_time": "2017-06-08T21:04:40.114121Z"
    },
    "run_control": {
     "frozen": false,
     "read_only": false
    }
   },
   "outputs": [],
   "source": [
    "# !/usr/bin/python3\n",
    "from tkinter import *\n",
    "\n",
    "from tkinter import messagebox\n",
    "\n",
    "top = Tk()\n",
    "top.geometry(\"100x100\")\n",
    "def hello():\n",
    "    messagebox.showinfo(\"Say Hello\", \"Hello World\")\n",
    "\n",
    "B1 = Button(top, text = \"Say Hello\", command = hello)\n",
    "B1.place(x = 35,y = 50)\n",
    "\n",
    "top.mainloop()"
   ]
  },
  {
   "cell_type": "code",
   "execution_count": null,
   "metadata": {
    "run_control": {
     "frozen": false,
     "read_only": false
    }
   },
   "outputs": [],
   "source": []
  }
 ],
 "metadata": {
  "hide_input": false,
  "kernelspec": {
   "display_name": "Python 3",
   "language": "python",
   "name": "python3"
  },
  "language_info": {
   "codemirror_mode": {
    "name": "ipython",
    "version": 3
   },
   "file_extension": ".py",
   "mimetype": "text/x-python",
   "name": "python",
   "nbconvert_exporter": "python",
   "pygments_lexer": "ipython3",
   "version": "3.5.3"
  },
  "nbTranslate": {
   "displayLangs": [
    "*"
   ],
   "hotkey": "alt-t",
   "langInMainMenu": true,
   "sourceLang": "en",
   "targetLang": "fr",
   "useGoogleTranslate": true
  },
  "toc": {
   "colors": {
    "hover_highlight": "#DAA520",
    "running_highlight": "#FF0000",
    "selected_highlight": "#FFD700"
   },
   "moveMenuLeft": true,
   "nav_menu": {
    "height": "30px",
    "width": "252px"
   },
   "navigate_menu": true,
   "number_sections": true,
   "sideBar": true,
   "threshold": 4,
   "toc_cell": false,
   "toc_position": {
    "height": "682px",
    "left": "0px",
    "right": "998px",
    "top": "107px",
    "width": "212px"
   },
   "toc_section_display": "block",
   "toc_window_display": true,
   "widenNotebook": false
  }
 },
 "nbformat": 4,
 "nbformat_minor": 2
}
