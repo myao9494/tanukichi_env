{
 "cells": [
  {
   "cell_type": "code",
   "execution_count": 1,
   "metadata": {
    "ExecuteTime": {
     "end_time": "2017-06-03T23:59:39.526173Z",
     "start_time": "2017-06-03T23:59:39.313660Z"
    },
    "collapsed": true
   },
   "outputs": [],
   "source": [
    "! explorer ."
   ]
  },
  {
   "cell_type": "markdown",
   "metadata": {},
   "source": [
    "# キャプチャツールとしてのsikuli利用"
   ]
  },
  {
   "cell_type": "code",
   "execution_count": 1,
   "metadata": {
    "ExecuteTime": {
     "end_time": "2017-06-03T10:12:45.591796Z",
     "start_time": "2017-06-03T10:09:29.430749Z"
    }
   },
   "outputs": [
    {
     "name": "stdout",
     "output_type": "stream",
     "text": [
      "\n",
      "(mine01) C:\\Users\\mineo\\OneDrive\\anaconda\\root\\100_tools>explorer C:\\Users\\mineo\\Pictures\\cap_sikuli.sikuli \n",
      "\n",
      "(mine01) C:\\Users\\mineo\\OneDrive\\anaconda\\root\\100_tools>cd C:\\Users\\mineo\\Pictures \n",
      "\n",
      "(mine01) C:\\Users\\mineo\\Pictures>C:\\Users\\mineo\\OneDrive\\anaconda\\root\\N96_sikuli\\runsikulix.cmd\n",
      "+++ running this Java\n",
      "+++ trying to run SikuliX\n",
      "+++ using: -Xms64M -Xmx512M -Dfile.encoding=UTF-8 -Dsikuli.FromCommandLine -jar C:\\Users\\mineo\\OneDrive\\anaconda\\root\\N96_sikuli\\sikulix.jar \n",
      "[info] HotkeyManager: add Capture Hotkey: CTRL+SHIFT 2 (50, 3)\n",
      "[info] HotkeyManager: add Abort Hotkey: ALT+SHIFT C (67, 9)\n"
     ]
    },
    {
     "name": "stderr",
     "output_type": "stream",
     "text": [
      "java version \"1.8.0_131\"\n",
      "Java(TM) SE Runtime Environment (build 1.8.0_131-b11)\n",
      "Java HotSpot(TM) 64-Bit Server VM (build 25.131-b11, mixed mode)\n",
      "6 23, 2017 9:39:49 蜊亥ｾ� java.util.prefs.WindowsPreferences <init>\n",
      "WARNING: Could not open/create prefs root node Software\\JavaSoft\\Prefs at root 0x80000002. Windows RegCreateKeyEx(...) returned error code 5.\n"
     ]
    }
   ],
   "source": [
    "! cap_sikuli.bat"
   ]
  },
  {
   "cell_type": "code",
   "execution_count": null,
   "metadata": {
    "collapsed": true
   },
   "outputs": [],
   "source": []
  },
  {
   "cell_type": "code",
   "execution_count": null,
   "metadata": {
    "collapsed": true
   },
   "outputs": [],
   "source": []
  },
  {
   "cell_type": "code",
   "execution_count": null,
   "metadata": {
    "collapsed": true
   },
   "outputs": [],
   "source": []
  },
  {
   "cell_type": "code",
   "execution_count": null,
   "metadata": {
    "collapsed": true
   },
   "outputs": [],
   "source": []
  }
 ],
 "metadata": {
  "kernelspec": {
   "display_name": "Python 3",
   "language": "python",
   "name": "python3"
  },
  "language_info": {
   "codemirror_mode": {
    "name": "ipython",
    "version": 3
   },
   "file_extension": ".py",
   "mimetype": "text/x-python",
   "name": "python",
   "nbconvert_exporter": "python",
   "pygments_lexer": "ipython3",
   "version": "3.5.3"
  },
  "nbTranslate": {
   "displayLangs": [
    "*"
   ],
   "hotkey": "alt-t",
   "langInMainMenu": true,
   "sourceLang": "en",
   "targetLang": "fr",
   "useGoogleTranslate": true
  },
  "toc": {
   "colors": {
    "hover_highlight": "#DAA520",
    "running_highlight": "#FF0000",
    "selected_highlight": "#FFD700"
   },
   "moveMenuLeft": true,
   "nav_menu": {
    "height": "30px",
    "width": "252px"
   },
   "navigate_menu": true,
   "number_sections": true,
   "sideBar": true,
   "threshold": 4,
   "toc_cell": false,
   "toc_section_display": "block",
   "toc_window_display": true,
   "widenNotebook": false
  }
 },
 "nbformat": 4,
 "nbformat_minor": 2
}
