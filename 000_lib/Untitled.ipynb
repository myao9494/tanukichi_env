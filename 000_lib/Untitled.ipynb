{
 "cells": [
  {
   "cell_type": "code",
   "execution_count": null,
   "metadata": {
    "run_control": {
     "frozen": false,
     "read_only": false
    }
   },
   "outputs": [],
   "source": [
    "# -*- coding: utf-8; py-indent-offset:4 -*-\n",
    "###############################################################################\n",
    "#\n",
    "# Copyright (C) Mineo Sudo\n",
    "# 環境変数　SIKULI_HOMEに\"runsikulix.cmd\"があるpathを設定する\n",
    "# \n",
    "###############################################################################z\n",
    "import subprocess,os\n",
    "'''\n",
    "sikuliの起動と\n",
    "sikuliスクリプトを実行する関数です\n",
    "'''\n",
    "\n",
    "def open_sikuli_ide():\n",
    "    hp=os.environ['SIKULI_HOME']\n",
    "    path1 = os.path.join(hp, 'runsikulix.cmd')\n",
    "    args=[path1]\n",
    "    p=subprocess.Popen(args)\n",
    "    print(\"sikuliを起動しました\")\n",
    "    \n",
    "def jikou_sikuli(path2):\n",
    "    print(\"starting_sikuli please Wait about7seconds\")\n",
    "    hp=os.environ['SIKULI_HOME']\n",
    "    path1 = os.path.join(hp, 'runsikulix.cmd')\n",
    "    args=[path1,\"-r\",path2]\n",
    "    p=subprocess.Popen(args, shell=True, stdout=subprocess.PIPE, stderr=subprocess.PIPE)\n",
    "    stdout_value = p.communicate()[0]\n",
    "    k=stdout_value\n",
    "    p.terminate\n",
    "    print(k)"
   ]
  }
 ],
 "metadata": {
  "hide_input": false,
  "kernelspec": {
   "display_name": "Python 3",
   "language": "python",
   "name": "python3"
  },
  "language_info": {
   "codemirror_mode": {
    "name": "ipython",
    "version": 3
   },
   "file_extension": ".py",
   "mimetype": "text/x-python",
   "name": "python",
   "nbconvert_exporter": "python",
   "pygments_lexer": "ipython3",
   "version": "3.5.3"
  },
  "nbTranslate": {
   "displayLangs": [
    "*"
   ],
   "hotkey": "alt-t",
   "langInMainMenu": true,
   "sourceLang": "en",
   "targetLang": "fr",
   "useGoogleTranslate": true
  },
  "toc": {
   "colors": {
    "hover_highlight": "#DAA520",
    "running_highlight": "#FF0000",
    "selected_highlight": "#FFD700"
   },
   "moveMenuLeft": true,
   "nav_menu": {
    "height": "13px",
    "width": "253px"
   },
   "navigate_menu": true,
   "number_sections": true,
   "sideBar": true,
   "threshold": 4,
   "toc_cell": false,
   "toc_section_display": "block",
   "toc_window_display": false,
   "widenNotebook": false
  }
 },
 "nbformat": 4,
 "nbformat_minor": 2
}
