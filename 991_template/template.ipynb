{
 "cells": [
  {
   "cell_type": "markdown",
   "metadata": {
    "run_control": {
     "frozen": false,
     "read_only": false
    }
   },
   "source": [
    "## 便利いろいろ"
   ]
  },
  {
   "cell_type": "code",
   "execution_count": 1,
   "metadata": {
    "ExecuteTime": {
     "end_time": "2017-07-17T22:38:57.645076Z",
     "start_time": "2017-07-17T22:38:57.405079Z"
    },
    "collapsed": true,
    "run_control": {
     "frozen": false,
     "read_only": false
    }
   },
   "outputs": [],
   "source": [
    "! explorer ."
   ]
  },
  {
   "cell_type": "code",
   "execution_count": 1,
   "metadata": {
    "ExecuteTime": {
     "end_time": "2017-09-11T21:04:37.499912Z",
     "start_time": "2017-09-11T21:04:37.471910Z"
    },
    "collapsed": true,
    "run_control": {
     "frozen": false,
     "read_only": false
    },
    "scrolled": true
   },
   "outputs": [],
   "source": [
    "import common ; common.jikou(\"sikuli\")"
   ]
  },
  {
   "cell_type": "code",
   "execution_count": 2,
   "metadata": {
    "ExecuteTime": {
     "end_time": "2017-09-10T07:28:48.689465Z",
     "start_time": "2017-09-10T07:28:48.247084Z"
    },
    "collapsed": true,
    "run_control": {
     "frozen": false,
     "read_only": false
    }
   },
   "outputs": [],
   "source": [
    "import common ; common.jikou(\"code\")"
   ]
  },
  {
   "cell_type": "code",
   "execution_count": 2,
   "metadata": {
    "ExecuteTime": {
     "end_time": "2017-09-06T22:36:48.208606Z",
     "start_time": "2017-09-06T22:36:48.187596Z"
    },
    "run_control": {
     "frozen": false,
     "marked": true,
     "read_only": false
    }
   },
   "outputs": [
    {
     "name": "stdout",
     "output_type": "stream",
     "text": [
      "下記をコピペ、markdownのセルへ\n",
      "># [template.ipynb](991_template/template.ipynb)\n",
      "\n"
     ]
    }
   ],
   "source": [
    "import jupyter_tanuki,importlib\n",
    "importlib.reload(jupyter_tanuki)\n",
    "obj=jupyter_tanuki.jupyter_tanuki()\n",
    "# obj.add_file(\"003_redmine\") #フォルダを追加してテンプレートファイルをファイルを追加\n",
    "# obj.child_notebook_filelist() #フォルダ内のノートブックファイルを表示\n",
    "# obj.child_folder() #フォルダのリストを表示\n",
    "obj.tree()"
   ]
  },
  {
   "cell_type": "markdown",
   "metadata": {
    "run_control": {
     "frozen": false,
     "read_only": false
    }
   },
   "source": [
    "## クラスの例"
   ]
  },
  {
   "cell_type": "code",
   "execution_count": null,
   "metadata": {
    "collapsed": true,
    "run_control": {
     "frozen": false,
     "read_only": false
    }
   },
   "outputs": [],
   "source": [
    "# -*- coding: utf-8; py-indent-offset:4 -*-\n",
    "###############################################################################\n",
    "#\n",
    "# Copyright (C) Mineo Sudo\n",
    "# \n",
    "###############################################################################\n",
    "from redminelib import Redmine\n",
    "\n",
    "class redmine_tanuki():\n",
    "    '''\n",
    "    自分自身が使いやすい環境を構築する\n",
    "    '''\n",
    "    def __init__(self,url,user_name,pass_word):\n",
    "        self.redmine = Redmine(url, username=user_name, password=pass_word)\n",
    "        \n",
    "if __name__ == '__main__':\n",
    "    obj=jupyter_tanuki()\n"
   ]
  }
 ],
 "metadata": {
  "hide_input": false,
  "kernelspec": {
   "display_name": "Python 3",
   "language": "python",
   "name": "python3"
  },
  "language_info": {
   "codemirror_mode": {
    "name": "ipython",
    "version": 3
   },
   "file_extension": ".py",
   "mimetype": "text/x-python",
   "name": "python",
   "nbconvert_exporter": "python",
   "pygments_lexer": "ipython3",
   "version": "3.6.3"
  },
  "nbTranslate": {
   "displayLangs": [
    "*"
   ],
   "hotkey": "alt-t",
   "langInMainMenu": true,
   "sourceLang": "en",
   "targetLang": "fr",
   "useGoogleTranslate": true
  },
  "toc": {
   "nav_menu": {
    "height": "30px",
    "width": "252px"
   },
   "number_sections": true,
   "sideBar": true,
   "skip_h1_title": false,
   "toc_cell": false,
   "toc_position": {
    "height": "855px",
    "left": "0px",
    "right": "998px",
    "top": "133px",
    "width": "213px"
   },
   "toc_section_display": "block",
   "toc_window_display": true
  },
  "varInspector": {
   "cols": {
    "lenName": 16,
    "lenType": 16,
    "lenVar": 40
   },
   "kernels_config": {
    "python": {
     "delete_cmd_postfix": "",
     "delete_cmd_prefix": "del ",
     "library": "var_list.py",
     "varRefreshCmd": "print(var_dic_list())"
    },
    "r": {
     "delete_cmd_postfix": ") ",
     "delete_cmd_prefix": "rm(",
     "library": "var_list.r",
     "varRefreshCmd": "cat(var_dic_list()) "
    }
   },
   "types_to_exclude": [
    "module",
    "function",
    "builtin_function_or_method",
    "instance",
    "_Feature"
   ],
   "window_display": false
  }
 },
 "nbformat": 4,
 "nbformat_minor": 2
}
