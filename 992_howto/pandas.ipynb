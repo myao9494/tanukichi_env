{
 "cells": [
  {
   "cell_type": "code",
   "execution_count": null,
   "metadata": {},
   "outputs": [],
   "source": [
    "! explore"
   ]
  },
  {
   "cell_type": "markdown",
   "metadata": {},
   "source": [
    "## 参考\n",
    "- 基本のコマンド一覧\n",
    "http://qiita.com/tanemaki/items/2ed05e258ef4c9e6caac"
   ]
  },
  {
   "cell_type": "markdown",
   "metadata": {},
   "source": [
    "## サンプルデータフレーム\n",
    "http://qiita.com/hik0107/items/d991cc44c2d1778bb82e"
   ]
  },
  {
   "cell_type": "code",
   "execution_count": 15,
   "metadata": {
    "ExecuteTime": {
     "end_time": "2017-10-12T23:27:34.031071Z",
     "start_time": "2017-10-12T23:27:34.005304Z"
    }
   },
   "outputs": [
    {
     "data": {
      "text/html": [
       "<div>\n",
       "<style>\n",
       "    .dataframe thead tr:only-child th {\n",
       "        text-align: right;\n",
       "    }\n",
       "\n",
       "    .dataframe thead th {\n",
       "        text-align: left;\n",
       "    }\n",
       "\n",
       "    .dataframe tbody tr th {\n",
       "        vertical-align: top;\n",
       "    }\n",
       "</style>\n",
       "<table border=\"1\" class=\"dataframe\">\n",
       "  <thead>\n",
       "    <tr style=\"text-align: right;\">\n",
       "      <th></th>\n",
       "      <th>day_no</th>\n",
       "      <th>class</th>\n",
       "      <th>score1</th>\n",
       "      <th>score2</th>\n",
       "    </tr>\n",
       "  </thead>\n",
       "  <tbody>\n",
       "    <tr>\n",
       "      <th>gad</th>\n",
       "      <td>day1</td>\n",
       "      <td>A</td>\n",
       "      <td>100</td>\n",
       "      <td>120</td>\n",
       "    </tr>\n",
       "    <tr>\n",
       "      <th>12</th>\n",
       "      <td>day2</td>\n",
       "      <td>B</td>\n",
       "      <td>150</td>\n",
       "      <td>160</td>\n",
       "    </tr>\n",
       "    <tr>\n",
       "      <th>13</th>\n",
       "      <td>day1</td>\n",
       "      <td>A</td>\n",
       "      <td>200</td>\n",
       "      <td>100</td>\n",
       "    </tr>\n",
       "    <tr>\n",
       "      <th>14</th>\n",
       "      <td>day2</td>\n",
       "      <td>B</td>\n",
       "      <td>150</td>\n",
       "      <td>180</td>\n",
       "    </tr>\n",
       "    <tr>\n",
       "      <th>15</th>\n",
       "      <td>day1</td>\n",
       "      <td>C</td>\n",
       "      <td>100</td>\n",
       "      <td>110</td>\n",
       "    </tr>\n",
       "    <tr>\n",
       "      <th>16</th>\n",
       "      <td>day2</td>\n",
       "      <td>C</td>\n",
       "      <td>50</td>\n",
       "      <td>80</td>\n",
       "    </tr>\n",
       "  </tbody>\n",
       "</table>\n",
       "</div>"
      ],
      "text/plain": [
       "    day_no class score1 score2\n",
       "gad   day1     A    100    120\n",
       "12    day2     B    150    160\n",
       "13    day1     A    200    100\n",
       "14    day2     B    150    180\n",
       "15    day1     C    100    110\n",
       "16    day2     C     50     80"
      ]
     },
     "execution_count": 15,
     "metadata": {},
     "output_type": "execute_result"
    }
   ],
   "source": [
    "import pandas as pd\n",
    "\n",
    "df_sample =\\\n",
    "pd.DataFrame([[\"day1\",\"day2\",\"day1\",\"day2\",\"day1\",\"day2\"],\n",
    "              [\"A\",\"B\",\"A\",\"B\",\"C\",\"C\"],\n",
    "              [100,150,200,150,100,50],\n",
    "              [120,160,100,180,110,80]] ).T  #とりあえず適当なデータを作ります\n",
    "df_sample.columns = [\"day_no\",\"class\",\"score1\",\"score2\"]  #カラム名を付ける\n",
    "df_sample.index   = [\"gad\",12,13,14,15,16]  #インデックス名を付ける\n",
    "df_sample"
   ]
  },
  {
   "cell_type": "markdown",
   "metadata": {},
   "source": [
    "# データフレームを"
   ]
  },
  {
   "cell_type": "code",
   "execution_count": null,
   "metadata": {
    "collapsed": true
   },
   "outputs": [],
   "source": []
  },
  {
   "cell_type": "code",
   "execution_count": null,
   "metadata": {
    "collapsed": true
   },
   "outputs": [],
   "source": []
  },
  {
   "cell_type": "markdown",
   "metadata": {},
   "source": [
    "# 時系列での取得データ\n",
    "時系列で取得したデータを順々にデータフレームに追加していく"
   ]
  },
  {
   "cell_type": "code",
   "execution_count": 14,
   "metadata": {
    "ExecuteTime": {
     "end_time": "2017-10-12T23:26:13.310709Z",
     "start_time": "2017-10-12T23:26:13.280700Z"
    }
   },
   "outputs": [
    {
     "name": "stderr",
     "output_type": "stream",
     "text": [
      "C:\\Users\\mineo\\Anaconda3\\envs\\mine01\\lib\\site-packages\\pandas\\core\\indexes\\api.py:77: RuntimeWarning: unorderable types: str() < int(), sort order is undefined for incomparable objects\n",
      "  result = result.union(other)\n"
     ]
    },
    {
     "data": {
      "text/html": [
       "<div>\n",
       "<style>\n",
       "    .dataframe thead tr:only-child th {\n",
       "        text-align: right;\n",
       "    }\n",
       "\n",
       "    .dataframe thead th {\n",
       "        text-align: left;\n",
       "    }\n",
       "\n",
       "    .dataframe tbody tr th {\n",
       "        vertical-align: top;\n",
       "    }\n",
       "</style>\n",
       "<table border=\"1\" class=\"dataframe\">\n",
       "  <thead>\n",
       "    <tr style=\"text-align: right;\">\n",
       "      <th></th>\n",
       "      <th>day_no</th>\n",
       "      <th>class</th>\n",
       "      <th>score1</th>\n",
       "      <th>score2</th>\n",
       "      <th>0</th>\n",
       "      <th>1</th>\n",
       "      <th>2</th>\n",
       "      <th>3</th>\n",
       "    </tr>\n",
       "  </thead>\n",
       "  <tbody>\n",
       "    <tr>\n",
       "      <th>0</th>\n",
       "      <td>day1</td>\n",
       "      <td>A</td>\n",
       "      <td>100</td>\n",
       "      <td>120</td>\n",
       "      <td>NaN</td>\n",
       "      <td>NaN</td>\n",
       "      <td>NaN</td>\n",
       "      <td>NaN</td>\n",
       "    </tr>\n",
       "    <tr>\n",
       "      <th>1</th>\n",
       "      <td>day2</td>\n",
       "      <td>B</td>\n",
       "      <td>150</td>\n",
       "      <td>160</td>\n",
       "      <td>NaN</td>\n",
       "      <td>NaN</td>\n",
       "      <td>NaN</td>\n",
       "      <td>NaN</td>\n",
       "    </tr>\n",
       "    <tr>\n",
       "      <th>2</th>\n",
       "      <td>day1</td>\n",
       "      <td>A</td>\n",
       "      <td>200</td>\n",
       "      <td>100</td>\n",
       "      <td>NaN</td>\n",
       "      <td>NaN</td>\n",
       "      <td>NaN</td>\n",
       "      <td>NaN</td>\n",
       "    </tr>\n",
       "    <tr>\n",
       "      <th>3</th>\n",
       "      <td>day2</td>\n",
       "      <td>B</td>\n",
       "      <td>150</td>\n",
       "      <td>180</td>\n",
       "      <td>NaN</td>\n",
       "      <td>NaN</td>\n",
       "      <td>NaN</td>\n",
       "      <td>NaN</td>\n",
       "    </tr>\n",
       "    <tr>\n",
       "      <th>4</th>\n",
       "      <td>day1</td>\n",
       "      <td>C</td>\n",
       "      <td>100</td>\n",
       "      <td>110</td>\n",
       "      <td>NaN</td>\n",
       "      <td>NaN</td>\n",
       "      <td>NaN</td>\n",
       "      <td>NaN</td>\n",
       "    </tr>\n",
       "    <tr>\n",
       "      <th>5</th>\n",
       "      <td>day2</td>\n",
       "      <td>C</td>\n",
       "      <td>50</td>\n",
       "      <td>80</td>\n",
       "      <td>NaN</td>\n",
       "      <td>NaN</td>\n",
       "      <td>NaN</td>\n",
       "      <td>NaN</td>\n",
       "    </tr>\n",
       "    <tr>\n",
       "      <th>6</th>\n",
       "      <td>NaN</td>\n",
       "      <td>NaN</td>\n",
       "      <td>NaN</td>\n",
       "      <td>NaN</td>\n",
       "      <td>day5</td>\n",
       "      <td>CC</td>\n",
       "      <td>250.0</td>\n",
       "      <td>333.0</td>\n",
       "    </tr>\n",
       "  </tbody>\n",
       "</table>\n",
       "</div>"
      ],
      "text/plain": [
       "  day_no class score1 score2     0    1      2      3\n",
       "0   day1     A    100    120   NaN  NaN    NaN    NaN\n",
       "1   day2     B    150    160   NaN  NaN    NaN    NaN\n",
       "2   day1     A    200    100   NaN  NaN    NaN    NaN\n",
       "3   day2     B    150    180   NaN  NaN    NaN    NaN\n",
       "4   day1     C    100    110   NaN  NaN    NaN    NaN\n",
       "5   day2     C     50     80   NaN  NaN    NaN    NaN\n",
       "6    NaN   NaN    NaN    NaN  day5   CC  250.0  333.0"
      ]
     },
     "execution_count": 14,
     "metadata": {},
     "output_type": "execute_result"
    }
   ],
   "source": [
    "dfs=tr_df(k)\n",
    "df1=df1.append(dfs, ignore_index=True)"
   ]
  },
  {
   "cell_type": "markdown",
   "metadata": {},
   "source": [
    "# 列を削除する\n",
    "axis=1：列の削除であることを明記"
   ]
  },
  {
   "cell_type": "code",
   "execution_count": 17,
   "metadata": {
    "ExecuteTime": {
     "end_time": "2017-10-12T23:27:44.399665Z",
     "start_time": "2017-10-12T23:27:44.378328Z"
    }
   },
   "outputs": [
    {
     "data": {
      "text/html": [
       "<div>\n",
       "<style>\n",
       "    .dataframe thead tr:only-child th {\n",
       "        text-align: right;\n",
       "    }\n",
       "\n",
       "    .dataframe thead th {\n",
       "        text-align: left;\n",
       "    }\n",
       "\n",
       "    .dataframe tbody tr th {\n",
       "        vertical-align: top;\n",
       "    }\n",
       "</style>\n",
       "<table border=\"1\" class=\"dataframe\">\n",
       "  <thead>\n",
       "    <tr style=\"text-align: right;\">\n",
       "      <th></th>\n",
       "      <th>class</th>\n",
       "      <th>score1</th>\n",
       "      <th>score2</th>\n",
       "    </tr>\n",
       "  </thead>\n",
       "  <tbody>\n",
       "    <tr>\n",
       "      <th>gad</th>\n",
       "      <td>A</td>\n",
       "      <td>100</td>\n",
       "      <td>120</td>\n",
       "    </tr>\n",
       "    <tr>\n",
       "      <th>12</th>\n",
       "      <td>B</td>\n",
       "      <td>150</td>\n",
       "      <td>160</td>\n",
       "    </tr>\n",
       "    <tr>\n",
       "      <th>13</th>\n",
       "      <td>A</td>\n",
       "      <td>200</td>\n",
       "      <td>100</td>\n",
       "    </tr>\n",
       "    <tr>\n",
       "      <th>14</th>\n",
       "      <td>B</td>\n",
       "      <td>150</td>\n",
       "      <td>180</td>\n",
       "    </tr>\n",
       "    <tr>\n",
       "      <th>15</th>\n",
       "      <td>C</td>\n",
       "      <td>100</td>\n",
       "      <td>110</td>\n",
       "    </tr>\n",
       "    <tr>\n",
       "      <th>16</th>\n",
       "      <td>C</td>\n",
       "      <td>50</td>\n",
       "      <td>80</td>\n",
       "    </tr>\n",
       "  </tbody>\n",
       "</table>\n",
       "</div>"
      ],
      "text/plain": [
       "    class score1 score2\n",
       "gad     A    100    120\n",
       "12      B    150    160\n",
       "13      A    200    100\n",
       "14      B    150    180\n",
       "15      C    100    110\n",
       "16      C     50     80"
      ]
     },
     "execution_count": 17,
     "metadata": {},
     "output_type": "execute_result"
    }
   ],
   "source": [
    "df_sample.drop(\"day_no\",axis=1)"
   ]
  },
  {
   "cell_type": "markdown",
   "metadata": {},
   "source": [
    "# 行を削除する\n",
    "axis=0：行の削除であることを明記"
   ]
  },
  {
   "cell_type": "code",
   "execution_count": 18,
   "metadata": {
    "ExecuteTime": {
     "end_time": "2017-10-12T23:28:31.080984Z",
     "start_time": "2017-10-12T23:28:31.057978Z"
    }
   },
   "outputs": [
    {
     "data": {
      "text/html": [
       "<div>\n",
       "<style>\n",
       "    .dataframe thead tr:only-child th {\n",
       "        text-align: right;\n",
       "    }\n",
       "\n",
       "    .dataframe thead th {\n",
       "        text-align: left;\n",
       "    }\n",
       "\n",
       "    .dataframe tbody tr th {\n",
       "        vertical-align: top;\n",
       "    }\n",
       "</style>\n",
       "<table border=\"1\" class=\"dataframe\">\n",
       "  <thead>\n",
       "    <tr style=\"text-align: right;\">\n",
       "      <th></th>\n",
       "      <th>day_no</th>\n",
       "      <th>class</th>\n",
       "      <th>score1</th>\n",
       "      <th>score2</th>\n",
       "    </tr>\n",
       "  </thead>\n",
       "  <tbody>\n",
       "    <tr>\n",
       "      <th>12</th>\n",
       "      <td>day2</td>\n",
       "      <td>B</td>\n",
       "      <td>150</td>\n",
       "      <td>160</td>\n",
       "    </tr>\n",
       "    <tr>\n",
       "      <th>13</th>\n",
       "      <td>day1</td>\n",
       "      <td>A</td>\n",
       "      <td>200</td>\n",
       "      <td>100</td>\n",
       "    </tr>\n",
       "    <tr>\n",
       "      <th>14</th>\n",
       "      <td>day2</td>\n",
       "      <td>B</td>\n",
       "      <td>150</td>\n",
       "      <td>180</td>\n",
       "    </tr>\n",
       "    <tr>\n",
       "      <th>15</th>\n",
       "      <td>day1</td>\n",
       "      <td>C</td>\n",
       "      <td>100</td>\n",
       "      <td>110</td>\n",
       "    </tr>\n",
       "    <tr>\n",
       "      <th>16</th>\n",
       "      <td>day2</td>\n",
       "      <td>C</td>\n",
       "      <td>50</td>\n",
       "      <td>80</td>\n",
       "    </tr>\n",
       "  </tbody>\n",
       "</table>\n",
       "</div>"
      ],
      "text/plain": [
       "   day_no class score1 score2\n",
       "12   day2     B    150    160\n",
       "13   day1     A    200    100\n",
       "14   day2     B    150    180\n",
       "15   day1     C    100    110\n",
       "16   day2     C     50     80"
      ]
     },
     "execution_count": 18,
     "metadata": {},
     "output_type": "execute_result"
    }
   ],
   "source": [
    "df_sample.drop(\"gad\",axis=0)"
   ]
  },
  {
   "cell_type": "code",
   "execution_count": null,
   "metadata": {},
   "outputs": [],
   "source": []
  },
  {
   "cell_type": "markdown",
   "metadata": {},
   "source": [
    "# 連結 (concatenate)\n",
    "http://sinhrks.hatenablog.com/entry/2015/01/28/073327\n",
    "axis=1：行の削除であることを明記"
   ]
  },
  {
   "cell_type": "code",
   "execution_count": 9,
   "metadata": {
    "ExecuteTime": {
     "end_time": "2017-10-15T03:29:58.602482Z",
     "start_time": "2017-10-15T03:29:58.571967Z"
    }
   },
   "outputs": [
    {
     "data": {
      "text/html": [
       "<div>\n",
       "<style>\n",
       "    .dataframe thead tr:only-child th {\n",
       "        text-align: right;\n",
       "    }\n",
       "\n",
       "    .dataframe thead th {\n",
       "        text-align: left;\n",
       "    }\n",
       "\n",
       "    .dataframe tbody tr th {\n",
       "        vertical-align: top;\n",
       "    }\n",
       "</style>\n",
       "<table border=\"1\" class=\"dataframe\">\n",
       "  <thead>\n",
       "    <tr style=\"text-align: right;\">\n",
       "      <th></th>\n",
       "      <th>0</th>\n",
       "      <th>1</th>\n",
       "      <th>2</th>\n",
       "    </tr>\n",
       "  </thead>\n",
       "  <tbody>\n",
       "    <tr>\n",
       "      <th>0</th>\n",
       "      <td>1.0</td>\n",
       "      <td>NaN</td>\n",
       "      <td>100.0</td>\n",
       "    </tr>\n",
       "    <tr>\n",
       "      <th>1</th>\n",
       "      <td>2.0</td>\n",
       "      <td>NaN</td>\n",
       "      <td>NaN</td>\n",
       "    </tr>\n",
       "    <tr>\n",
       "      <th>2</th>\n",
       "      <td>3.0</td>\n",
       "      <td>NaN</td>\n",
       "      <td>200.0</td>\n",
       "    </tr>\n",
       "    <tr>\n",
       "      <th>3</th>\n",
       "      <td>4.0</td>\n",
       "      <td>NaN</td>\n",
       "      <td>NaN</td>\n",
       "    </tr>\n",
       "    <tr>\n",
       "      <th>4</th>\n",
       "      <td>5.0</td>\n",
       "      <td>NaN</td>\n",
       "      <td>300.0</td>\n",
       "    </tr>\n",
       "    <tr>\n",
       "      <th>6</th>\n",
       "      <td>NaN</td>\n",
       "      <td>NaN</td>\n",
       "      <td>400.0</td>\n",
       "    </tr>\n",
       "    <tr>\n",
       "      <th>8</th>\n",
       "      <td>NaN</td>\n",
       "      <td>NaN</td>\n",
       "      <td>500.0</td>\n",
       "    </tr>\n",
       "    <tr>\n",
       "      <th>10</th>\n",
       "      <td>NaN</td>\n",
       "      <td>10.0</td>\n",
       "      <td>NaN</td>\n",
       "    </tr>\n",
       "    <tr>\n",
       "      <th>11</th>\n",
       "      <td>NaN</td>\n",
       "      <td>20.0</td>\n",
       "      <td>NaN</td>\n",
       "    </tr>\n",
       "    <tr>\n",
       "      <th>12</th>\n",
       "      <td>NaN</td>\n",
       "      <td>30.0</td>\n",
       "      <td>NaN</td>\n",
       "    </tr>\n",
       "    <tr>\n",
       "      <th>13</th>\n",
       "      <td>NaN</td>\n",
       "      <td>40.0</td>\n",
       "      <td>NaN</td>\n",
       "    </tr>\n",
       "    <tr>\n",
       "      <th>14</th>\n",
       "      <td>NaN</td>\n",
       "      <td>50.0</td>\n",
       "      <td>NaN</td>\n",
       "    </tr>\n",
       "  </tbody>\n",
       "</table>\n",
       "</div>"
      ],
      "text/plain": [
       "      0     1      2\n",
       "0   1.0   NaN  100.0\n",
       "1   2.0   NaN    NaN\n",
       "2   3.0   NaN  200.0\n",
       "3   4.0   NaN    NaN\n",
       "4   5.0   NaN  300.0\n",
       "6   NaN   NaN  400.0\n",
       "8   NaN   NaN  500.0\n",
       "10  NaN  10.0    NaN\n",
       "11  NaN  20.0    NaN\n",
       "12  NaN  30.0    NaN\n",
       "13  NaN  40.0    NaN\n",
       "14  NaN  50.0    NaN"
      ]
     },
     "execution_count": 9,
     "metadata": {},
     "output_type": "execute_result"
    }
   ],
   "source": [
    "import pandas as pd\n",
    "s1 = pd.Series([1,2,3,4,5], index=[0,1,2,3,4])\n",
    "s2 = pd.Series([10,20,30,40,50], index=[10,11,12,13,14])\n",
    "s3 = pd.Series([100,200,300,400,500], index=[0,2,4,6,8])\n",
    "pd.concat([s1, s2, s3], axis=1)\n"
   ]
  },
  {
   "cell_type": "code",
   "execution_count": 4,
   "metadata": {
    "ExecuteTime": {
     "end_time": "2017-10-15T03:28:47.675849Z",
     "start_time": "2017-10-15T03:28:47.504307Z"
    }
   },
   "outputs": [
    {
     "ename": "NameError",
     "evalue": "name 'df' is not defined",
     "output_type": "error",
     "traceback": [
      "\u001b[1;31m---------------------------------------------------------------------------\u001b[0m",
      "\u001b[1;31mNameError\u001b[0m                                 Traceback (most recent call last)",
      "\u001b[1;32m<ipython-input-4-4c8da63fb9fe>\u001b[0m in \u001b[0;36m<module>\u001b[1;34m()\u001b[0m\n\u001b[1;32m----> 1\u001b[1;33m \u001b[0mdf\u001b[0m\u001b[1;33m.\u001b[0m\u001b[0mstyle\u001b[0m\u001b[1;33m\u001b[0m\u001b[0m\n\u001b[0m",
      "\u001b[1;31mNameError\u001b[0m: name 'df' is not defined"
     ]
    }
   ],
   "source": [
    "df.style"
   ]
  },
  {
   "cell_type": "markdown",
   "metadata": {
    "collapsed": true
   },
   "source": [
    "# nonを落とす\n",
    "pandasは通常np.nanで欠損値を表現。これらの欠損値は計算時には基本的に無視される。"
   ]
  },
  {
   "cell_type": "code",
   "execution_count": 2,
   "metadata": {},
   "outputs": [
    {
     "ename": "SyntaxError",
     "evalue": "invalid character in identifier (<ipython-input-2-5dc6df0e969b>, line 1)",
     "output_type": "error",
     "traceback": [
      "\u001b[1;36m  File \u001b[1;32m\"<ipython-input-2-5dc6df0e969b>\"\u001b[1;36m, line \u001b[1;32m1\u001b[0m\n\u001b[1;33m    df.dropna()\t欠損値がひとつでも含まれていたら、行を落とす\u001b[0m\n\u001b[1;37m               \t                     ^\u001b[0m\n\u001b[1;31mSyntaxError\u001b[0m\u001b[1;31m:\u001b[0m invalid character in identifier\n"
     ]
    }
   ],
   "source": [
    "df.dropna()\t欠損値がひとつでも含まれていたら、行を落とす\n",
    "df.dropna(how='all')\tすべての値が欠損していたら、行を落とす\n",
    "df.fillna(0)\t欠損値を0で埋める\n",
    "df.fillna(method='ffill')\t前の値で欠損値を埋める"
   ]
  },
  {
   "cell_type": "markdown",
   "metadata": {
    "collapsed": true
   },
   "source": [
    "# 頻度を出す"
   ]
  },
  {
   "cell_type": "code",
   "execution_count": null,
   "metadata": {},
   "outputs": [],
   "source": [
    "df.apply(pd.value_counts)"
   ]
  },
  {
   "cell_type": "markdown",
   "metadata": {},
   "source": [
    "# DataFrame や Series の重複データをチェック・削除－python\n",
    "http://ailaby.com/duplicated/"
   ]
  },
  {
   "cell_type": "markdown",
   "metadata": {
    "ExecuteTime": {
     "end_time": "2017-11-06T12:20:36.522315Z",
     "start_time": "2017-11-06T12:20:36.183088Z"
    }
   },
   "source": [
    "####################\n",
    "# DataFrame操作\n",
    "\n",
    "# サンプルのデータフレーム\n",
    "df = pd.DataFrame(arange(12).reshape((3, 4)), index=list(\"ABC\"), columns=list(\"abcd\"))\n",
    "\n",
    "\n",
    "####\n",
    "# 行、列の番号を指定してとりだす。\n",
    "# 行番号指定\n",
    "df.iloc[1, :]\n",
    " # df.ix[1,:]だと、'1'というインデックスを優先する\n",
    "\n",
    "# 列番号指定\n",
    "df.ix[ : , 1:3]\n",
    "df.iloc[1]\n",
    "\n",
    "# 行・列の両方を番号指定\n",
    "df.ix[ 1: , 1:3]\n",
    "\n",
    "\n",
    "####\n",
    "# 行、列のインデックスを指定して取り出す。\n",
    "# 列のインデックス指定\n",
    "df[['a','c']]\n",
    "df['a']だとSeriesで、df[['a']]だとデータフレームでとりだす\n",
    "\n",
    "# 行のインデックス指定\n",
    "df.ix['one']\n",
    "\n",
    "# 行と列のインデックス指定\n",
    "In [35]: df.ix['one':'three',['b','d']]\n",
    "Out[35]: \n",
    "       b   d\n",
    "one    1   3\n",
    "two    5   7\n",
    "three  9  11\n",
    "\n",
    "\n",
    "# 特定の値での条件抽出\n",
    "# このデータに対して例えば B が 50 より大きく， C が 900 の時の A のデータを検索する\n",
    "df.loc[(df[\"B\"] > 50) & (df[\"C\"] == 900), \"A\"]\n",
    "2    5\n",
    "3    8\n",
    "\n",
    "df[df.B > 50]\n",
    "\n",
    "\n",
    "# キーを格納したベクトルがあり、それに一致する行ところだけ抽出\n",
    "key = ['a', 'b', 'c', 'c']\n",
    "# - キーから重複を除外\n",
    "key2 = sorted(set(key), key=key.index)\n",
    "# - 抽出\n",
    "df.ix[key2,:] # これではNaN列ができる\n",
    "df.ix[df.index.isin(key2),:]\n",
    "#  + 列でも抽出できる\n",
    "df.ix[:,df.columns.isin(key2)]\n",
    "\n",
    "\n",
    "####################\n",
    "# Series\n",
    " # Seriesは1次元配列で、インデックスというデータラベルとデータ自体の2つの要素がある。\n",
    "\n",
    "obj = Series([4, 7, -5, 3])\n",
    "\n",
    "# インデックスにアクセス\n",
    "obj.index\n",
    "\n",
    "# データにアクセス\n",
    "obj.values\n",
    "  # データの特定の要素にアクセス\n",
    "  obj.values[0]\n",
    "\n",
    "\n",
    "####################\n",
    "# 重複操作\n",
    "+ 重複があるかどうかしらべる。返り値はT/F\n",
    "a.dupulicated()\n",
    "\n",
    "+ 削除\n",
    "a.drop_duplicates()\n",
    "\n",
    "+ データフレームの重複削除\n",
    " - サンプルのデータフレーム\n",
    "data = pd.DataFrame({'k1': ['one'] * 3 + ['two'] * 4, 'k2': [1, 1, 2, 3, 3, 4, 4], 'v1':range(7)})\n",
    " - 特定の列の重複だけ除外。最初の行だけ残る\n",
    "data.drop_duplicates(['k1'])\n",
    "data.drop_duplicates(['k2'])\n",
    " - 複数列でソート、最後の列を残す\n",
    "data.drop_duplicates(['k1', 'k2'], take_last=True)\n",
    "\n",
    "+ 重複しているものすべとぉ削除\n",
    "    - まずダミー列をつくる。重複キーとしたい列を代入する\n",
    "    data['Dummy'] = data.k2\n",
    "    - groupbyを使って削除\n",
    "    data.groupby([\"Dummy\"]).filter(lambda x:x.shape[0] == 1)\n",
    "\n",
    "### 2つのシリーズで一方が一方に含まれるか\n",
    "a = pd.Series(['a', 'b', 'x'])\n",
    "ilist = pd.Series(['a', 'b'])\n",
    "print(a.isin(ilist))\n",
    "# aのなかの'a', 'b'はリストにあるが、'x'はない\n",
    "\n",
    "\n",
    "\n",
    "####################\n",
    "# その他\n",
    "\n",
    "# 欠損値の有無を調べる\n",
    "import pandas as pd\n",
    "import numpy as np\n",
    "from collections import Counter\n",
    "x = pd.Series(['California', 'Ohio', 'Oregon', 'Texas', np.nan])\n",
    "Counter(pd.isnull(x))\n",
    "# pd.isnull(x) で個々のスカラが欠損値かどうかのブール値をかえす"
   ]
  },
  {
   "cell_type": "markdown",
   "metadata": {},
   "source": [
    "# ゆるふわPandasチートシート\n",
    "https://qiita.com/tanemaki/items/2ed05e258ef4c9e6caac"
   ]
  },
  {
   "cell_type": "markdown",
   "metadata": {},
   "source": [
    "# 重複しているものを抽出する"
   ]
  },
  {
   "cell_type": "code",
   "execution_count": 11,
   "metadata": {
    "ExecuteTime": {
     "end_time": "2017-11-06T12:35:59.080029Z",
     "start_time": "2017-11-06T12:35:59.063017Z"
    },
    "run_control": {
     "marked": false
    }
   },
   "outputs": [
    {
     "data": {
      "text/html": [
       "<div>\n",
       "<style>\n",
       "    .dataframe thead tr:only-child th {\n",
       "        text-align: right;\n",
       "    }\n",
       "\n",
       "    .dataframe thead th {\n",
       "        text-align: left;\n",
       "    }\n",
       "\n",
       "    .dataframe tbody tr th {\n",
       "        vertical-align: top;\n",
       "    }\n",
       "</style>\n",
       "<table border=\"1\" class=\"dataframe\">\n",
       "  <thead>\n",
       "    <tr style=\"text-align: right;\">\n",
       "      <th></th>\n",
       "      <th>A</th>\n",
       "      <th>checksum</th>\n",
       "    </tr>\n",
       "  </thead>\n",
       "  <tbody>\n",
       "    <tr>\n",
       "      <th>0</th>\n",
       "      <td>0</td>\n",
       "      <td>0</td>\n",
       "    </tr>\n",
       "    <tr>\n",
       "      <th>1</th>\n",
       "      <td>1</td>\n",
       "      <td>0</td>\n",
       "    </tr>\n",
       "    <tr>\n",
       "      <th>2</th>\n",
       "      <td>2</td>\n",
       "      <td>1</td>\n",
       "    </tr>\n",
       "    <tr>\n",
       "      <th>3</th>\n",
       "      <td>3</td>\n",
       "      <td>0</td>\n",
       "    </tr>\n",
       "    <tr>\n",
       "      <th>4</th>\n",
       "      <td>4</td>\n",
       "      <td>1</td>\n",
       "    </tr>\n",
       "    <tr>\n",
       "      <th>5</th>\n",
       "      <td>5</td>\n",
       "      <td>1</td>\n",
       "    </tr>\n",
       "    <tr>\n",
       "      <th>6</th>\n",
       "      <td>6</td>\n",
       "      <td>1</td>\n",
       "    </tr>\n",
       "    <tr>\n",
       "      <th>7</th>\n",
       "      <td>7</td>\n",
       "      <td>1</td>\n",
       "    </tr>\n",
       "    <tr>\n",
       "      <th>8</th>\n",
       "      <td>8</td>\n",
       "      <td>0</td>\n",
       "    </tr>\n",
       "    <tr>\n",
       "      <th>9</th>\n",
       "      <td>9</td>\n",
       "      <td>1</td>\n",
       "    </tr>\n",
       "    <tr>\n",
       "      <th>10</th>\n",
       "      <td>10</td>\n",
       "      <td>0</td>\n",
       "    </tr>\n",
       "  </tbody>\n",
       "</table>\n",
       "</div>"
      ],
      "text/plain": [
       "     A  checksum\n",
       "0    0         0\n",
       "1    1         0\n",
       "2    2         1\n",
       "3    3         0\n",
       "4    4         1\n",
       "5    5         1\n",
       "6    6         1\n",
       "7    7         1\n",
       "8    8         0\n",
       "9    9         1\n",
       "10  10         0"
      ]
     },
     "execution_count": 11,
     "metadata": {},
     "output_type": "execute_result"
    }
   ],
   "source": [
    "import pandas as pd\n",
    "\n",
    "df = pd.DataFrame({'A': range(11), 'checksum': [0, 0, 1, 0, 1, 1, 1, 1, 0, 1, 0]})\n",
    "df"
   ]
  },
  {
   "cell_type": "code",
   "execution_count": 12,
   "metadata": {
    "ExecuteTime": {
     "end_time": "2017-11-06T12:35:59.980927Z",
     "start_time": "2017-11-06T12:35:59.963918Z"
    }
   },
   "outputs": [
    {
     "name": "stdout",
     "output_type": "stream",
     "text": [
      "   A  checksum\n",
      "4  4         1\n",
      "5  5         1\n",
      "   A  checksum\n",
      "5  5         1\n",
      "6  6         1\n",
      "   A  checksum\n",
      "6  6         1\n",
      "7  7         1\n"
     ]
    }
   ],
   "source": [
    "consecutive = 2\n",
    "    ix = df.loc[df['checksum'].rolling(consecutive).sum() == consecutive].index\n",
    "    for x in ix:\n",
    "        print(df.loc[x - consecutive + 1:x])"
   ]
  },
  {
   "cell_type": "code",
   "execution_count": 13,
   "metadata": {
    "ExecuteTime": {
     "end_time": "2017-11-06T12:37:51.151762Z",
     "start_time": "2017-11-06T12:37:51.144757Z"
    },
    "run_control": {
     "marked": false
    }
   },
   "outputs": [
    {
     "data": {
      "text/plain": [
       "Int64Index([5, 6, 7], dtype='int64')"
      ]
     },
     "execution_count": 13,
     "metadata": {},
     "output_type": "execute_result"
    }
   ],
   "source": [
    "ix"
   ]
  },
  {
   "cell_type": "markdown",
   "metadata": {
    "collapsed": true
   },
   "source": [
    "# for loop"
   ]
  },
  {
   "cell_type": "code",
   "execution_count": 2,
   "metadata": {
    "ExecuteTime": {
     "end_time": "2017-11-07T07:13:51.885523Z",
     "start_time": "2017-11-07T07:13:51.853520Z"
    }
   },
   "outputs": [
    {
     "data": {
      "text/html": [
       "<div>\n",
       "<style>\n",
       "    .dataframe thead tr:only-child th {\n",
       "        text-align: right;\n",
       "    }\n",
       "\n",
       "    .dataframe thead th {\n",
       "        text-align: left;\n",
       "    }\n",
       "\n",
       "    .dataframe tbody tr th {\n",
       "        vertical-align: top;\n",
       "    }\n",
       "</style>\n",
       "<table border=\"1\" class=\"dataframe\">\n",
       "  <thead>\n",
       "    <tr style=\"text-align: right;\">\n",
       "      <th></th>\n",
       "      <th>X</th>\n",
       "      <th>Y</th>\n",
       "    </tr>\n",
       "  </thead>\n",
       "  <tbody>\n",
       "    <tr>\n",
       "      <th>a</th>\n",
       "      <td>1</td>\n",
       "      <td>100</td>\n",
       "    </tr>\n",
       "    <tr>\n",
       "      <th>b</th>\n",
       "      <td>2</td>\n",
       "      <td>200</td>\n",
       "    </tr>\n",
       "    <tr>\n",
       "      <th>c</th>\n",
       "      <td>3</td>\n",
       "      <td>300</td>\n",
       "    </tr>\n",
       "  </tbody>\n",
       "</table>\n",
       "</div>"
      ],
      "text/plain": [
       "   X    Y\n",
       "a  1  100\n",
       "b  2  200\n",
       "c  3  300"
      ]
     },
     "execution_count": 2,
     "metadata": {},
     "output_type": "execute_result"
    }
   ],
   "source": [
    "from pandas import DataFrame\n",
    "data = DataFrame({'X': [1, 2, 3], 'Y': [100, 200, 300]}, index=['a', 'b', 'c'])\n",
    "data"
   ]
  },
  {
   "cell_type": "code",
   "execution_count": 3,
   "metadata": {
    "ExecuteTime": {
     "end_time": "2017-11-07T07:14:05.168879Z",
     "start_time": "2017-11-07T07:14:05.148882Z"
    }
   },
   "outputs": [
    {
     "name": "stdout",
     "output_type": "stream",
     "text": [
      "a 1 100\n",
      "b 2 200\n",
      "c 3 300\n"
     ]
    }
   ],
   "source": [
    "#====== iterrows =======\n",
    "# 縦方向にループ\n",
    " \n",
    "for i, v in data.iterrows():\n",
    "    print (i, v['X'], v['Y'])    # v は Series"
   ]
  },
  {
   "cell_type": "code",
   "execution_count": 4,
   "metadata": {
    "ExecuteTime": {
     "end_time": "2017-11-07T07:14:19.198553Z",
     "start_time": "2017-11-07T07:14:19.186556Z"
    }
   },
   "outputs": [
    {
     "name": "stdout",
     "output_type": "stream",
     "text": [
      "X 1 2 3\n",
      "Y 100 200 300\n"
     ]
    }
   ],
   "source": [
    "#====== iteritems ======\n",
    "# 横方向にループ\n",
    " \n",
    "for i, v in data.iteritems():\n",
    "    print (i, v['a'], v['b'], v['c'])   # v は Series\n"
   ]
  },
  {
   "cell_type": "code",
   "execution_count": null,
   "metadata": {},
   "outputs": [],
   "source": []
  }
 ],
 "metadata": {
  "hide_input": false,
  "kernelspec": {
   "display_name": "Python 3",
   "language": "python",
   "name": "python3"
  },
  "language_info": {
   "codemirror_mode": {
    "name": "ipython",
    "version": 3
   },
   "file_extension": ".py",
   "mimetype": "text/x-python",
   "name": "python",
   "nbconvert_exporter": "python",
   "pygments_lexer": "ipython3",
   "version": "3.6.2"
  },
  "nbTranslate": {
   "displayLangs": [
    "ja",
    "en"
   ],
   "hotkey": "alt-t",
   "langInMainMenu": true,
   "sourceLang": "en",
   "targetLang": "ja",
   "useGoogleTranslate": true
  },
  "toc": {
   "nav_menu": {
    "height": "31px",
    "width": "252px"
   },
   "number_sections": true,
   "sideBar": true,
   "skip_h1_title": false,
   "toc_cell": false,
   "toc_position": {
    "height": "969px",
    "left": "0px",
    "right": "967px",
    "top": "130.99px",
    "width": "206px"
   },
   "toc_section_display": "block",
   "toc_window_display": true
  }
 },
 "nbformat": 4,
 "nbformat_minor": 1
}
