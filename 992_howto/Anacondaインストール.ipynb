{
 "cells": [
  {
   "cell_type": "markdown",
   "metadata": {},
   "source": [
    "## インストール"
   ]
  },
  {
   "cell_type": "markdown",
   "metadata": {
    "heading_collapsed": true
   },
   "source": [
    "### Anacondaをダウンロードしてインストール\n",
    "インストール過程で、環境変数を設定するようチェックを入れる（文字は赤くなるけど、この方が楽）"
   ]
  },
  {
   "cell_type": "markdown",
   "metadata": {},
   "source": [
    "### extentionsのインストール\n",
    "下記を実行する"
   ]
  },
  {
   "cell_type": "markdown",
   "metadata": {},
   "source": [
    "pip install jupyter_contrib_nbextensions  \n",
    "jupyter contrib nbextension install --user  \n",
    "jupyter nbextension enable codefolding/main  \n",
    "jupyter contrib nbextensions migrate  \n",
    "\n",
    "-------------------------------------\n",
    "拡張機能を止めたいときは、以下のコードを入力  \n",
    "jupyter nbextension disable codefolding/main  "
   ]
  },
  {
   "cell_type": "markdown",
   "metadata": {},
   "source": [
    "### 設定の変更\n",
    "1. jupyterの設定（portなど）\"%userprofile%\\.jupyter\\jupyter_notebook_config.py\"\n",
    "1. extentionsの設定（何を有効にするか）\"%userprofile%\\.jupyter\\nbconfig\"\n",
    "1. snippetsの設定 \"%userprofile%\\AppData\\Roaming\\jupyter\\nbextensions\\snippets\\snippets.json\""
   ]
  },
  {
   "cell_type": "markdown",
   "metadata": {},
   "source": [
    "<span class=\"burk\">ダウンロード先は、ちゃんとまとめよう</span>\n",
    "\n",
    "https://github.com/myao9494/jupyter_config.git  \n",
    "https://github.com/myao9494/snippets"
   ]
  },
  {
   "cell_type": "markdown",
   "metadata": {},
   "source": [
    "### 参考\n",
    "いろんな設定のパスは以下。上から優先順位が高いみたい  \n",
    "\n",
    "Run jupyter --path to determine the location(path) of your Jupyter Notebook configuration   \n",
    "\n",
    "config:  \n",
    "- C:\\Users\\Aaron\\.jupyter  \n",
    "- C:\\Anaconda35\\etc\\jupyter  \n",
    "- C:\\ProgramData\\jupyter  \n",
    "\n",
    "data:  \n",
    "- C:\\Users\\Aaron\\AppData\\Roaming\\jupyter  \n",
    "- C:\\Anaconda35\\share\\jupyter  \n",
    "- C:\\ProgramData\\jupyter  \n",
    "\n",
    "runtime:  \n",
    "- C:\\Users\\Aaron\\AppData\\Roaming\\jupyter\\runtime  "
   ]
  },
  {
   "cell_type": "markdown",
   "metadata": {},
   "source": [
    "## 仮想環境"
   ]
  },
  {
   "cell_type": "markdown",
   "metadata": {},
   "source": [
    "- 作成　：　conda create -n gym_trading python=3.6 anaconda\n",
    "- 確認　：　conda info -e\n",
    "- 削除　：　conda remove -n gym_trading --all"
   ]
  },
  {
   "cell_type": "markdown",
   "metadata": {},
   "source": []
  },
  {
   "cell_type": "markdown",
   "metadata": {},
   "source": []
  },
  {
   "cell_type": "markdown",
   "metadata": {},
   "source": [
    "## ライブラリ（特殊）"
   ]
  },
  {
   "cell_type": "markdown",
   "metadata": {},
   "source": [
    "### Opnegym atari\n",
    "https://stackoverflow.com/questions/42605769/openai-gym-atari-on-windows3"
   ]
  },
  {
   "cell_type": "code",
   "execution_count": null,
   "metadata": {},
   "outputs": [],
   "source": [
    "pip install --no-index -f https://github.com/Kojoley/atari-py/releases atari_py"
   ]
  },
  {
   "cell_type": "markdown",
   "metadata": {},
   "source": [
    "### Keras-RL のインストール\n",
    "Keras-RL は pip を使って簡単にインストール出来ます。"
   ]
  },
  {
   "cell_type": "markdown",
   "metadata": {},
   "source": [
    "git clone https://github.com/matthiasplappert/keras-rl.git  \n",
    "python keras-rl/setup.py install  "
   ]
  },
  {
   "cell_type": "code",
   "execution_count": null,
   "metadata": {},
   "outputs": [],
   "source": []
  }
 ],
 "metadata": {
  "hide_input": false,
  "kernelspec": {
   "display_name": "Python 3",
   "language": "python",
   "name": "python3"
  },
  "language_info": {
   "codemirror_mode": {
    "name": "ipython",
    "version": 3
   },
   "file_extension": ".py",
   "mimetype": "text/x-python",
   "name": "python",
   "nbconvert_exporter": "python",
   "pygments_lexer": "ipython3",
   "version": "3.6.4"
  },
  "nbTranslate": {
   "displayLangs": [
    "*"
   ],
   "hotkey": "alt-t",
   "langInMainMenu": true,
   "sourceLang": "en",
   "targetLang": "fr",
   "useGoogleTranslate": true
  },
  "toc": {
   "base_numbering": 1,
   "nav_menu": {},
   "number_sections": true,
   "sideBar": true,
   "skip_h1_title": false,
   "title_cell": "Table of Contents",
   "title_sidebar": "Contents",
   "toc_cell": false,
   "toc_position": {},
   "toc_section_display": true,
   "toc_window_display": true
  },
  "varInspector": {
   "cols": {
    "lenName": 16,
    "lenType": 16,
    "lenVar": 40
   },
   "kernels_config": {
    "python": {
     "delete_cmd_postfix": "",
     "delete_cmd_prefix": "del ",
     "library": "var_list.py",
     "varRefreshCmd": "print(var_dic_list())"
    },
    "r": {
     "delete_cmd_postfix": ") ",
     "delete_cmd_prefix": "rm(",
     "library": "var_list.r",
     "varRefreshCmd": "cat(var_dic_list()) "
    }
   },
   "types_to_exclude": [
    "module",
    "function",
    "builtin_function_or_method",
    "instance",
    "_Feature"
   ],
   "window_display": false
  }
 },
 "nbformat": 4,
 "nbformat_minor": 2
}
