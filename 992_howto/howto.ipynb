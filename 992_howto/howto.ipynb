{
 "cells": [
  {
   "cell_type": "markdown",
   "metadata": {
    "run_control": {
     "frozen": false,
     "read_only": false
    }
   },
   "source": [
    "## メモ"
   ]
  },
  {
   "cell_type": "markdown",
   "metadata": {},
   "source": [
    "https://3day-printer.com/guide/printer"
   ]
  },
  {
   "cell_type": "code",
   "execution_count": null,
   "metadata": {
    "collapsed": true
   },
   "outputs": [],
   "source": [
    "https://fabcross.jp/news/2017/20170605_blackbelt.html"
   ]
  },
  {
   "cell_type": "code",
   "execution_count": null,
   "metadata": {
    "collapsed": true
   },
   "outputs": [],
   "source": [
    "https://fabcross.jp/news/2017/20170704_bigrep_fff3dprinter_bigrepstudio.html"
   ]
  },
  {
   "cell_type": "code",
   "execution_count": null,
   "metadata": {
    "collapsed": true
   },
   "outputs": [],
   "source": [
    "https://fabcross.jp/news/2017/20170622_bellulo_renewal_bellulo500.html"
   ]
  },
  {
   "cell_type": "markdown",
   "metadata": {
    "ExecuteTime": {
     "end_time": "2017-08-24T21:36:24.827508Z",
     "start_time": "2017-08-24T21:36:24.819502Z"
    }
   },
   "source": [
    "FORTUS450mc \n",
    "http://www.ricoh.co.jp/3dp/lineup/fdm/fortus450mc/\n",
    "2000万円以上\n",
    "従来の保守費"
   ]
  },
  {
   "cell_type": "markdown",
   "metadata": {
    "run_control": {
     "frozen": false,
     "read_only": false
    }
   },
   "source": [
    "ロケットのシミュレータ\n",
    "https://github.com/pyjbooks/PyRockSim"
   ]
  },
  {
   "cell_type": "markdown",
   "metadata": {
    "heading_collapsed": true,
    "run_control": {
     "frozen": false,
     "read_only": false
    }
   },
   "source": [
    "## 便利いろいろ"
   ]
  },
  {
   "cell_type": "code",
   "execution_count": 1,
   "metadata": {
    "ExecuteTime": {
     "end_time": "2017-07-24T20:44:28.352811Z",
     "start_time": "2017-07-24T20:44:28.201812Z"
    },
    "hidden": true,
    "run_control": {
     "frozen": false,
     "read_only": false
    }
   },
   "outputs": [],
   "source": [
    "! explorer ."
   ]
  },
  {
   "cell_type": "markdown",
   "metadata": {
    "collapsed": true,
    "run_control": {
     "frozen": false,
     "read_only": false
    }
   },
   "source": [
    "# パッケージ"
   ]
  },
  {
   "cell_type": "markdown",
   "metadata": {
    "run_control": {
     "frozen": false,
     "read_only": false
    }
   },
   "source": [
    "## インストールされているライブラリ"
   ]
  },
  {
   "cell_type": "code",
   "execution_count": 1,
   "metadata": {
    "ExecuteTime": {
     "end_time": "2017-08-01T20:55:20.107824Z",
     "start_time": "2017-08-01T20:55:17.806142Z"
    },
    "run_control": {
     "frozen": false,
     "read_only": false
    }
   },
   "outputs": [
    {
     "name": "stdout",
     "output_type": "stream",
     "text": [
      "backtrader==1.9.56.122\n",
      "beautifulsoup4==4.6.0\n",
      "bkcharts==0.2\n",
      "bleach==1.5.0\n",
      "bokeh==0.12.6\n",
      "chainer==2.0.2\n",
      "colorama==0.3.9\n",
      "comtypes==1.1.2\n",
      "cycler==0.10.0\n",
      "decorator==4.0.11\n",
      "easy-sharepoint==0.1\n",
      "entrypoints==0.2.2\n",
      "filelock==2.0.11\n",
      "gitdb2==2.0.0\n",
      "GitPython==2.1.3\n",
      "graphviz==0.8\n",
      "gspread==0.6.2\n",
      "h5py==2.7.0\n",
      "holoviews==1.8.1\n",
      "html5lib==0.999\n",
      "httplib2==0.10.3\n",
      "imageio==2.1.2\n",
      "ipykernel==4.6.1\n",
      "ipython==6.0.0\n",
      "ipython-genutils==0.2.0\n",
      "ipywidgets==6.0.0\n",
      "Jinja2==2.9.6\n",
      "jsonschema==2.6.0\n",
      "jupyter==1.0.0\n",
      "jupyter-client==5.0.1\n",
      "jupyter-cms==0.7.0\n",
      "jupyter-console==5.1.0\n",
      "jupyter-contrib-core==0.3.0\n",
      "jupyter-contrib-nbextensions==0.2.6\n",
      "jupyter-core==4.3.0\n",
      "jupyter-highlight-selected-word==0.0.10\n",
      "jupyter-latex-envs==1.3.8.2\n",
      "jupyter-nbextensions-configurator==0.2.4\n",
      "Keras==2.0.6\n",
      "keras-rl==0.3.0\n",
      "lxml==3.8.0\n",
      "MarkupSafe==0.23\n",
      "matplotlib==2.0.2\n",
      "mistune==0.7.4\n",
      "mock==2.0.0\n",
      "moviepy==0.2.3.2\n",
      "nbconvert==5.1.1\n",
      "nbdime==0.3.0\n",
      "nbformat==4.3.0\n",
      "nose==1.3.7\n",
      "notebook==5.0.0\n",
      "numpy==1.13.1\n",
      "oauth2client==4.1.2\n",
      "oauthlib==2.0.2\n",
      "olefile==0.44\n",
      "pandas==0.20.3\n",
      "pandas-datareader==0.2.1\n",
      "pandocfilters==1.4.1\n",
      "param==1.5.1\n",
      "path.py==10.3.1\n",
      "pbr==3.1.1\n",
      "pickleshare==0.7.4\n",
      "Pillow==4.1.1\n",
      "plotly==2.0.11\n",
      "prompt-toolkit==1.0.14\n",
      "protobuf==3.2.0\n",
      "psutil==5.2.2\n",
      "py-trello==0.9.0\n",
      "pyasn1==0.2.3\n",
      "pyasn1-modules==0.0.9\n",
      "PyAutoGUI==0.9.35\n",
      "pydot==1.2.3\n",
      "pydot-ng==1.0.0\n",
      "pydotplus==2.0.2\n",
      "Pygments==2.2.0\n",
      "PyMsgBox==1.0.6\n",
      "pyparsing==2.1.4\n",
      "PyScreeze==0.1.9\n",
      "python-dateutil==2.6.0\n",
      "python-redmine==2.0.2\n",
      "PyTweening==1.0.3\n",
      "pytz==2017.2\n",
      "pywin32==220\n",
      "PyYAML==3.12\n",
      "pyzmq==16.0.2\n",
      "qtconsole==4.3.0\n",
      "requests==2.14.2\n",
      "requests-file==1.4.1\n",
      "requests-oauthlib==0.8.0\n",
      "rsa==3.4.2\n",
      "scikit-learn==0.19.0\n",
      "scipy==0.19.1\n",
      "selenium==3.3.1\n",
      "simplegeneric==0.8.1\n",
      "six==1.10.0\n",
      "smmap2==2.0.1\n",
      "svgwrite==1.1.11\n",
      "tensorflow==1.0.1\n",
      "testpath==0.3\n",
      "tflearn==0.3.2\n",
      "Theano==0.9.0\n",
      "tornado==4.5.1\n",
      "tqdm==4.11.2\n",
      "traitlets==4.3.2\n",
      "wcwidth==0.1.7\n",
      "Whoosh==2.7.4\n",
      "widgetsnbextension==2.0.0\n",
      "win-unicode-console==0.5\n",
      "winspeech==1.0.1\n",
      "xlrd==1.0.0\n",
      "XlsxWriter==0.9.6\n",
      "xlutils==2.0.0\n",
      "xlwings==0.10.4\n",
      "xlwt==1.2.0\n"
     ]
    }
   ],
   "source": [
    "! pip freeze"
   ]
  },
  {
   "cell_type": "markdown",
   "metadata": {
    "run_control": {
     "frozen": false,
     "read_only": false
    }
   },
   "source": [
    "## アップデート"
   ]
  },
  {
   "cell_type": "code",
   "execution_count": null,
   "metadata": {
    "run_control": {
     "frozen": false,
     "read_only": false
    }
   },
   "outputs": [],
   "source": [
    "pip install -U keras"
   ]
  },
  {
   "cell_type": "code",
   "execution_count": null,
   "metadata": {
    "run_control": {
     "frozen": false,
     "read_only": false
    }
   },
   "outputs": [],
   "source": []
  },
  {
   "cell_type": "markdown",
   "metadata": {
    "run_control": {
     "frozen": false,
     "read_only": false
    }
   },
   "source": [
    "# jupyterのマジックコマンド"
   ]
  },
  {
   "cell_type": "markdown",
   "metadata": {
    "collapsed": true,
    "run_control": {
     "frozen": false,
     "read_only": false
    }
   },
   "source": [
    "- %who      : 宣言されている変数一覧の表示\n",
    "- %whos     : 宣言されている変数一覧の詳細表示(型と値)\n",
    "- obj?      : Objectの型と値の表示\n",
    "- %quickref : サポートされるMagic Commandの一覧の表示\n",
    "- %matplotlib inline : jupyter内に表示させる"
   ]
  },
  {
   "cell_type": "code",
   "execution_count": null,
   "metadata": {
    "ExecuteTime": {
     "end_time": "2017-07-18T23:36:55.827877Z",
     "start_time": "2017-07-18T23:36:55.820873Z"
    },
    "run_control": {
     "frozen": false,
     "read_only": false
    }
   },
   "outputs": [],
   "source": [
    "%quickref"
   ]
  },
  {
   "cell_type": "markdown",
   "metadata": {
    "collapsed": true,
    "run_control": {
     "frozen": false,
     "read_only": false
    }
   },
   "source": [
    "# モジュールのリロード"
   ]
  },
  {
   "cell_type": "markdown",
   "metadata": {
    "ExecuteTime": {
     "end_time": "2017-07-18T23:31:14.658762Z",
     "start_time": "2017-07-18T23:31:14.556473Z"
    },
    "run_control": {
     "frozen": false,
     "read_only": false
    }
   },
   "source": [
    "import importlib\n",
    "importlib.reload(モジュール名)"
   ]
  },
  {
   "cell_type": "markdown",
   "metadata": {
    "run_control": {
     "frozen": false,
     "read_only": false
    }
   },
   "source": [
    "# pathと環境変数の設定（ユーザ環境変数）\n",
    "http://www.atmarkit.co.jp/ait/articles/0803/28/news145.html"
   ]
  },
  {
   "cell_type": "markdown",
   "metadata": {
    "run_control": {
     "frozen": false,
     "read_only": false
    }
   },
   "source": [
    "環境変数のセット"
   ]
  },
  {
   "cell_type": "code",
   "execution_count": null,
   "metadata": {
    "run_control": {
     "frozen": false,
     "read_only": false
    }
   },
   "outputs": [],
   "source": [
    "C:\\Program Files (x86)\\Graphviz2.38\\bin"
   ]
  },
  {
   "cell_type": "code",
   "execution_count": null,
   "metadata": {
    "run_control": {
     "frozen": false,
     "read_only": false
    }
   },
   "outputs": [],
   "source": [
    "! setx sikuli_home \"%jupyter_home%\\root\\N96_sikuli\""
   ]
  },
  {
   "cell_type": "code",
   "execution_count": 3,
   "metadata": {
    "ExecuteTime": {
     "end_time": "2017-07-19T23:06:42.141606Z",
     "start_time": "2017-07-19T23:06:41.916610Z"
    },
    "run_control": {
     "frozen": false,
     "read_only": false
    }
   },
   "outputs": [
    {
     "name": "stdout",
     "output_type": "stream",
     "text": [
      "\n",
      "成功: 指定した値は保存されました。\n"
     ]
    }
   ],
   "source": [
    "! setx python_exe_path \"C:\\Users\\mineo\\Anaconda3\\envs\\mine01\\python.exe\""
   ]
  },
  {
   "cell_type": "markdown",
   "metadata": {
    "run_control": {
     "frozen": false,
     "read_only": false
    }
   },
   "source": [
    "環境変数のリスト"
   ]
  },
  {
   "cell_type": "code",
   "execution_count": null,
   "metadata": {
    "run_control": {
     "frozen": false,
     "read_only": false
    }
   },
   "outputs": [],
   "source": [
    "os.environ.items"
   ]
  },
  {
   "cell_type": "markdown",
   "metadata": {
    "run_control": {
     "frozen": false,
     "read_only": false
    }
   },
   "source": [
    "環境変数のセット（テンポラリ）"
   ]
  },
  {
   "cell_type": "code",
   "execution_count": null,
   "metadata": {
    "run_control": {
     "frozen": false,
     "read_only": false
    },
    "scrolled": true
   },
   "outputs": [],
   "source": [
    "import os\n",
    "os.environ[\"HOGE\"] = \"ABCDEFG\""
   ]
  },
  {
   "cell_type": "code",
   "execution_count": null,
   "metadata": {
    "run_control": {
     "frozen": false,
     "read_only": false
    }
   },
   "outputs": [],
   "source": [
    "os.environ[\"HOGE\"]"
   ]
  },
  {
   "cell_type": "code",
   "execution_count": null,
   "metadata": {
    "run_control": {
     "frozen": false,
     "read_only": false
    }
   },
   "outputs": [],
   "source": [
    "Pathに項目追加（テンポラリ）"
   ]
  },
  {
   "cell_type": "code",
   "execution_count": null,
   "metadata": {
    "run_control": {
     "frozen": false,
     "read_only": false
    }
   },
   "outputs": [],
   "source": [
    "import sys\n",
    "sys.path.append('c:\\\\python26\\\\scripts')"
   ]
  },
  {
   "cell_type": "markdown",
   "metadata": {
    "run_control": {
     "frozen": false,
     "read_only": false
    }
   },
   "source": [
    "# 日付と時間"
   ]
  },
  {
   "cell_type": "code",
   "execution_count": 2,
   "metadata": {
    "ExecuteTime": {
     "end_time": "2017-07-19T22:50:38.620336Z",
     "start_time": "2017-07-19T22:50:38.613336Z"
    },
    "run_control": {
     "frozen": false,
     "read_only": false
    }
   },
   "outputs": [
    {
     "name": "stdout",
     "output_type": "stream",
     "text": [
      "20170720\n"
     ]
    }
   ],
   "source": [
    "import datetime\n",
    "# tdatetime = datetime.datetime.now()\n",
    "# tstr = tdatetime.strftime('%Y%m%d')\n",
    "tstr =datetime.datetime.now().strftime('%Y%m%d')\n",
    "print(tstr)"
   ]
  },
  {
   "cell_type": "markdown",
   "metadata": {
    "run_control": {
     "frozen": false,
     "read_only": false
    }
   },
   "source": [
    "# ファイルの操作"
   ]
  },
  {
   "cell_type": "code",
   "execution_count": null,
   "metadata": {
    "ExecuteTime": {
     "end_time": "2017-07-07T08:39:03.787306Z",
     "start_time": "2017-07-07T08:39:03.783297Z"
    },
    "run_control": {
     "frozen": false,
     "read_only": false
    }
   },
   "outputs": [],
   "source": [
    "import os,glob\n",
    "home_path=os.environ[\"sikuli_home\"]\n",
    "os.chdir(home_path)\n",
    "a=os.getcwd()#現在の場所を取得\n",
    "b=glob.glob(\"*\")#現在の場所のファイルを取得 *はワイルドカード\n",
    "c=os.path.basename(home_path)#現在のフォルダ名を取得"
   ]
  },
  {
   "cell_type": "code",
   "execution_count": 2,
   "metadata": {
    "ExecuteTime": {
     "end_time": "2017-07-19T21:28:59.138118Z",
     "start_time": "2017-07-19T21:28:58.974579Z"
    },
    "run_control": {
     "frozen": false,
     "read_only": false
    },
    "scrolled": true
   },
   "outputs": [
    {
     "ename": "NameError",
     "evalue": "name '__file__' is not defined",
     "output_type": "error",
     "traceback": [
      "\u001b[1;31m---------------------------------------------------------------------------\u001b[0m",
      "\u001b[1;31mNameError\u001b[0m                                 Traceback (most recent call last)",
      "\u001b[1;32m<ipython-input-2-dda68a38cd00>\u001b[0m in \u001b[0;36m<module>\u001b[1;34m()\u001b[0m\n\u001b[0;32m      1\u001b[0m \u001b[1;32mimport\u001b[0m \u001b[0mos\u001b[0m\u001b[1;33m\u001b[0m\u001b[0m\n\u001b[1;32m----> 2\u001b[1;33m \u001b[0mprint\u001b[0m\u001b[1;33m(\u001b[0m\u001b[0mos\u001b[0m\u001b[1;33m.\u001b[0m\u001b[0mpath\u001b[0m\u001b[1;33m.\u001b[0m\u001b[0mbasename\u001b[0m\u001b[1;33m(\u001b[0m\u001b[0m__file__\u001b[0m\u001b[1;33m)\u001b[0m\u001b[1;33m[\u001b[0m\u001b[1;33m:\u001b[0m\u001b[1;33m-\u001b[0m\u001b[1;36m3\u001b[0m\u001b[1;33m]\u001b[0m\u001b[1;33m)\u001b[0m\u001b[1;33m\u001b[0m\u001b[0m\n\u001b[0m",
      "\u001b[1;31mNameError\u001b[0m: name '__file__' is not defined"
     ]
    }
   ],
   "source": [
    "import os\n",
    "print(os.path.basename(__file__)[:-3])"
   ]
  },
  {
   "cell_type": "markdown",
   "metadata": {
    "run_control": {
     "frozen": false,
     "read_only": false
    }
   },
   "source": [
    "## ディレクトリやファイルのコピー"
   ]
  },
  {
   "cell_type": "code",
   "execution_count": null,
   "metadata": {
    "run_control": {
     "frozen": false,
     "read_only": false
    }
   },
   "outputs": [],
   "source": [
    "import os, shutil\n",
    "i=\n",
    "t_path=os.path.join(os.environ[\"jupyter_home\"],'N01_work/001_株/kabu_lib/copy_moto.py')\n",
    "c_path=os.path.join(os.environ[\"userprofile\"],\"kabu_lib\",( str(i) + \".py\"))\n",
    "shutil.copyfile(t_path, c_path)#ファイルのコピー\n",
    "\n",
    "shutil.copytree(t_path, c_path)#ディレクトリのコピー"
   ]
  },
  {
   "cell_type": "code",
   "execution_count": null,
   "metadata": {
    "run_control": {
     "frozen": false,
     "read_only": false
    }
   },
   "outputs": [],
   "source": []
  },
  {
   "cell_type": "markdown",
   "metadata": {
    "collapsed": true,
    "run_control": {
     "frozen": false,
     "read_only": false
    }
   },
   "source": [
    "# pythonから実行"
   ]
  },
  {
   "cell_type": "code",
   "execution_count": null,
   "metadata": {
    "run_control": {
     "frozen": false,
     "read_only": false
    }
   },
   "outputs": [],
   "source": [
    "import win32com.client\n",
    "wshShell = win32com.client.Dispatch(\"WScript.Shell\")\n",
    "wshShell.Run(\"notepad.exe\")"
   ]
  },
  {
   "cell_type": "markdown",
   "metadata": {
    "run_control": {
     "frozen": false,
     "read_only": false
    }
   },
   "source": [
    "# リスト"
   ]
  },
  {
   "cell_type": "code",
   "execution_count": 8,
   "metadata": {
    "run_control": {
     "frozen": false,
     "read_only": false
    },
    "scrolled": true
   },
   "outputs": [
    {
     "ename": "SyntaxError",
     "evalue": "invalid syntax (<ipython-input-8-a1e9d56fa0dc>, line 1)",
     "output_type": "error",
     "traceback": [
      "\u001b[1;36m  File \u001b[1;32m\"<ipython-input-8-a1e9d56fa0dc>\"\u001b[1;36m, line \u001b[1;32m1\u001b[0m\n\u001b[1;33m    list = [\"A\", \"B\"]%%!\u001b[0m\n\u001b[1;37m                      ^\u001b[0m\n\u001b[1;31mSyntaxError\u001b[0m\u001b[1;31m:\u001b[0m invalid syntax\n"
     ]
    }
   ],
   "source": [
    "list = [\"A\", \"B\"]\n",
    "list.append(\"C\")\n",
    "list"
   ]
  },
  {
   "cell_type": "code",
   "execution_count": 6,
   "metadata": {
    "run_control": {
     "frozen": false,
     "read_only": false
    }
   },
   "outputs": [
    {
     "data": {
      "text/plain": [
       "['時間', 'A', 'B', 'C']"
      ]
     },
     "execution_count": 6,
     "metadata": {},
     "output_type": "execute_result"
    }
   ],
   "source": [
    "list.insert(0,\"時間\")\n",
    "list"
   ]
  },
  {
   "cell_type": "markdown",
   "metadata": {
    "collapsed": true,
    "run_control": {
     "frozen": false,
     "read_only": false
    }
   },
   "source": [
    "# pandas"
   ]
  },
  {
   "cell_type": "markdown",
   "metadata": {
    "run_control": {
     "frozen": false,
     "read_only": false
    }
   },
   "source": [
    "- 基本のコマンド一覧\n",
    "http://qiita.com/tanemaki/items/2ed05e258ef4c9e6caac"
   ]
  },
  {
   "cell_type": "markdown",
   "metadata": {
    "run_control": {
     "frozen": false,
     "read_only": false
    }
   },
   "source": [
    "## webから表データを取得する\n",
    "http://qiita.com/kitsuyui/items/4906bb457af4d0e2d0a5"
   ]
  },
  {
   "cell_type": "code",
   "execution_count": null,
   "metadata": {
    "run_control": {
     "frozen": false,
     "read_only": false
    }
   },
   "outputs": [],
   "source": [
    "import pandas as pd\n",
    "url = 'https://www.rakuten-sec.co.jp/MarketSpeed/onLineHelp/msman1_11_6a.html'\n",
    "fetched_dataframes = pd.io.html.read_html(url)"
   ]
  },
  {
   "cell_type": "code",
   "execution_count": null,
   "metadata": {
    "run_control": {
     "frozen": false,
     "read_only": false
    }
   },
   "outputs": [],
   "source": [
    "df=fetched_dataframes[0]"
   ]
  },
  {
   "cell_type": "code",
   "execution_count": null,
   "metadata": {
    "run_control": {
     "frozen": false,
     "read_only": false
    }
   },
   "outputs": [],
   "source": [
    "df"
   ]
  },
  {
   "cell_type": "markdown",
   "metadata": {
    "run_control": {
     "frozen": false,
     "read_only": false
    }
   },
   "source": [
    "## CSV出力\n",
    "http://pythondatascience.plavox.info/pandas/%E3%83%87%E3%83%BC%E3%82%BF%E3%83%95%E3%83%AC%E3%83%BC%E3%83%A0%E3%82%92%E5%87%BA%E5%8A%9B%E3%81%99%E3%82%8B"
   ]
  },
  {
   "cell_type": "code",
   "execution_count": null,
   "metadata": {
    "run_control": {
     "frozen": false,
     "read_only": false
    }
   },
   "outputs": [],
   "source": [
    "df.to_csv('heisei19to26.csv')"
   ]
  },
  {
   "cell_type": "code",
   "execution_count": null,
   "metadata": {
    "run_control": {
     "frozen": false,
     "read_only": false
    }
   },
   "outputs": [],
   "source": [
    "! explorer ."
   ]
  },
  {
   "cell_type": "markdown",
   "metadata": {
    "run_control": {
     "frozen": false,
     "read_only": false
    }
   },
   "source": [
    "## 表の表示設定\n",
    "http://uyamazak.hatenablog.com/entry/2016/09/29/163534"
   ]
  },
  {
   "cell_type": "code",
   "execution_count": null,
   "metadata": {
    "ExecuteTime": {
     "end_time": "2017-07-18T09:33:11.690750Z",
     "start_time": "2017-07-18T09:33:09.746643Z"
    },
    "run_control": {
     "frozen": false,
     "read_only": false
    }
   },
   "outputs": [],
   "source": [
    "import pandas as pd\n",
    "\n",
    "#カラム内の文字数。デフォルトは50だった\n",
    "pd.set_option(\"display.max_colwidth\", 80)\n",
    "\n",
    "#行数\n",
    "pd.set_option(\"display.max_rows\", 101)"
   ]
  },
  {
   "cell_type": "markdown",
   "metadata": {
    "run_control": {
     "frozen": false,
     "read_only": false
    }
   },
   "source": [
    "他のオプションはdir()などで確認できる"
   ]
  },
  {
   "cell_type": "code",
   "execution_count": null,
   "metadata": {
    "ExecuteTime": {
     "end_time": "2017-07-18T09:33:11.708707Z",
     "start_time": "2017-07-18T09:33:11.693708Z"
    },
    "run_control": {
     "frozen": false,
     "read_only": false
    }
   },
   "outputs": [],
   "source": [
    "dir(pd.options.display)"
   ]
  },
  {
   "cell_type": "markdown",
   "metadata": {
    "run_control": {
     "frozen": false,
     "read_only": false
    }
   },
   "source": [
    "## list化\n"
   ]
  },
  {
   "cell_type": "code",
   "execution_count": null,
   "metadata": {
    "run_control": {
     "frozen": false,
     "read_only": false
    }
   },
   "outputs": [],
   "source": [
    "li=df['情報項目'].values.tolist()"
   ]
  },
  {
   "cell_type": "code",
   "execution_count": null,
   "metadata": {
    "run_control": {
     "frozen": false,
     "read_only": false
    }
   },
   "outputs": [],
   "source": [
    "li"
   ]
  },
  {
   "cell_type": "markdown",
   "metadata": {
    "run_control": {
     "frozen": false,
     "read_only": false
    }
   },
   "source": [
    "# 標準入力"
   ]
  },
  {
   "cell_type": "markdown",
   "metadata": {
    "run_control": {
     "frozen": false,
     "read_only": false
    }
   },
   "source": [
    "入力例1  \n",
    "2  \n",
    "3  \n",
    "\n",
    "\n",
    "s = [input() for i in range(2)] #2回繰り返し s に値を取得  \n",
    "\n",
    "N = int(input()) #1行目のNを取得  \n",
    "s = [input() for i in range(N-1)] #N回繰り返し s に値を取得  \n",
    "print(int(s[0])*N)  "
   ]
  },
  {
   "cell_type": "markdown",
   "metadata": {
    "collapsed": true,
    "run_control": {
     "frozen": false,
     "read_only": false
    }
   },
   "source": [
    "# subprocess\n",
    "http://qiita.com/mokemokechicken/items/a84b0aa96b94d1931f08"
   ]
  },
  {
   "cell_type": "code",
   "execution_count": null,
   "metadata": {
    "run_control": {
     "frozen": false,
     "read_only": false
    }
   },
   "outputs": [],
   "source": [
    "def jikou_sikuli(path2):\n",
    "    print(\"starting_sikuli please Wait about7seconds\")\n",
    "    hp=os.environ['SIKULI_HOME']\n",
    "    path1 = os.path.join(hp, 'runsikulix.cmd')\n",
    "    c=[path1,\"-r\",path2]\n",
    "    p=subprocess.Popen(args, shell=True, stdout=subprocess.PIPE, stderr=subprocess.PIPE)\n",
    "    stdout_value = p.communicate()[0]\n",
    "#     k=stdout_value.decode(\"utf-8\")\n",
    "    k=stdout_value\n",
    "    print(k)\n",
    "    p.terminate#サブプロセスを終了させる"
   ]
  },
  {
   "cell_type": "code",
   "execution_count": null,
   "metadata": {
    "run_control": {
     "frozen": false,
     "read_only": false
    }
   },
   "outputs": [],
   "source": [
    "import subprocess\n",
    "args=[\"C:\\Program Files (x86)\\MarketSpeed\\MLauncher\\MLauncher.exe\" ,\"MarketSpeed\"]\n",
    "p=subprocess.Popen(args)\n",
    "p.wait()#処理待ちしない場合は、これを消す"
   ]
  },
  {
   "cell_type": "markdown",
   "metadata": {
    "collapsed": true,
    "run_control": {
     "frozen": false,
     "read_only": false
    }
   },
   "source": [
    "# sikuli\n",
    "- document http://sikulix-2014.readthedocs.io/en/latest/genindex.html\n",
    "- command http://sikulix-2014.readthedocs.io/en/latest/faq/010-command-line.html"
   ]
  },
  {
   "cell_type": "markdown",
   "metadata": {
    "run_control": {
     "frozen": false,
     "read_only": false
    }
   },
   "source": [
    "## サーバを立てて実行する\n",
    "http://sikulix.weebly.com/support.html"
   ]
  },
  {
   "cell_type": "markdown",
   "metadata": {
    "run_control": {
     "frozen": false,
     "read_only": false
    }
   },
   "source": [
    "- stop - stops the server\n",
    "- startp - initiates a Jython runner, so the next run request will start the script without delay *\n",
    "- scripts/folder/folder/folder/... - sets the folder where the runner finds the scripts **\n",
    "- images/folder/folder/folder/... - sets the folder where the runner finds the images used in a script (image path) **\n",
    "- run/script - looks for the script in the given folder and runs it (starts the respective runner if not yet done) ***"
   ]
  },
  {
   "cell_type": "markdown",
   "metadata": {
    "ExecuteTime": {
     "end_time": "2017-07-24T10:40:52.413149Z",
     "start_time": "2017-07-24T10:40:46.007873Z"
    },
    "run_control": {
     "frozen": false,
     "read_only": false
    }
   },
   "source": [
    "cd %sikuli_home%  \n",
    "runsikulix -s"
   ]
  },
  {
   "cell_type": "code",
   "execution_count": 1,
   "metadata": {
    "ExecuteTime": {
     "end_time": "2017-07-24T11:09:20.165615Z",
     "start_time": "2017-07-24T11:09:14.203598Z"
    },
    "run_control": {
     "frozen": false,
     "read_only": false
    }
   },
   "outputs": [],
   "source": [
    "from selenium import webdriver\n",
    "driver = webdriver.Chrome()\n",
    "driver.get(\"http://localhost:50001/startp\")\n",
    "driver.get(\"http://localhost:50001/scripts/home/OneDrive/anaconda/root/101_script\")"
   ]
  },
  {
   "cell_type": "code",
   "execution_count": 9,
   "metadata": {
    "run_control": {
     "frozen": false,
     "read_only": false
    }
   },
   "outputs": [
    {
     "data": {
      "text/plain": [
       "0"
      ]
     },
     "execution_count": 9,
     "metadata": {},
     "output_type": "execute_result"
    }
   ],
   "source": [
    "import os,subprocess\n",
    "\n",
    "args=[\"C:\\Program Files (x86)\\MarketSpeed\\MLauncher\\MLauncher.exe\" ,\"MarketSpeed\"]\n",
    "p1=subprocess.Popen(args)\n",
    "p1.wait()#処理待ちしない場合は、これを消す\n",
    "\n",
    "driver.get(\"http://localhost:50001/run/login_rakuten.sikuli\")\n",
    "\n",
    "args=[\"C:\\Program Files (x86)\\MarketSpeed\\MLauncher\\MLauncher.exe\" ,\"RSS\"]\n",
    "p2=subprocess.Popen(args)\n",
    "p2.wait()#処理待ちしない場合は、これを消す"
   ]
  },
  {
   "cell_type": "code",
   "execution_count": 16,
   "metadata": {
    "ExecuteTime": {
     "end_time": "2017-07-24T10:53:50.955970Z",
     "start_time": "2017-07-24T10:53:47.904891Z"
    },
    "run_control": {
     "frozen": false,
     "read_only": false
    }
   },
   "outputs": [],
   "source": [
    "driver.quit()"
   ]
  },
  {
   "cell_type": "markdown",
   "metadata": {
    "run_control": {
     "frozen": false,
     "read_only": false
    }
   },
   "source": [
    "# jupyterのdiff"
   ]
  },
  {
   "cell_type": "code",
   "execution_count": null,
   "metadata": {
    "run_control": {
     "frozen": false,
     "read_only": false
    }
   },
   "outputs": [],
   "source": []
  }
 ],
 "metadata": {
  "hide_input": false,
  "kernelspec": {
   "display_name": "Python 3",
   "language": "python",
   "name": "python3"
  },
  "language_info": {
   "codemirror_mode": {
    "name": "ipython",
    "version": 3
   },
   "file_extension": ".py",
   "mimetype": "text/x-python",
   "name": "python",
   "nbconvert_exporter": "python",
   "pygments_lexer": "ipython3",
   "version": "3.5.3"
  },
  "nbTranslate": {
   "displayLangs": [
    "*"
   ],
   "hotkey": "alt-t",
   "langInMainMenu": true,
   "sourceLang": "en",
   "targetLang": "fr",
   "useGoogleTranslate": true
  },
  "toc": {
   "colors": {
    "hover_highlight": "#DAA520",
    "running_highlight": "#FF0000",
    "selected_highlight": "#FFD700"
   },
   "moveMenuLeft": true,
   "nav_menu": {
    "height": "30px",
    "width": "252px"
   },
   "navigate_menu": true,
   "number_sections": true,
   "sideBar": true,
   "threshold": 4,
   "toc_cell": false,
   "toc_position": {
    "height": "680px",
    "left": "0px",
    "right": "998px",
    "top": "130px",
    "width": "212px"
   },
   "toc_section_display": "block",
   "toc_window_display": true,
   "widenNotebook": false
  }
 },
 "nbformat": 4,
 "nbformat_minor": 2
}
