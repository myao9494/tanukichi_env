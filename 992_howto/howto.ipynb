{
 "cells": [
  {
   "cell_type": "markdown",
   "metadata": {},
   "source": [
    "## メモ"
   ]
  },
  {
   "cell_type": "markdown",
   "metadata": {},
   "source": [
    "run tool　オフで、カーソル出てきた！"
   ]
  },
  {
   "cell_type": "markdown",
   "metadata": {},
   "source": [
    "## 便利いろいろ"
   ]
  },
  {
   "cell_type": "code",
   "execution_count": 1,
   "metadata": {
    "ExecuteTime": {
     "end_time": "2017-07-24T20:44:28.352811Z",
     "start_time": "2017-07-24T20:44:28.201812Z"
    },
    "collapsed": true
   },
   "outputs": [],
   "source": [
    "! explorer ."
   ]
  },
  {
   "cell_type": "markdown",
   "metadata": {
    "collapsed": true
   },
   "source": [
    "# パッケージ"
   ]
  },
  {
   "cell_type": "markdown",
   "metadata": {},
   "source": [
    "## インストールされているライブラリ"
   ]
  },
  {
   "cell_type": "code",
   "execution_count": 1,
   "metadata": {
    "ExecuteTime": {
     "end_time": "2017-11-01T11:06:07.571457Z",
     "start_time": "2017-11-01T11:06:05.128798Z"
    }
   },
   "outputs": [
    {
     "name": "stdout",
     "output_type": "stream",
     "text": [
      "agate==1.6.0\n",
      "agate-dbf==0.2.0\n",
      "agate-excel==0.2.1\n",
      "agate-sql==0.5.2\n",
      "anaconda-client==1.6.5\n",
      "appdirs==1.4.3\n",
      "asn1crypto==0.22.0\n",
      "astroid==1.5.3\n",
      "attrs==17.2.0\n",
      "Automat==0.6.0\n",
      "babel==2.5.0\n",
      "backports.weakref==1.0rc1\n",
      "basemap==1.1.0\n",
      "beautifulsoup4==4.6.0\n",
      "bleach==1.5.0\n",
      "bokeh==0.12.10\n",
      "certifi==2017.7.27.1\n",
      "cffi==1.10.0\n",
      "chainer==2.1.0\n",
      "chardet==3.0.4\n",
      "click==6.7\n",
      "cloudpickle==0.4.0\n",
      "clyent==1.2.2\n",
      "colorama==0.3.9\n",
      "comtypes==1.1.2\n",
      "constantly==15.1.0\n",
      "cryptography==1.8.1\n",
      "cssselect==1.0.1\n",
      "csvkit==1.0.2\n",
      "cycler==0.10.0\n",
      "Cython==0.26\n",
      "cytoolz==0.8.2\n",
      "dask==0.15.3\n",
      "dbfread==2.0.7\n",
      "decorator==4.1.2\n",
      "distributed==1.19.1\n",
      "entrypoints==0.2.3\n",
      "et-xmlfile==1.0.1\n",
      "fbprophet==0.2\n",
      "filelock==2.0.12\n",
      "Flask==0.12.2\n",
      "Flask-Cors==3.0.3\n",
      "Flask-Login==0.4.0\n",
      "Flask-WTF==0.14.2\n",
      "future==0.16.0\n",
      "gitdb2==2.0.0\n",
      "GitPython==2.1.3\n",
      "h5py==2.7.0\n",
      "heapdict==1.0.0\n",
      "holoviews==1.8.3\n",
      "html5lib==0.9999999\n",
      "httplib2==0.10.3\n",
      "hyperlink==17.1.1\n",
      "hypothesis==3.23.0\n",
      "idna==2.6\n",
      "imageio==2.2.0\n",
      "incremental==17.5.0\n",
      "ipykernel==4.6.1\n",
      "ipython==6.1.0\n",
      "ipython-genutils==0.2.0\n",
      "ipywidgets==7.0.0\n",
      "isodate==0.6.0\n",
      "isort==4.2.15\n",
      "itsdangerous==0.24\n",
      "jdcal==1.3\n",
      "jedi==0.10.2\n",
      "Jinja2==2.9.6\n",
      "jsonschema==2.6.0\n",
      "jupyter-client==5.1.0\n",
      "jupyter-contrib-core==0.3.3\n",
      "jupyter-contrib-nbextensions==0.3.3\n",
      "jupyter-core==4.3.0\n",
      "jupyter-highlight-selected-word==0.0.10\n",
      "jupyter-latex-envs==1.3.8.2\n",
      "jupyter-nbextensions-configurator==0.2.8\n",
      "jupyterlab==0.27.0\n",
      "jupyterlab-launcher==0.4.0\n",
      "Keras==2.0.6\n",
      "keras-rl==0.3.1\n",
      "lazy-object-proxy==1.3.1\n",
      "leather==0.3.3\n",
      "locket==0.2.0\n",
      "lxml==4.1.0\n",
      "mako==1.0.7\n",
      "Markdown==2.6.9\n",
      "MarkupSafe==1.0\n",
      "matplotlib==2.1.0\n",
      "mccabe==0.6.1\n",
      "mistune==0.7.4\n",
      "mock==2.0.0\n",
      "msgpack-python==0.4.8\n",
      "nb-anacondacloud==1.4.0\n",
      "nb-conda==2.2.0\n",
      "nb-conda-kernels==2.1.0\n",
      "nbconvert==5.3.1\n",
      "nbdime==0.3.0\n",
      "nbformat==4.4.0\n",
      "nbpresent==3.0.2\n",
      "networkx==2.0\n",
      "nose==1.3.7\n",
      "notebook==5.0.0\n",
      "numpy==1.13.3\n",
      "olefile==0.44\n",
      "opencv-python==3.3.1\n",
      "openpyxl==2.4.8\n",
      "packaging==16.8\n",
      "pandas==0.20.3\n",
      "pandas-datareader==0.5.0\n",
      "pandas-profiling==1.4.0\n",
      "pandasql==0.7.3\n",
      "pandocfilters==1.4.2\n",
      "param==1.5.1\n",
      "parsedatetime==2.4\n",
      "parsel==1.2.0\n",
      "partd==0.3.8\n",
      "pbr==3.1.1\n",
      "pickleshare==0.7.4\n",
      "Pillow==4.2.1\n",
      "pkgconfig==1.2.2\n",
      "prompt-toolkit==1.0.15\n",
      "protobuf==3.3.2\n",
      "psutil==5.4.0\n",
      "py4j==0.10.6\n",
      "pyasn1==0.3.7\n",
      "pyasn1-modules==0.0.8\n",
      "PyAutoGUI==0.9.36\n",
      "pycparser==2.18\n",
      "PyDispatcher==2.0.5\n",
      "pydot==1.2.3\n",
      "Pygments==2.2.0\n",
      "pygpu==0.6.9\n",
      "pylint==1.7.4\n",
      "Pympler==0.5\n",
      "PyMsgBox==1.0.6\n",
      "pyOpenSSL==17.0.0\n",
      "pyparsing==2.2.0\n",
      "pyproj==1.9.5.1\n",
      "PyScreeze==0.1.13\n",
      "pyshp==1.2.12\n",
      "PySocks==1.6.7\n",
      "pystan==2.17.0.0\n",
      "python-dateutil==2.6.1\n",
      "python-redmine==2.0.2\n",
      "python-slugify==1.2.4\n",
      "pytimeparse==1.1.7\n",
      "PyTweening==1.0.3\n",
      "pytz==2017.2\n",
      "PyWavelets==0.5.2\n",
      "pywin32==221\n",
      "PyYAML==3.12\n",
      "pyzmq==16.0.2\n",
      "queuelib==1.4.2\n",
      "requests==2.18.4\n",
      "requests-file==1.4.1\n",
      "requests-ftp==0.3.1\n",
      "scikit-image==0.13.0\n",
      "scikit-learn==0.19.1\n",
      "scikit-rf==0.14.5\n",
      "scipy==0.19.1\n",
      "Scrapy==1.4.0\n",
      "selenium==3.6.0\n",
      "service-identity==17.0.0\n",
      "simplegeneric==0.8.1\n",
      "six==1.11.0\n",
      "smmap2==2.0.1\n",
      "sortedcontainers==1.5.7\n",
      "SQLAlchemy==1.1.13\n",
      "tblib==1.3.2\n",
      "tensorflow==1.2.1\n",
      "testpath==0.3.1\n",
      "tflearn==0.3.2\n",
      "Theano==0.9.0\n",
      "toolz==0.8.2\n",
      "tornado==4.5.2\n",
      "traitlets==4.3.2\n",
      "Twisted==17.9.0\n",
      "Unidecode==0.4.21\n",
      "urllib3==1.22\n",
      "w3lib==1.18.0\n",
      "wcwidth==0.1.7\n",
      "webencodings==0.5.1\n",
      "Werkzeug==0.12.2\n",
      "widgetsnbextension==3.0.2\n",
      "win-inet-pton==1.0.1\n",
      "wincertstore==0.2\n",
      "winspeech==1.0.1\n",
      "wrapt==1.10.11\n",
      "WTForms==2.1\n",
      "xlrd==1.1.0\n",
      "XlsxWriter==1.0.2\n",
      "xlutils==2.0.0\n",
      "xlwings==0.11.4\n",
      "xlwt==1.3.0\n",
      "zict==0.1.3\n",
      "zope.interface==4.4.3\n"
     ]
    }
   ],
   "source": [
    "! pip freeze"
   ]
  },
  {
   "cell_type": "markdown",
   "metadata": {},
   "source": [
    "## アップデート"
   ]
  },
  {
   "cell_type": "code",
   "execution_count": null,
   "metadata": {
    "collapsed": true
   },
   "outputs": [],
   "source": [
    "pip install -U keras"
   ]
  },
  {
   "cell_type": "markdown",
   "metadata": {},
   "source": [
    "# Jupyter Notebook"
   ]
  },
  {
   "cell_type": "markdown",
   "metadata": {},
   "source": [
    "## jupyterのdiff gitを使う\n",
    "- ライブラリは以下を使用する\n",
    ">https://github.com/jupyter/nbdime\n",
    "\n",
    "- 上記のgitリポジトリの中の.gitattributesをユーザ直下にコピー\n",
    "- .gitconfig(ユーザフォルダ直下）を編集\n",
    ">"
   ]
  },
  {
   "cell_type": "markdown",
   "metadata": {},
   "source": [
    "## Jupyter Notebookをより便利に使うために、色々まとめ\n",
    "https://qiita.com/ishizakiiii/items/b98bbf8997f039f40058\n"
   ]
  },
  {
   "cell_type": "markdown",
   "metadata": {},
   "source": [
    "## jupyterのマジックコマンド"
   ]
  },
  {
   "cell_type": "markdown",
   "metadata": {
    "collapsed": true
   },
   "source": [
    "- %who      : 宣言されている変数一覧の表示\n",
    "- %whos     : 宣言されている変数一覧の詳細表示(型と値)\n",
    "- obj?      : Objectの型と値の表示\n",
    "- %quickref : サポートされるMagic Commandの一覧の表示\n",
    "- %matplotlib inline : jupyter内に表示させる"
   ]
  },
  {
   "cell_type": "code",
   "execution_count": null,
   "metadata": {
    "ExecuteTime": {
     "end_time": "2017-07-18T23:36:55.827877Z",
     "start_time": "2017-07-18T23:36:55.820873Z"
    },
    "collapsed": true
   },
   "outputs": [],
   "source": [
    "%quickref"
   ]
  },
  {
   "cell_type": "markdown",
   "metadata": {},
   "source": [
    "## jupyterのテーマカラーが超簡単にかっこよくなる『jupyterthemes』\n",
    "http://www.procrasist.com/entry/2017/09/18/130300"
   ]
  },
  {
   "cell_type": "markdown",
   "metadata": {},
   "source": [
    "# ビープ音"
   ]
  },
  {
   "cell_type": "code",
   "execution_count": 1,
   "metadata": {
    "ExecuteTime": {
     "end_time": "2017-10-22T23:24:04.910520Z",
     "start_time": "2017-10-22T23:24:04.394500Z"
    },
    "collapsed": true
   },
   "outputs": [],
   "source": [
    "from winsound import Beep\n",
    "Beep(1000,500)"
   ]
  },
  {
   "cell_type": "markdown",
   "metadata": {},
   "source": [
    "# 文字列"
   ]
  },
  {
   "cell_type": "markdown",
   "metadata": {},
   "source": [
    "- [正規表現で数値を抽出](http://python.keicode.com/lang/regular-expression-findall.php)"
   ]
  },
  {
   "cell_type": "code",
   "execution_count": 11,
   "metadata": {
    "ExecuteTime": {
     "end_time": "2017-12-09T10:41:20.179299Z",
     "start_time": "2017-12-09T10:41:20.171292Z"
    }
   },
   "outputs": [
    {
     "data": {
      "text/plain": [
       "['1', '22', '333']"
      ]
     },
     "execution_count": 11,
     "metadata": {},
     "output_type": "execute_result"
    }
   ],
   "source": [
    "import re\n",
    "tex='xxxx1aaaa22cc333ssss'\n",
    "match = re.findall(r'[0-9]+', tex)\n",
    "match"
   ]
  },
  {
   "cell_type": "markdown",
   "metadata": {},
   "source": [
    "- 文字列を末尾から表示する"
   ]
  },
  {
   "cell_type": "code",
   "execution_count": 2,
   "metadata": {
    "ExecuteTime": {
     "end_time": "2017-10-11T23:00:28.418155Z",
     "start_time": "2017-10-11T23:00:28.412159Z"
    }
   },
   "outputs": [
    {
     "data": {
      "text/plain": [
       "'zyxwvutsrqponmlkjihgfedcba'"
      ]
     },
     "execution_count": 2,
     "metadata": {},
     "output_type": "execute_result"
    }
   ],
   "source": [
    "text='abcdefghijklmnopqrstuvwxyz'\n",
    "text[::-1]"
   ]
  },
  {
   "cell_type": "markdown",
   "metadata": {
    "collapsed": true
   },
   "source": [
    "# モジュールのリロード"
   ]
  },
  {
   "cell_type": "markdown",
   "metadata": {
    "ExecuteTime": {
     "end_time": "2017-07-18T23:31:14.658762Z",
     "start_time": "2017-07-18T23:31:14.556473Z"
    }
   },
   "source": [
    "import importlib\n",
    "importlib.reload(モジュール名)"
   ]
  },
  {
   "cell_type": "markdown",
   "metadata": {},
   "source": [
    "# pathと環境変数の設定（ユーザ環境変数）\n",
    "http://www.atmarkit.co.jp/ait/articles/0803/28/news145.html"
   ]
  },
  {
   "cell_type": "markdown",
   "metadata": {},
   "source": [
    "環境変数のセット"
   ]
  },
  {
   "cell_type": "code",
   "execution_count": null,
   "metadata": {
    "collapsed": true
   },
   "outputs": [],
   "source": [
    "! setx sikuli_home \"%jupyter_home%\\root\\N96_sikuli\""
   ]
  },
  {
   "cell_type": "code",
   "execution_count": 3,
   "metadata": {
    "ExecuteTime": {
     "end_time": "2017-07-19T23:06:42.141606Z",
     "start_time": "2017-07-19T23:06:41.916610Z"
    },
    "scrolled": true
   },
   "outputs": [
    {
     "name": "stdout",
     "output_type": "stream",
     "text": [
      "\n",
      "成功: 指定した値は保存されました。\n"
     ]
    }
   ],
   "source": [
    "! setx python_exe_path \"C:\\Users\\mineo\\Anaconda3\\envs\\mine01\\python.exe\""
   ]
  },
  {
   "cell_type": "code",
   "execution_count": 3,
   "metadata": {
    "ExecuteTime": {
     "end_time": "2017-12-09T23:37:31.361958Z",
     "start_time": "2017-12-09T23:37:30.627260Z"
    }
   },
   "outputs": [
    {
     "name": "stdout",
     "output_type": "stream",
     "text": [
      "\n",
      "成功: 指定した値は保存されました。\n"
     ]
    }
   ],
   "source": [
    "! setx PYTHONPATH \"%jupyter_home%\\tanukichi_env\\000_lib\""
   ]
  },
  {
   "cell_type": "markdown",
   "metadata": {},
   "source": [
    "環境変数のリスト"
   ]
  },
  {
   "cell_type": "code",
   "execution_count": null,
   "metadata": {
    "collapsed": true
   },
   "outputs": [],
   "source": [
    "os.environ.items"
   ]
  },
  {
   "cell_type": "markdown",
   "metadata": {},
   "source": [
    "環境変数のセット（テンポラリ）"
   ]
  },
  {
   "cell_type": "code",
   "execution_count": null,
   "metadata": {
    "collapsed": true,
    "scrolled": true
   },
   "outputs": [],
   "source": [
    "import os\n",
    "os.environ[\"HOGE\"] = \"ABCDEFG\""
   ]
  },
  {
   "cell_type": "code",
   "execution_count": null,
   "metadata": {
    "collapsed": true
   },
   "outputs": [],
   "source": [
    "Pathに項目追加（テンポラリ）"
   ]
  },
  {
   "cell_type": "code",
   "execution_count": 5,
   "metadata": {
    "ExecuteTime": {
     "end_time": "2017-09-10T07:45:14.397852Z",
     "start_time": "2017-09-10T07:45:14.392858Z"
    },
    "collapsed": true
   },
   "outputs": [],
   "source": [
    "import sys,os\n",
    "sys.path.append(os.path.join(os.environ[\"JUPYTER_HOME\"],\"common\",\"000_lib\"))"
   ]
  },
  {
   "cell_type": "markdown",
   "metadata": {},
   "source": [
    "# 日付と時間"
   ]
  },
  {
   "cell_type": "code",
   "execution_count": 2,
   "metadata": {
    "ExecuteTime": {
     "end_time": "2017-07-19T22:50:38.620336Z",
     "start_time": "2017-07-19T22:50:38.613336Z"
    }
   },
   "outputs": [
    {
     "name": "stdout",
     "output_type": "stream",
     "text": [
      "20170720\n"
     ]
    }
   ],
   "source": [
    "import datetime\n",
    "# tdatetime = datetime.datetime.now()\n",
    "# tstr = tdatetime.strftime('%Y%m%d')\n",
    "tstr =datetime.datetime.now().strftime('%Y%m%d')\n",
    "print(tstr)"
   ]
  },
  {
   "cell_type": "markdown",
   "metadata": {},
   "source": [
    "# ファイルの操作"
   ]
  },
  {
   "cell_type": "markdown",
   "metadata": {},
   "source": [
    "## ショートカットの作成"
   ]
  },
  {
   "cell_type": "code",
   "execution_count": 4,
   "metadata": {
    "ExecuteTime": {
     "end_time": "2017-11-12T08:00:44.232277Z",
     "start_time": "2017-11-12T08:00:44.207254Z"
    },
    "collapsed": true,
    "run_control": {
     "marked": false
    }
   },
   "outputs": [],
   "source": [
    "## -*- coding: utf-8 -*-\n",
    "import os.path\n",
    "import win32com.client\n",
    "\n",
    "def createShortCut(path,scFileName,icon=None):\n",
    "    \"\"\"\n",
    "    デスクトップにショートカットファイルを作成する\n",
    "    \"\"\"\n",
    "    if icon == None:\n",
    "        icon = path\n",
    "\n",
    "    shell   = win32com.client.Dispatch('WScript.shell')\n",
    "    desktop = shell.SpecialFolders('Desktop')\n",
    "\n",
    "#     shCut                  = shell.CreateShortcut(os.path.join(desktop,scFileName+\".lnk\"))\n",
    "    shCut                  = shell.CreateShortcut(os.path.join(path,scFileName+\".lnk\"))\n",
    "    shCut.TargetPath       = path\n",
    "    shCut.WindowStyle      = 1\n",
    "    shCut.IconLocation     = icon\n",
    "    shCut.WorkingDirectory = desktop\n",
    "\n",
    "    shCut.Save()"
   ]
  },
  {
   "cell_type": "code",
   "execution_count": 5,
   "metadata": {
    "ExecuteTime": {
     "end_time": "2017-11-12T08:00:44.910828Z",
     "start_time": "2017-11-12T08:00:44.897819Z"
    },
    "collapsed": true
   },
   "outputs": [],
   "source": [
    "home_path=os.environ[\"jupyter_home\"]\n",
    "createShortCut(home_path,\"test\")"
   ]
  },
  {
   "cell_type": "markdown",
   "metadata": {},
   "source": [
    "## 情報の取得"
   ]
  },
  {
   "cell_type": "code",
   "execution_count": null,
   "metadata": {
    "ExecuteTime": {
     "end_time": "2017-07-07T08:39:03.787306Z",
     "start_time": "2017-07-07T08:39:03.783297Z"
    },
    "collapsed": true,
    "run_control": {
     "marked": false
    }
   },
   "outputs": [],
   "source": [
    "import os,glob\n",
    "home_path=os.environ[\"sikuli_home\"]\n",
    "os.chdir(home_path)\n",
    "a=os.getcwd()#現在の場所を取得\n",
    "b=glob.glob(\"*\")#現在の場所のファイルを取得 *はワイルドカード\n",
    "c=os.path.basename(home_path)#現在のフォルダ名を取得"
   ]
  },
  {
   "cell_type": "markdown",
   "metadata": {},
   "source": [
    "## ディレクトリやファイルのコピー"
   ]
  },
  {
   "cell_type": "code",
   "execution_count": null,
   "metadata": {
    "collapsed": true
   },
   "outputs": [],
   "source": [
    "import os, shutil\n",
    "t_path=os.path.join(os.environ[\"jupyter_home\"],'N01_work/001_株/kabu_lib/copy_moto.py')\n",
    "c_path=os.path.join(os.environ[\"userprofile\"],\"kabu_lib\",( str(i) + \".py\"))\n",
    "shutil.copyfile(t_path, c_path)#ファイルのコピー\n",
    "shutil.copytree(t_path, c_path)#ディレクトリのコピー"
   ]
  },
  {
   "cell_type": "code",
   "execution_count": 1,
   "metadata": {
    "ExecuteTime": {
     "end_time": "2017-11-07T07:05:24.316891Z",
     "start_time": "2017-11-07T07:05:24.292892Z"
    }
   },
   "outputs": [
    {
     "name": "stdout",
     "output_type": "stream",
     "text": [
      "filename.txt\n"
     ]
    }
   ],
   "source": [
    "import os, shutil\n",
    "filepath = \"c:\\\\temp\\\\dir\\\\filename.txt\"\n",
    "print (os.path.basename(filepath))"
   ]
  },
  {
   "cell_type": "markdown",
   "metadata": {
    "collapsed": true
   },
   "source": [
    "# pythonから実行"
   ]
  },
  {
   "cell_type": "code",
   "execution_count": null,
   "metadata": {
    "collapsed": true
   },
   "outputs": [],
   "source": [
    "import win32com.client\n",
    "wshShell = win32com.client.Dispatch(\"WScript.Shell\")\n",
    "wshShell.Run(\"notepad.exe\")"
   ]
  },
  {
   "cell_type": "markdown",
   "metadata": {},
   "source": [
    "# List\n",
    "- [Python] 何度も調べてしまうリスト操作をまとめてみた](http://www.yoheim.net/blog.php?q=20150801)\n",
    "- [ボンジニアの備忘録(リストの使い方とかいろいろ）](http://yujikawa11.hatenablog.com/entry/2017/09/27/224014)"
   ]
  },
  {
   "cell_type": "markdown",
   "metadata": {},
   "source": [
    "## 要素の存在確認\n",
    "リストに文字列がない場合に、meiを追加する"
   ]
  },
  {
   "cell_type": "code",
   "execution_count": 15,
   "metadata": {
    "ExecuteTime": {
     "end_time": "2017-10-05T11:05:04.572134Z",
     "start_time": "2017-10-05T11:05:04.558128Z"
    }
   },
   "outputs": [
    {
     "data": {
      "text/plain": [
       "['1235', '5245', '3254', '1254', '5547', '7777']"
      ]
     },
     "execution_count": 15,
     "metadata": {},
     "output_type": "execute_result"
    }
   ],
   "source": [
    "list01 = [\"1235\",\"5245\",\"3254\",\"1254\",\"5547\"]\n",
    "mei=\"7777\"\n",
    "if not(mei in list01):\n",
    "    list01.append(mei)\n",
    "list01"
   ]
  },
  {
   "cell_type": "markdown",
   "metadata": {},
   "source": [
    "## リストの一番最初に追加"
   ]
  },
  {
   "cell_type": "code",
   "execution_count": 2,
   "metadata": {
    "ExecuteTime": {
     "end_time": "2017-10-03T10:42:21.738073Z",
     "start_time": "2017-10-03T10:42:21.729070Z"
    }
   },
   "outputs": [
    {
     "data": {
      "text/plain": [
       "['時間', 'A', 'B', 'C']"
      ]
     },
     "execution_count": 2,
     "metadata": {},
     "output_type": "execute_result"
    }
   ],
   "source": [
    "list.insert(0,\"時間\")\n",
    "list"
   ]
  },
  {
   "cell_type": "markdown",
   "metadata": {
    "collapsed": true
   },
   "source": [
    "# pandas"
   ]
  },
  {
   "cell_type": "code",
   "execution_count": 14,
   "metadata": {
    "ExecuteTime": {
     "end_time": "2017-12-10T00:01:42.453811Z",
     "start_time": "2017-12-10T00:01:42.412785Z"
    },
    "collapsed": true
   },
   "outputs": [],
   "source": [
    "from tqdm import tqdm_notebook as tqdm #プログレスバーが出る"
   ]
  },
  {
   "cell_type": "markdown",
   "metadata": {},
   "source": [
    "## [<span class=\"mark\">まとめ</span>](pandas.ipynb)\n",
    "## [<span class=\"mark\">グラフ化(web)</span>](https://python-graph-gallery.com/)"
   ]
  },
  {
   "cell_type": "markdown",
   "metadata": {},
   "source": [
    "## 基本のコマンド一覧\n",
    "http://qiita.com/tanemaki/items/2ed05e258ef4c9e6caac"
   ]
  },
  {
   "cell_type": "markdown",
   "metadata": {},
   "source": [
    "## webから表データを取得する\n",
    "http://qiita.com/kitsuyui/items/4906bb457af4d0e2d0a5"
   ]
  },
  {
   "cell_type": "code",
   "execution_count": 11,
   "metadata": {
    "ExecuteTime": {
     "end_time": "2017-12-09T23:59:05.023719Z",
     "start_time": "2017-12-09T23:59:03.515055Z"
    },
    "collapsed": true
   },
   "outputs": [],
   "source": [
    "import pandas as pd\n",
    "url = 'https://www.rakuten-sec.co.jp/MarketSpeed/onLineHelp/msman1_11_6a.html'\n",
    "fetched_dataframes = pd.io.html.read_html(url)"
   ]
  },
  {
   "cell_type": "code",
   "execution_count": 12,
   "metadata": {
    "ExecuteTime": {
     "end_time": "2017-12-09T23:59:06.030838Z",
     "start_time": "2017-12-09T23:59:06.026837Z"
    },
    "collapsed": true
   },
   "outputs": [],
   "source": [
    "df=fetched_dataframes[0]"
   ]
  },
  {
   "cell_type": "code",
   "execution_count": 13,
   "metadata": {
    "ExecuteTime": {
     "end_time": "2017-12-09T23:59:16.177255Z",
     "start_time": "2017-12-09T23:59:16.132225Z"
    }
   },
   "outputs": [
    {
     "data": {
      "text/html": [
       "<div>\n",
       "<style>\n",
       "    .dataframe thead tr:only-child th {\n",
       "        text-align: right;\n",
       "    }\n",
       "\n",
       "    .dataframe thead th {\n",
       "        text-align: left;\n",
       "    }\n",
       "\n",
       "    .dataframe tbody tr th {\n",
       "        vertical-align: top;\n",
       "    }\n",
       "</style>\n",
       "<table border=\"1\" class=\"dataframe\">\n",
       "  <thead>\n",
       "    <tr style=\"text-align: right;\">\n",
       "      <th></th>\n",
       "      <th>Unnamed: 0</th>\n",
       "      <th>情報項目</th>\n",
       "      <th>RSS関数</th>\n",
       "      <th>表示例</th>\n",
       "      <th>備考</th>\n",
       "    </tr>\n",
       "  </thead>\n",
       "  <tbody>\n",
       "    <tr>\n",
       "      <th>0</th>\n",
       "      <td>1</td>\n",
       "      <td>銘柄コード</td>\n",
       "      <td>RSS|'9501.T'!銘柄コード</td>\n",
       "      <td>9501</td>\n",
       "      <td>NaN</td>\n",
       "    </tr>\n",
       "    <tr>\n",
       "      <th>1</th>\n",
       "      <td>2</td>\n",
       "      <td>市場コード</td>\n",
       "      <td>RSS|'9501.T'!市場コード</td>\n",
       "      <td>T</td>\n",
       "      <td>東証・マザーズともにT</td>\n",
       "    </tr>\n",
       "    <tr>\n",
       "      <th>2</th>\n",
       "      <td>3</td>\n",
       "      <td>銘柄名称</td>\n",
       "      <td>RSS|'9501.T'!銘柄名称</td>\n",
       "      <td>東京電力</td>\n",
       "      <td>NaN</td>\n",
       "    </tr>\n",
       "    <tr>\n",
       "      <th>3</th>\n",
       "      <td>4</td>\n",
       "      <td>市場名称</td>\n",
       "      <td>RSS|'9501.T'!市場名称</td>\n",
       "      <td>東証</td>\n",
       "      <td>NaN</td>\n",
       "    </tr>\n",
       "    <tr>\n",
       "      <th>4</th>\n",
       "      <td>5</td>\n",
       "      <td>市場部名称</td>\n",
       "      <td>RSS|'9501.T'!市場部名称</td>\n",
       "      <td>東証１部</td>\n",
       "      <td>東証1部　東証マザーズ</td>\n",
       "    </tr>\n",
       "    <tr>\n",
       "      <th>5</th>\n",
       "      <td>6</td>\n",
       "      <td>市場部略称</td>\n",
       "      <td>RSS|'9501.T'!市場部略称</td>\n",
       "      <td>東１</td>\n",
       "      <td>東1　東ﾏ</td>\n",
       "    </tr>\n",
       "    <tr>\n",
       "      <th>6</th>\n",
       "      <td>7</td>\n",
       "      <td>現在日付</td>\n",
       "      <td>RSS|'9501.T'!現在日付</td>\n",
       "      <td>2009/12/14</td>\n",
       "      <td>8：00～　表示開始　表示形式-ﾕｰｻﾞｰ定義-YY-MM-DD</td>\n",
       "    </tr>\n",
       "    <tr>\n",
       "      <th>7</th>\n",
       "      <td>8</td>\n",
       "      <td>更新時刻</td>\n",
       "      <td>RSS|'9501.T'!更新時刻</td>\n",
       "      <td>9:58</td>\n",
       "      <td>8：00～　表示開始　表示形式-時刻-13:30</td>\n",
       "    </tr>\n",
       "    <tr>\n",
       "      <th>8</th>\n",
       "      <td>9</td>\n",
       "      <td>現在値</td>\n",
       "      <td>RSS|'9501.T'!現在値</td>\n",
       "      <td>2206</td>\n",
       "      <td>～9：00　ブランク</td>\n",
       "    </tr>\n",
       "    <tr>\n",
       "      <th>9</th>\n",
       "      <td>10</td>\n",
       "      <td>現在値時刻</td>\n",
       "      <td>RSS|'9501.T'!現在値時刻</td>\n",
       "      <td>9:07</td>\n",
       "      <td>寄前表示　通常「--」　表示形式変更後「#########」</td>\n",
       "    </tr>\n",
       "    <tr>\n",
       "      <th>10</th>\n",
       "      <td>11</td>\n",
       "      <td>現在値詳細時刻</td>\n",
       "      <td>RSS|'9501.T'!現在値詳細時刻</td>\n",
       "      <td>9:07:31</td>\n",
       "      <td>秒単位まで表示　寄前表示　通常「--」　表示形式変更後「#########」</td>\n",
       "    </tr>\n",
       "    <tr>\n",
       "      <th>11</th>\n",
       "      <td>12</td>\n",
       "      <td>現在値ティック</td>\n",
       "      <td>RSS|'9501.T'!現在値ティック</td>\n",
       "      <td>↓</td>\n",
       "      <td>NaN</td>\n",
       "    </tr>\n",
       "    <tr>\n",
       "      <th>12</th>\n",
       "      <td>13</td>\n",
       "      <td>現在値フラグ</td>\n",
       "      <td>RSS|'9501.T'!現在値フラグ</td>\n",
       "      <td>C</td>\n",
       "      <td>NaN</td>\n",
       "    </tr>\n",
       "    <tr>\n",
       "      <th>13</th>\n",
       "      <td>14</td>\n",
       "      <td>前日比</td>\n",
       "      <td>RSS|'9501.T'!前日比</td>\n",
       "      <td>-19</td>\n",
       "      <td>NaN</td>\n",
       "    </tr>\n",
       "    <tr>\n",
       "      <th>14</th>\n",
       "      <td>15</td>\n",
       "      <td>前日比率</td>\n",
       "      <td>RSS|'9501.T'!前日比率</td>\n",
       "      <td>-0.85</td>\n",
       "      <td>NaN</td>\n",
       "    </tr>\n",
       "    <tr>\n",
       "      <th>15</th>\n",
       "      <td>16</td>\n",
       "      <td>前日終値</td>\n",
       "      <td>RSS|'9501.T'!前日終値</td>\n",
       "      <td>2225</td>\n",
       "      <td>NaN</td>\n",
       "    </tr>\n",
       "    <tr>\n",
       "      <th>16</th>\n",
       "      <td>17</td>\n",
       "      <td>前日日付</td>\n",
       "      <td>RSS|'9501.T'!前日日付</td>\n",
       "      <td>2009/12/5</td>\n",
       "      <td>表示形式-ﾕｰｻﾞｰ定義-yy-mm-dd</td>\n",
       "    </tr>\n",
       "    <tr>\n",
       "      <th>17</th>\n",
       "      <td>18</td>\n",
       "      <td>前日終値フラグ</td>\n",
       "      <td>RSS|'9501.T'!前日終値フラグ</td>\n",
       "      <td>C</td>\n",
       "      <td>NaN</td>\n",
       "    </tr>\n",
       "    <tr>\n",
       "      <th>18</th>\n",
       "      <td>19</td>\n",
       "      <td>歩み１</td>\n",
       "      <td>RSS|'9501.T'!歩み１</td>\n",
       "      <td>2216</td>\n",
       "      <td>NaN</td>\n",
       "    </tr>\n",
       "    <tr>\n",
       "      <th>19</th>\n",
       "      <td>20</td>\n",
       "      <td>歩み２</td>\n",
       "      <td>RSS|'9501.T'!歩み２</td>\n",
       "      <td>2206</td>\n",
       "      <td>NaN</td>\n",
       "    </tr>\n",
       "    <tr>\n",
       "      <th>20</th>\n",
       "      <td>21</td>\n",
       "      <td>歩み３</td>\n",
       "      <td>RSS|'9501.T'!歩み３</td>\n",
       "      <td>2207</td>\n",
       "      <td>NaN</td>\n",
       "    </tr>\n",
       "    <tr>\n",
       "      <th>21</th>\n",
       "      <td>22</td>\n",
       "      <td>歩み４</td>\n",
       "      <td>RSS|'9501.T'!歩み４</td>\n",
       "      <td>2211</td>\n",
       "      <td>NaN</td>\n",
       "    </tr>\n",
       "    <tr>\n",
       "      <th>22</th>\n",
       "      <td>23</td>\n",
       "      <td>歩み１時刻</td>\n",
       "      <td>RSS|'9501.T'!歩み１時刻</td>\n",
       "      <td>9:07</td>\n",
       "      <td>寄前表示　通常「--」　表示形式変更後「#########」</td>\n",
       "    </tr>\n",
       "    <tr>\n",
       "      <th>23</th>\n",
       "      <td>24</td>\n",
       "      <td>歩み２時刻</td>\n",
       "      <td>RSS|'9501.T'!歩み２時刻</td>\n",
       "      <td>9:07</td>\n",
       "      <td>寄前表示　通常「--」　表示形式変更後「#########」</td>\n",
       "    </tr>\n",
       "    <tr>\n",
       "      <th>24</th>\n",
       "      <td>25</td>\n",
       "      <td>歩み３時刻</td>\n",
       "      <td>RSS|'9501.T'!歩み３時刻</td>\n",
       "      <td>9:07</td>\n",
       "      <td>寄前表示　通常「--」　表示形式変更後「#########」</td>\n",
       "    </tr>\n",
       "    <tr>\n",
       "      <th>25</th>\n",
       "      <td>26</td>\n",
       "      <td>歩み４時刻</td>\n",
       "      <td>RSS|'9501.T'!歩み４時刻</td>\n",
       "      <td>9:07</td>\n",
       "      <td>寄前表示　通常「--」　表示形式変更後「#########」</td>\n",
       "    </tr>\n",
       "    <tr>\n",
       "      <th>26</th>\n",
       "      <td>27</td>\n",
       "      <td>歩み１詳細時刻</td>\n",
       "      <td>RSS|'9501.T'!歩み１詳細時刻</td>\n",
       "      <td>9:07:30</td>\n",
       "      <td>秒単位まで表示　寄前表示　通常「--」　表示形式変更後「#########」</td>\n",
       "    </tr>\n",
       "    <tr>\n",
       "      <th>27</th>\n",
       "      <td>28</td>\n",
       "      <td>歩み２詳細時刻</td>\n",
       "      <td>RSS|'9501.T'!歩み２詳細時刻</td>\n",
       "      <td>9:07:30</td>\n",
       "      <td>秒単位まで表示　寄前表示　通常「--」　表示形式変更後「#########」</td>\n",
       "    </tr>\n",
       "    <tr>\n",
       "      <th>28</th>\n",
       "      <td>29</td>\n",
       "      <td>歩み３詳細時刻</td>\n",
       "      <td>RSS|'9501.T'!歩み３詳細時刻</td>\n",
       "      <td>9:07:30</td>\n",
       "      <td>秒単位まで表示　寄前表示　通常「--」　表示形式変更後「#########」</td>\n",
       "    </tr>\n",
       "    <tr>\n",
       "      <th>29</th>\n",
       "      <td>30</td>\n",
       "      <td>歩み４詳細時刻</td>\n",
       "      <td>RSS|'9501.T'!歩み４詳細時刻</td>\n",
       "      <td>9:07:30</td>\n",
       "      <td>秒単位まで表示　寄前表示　通常「--」　表示形式変更後「#########」</td>\n",
       "    </tr>\n",
       "    <tr>\n",
       "      <th>...</th>\n",
       "      <td>...</td>\n",
       "      <td>...</td>\n",
       "      <td>...</td>\n",
       "      <td>...</td>\n",
       "      <td>...</td>\n",
       "    </tr>\n",
       "    <tr>\n",
       "      <th>122</th>\n",
       "      <td>123</td>\n",
       "      <td>最良買気配数量３</td>\n",
       "      <td>RSS|'9501.T'!最良買気配数量３</td>\n",
       "      <td>15000</td>\n",
       "      <td>NaN</td>\n",
       "    </tr>\n",
       "    <tr>\n",
       "      <th>123</th>\n",
       "      <td>124</td>\n",
       "      <td>最良買気配数量４</td>\n",
       "      <td>RSS|'9501.T'!最良買気配数量４</td>\n",
       "      <td>14400</td>\n",
       "      <td>NaN</td>\n",
       "    </tr>\n",
       "    <tr>\n",
       "      <th>124</th>\n",
       "      <td>125</td>\n",
       "      <td>最良買気配数量５</td>\n",
       "      <td>RSS|'9501.T'!最良買気配数量５</td>\n",
       "      <td>14900</td>\n",
       "      <td>NaN</td>\n",
       "    </tr>\n",
       "    <tr>\n",
       "      <th>125</th>\n",
       "      <td>126</td>\n",
       "      <td>最良買気配数量６</td>\n",
       "      <td>RSS|'9501.T'!最良買気配数量６</td>\n",
       "      <td>14200</td>\n",
       "      <td>NaN</td>\n",
       "    </tr>\n",
       "    <tr>\n",
       "      <th>126</th>\n",
       "      <td>127</td>\n",
       "      <td>最良買気配数量７</td>\n",
       "      <td>RSS|'9501.T'!最良買気配数量７</td>\n",
       "      <td>13200</td>\n",
       "      <td>NaN</td>\n",
       "    </tr>\n",
       "    <tr>\n",
       "      <th>127</th>\n",
       "      <td>128</td>\n",
       "      <td>最良買気配数量８</td>\n",
       "      <td>RSS|'9501.T'!最良買気配数量８</td>\n",
       "      <td>17600</td>\n",
       "      <td>NaN</td>\n",
       "    </tr>\n",
       "    <tr>\n",
       "      <th>128</th>\n",
       "      <td>129</td>\n",
       "      <td>最良買気配数量９</td>\n",
       "      <td>RSS|'9501.T'!最良買気配数量９</td>\n",
       "      <td>22000</td>\n",
       "      <td>MS14.0より表示</td>\n",
       "    </tr>\n",
       "    <tr>\n",
       "      <th>129</th>\n",
       "      <td>130</td>\n",
       "      <td>最良買気配数量１０</td>\n",
       "      <td>RSS|'9501.T'!最良買気配数量１０</td>\n",
       "      <td>26400</td>\n",
       "      <td>MS14.0より表示</td>\n",
       "    </tr>\n",
       "    <tr>\n",
       "      <th>130</th>\n",
       "      <td>131</td>\n",
       "      <td>売成行数量</td>\n",
       "      <td>RSS|'9501.T'!売成行数量</td>\n",
       "      <td>NaN</td>\n",
       "      <td>NaN</td>\n",
       "    </tr>\n",
       "    <tr>\n",
       "      <th>131</th>\n",
       "      <td>132</td>\n",
       "      <td>買成行数量</td>\n",
       "      <td>RSS|'9501.T'!買成行数量</td>\n",
       "      <td>NaN</td>\n",
       "      <td>NaN</td>\n",
       "    </tr>\n",
       "    <tr>\n",
       "      <th>132</th>\n",
       "      <td>133</td>\n",
       "      <td>売気配数量累計</td>\n",
       "      <td>RSS|'9501.T'!売気配数量累計</td>\n",
       "      <td>値なし#N/A</td>\n",
       "      <td>NaN</td>\n",
       "    </tr>\n",
       "    <tr>\n",
       "      <th>133</th>\n",
       "      <td>134</td>\n",
       "      <td>買気配数量累計</td>\n",
       "      <td>RSS|'9501.T'!買気配数量累計</td>\n",
       "      <td>値なし#N/A</td>\n",
       "      <td>NaN</td>\n",
       "    </tr>\n",
       "    <tr>\n",
       "      <th>134</th>\n",
       "      <td>135</td>\n",
       "      <td>OVER気配数量</td>\n",
       "      <td>RSS|'9501.T'!OVER気配数量</td>\n",
       "      <td>902300</td>\n",
       "      <td>NaN</td>\n",
       "    </tr>\n",
       "    <tr>\n",
       "      <th>135</th>\n",
       "      <td>136</td>\n",
       "      <td>UNDER気配数量</td>\n",
       "      <td>RSS|'9501.T'!UNDER気配数量</td>\n",
       "      <td>717200</td>\n",
       "      <td>NaN</td>\n",
       "    </tr>\n",
       "    <tr>\n",
       "      <th>136</th>\n",
       "      <td>137</td>\n",
       "      <td>単位株数</td>\n",
       "      <td>RSS|'9501.T'!単位株数</td>\n",
       "      <td>100</td>\n",
       "      <td>NaN</td>\n",
       "    </tr>\n",
       "    <tr>\n",
       "      <th>137</th>\n",
       "      <td>138</td>\n",
       "      <td>配当</td>\n",
       "      <td>RSS|'9501.T'!配当</td>\n",
       "      <td>60</td>\n",
       "      <td>NaN</td>\n",
       "    </tr>\n",
       "    <tr>\n",
       "      <th>138</th>\n",
       "      <td>139</td>\n",
       "      <td>配当落日</td>\n",
       "      <td>RSS|'9501.T'!配当落日</td>\n",
       "      <td>40263</td>\n",
       "      <td>表示形式-ﾕｰｻﾞｰ定義-yy-mm-dd</td>\n",
       "    </tr>\n",
       "    <tr>\n",
       "      <th>139</th>\n",
       "      <td>140</td>\n",
       "      <td>権利落日</td>\n",
       "      <td>RSS|'9501.T'!権利落日</td>\n",
       "      <td>- -</td>\n",
       "      <td>表示なし</td>\n",
       "    </tr>\n",
       "    <tr>\n",
       "      <th>140</th>\n",
       "      <td>141</td>\n",
       "      <td>ＰＥＲ</td>\n",
       "      <td>RSS|'9501.T'!ＰＥＲ</td>\n",
       "      <td>0</td>\n",
       "      <td>NaN</td>\n",
       "    </tr>\n",
       "    <tr>\n",
       "      <th>141</th>\n",
       "      <td>142</td>\n",
       "      <td>ＰＢＲ</td>\n",
       "      <td>RSS|'9501.T'!ＰＢＲ</td>\n",
       "      <td>1.19</td>\n",
       "      <td>NaN</td>\n",
       "    </tr>\n",
       "    <tr>\n",
       "      <th>142</th>\n",
       "      <td>143</td>\n",
       "      <td>当日基準値</td>\n",
       "      <td>RSS|'9501.T'!当日基準値</td>\n",
       "      <td>2215</td>\n",
       "      <td>NaN</td>\n",
       "    </tr>\n",
       "    <tr>\n",
       "      <th>143</th>\n",
       "      <td>144</td>\n",
       "      <td>翌日基準値</td>\n",
       "      <td>RSS|'9501.T'!翌日基準値</td>\n",
       "      <td>0.00</td>\n",
       "      <td>東証･ﾏｻﾞｰｽﾞ 0</td>\n",
       "    </tr>\n",
       "    <tr>\n",
       "      <th>144</th>\n",
       "      <td>145</td>\n",
       "      <td>年初来高値</td>\n",
       "      <td>RSS|'9501.T'!年初来高値</td>\n",
       "      <td>2710</td>\n",
       "      <td>～前日分まで</td>\n",
       "    </tr>\n",
       "    <tr>\n",
       "      <th>145</th>\n",
       "      <td>146</td>\n",
       "      <td>年初来安値</td>\n",
       "      <td>RSS|'9501.T'!年初来安値</td>\n",
       "      <td>2197</td>\n",
       "      <td>～前日分まで</td>\n",
       "    </tr>\n",
       "    <tr>\n",
       "      <th>146</th>\n",
       "      <td>147</td>\n",
       "      <td>年初来高値日付</td>\n",
       "      <td>RSS|'9501.T'!年初来高値日付</td>\n",
       "      <td>2009/12/2</td>\n",
       "      <td>表示形式-ﾕｰｻﾞｰ定義-yy-mm-dd</td>\n",
       "    </tr>\n",
       "    <tr>\n",
       "      <th>147</th>\n",
       "      <td>148</td>\n",
       "      <td>年初来安値日付</td>\n",
       "      <td>RSS|'9501.T'!年初来安値日付</td>\n",
       "      <td>2009/12/2</td>\n",
       "      <td>表示形式-ﾕｰｻﾞｰ定義-yy-mm-dd</td>\n",
       "    </tr>\n",
       "    <tr>\n",
       "      <th>148</th>\n",
       "      <td>149</td>\n",
       "      <td>上場来高値</td>\n",
       "      <td>RSS|'9501.T'!上場来高値</td>\n",
       "      <td>2710</td>\n",
       "      <td>～前日分まで</td>\n",
       "    </tr>\n",
       "    <tr>\n",
       "      <th>149</th>\n",
       "      <td>150</td>\n",
       "      <td>上場来安値</td>\n",
       "      <td>RSS|'9501.T'!上場来安値</td>\n",
       "      <td>2197</td>\n",
       "      <td>～前日分まで</td>\n",
       "    </tr>\n",
       "    <tr>\n",
       "      <th>150</th>\n",
       "      <td>151</td>\n",
       "      <td>上場来高値日付</td>\n",
       "      <td>RSS|'9501.T'!上場来高値日付</td>\n",
       "      <td>2009/12/2</td>\n",
       "      <td>表示形式-ﾕｰｻﾞｰ定義-yy-mm-dd</td>\n",
       "    </tr>\n",
       "    <tr>\n",
       "      <th>151</th>\n",
       "      <td>152</td>\n",
       "      <td>上場来安値日付</td>\n",
       "      <td>RSS|'9501.T'!上場来安値日付</td>\n",
       "      <td>2009/12/2</td>\n",
       "      <td>表示形式-ﾕｰｻﾞｰ定義-yy-mm-dd</td>\n",
       "    </tr>\n",
       "  </tbody>\n",
       "</table>\n",
       "<p>152 rows × 5 columns</p>\n",
       "</div>"
      ],
      "text/plain": [
       "     Unnamed: 0       情報項目                   RSS関数         表示例  \\\n",
       "0             1      銘柄コード      RSS|'9501.T'!銘柄コード        9501   \n",
       "1             2      市場コード      RSS|'9501.T'!市場コード           T   \n",
       "2             3       銘柄名称       RSS|'9501.T'!銘柄名称        東京電力   \n",
       "3             4       市場名称       RSS|'9501.T'!市場名称          東証   \n",
       "4             5      市場部名称      RSS|'9501.T'!市場部名称        東証１部   \n",
       "5             6      市場部略称      RSS|'9501.T'!市場部略称          東１   \n",
       "6             7       現在日付       RSS|'9501.T'!現在日付  2009/12/14   \n",
       "7             8       更新時刻       RSS|'9501.T'!更新時刻        9:58   \n",
       "8             9        現在値        RSS|'9501.T'!現在値        2206   \n",
       "9            10      現在値時刻      RSS|'9501.T'!現在値時刻        9:07   \n",
       "10           11    現在値詳細時刻    RSS|'9501.T'!現在値詳細時刻     9:07:31   \n",
       "11           12    現在値ティック    RSS|'9501.T'!現在値ティック           ↓   \n",
       "12           13     現在値フラグ     RSS|'9501.T'!現在値フラグ           C   \n",
       "13           14        前日比        RSS|'9501.T'!前日比         -19   \n",
       "14           15       前日比率       RSS|'9501.T'!前日比率       -0.85   \n",
       "15           16       前日終値       RSS|'9501.T'!前日終値        2225   \n",
       "16           17       前日日付       RSS|'9501.T'!前日日付   2009/12/5   \n",
       "17           18    前日終値フラグ    RSS|'9501.T'!前日終値フラグ           C   \n",
       "18           19        歩み１        RSS|'9501.T'!歩み１        2216   \n",
       "19           20        歩み２        RSS|'9501.T'!歩み２        2206   \n",
       "20           21        歩み３        RSS|'9501.T'!歩み３        2207   \n",
       "21           22        歩み４        RSS|'9501.T'!歩み４        2211   \n",
       "22           23      歩み１時刻      RSS|'9501.T'!歩み１時刻        9:07   \n",
       "23           24      歩み２時刻      RSS|'9501.T'!歩み２時刻        9:07   \n",
       "24           25      歩み３時刻      RSS|'9501.T'!歩み３時刻        9:07   \n",
       "25           26      歩み４時刻      RSS|'9501.T'!歩み４時刻        9:07   \n",
       "26           27    歩み１詳細時刻    RSS|'9501.T'!歩み１詳細時刻     9:07:30   \n",
       "27           28    歩み２詳細時刻    RSS|'9501.T'!歩み２詳細時刻     9:07:30   \n",
       "28           29    歩み３詳細時刻    RSS|'9501.T'!歩み３詳細時刻     9:07:30   \n",
       "29           30    歩み４詳細時刻    RSS|'9501.T'!歩み４詳細時刻     9:07:30   \n",
       "..          ...        ...                     ...         ...   \n",
       "122         123   最良買気配数量３   RSS|'9501.T'!最良買気配数量３       15000   \n",
       "123         124   最良買気配数量４   RSS|'9501.T'!最良買気配数量４       14400   \n",
       "124         125   最良買気配数量５   RSS|'9501.T'!最良買気配数量５       14900   \n",
       "125         126   最良買気配数量６   RSS|'9501.T'!最良買気配数量６       14200   \n",
       "126         127   最良買気配数量７   RSS|'9501.T'!最良買気配数量７       13200   \n",
       "127         128   最良買気配数量８   RSS|'9501.T'!最良買気配数量８       17600   \n",
       "128         129   最良買気配数量９   RSS|'9501.T'!最良買気配数量９       22000   \n",
       "129         130  最良買気配数量１０  RSS|'9501.T'!最良買気配数量１０       26400   \n",
       "130         131      売成行数量      RSS|'9501.T'!売成行数量         NaN   \n",
       "131         132      買成行数量      RSS|'9501.T'!買成行数量         NaN   \n",
       "132         133    売気配数量累計    RSS|'9501.T'!売気配数量累計     値なし#N/A   \n",
       "133         134    買気配数量累計    RSS|'9501.T'!買気配数量累計     値なし#N/A   \n",
       "134         135   OVER気配数量   RSS|'9501.T'!OVER気配数量      902300   \n",
       "135         136  UNDER気配数量  RSS|'9501.T'!UNDER気配数量      717200   \n",
       "136         137       単位株数       RSS|'9501.T'!単位株数         100   \n",
       "137         138         配当         RSS|'9501.T'!配当          60   \n",
       "138         139       配当落日       RSS|'9501.T'!配当落日       40263   \n",
       "139         140       権利落日       RSS|'9501.T'!権利落日         - -   \n",
       "140         141        ＰＥＲ        RSS|'9501.T'!ＰＥＲ           0   \n",
       "141         142        ＰＢＲ        RSS|'9501.T'!ＰＢＲ        1.19   \n",
       "142         143      当日基準値      RSS|'9501.T'!当日基準値        2215   \n",
       "143         144      翌日基準値      RSS|'9501.T'!翌日基準値        0.00   \n",
       "144         145      年初来高値      RSS|'9501.T'!年初来高値        2710   \n",
       "145         146      年初来安値      RSS|'9501.T'!年初来安値        2197   \n",
       "146         147    年初来高値日付    RSS|'9501.T'!年初来高値日付   2009/12/2   \n",
       "147         148    年初来安値日付    RSS|'9501.T'!年初来安値日付   2009/12/2   \n",
       "148         149      上場来高値      RSS|'9501.T'!上場来高値        2710   \n",
       "149         150      上場来安値      RSS|'9501.T'!上場来安値        2197   \n",
       "150         151    上場来高値日付    RSS|'9501.T'!上場来高値日付   2009/12/2   \n",
       "151         152    上場来安値日付    RSS|'9501.T'!上場来安値日付   2009/12/2   \n",
       "\n",
       "                                         備考  \n",
       "0                                       NaN  \n",
       "1                               東証・マザーズともにT  \n",
       "2                                       NaN  \n",
       "3                                       NaN  \n",
       "4                               東証1部　東証マザーズ  \n",
       "5                                     東1　東ﾏ  \n",
       "6          8：00～　表示開始　表示形式-ﾕｰｻﾞｰ定義-YY-MM-DD  \n",
       "7                  8：00～　表示開始　表示形式-時刻-13:30  \n",
       "8                                ～9：00　ブランク  \n",
       "9            寄前表示　通常「--」　表示形式変更後「#########」  \n",
       "10   秒単位まで表示　寄前表示　通常「--」　表示形式変更後「#########」  \n",
       "11                                      NaN  \n",
       "12                                      NaN  \n",
       "13                                      NaN  \n",
       "14                                      NaN  \n",
       "15                                      NaN  \n",
       "16                    表示形式-ﾕｰｻﾞｰ定義-yy-mm-dd  \n",
       "17                                      NaN  \n",
       "18                                      NaN  \n",
       "19                                      NaN  \n",
       "20                                      NaN  \n",
       "21                                      NaN  \n",
       "22           寄前表示　通常「--」　表示形式変更後「#########」  \n",
       "23           寄前表示　通常「--」　表示形式変更後「#########」  \n",
       "24           寄前表示　通常「--」　表示形式変更後「#########」  \n",
       "25           寄前表示　通常「--」　表示形式変更後「#########」  \n",
       "26   秒単位まで表示　寄前表示　通常「--」　表示形式変更後「#########」  \n",
       "27   秒単位まで表示　寄前表示　通常「--」　表示形式変更後「#########」  \n",
       "28   秒単位まで表示　寄前表示　通常「--」　表示形式変更後「#########」  \n",
       "29   秒単位まで表示　寄前表示　通常「--」　表示形式変更後「#########」  \n",
       "..                                      ...  \n",
       "122                                     NaN  \n",
       "123                                     NaN  \n",
       "124                                     NaN  \n",
       "125                                     NaN  \n",
       "126                                     NaN  \n",
       "127                                     NaN  \n",
       "128                              MS14.0より表示  \n",
       "129                              MS14.0より表示  \n",
       "130                                     NaN  \n",
       "131                                     NaN  \n",
       "132                                     NaN  \n",
       "133                                     NaN  \n",
       "134                                     NaN  \n",
       "135                                     NaN  \n",
       "136                                     NaN  \n",
       "137                                     NaN  \n",
       "138                   表示形式-ﾕｰｻﾞｰ定義-yy-mm-dd  \n",
       "139                                    表示なし  \n",
       "140                                     NaN  \n",
       "141                                     NaN  \n",
       "142                                     NaN  \n",
       "143                             東証･ﾏｻﾞｰｽﾞ 0  \n",
       "144                                  ～前日分まで  \n",
       "145                                  ～前日分まで  \n",
       "146                   表示形式-ﾕｰｻﾞｰ定義-yy-mm-dd  \n",
       "147                   表示形式-ﾕｰｻﾞｰ定義-yy-mm-dd  \n",
       "148                                  ～前日分まで  \n",
       "149                                  ～前日分まで  \n",
       "150                   表示形式-ﾕｰｻﾞｰ定義-yy-mm-dd  \n",
       "151                   表示形式-ﾕｰｻﾞｰ定義-yy-mm-dd  \n",
       "\n",
       "[152 rows x 5 columns]"
      ]
     },
     "metadata": {},
     "output_type": "display_data"
    }
   ],
   "source": [
    "display(df)"
   ]
  },
  {
   "cell_type": "markdown",
   "metadata": {},
   "source": [
    "## CSV入出力\n",
    "http://pythondatascience.plavox.info/pandas/%E3%83%87%E3%83%BC%E3%82%BF%E3%83%95%E3%83%AC%E3%83%BC%E3%83%A0%E3%82%92%E5%87%BA%E5%8A%9B%E3%81%99%E3%82%8B"
   ]
  },
  {
   "cell_type": "code",
   "execution_count": 8,
   "metadata": {
    "collapsed": true
   },
   "outputs": [],
   "source": [
    "df.to_csv('heisei19to26.csv')"
   ]
  },
  {
   "cell_type": "code",
   "execution_count": 10,
   "metadata": {
    "collapsed": true
   },
   "outputs": [],
   "source": [
    "! explorer ."
   ]
  },
  {
   "cell_type": "code",
   "execution_count": 6,
   "metadata": {
    "ExecuteTime": {
     "end_time": "2017-12-09T23:58:52.028055Z",
     "start_time": "2017-12-09T23:58:51.020156Z"
    },
    "collapsed": true
   },
   "outputs": [],
   "source": [
    "import pandas as pd"
   ]
  },
  {
   "cell_type": "code",
   "execution_count": 7,
   "metadata": {
    "ExecuteTime": {
     "end_time": "2017-12-09T23:58:52.820799Z",
     "start_time": "2017-12-09T23:58:52.731744Z"
    }
   },
   "outputs": [
    {
     "ename": "FileNotFoundError",
     "evalue": "File b'heisei19to26.csv' does not exist",
     "output_type": "error",
     "traceback": [
      "\u001b[1;31m---------------------------------------------------------------------------\u001b[0m",
      "\u001b[1;31mFileNotFoundError\u001b[0m                         Traceback (most recent call last)",
      "\u001b[1;32m<ipython-input-7-7f3ce3919f4a>\u001b[0m in \u001b[0;36m<module>\u001b[1;34m()\u001b[0m\n\u001b[1;32m----> 1\u001b[1;33m \u001b[0mdf\u001b[0m\u001b[1;33m=\u001b[0m\u001b[0mpd\u001b[0m\u001b[1;33m.\u001b[0m\u001b[0mread_csv\u001b[0m\u001b[1;33m(\u001b[0m\u001b[1;34m\"heisei19to26.csv\"\u001b[0m\u001b[1;33m,\u001b[0m \u001b[0mheader\u001b[0m\u001b[1;33m=\u001b[0m\u001b[1;32mNone\u001b[0m\u001b[1;33m,\u001b[0m \u001b[0mencoding\u001b[0m\u001b[1;33m=\u001b[0m\u001b[1;34m\"shift-jis\"\u001b[0m\u001b[1;33m)\u001b[0m\u001b[1;33m\u001b[0m\u001b[0m\n\u001b[0m",
      "\u001b[1;32m~\\Anaconda3\\envs\\mine36\\lib\\site-packages\\pandas\\io\\parsers.py\u001b[0m in \u001b[0;36mparser_f\u001b[1;34m(filepath_or_buffer, sep, delimiter, header, names, index_col, usecols, squeeze, prefix, mangle_dupe_cols, dtype, engine, converters, true_values, false_values, skipinitialspace, skiprows, nrows, na_values, keep_default_na, na_filter, verbose, skip_blank_lines, parse_dates, infer_datetime_format, keep_date_col, date_parser, dayfirst, iterator, chunksize, compression, thousands, decimal, lineterminator, quotechar, quoting, escapechar, comment, encoding, dialect, tupleize_cols, error_bad_lines, warn_bad_lines, skipfooter, skip_footer, doublequote, delim_whitespace, as_recarray, compact_ints, use_unsigned, low_memory, buffer_lines, memory_map, float_precision)\u001b[0m\n\u001b[0;32m    653\u001b[0m                     skip_blank_lines=skip_blank_lines)\n\u001b[0;32m    654\u001b[0m \u001b[1;33m\u001b[0m\u001b[0m\n\u001b[1;32m--> 655\u001b[1;33m         \u001b[1;32mreturn\u001b[0m \u001b[0m_read\u001b[0m\u001b[1;33m(\u001b[0m\u001b[0mfilepath_or_buffer\u001b[0m\u001b[1;33m,\u001b[0m \u001b[0mkwds\u001b[0m\u001b[1;33m)\u001b[0m\u001b[1;33m\u001b[0m\u001b[0m\n\u001b[0m\u001b[0;32m    656\u001b[0m \u001b[1;33m\u001b[0m\u001b[0m\n\u001b[0;32m    657\u001b[0m     \u001b[0mparser_f\u001b[0m\u001b[1;33m.\u001b[0m\u001b[0m__name__\u001b[0m \u001b[1;33m=\u001b[0m \u001b[0mname\u001b[0m\u001b[1;33m\u001b[0m\u001b[0m\n",
      "\u001b[1;32m~\\Anaconda3\\envs\\mine36\\lib\\site-packages\\pandas\\io\\parsers.py\u001b[0m in \u001b[0;36m_read\u001b[1;34m(filepath_or_buffer, kwds)\u001b[0m\n\u001b[0;32m    403\u001b[0m \u001b[1;33m\u001b[0m\u001b[0m\n\u001b[0;32m    404\u001b[0m     \u001b[1;31m# Create the parser.\u001b[0m\u001b[1;33m\u001b[0m\u001b[1;33m\u001b[0m\u001b[0m\n\u001b[1;32m--> 405\u001b[1;33m     \u001b[0mparser\u001b[0m \u001b[1;33m=\u001b[0m \u001b[0mTextFileReader\u001b[0m\u001b[1;33m(\u001b[0m\u001b[0mfilepath_or_buffer\u001b[0m\u001b[1;33m,\u001b[0m \u001b[1;33m**\u001b[0m\u001b[0mkwds\u001b[0m\u001b[1;33m)\u001b[0m\u001b[1;33m\u001b[0m\u001b[0m\n\u001b[0m\u001b[0;32m    406\u001b[0m \u001b[1;33m\u001b[0m\u001b[0m\n\u001b[0;32m    407\u001b[0m     \u001b[1;32mif\u001b[0m \u001b[0mchunksize\u001b[0m \u001b[1;32mor\u001b[0m \u001b[0miterator\u001b[0m\u001b[1;33m:\u001b[0m\u001b[1;33m\u001b[0m\u001b[0m\n",
      "\u001b[1;32m~\\Anaconda3\\envs\\mine36\\lib\\site-packages\\pandas\\io\\parsers.py\u001b[0m in \u001b[0;36m__init__\u001b[1;34m(self, f, engine, **kwds)\u001b[0m\n\u001b[0;32m    762\u001b[0m             \u001b[0mself\u001b[0m\u001b[1;33m.\u001b[0m\u001b[0moptions\u001b[0m\u001b[1;33m[\u001b[0m\u001b[1;34m'has_index_names'\u001b[0m\u001b[1;33m]\u001b[0m \u001b[1;33m=\u001b[0m \u001b[0mkwds\u001b[0m\u001b[1;33m[\u001b[0m\u001b[1;34m'has_index_names'\u001b[0m\u001b[1;33m]\u001b[0m\u001b[1;33m\u001b[0m\u001b[0m\n\u001b[0;32m    763\u001b[0m \u001b[1;33m\u001b[0m\u001b[0m\n\u001b[1;32m--> 764\u001b[1;33m         \u001b[0mself\u001b[0m\u001b[1;33m.\u001b[0m\u001b[0m_make_engine\u001b[0m\u001b[1;33m(\u001b[0m\u001b[0mself\u001b[0m\u001b[1;33m.\u001b[0m\u001b[0mengine\u001b[0m\u001b[1;33m)\u001b[0m\u001b[1;33m\u001b[0m\u001b[0m\n\u001b[0m\u001b[0;32m    765\u001b[0m \u001b[1;33m\u001b[0m\u001b[0m\n\u001b[0;32m    766\u001b[0m     \u001b[1;32mdef\u001b[0m \u001b[0mclose\u001b[0m\u001b[1;33m(\u001b[0m\u001b[0mself\u001b[0m\u001b[1;33m)\u001b[0m\u001b[1;33m:\u001b[0m\u001b[1;33m\u001b[0m\u001b[0m\n",
      "\u001b[1;32m~\\Anaconda3\\envs\\mine36\\lib\\site-packages\\pandas\\io\\parsers.py\u001b[0m in \u001b[0;36m_make_engine\u001b[1;34m(self, engine)\u001b[0m\n\u001b[0;32m    983\u001b[0m     \u001b[1;32mdef\u001b[0m \u001b[0m_make_engine\u001b[0m\u001b[1;33m(\u001b[0m\u001b[0mself\u001b[0m\u001b[1;33m,\u001b[0m \u001b[0mengine\u001b[0m\u001b[1;33m=\u001b[0m\u001b[1;34m'c'\u001b[0m\u001b[1;33m)\u001b[0m\u001b[1;33m:\u001b[0m\u001b[1;33m\u001b[0m\u001b[0m\n\u001b[0;32m    984\u001b[0m         \u001b[1;32mif\u001b[0m \u001b[0mengine\u001b[0m \u001b[1;33m==\u001b[0m \u001b[1;34m'c'\u001b[0m\u001b[1;33m:\u001b[0m\u001b[1;33m\u001b[0m\u001b[0m\n\u001b[1;32m--> 985\u001b[1;33m             \u001b[0mself\u001b[0m\u001b[1;33m.\u001b[0m\u001b[0m_engine\u001b[0m \u001b[1;33m=\u001b[0m \u001b[0mCParserWrapper\u001b[0m\u001b[1;33m(\u001b[0m\u001b[0mself\u001b[0m\u001b[1;33m.\u001b[0m\u001b[0mf\u001b[0m\u001b[1;33m,\u001b[0m \u001b[1;33m**\u001b[0m\u001b[0mself\u001b[0m\u001b[1;33m.\u001b[0m\u001b[0moptions\u001b[0m\u001b[1;33m)\u001b[0m\u001b[1;33m\u001b[0m\u001b[0m\n\u001b[0m\u001b[0;32m    986\u001b[0m         \u001b[1;32melse\u001b[0m\u001b[1;33m:\u001b[0m\u001b[1;33m\u001b[0m\u001b[0m\n\u001b[0;32m    987\u001b[0m             \u001b[1;32mif\u001b[0m \u001b[0mengine\u001b[0m \u001b[1;33m==\u001b[0m \u001b[1;34m'python'\u001b[0m\u001b[1;33m:\u001b[0m\u001b[1;33m\u001b[0m\u001b[0m\n",
      "\u001b[1;32m~\\Anaconda3\\envs\\mine36\\lib\\site-packages\\pandas\\io\\parsers.py\u001b[0m in \u001b[0;36m__init__\u001b[1;34m(self, src, **kwds)\u001b[0m\n\u001b[0;32m   1603\u001b[0m         \u001b[0mkwds\u001b[0m\u001b[1;33m[\u001b[0m\u001b[1;34m'allow_leading_cols'\u001b[0m\u001b[1;33m]\u001b[0m \u001b[1;33m=\u001b[0m \u001b[0mself\u001b[0m\u001b[1;33m.\u001b[0m\u001b[0mindex_col\u001b[0m \u001b[1;32mis\u001b[0m \u001b[1;32mnot\u001b[0m \u001b[1;32mFalse\u001b[0m\u001b[1;33m\u001b[0m\u001b[0m\n\u001b[0;32m   1604\u001b[0m \u001b[1;33m\u001b[0m\u001b[0m\n\u001b[1;32m-> 1605\u001b[1;33m         \u001b[0mself\u001b[0m\u001b[1;33m.\u001b[0m\u001b[0m_reader\u001b[0m \u001b[1;33m=\u001b[0m \u001b[0mparsers\u001b[0m\u001b[1;33m.\u001b[0m\u001b[0mTextReader\u001b[0m\u001b[1;33m(\u001b[0m\u001b[0msrc\u001b[0m\u001b[1;33m,\u001b[0m \u001b[1;33m**\u001b[0m\u001b[0mkwds\u001b[0m\u001b[1;33m)\u001b[0m\u001b[1;33m\u001b[0m\u001b[0m\n\u001b[0m\u001b[0;32m   1606\u001b[0m \u001b[1;33m\u001b[0m\u001b[0m\n\u001b[0;32m   1607\u001b[0m         \u001b[1;31m# XXX\u001b[0m\u001b[1;33m\u001b[0m\u001b[1;33m\u001b[0m\u001b[0m\n",
      "\u001b[1;32mpandas/_libs/parsers.pyx\u001b[0m in \u001b[0;36mpandas._libs.parsers.TextReader.__cinit__ (pandas\\_libs\\parsers.c:4209)\u001b[1;34m()\u001b[0m\n",
      "\u001b[1;32mpandas/_libs/parsers.pyx\u001b[0m in \u001b[0;36mpandas._libs.parsers.TextReader._setup_parser_source (pandas\\_libs\\parsers.c:8873)\u001b[1;34m()\u001b[0m\n",
      "\u001b[1;31mFileNotFoundError\u001b[0m: File b'heisei19to26.csv' does not exist"
     ]
    }
   ],
   "source": [
    "df=pd.read_csv(\"heisei19to26.csv\", header=None, encoding=\"shift-jis\")"
   ]
  },
  {
   "cell_type": "code",
   "execution_count": 8,
   "metadata": {
    "ExecuteTime": {
     "end_time": "2017-12-09T23:58:53.416789Z",
     "start_time": "2017-12-09T23:58:53.403782Z"
    }
   },
   "outputs": [
    {
     "ename": "NameError",
     "evalue": "name 'df' is not defined",
     "output_type": "error",
     "traceback": [
      "\u001b[1;31m---------------------------------------------------------------------------\u001b[0m",
      "\u001b[1;31mNameError\u001b[0m                                 Traceback (most recent call last)",
      "\u001b[1;32m<ipython-input-8-d4573d073610>\u001b[0m in \u001b[0;36m<module>\u001b[1;34m()\u001b[0m\n\u001b[1;32m----> 1\u001b[1;33m \u001b[0mdisplay\u001b[0m\u001b[1;33m(\u001b[0m\u001b[0mdf\u001b[0m\u001b[1;33m.\u001b[0m\u001b[0mT\u001b[0m\u001b[1;33m)\u001b[0m\u001b[1;33m\u001b[0m\u001b[0m\n\u001b[0m",
      "\u001b[1;31mNameError\u001b[0m: name 'df' is not defined"
     ]
    }
   ],
   "source": [
    "display(df.T)"
   ]
  },
  {
   "cell_type": "code",
   "execution_count": 9,
   "metadata": {
    "ExecuteTime": {
     "end_time": "2017-12-09T23:58:54.447725Z",
     "start_time": "2017-12-09T23:58:54.418708Z"
    }
   },
   "outputs": [
    {
     "ename": "FileNotFoundError",
     "evalue": "File b'3070am20170807.csv' does not exist",
     "output_type": "error",
     "traceback": [
      "\u001b[1;31m---------------------------------------------------------------------------\u001b[0m",
      "\u001b[1;31mFileNotFoundError\u001b[0m                         Traceback (most recent call last)",
      "\u001b[1;32m<ipython-input-9-4de385985bb9>\u001b[0m in \u001b[0;36m<module>\u001b[1;34m()\u001b[0m\n\u001b[1;32m----> 1\u001b[1;33m \u001b[0mdf\u001b[0m\u001b[1;33m=\u001b[0m\u001b[0mpd\u001b[0m\u001b[1;33m.\u001b[0m\u001b[0mread_csv\u001b[0m\u001b[1;33m(\u001b[0m\u001b[1;34m\"3070am20170807.csv\"\u001b[0m\u001b[1;33m,\u001b[0m \u001b[0mheader\u001b[0m\u001b[1;33m=\u001b[0m\u001b[1;32mNone\u001b[0m\u001b[1;33m,\u001b[0m \u001b[0mencoding\u001b[0m\u001b[1;33m=\u001b[0m\u001b[1;34m\"shift-jis\"\u001b[0m\u001b[1;33m)\u001b[0m\u001b[1;33m\u001b[0m\u001b[0m\n\u001b[0m",
      "\u001b[1;32m~\\Anaconda3\\envs\\mine36\\lib\\site-packages\\pandas\\io\\parsers.py\u001b[0m in \u001b[0;36mparser_f\u001b[1;34m(filepath_or_buffer, sep, delimiter, header, names, index_col, usecols, squeeze, prefix, mangle_dupe_cols, dtype, engine, converters, true_values, false_values, skipinitialspace, skiprows, nrows, na_values, keep_default_na, na_filter, verbose, skip_blank_lines, parse_dates, infer_datetime_format, keep_date_col, date_parser, dayfirst, iterator, chunksize, compression, thousands, decimal, lineterminator, quotechar, quoting, escapechar, comment, encoding, dialect, tupleize_cols, error_bad_lines, warn_bad_lines, skipfooter, skip_footer, doublequote, delim_whitespace, as_recarray, compact_ints, use_unsigned, low_memory, buffer_lines, memory_map, float_precision)\u001b[0m\n\u001b[0;32m    653\u001b[0m                     skip_blank_lines=skip_blank_lines)\n\u001b[0;32m    654\u001b[0m \u001b[1;33m\u001b[0m\u001b[0m\n\u001b[1;32m--> 655\u001b[1;33m         \u001b[1;32mreturn\u001b[0m \u001b[0m_read\u001b[0m\u001b[1;33m(\u001b[0m\u001b[0mfilepath_or_buffer\u001b[0m\u001b[1;33m,\u001b[0m \u001b[0mkwds\u001b[0m\u001b[1;33m)\u001b[0m\u001b[1;33m\u001b[0m\u001b[0m\n\u001b[0m\u001b[0;32m    656\u001b[0m \u001b[1;33m\u001b[0m\u001b[0m\n\u001b[0;32m    657\u001b[0m     \u001b[0mparser_f\u001b[0m\u001b[1;33m.\u001b[0m\u001b[0m__name__\u001b[0m \u001b[1;33m=\u001b[0m \u001b[0mname\u001b[0m\u001b[1;33m\u001b[0m\u001b[0m\n",
      "\u001b[1;32m~\\Anaconda3\\envs\\mine36\\lib\\site-packages\\pandas\\io\\parsers.py\u001b[0m in \u001b[0;36m_read\u001b[1;34m(filepath_or_buffer, kwds)\u001b[0m\n\u001b[0;32m    403\u001b[0m \u001b[1;33m\u001b[0m\u001b[0m\n\u001b[0;32m    404\u001b[0m     \u001b[1;31m# Create the parser.\u001b[0m\u001b[1;33m\u001b[0m\u001b[1;33m\u001b[0m\u001b[0m\n\u001b[1;32m--> 405\u001b[1;33m     \u001b[0mparser\u001b[0m \u001b[1;33m=\u001b[0m \u001b[0mTextFileReader\u001b[0m\u001b[1;33m(\u001b[0m\u001b[0mfilepath_or_buffer\u001b[0m\u001b[1;33m,\u001b[0m \u001b[1;33m**\u001b[0m\u001b[0mkwds\u001b[0m\u001b[1;33m)\u001b[0m\u001b[1;33m\u001b[0m\u001b[0m\n\u001b[0m\u001b[0;32m    406\u001b[0m \u001b[1;33m\u001b[0m\u001b[0m\n\u001b[0;32m    407\u001b[0m     \u001b[1;32mif\u001b[0m \u001b[0mchunksize\u001b[0m \u001b[1;32mor\u001b[0m \u001b[0miterator\u001b[0m\u001b[1;33m:\u001b[0m\u001b[1;33m\u001b[0m\u001b[0m\n",
      "\u001b[1;32m~\\Anaconda3\\envs\\mine36\\lib\\site-packages\\pandas\\io\\parsers.py\u001b[0m in \u001b[0;36m__init__\u001b[1;34m(self, f, engine, **kwds)\u001b[0m\n\u001b[0;32m    762\u001b[0m             \u001b[0mself\u001b[0m\u001b[1;33m.\u001b[0m\u001b[0moptions\u001b[0m\u001b[1;33m[\u001b[0m\u001b[1;34m'has_index_names'\u001b[0m\u001b[1;33m]\u001b[0m \u001b[1;33m=\u001b[0m \u001b[0mkwds\u001b[0m\u001b[1;33m[\u001b[0m\u001b[1;34m'has_index_names'\u001b[0m\u001b[1;33m]\u001b[0m\u001b[1;33m\u001b[0m\u001b[0m\n\u001b[0;32m    763\u001b[0m \u001b[1;33m\u001b[0m\u001b[0m\n\u001b[1;32m--> 764\u001b[1;33m         \u001b[0mself\u001b[0m\u001b[1;33m.\u001b[0m\u001b[0m_make_engine\u001b[0m\u001b[1;33m(\u001b[0m\u001b[0mself\u001b[0m\u001b[1;33m.\u001b[0m\u001b[0mengine\u001b[0m\u001b[1;33m)\u001b[0m\u001b[1;33m\u001b[0m\u001b[0m\n\u001b[0m\u001b[0;32m    765\u001b[0m \u001b[1;33m\u001b[0m\u001b[0m\n\u001b[0;32m    766\u001b[0m     \u001b[1;32mdef\u001b[0m \u001b[0mclose\u001b[0m\u001b[1;33m(\u001b[0m\u001b[0mself\u001b[0m\u001b[1;33m)\u001b[0m\u001b[1;33m:\u001b[0m\u001b[1;33m\u001b[0m\u001b[0m\n",
      "\u001b[1;32m~\\Anaconda3\\envs\\mine36\\lib\\site-packages\\pandas\\io\\parsers.py\u001b[0m in \u001b[0;36m_make_engine\u001b[1;34m(self, engine)\u001b[0m\n\u001b[0;32m    983\u001b[0m     \u001b[1;32mdef\u001b[0m \u001b[0m_make_engine\u001b[0m\u001b[1;33m(\u001b[0m\u001b[0mself\u001b[0m\u001b[1;33m,\u001b[0m \u001b[0mengine\u001b[0m\u001b[1;33m=\u001b[0m\u001b[1;34m'c'\u001b[0m\u001b[1;33m)\u001b[0m\u001b[1;33m:\u001b[0m\u001b[1;33m\u001b[0m\u001b[0m\n\u001b[0;32m    984\u001b[0m         \u001b[1;32mif\u001b[0m \u001b[0mengine\u001b[0m \u001b[1;33m==\u001b[0m \u001b[1;34m'c'\u001b[0m\u001b[1;33m:\u001b[0m\u001b[1;33m\u001b[0m\u001b[0m\n\u001b[1;32m--> 985\u001b[1;33m             \u001b[0mself\u001b[0m\u001b[1;33m.\u001b[0m\u001b[0m_engine\u001b[0m \u001b[1;33m=\u001b[0m \u001b[0mCParserWrapper\u001b[0m\u001b[1;33m(\u001b[0m\u001b[0mself\u001b[0m\u001b[1;33m.\u001b[0m\u001b[0mf\u001b[0m\u001b[1;33m,\u001b[0m \u001b[1;33m**\u001b[0m\u001b[0mself\u001b[0m\u001b[1;33m.\u001b[0m\u001b[0moptions\u001b[0m\u001b[1;33m)\u001b[0m\u001b[1;33m\u001b[0m\u001b[0m\n\u001b[0m\u001b[0;32m    986\u001b[0m         \u001b[1;32melse\u001b[0m\u001b[1;33m:\u001b[0m\u001b[1;33m\u001b[0m\u001b[0m\n\u001b[0;32m    987\u001b[0m             \u001b[1;32mif\u001b[0m \u001b[0mengine\u001b[0m \u001b[1;33m==\u001b[0m \u001b[1;34m'python'\u001b[0m\u001b[1;33m:\u001b[0m\u001b[1;33m\u001b[0m\u001b[0m\n",
      "\u001b[1;32m~\\Anaconda3\\envs\\mine36\\lib\\site-packages\\pandas\\io\\parsers.py\u001b[0m in \u001b[0;36m__init__\u001b[1;34m(self, src, **kwds)\u001b[0m\n\u001b[0;32m   1603\u001b[0m         \u001b[0mkwds\u001b[0m\u001b[1;33m[\u001b[0m\u001b[1;34m'allow_leading_cols'\u001b[0m\u001b[1;33m]\u001b[0m \u001b[1;33m=\u001b[0m \u001b[0mself\u001b[0m\u001b[1;33m.\u001b[0m\u001b[0mindex_col\u001b[0m \u001b[1;32mis\u001b[0m \u001b[1;32mnot\u001b[0m \u001b[1;32mFalse\u001b[0m\u001b[1;33m\u001b[0m\u001b[0m\n\u001b[0;32m   1604\u001b[0m \u001b[1;33m\u001b[0m\u001b[0m\n\u001b[1;32m-> 1605\u001b[1;33m         \u001b[0mself\u001b[0m\u001b[1;33m.\u001b[0m\u001b[0m_reader\u001b[0m \u001b[1;33m=\u001b[0m \u001b[0mparsers\u001b[0m\u001b[1;33m.\u001b[0m\u001b[0mTextReader\u001b[0m\u001b[1;33m(\u001b[0m\u001b[0msrc\u001b[0m\u001b[1;33m,\u001b[0m \u001b[1;33m**\u001b[0m\u001b[0mkwds\u001b[0m\u001b[1;33m)\u001b[0m\u001b[1;33m\u001b[0m\u001b[0m\n\u001b[0m\u001b[0;32m   1606\u001b[0m \u001b[1;33m\u001b[0m\u001b[0m\n\u001b[0;32m   1607\u001b[0m         \u001b[1;31m# XXX\u001b[0m\u001b[1;33m\u001b[0m\u001b[1;33m\u001b[0m\u001b[0m\n",
      "\u001b[1;32mpandas/_libs/parsers.pyx\u001b[0m in \u001b[0;36mpandas._libs.parsers.TextReader.__cinit__ (pandas\\_libs\\parsers.c:4209)\u001b[1;34m()\u001b[0m\n",
      "\u001b[1;32mpandas/_libs/parsers.pyx\u001b[0m in \u001b[0;36mpandas._libs.parsers.TextReader._setup_parser_source (pandas\\_libs\\parsers.c:8873)\u001b[1;34m()\u001b[0m\n",
      "\u001b[1;31mFileNotFoundError\u001b[0m: File b'3070am20170807.csv' does not exist"
     ]
    }
   ],
   "source": [
    "df=pd.read_csv(\"3070am20170807.csv\", header=None, encoding=\"shift-jis\")"
   ]
  },
  {
   "cell_type": "code",
   "execution_count": 10,
   "metadata": {
    "ExecuteTime": {
     "end_time": "2017-12-09T23:58:55.411812Z",
     "start_time": "2017-12-09T23:58:55.401807Z"
    }
   },
   "outputs": [
    {
     "ename": "NameError",
     "evalue": "name 'df' is not defined",
     "output_type": "error",
     "traceback": [
      "\u001b[1;31m---------------------------------------------------------------------------\u001b[0m",
      "\u001b[1;31mNameError\u001b[0m                                 Traceback (most recent call last)",
      "\u001b[1;32m<ipython-input-10-7ed0097d7e9e>\u001b[0m in \u001b[0;36m<module>\u001b[1;34m()\u001b[0m\n\u001b[1;32m----> 1\u001b[1;33m \u001b[0mdf\u001b[0m\u001b[1;33m\u001b[0m\u001b[0m\n\u001b[0m",
      "\u001b[1;31mNameError\u001b[0m: name 'df' is not defined"
     ]
    }
   ],
   "source": [
    "df"
   ]
  },
  {
   "cell_type": "markdown",
   "metadata": {},
   "source": [
    "## 表の表示設定\n",
    "http://uyamazak.hatenablog.com/entry/2016/09/29/163534"
   ]
  },
  {
   "cell_type": "code",
   "execution_count": null,
   "metadata": {
    "ExecuteTime": {
     "end_time": "2017-07-18T09:33:11.690750Z",
     "start_time": "2017-07-18T09:33:09.746643Z"
    },
    "collapsed": true
   },
   "outputs": [],
   "source": [
    "import pandas as pd\n",
    "\n",
    "#カラム内の文字数。デフォルトは50だった\n",
    "pd.set_option(\"display.max_colwidth\", 80)\n",
    "#行数\n",
    "pd.set_option(\"display.max_rows\", 101)"
   ]
  },
  {
   "cell_type": "markdown",
   "metadata": {},
   "source": [
    "他のオプションはdir()などで確認できる"
   ]
  },
  {
   "cell_type": "code",
   "execution_count": null,
   "metadata": {
    "ExecuteTime": {
     "end_time": "2017-07-18T09:33:11.708707Z",
     "start_time": "2017-07-18T09:33:11.693708Z"
    },
    "collapsed": true
   },
   "outputs": [],
   "source": [
    "dir(pd.options.display)"
   ]
  },
  {
   "cell_type": "markdown",
   "metadata": {},
   "source": [
    "## list化\n"
   ]
  },
  {
   "cell_type": "code",
   "execution_count": null,
   "metadata": {
    "collapsed": true
   },
   "outputs": [],
   "source": [
    "li=df['情報項目'].values.tolist()"
   ]
  },
  {
   "cell_type": "code",
   "execution_count": null,
   "metadata": {
    "collapsed": true
   },
   "outputs": [],
   "source": [
    "li"
   ]
  },
  {
   "cell_type": "markdown",
   "metadata": {},
   "source": [
    "# [matplotlib](matplotlib.ipynb)"
   ]
  },
  {
   "cell_type": "markdown",
   "metadata": {},
   "source": [
    "# 標準入力"
   ]
  },
  {
   "cell_type": "markdown",
   "metadata": {},
   "source": [
    "入力例1  \n",
    "2  \n",
    "3  \n",
    "\n",
    "\n",
    "s = [input() for i in range(2)] #2回繰り返し s に値を取得  \n",
    "\n",
    "N = int(input()) #1行目のNを取得  \n",
    "s = [input() for i in range(N-1)] #N回繰り返し s に値を取得  \n",
    "print(int(s[0])*N)  "
   ]
  },
  {
   "cell_type": "markdown",
   "metadata": {
    "collapsed": true
   },
   "source": [
    "# subprocess\n",
    "http://qiita.com/mokemokechicken/items/a84b0aa96b94d1931f08"
   ]
  },
  {
   "cell_type": "markdown",
   "metadata": {},
   "source": [
    "## 一般\n",
    "【渡す側のコード】\n",
    "- args[スペースで区切る所が\",\"下記の例では、python 実行するpythonファイル 受け渡す引数]\n",
    "- out,errs=p.communicate():outは受け側のprint文の内容が出てくる。errsはエラーがあれば出てくる\n",
    "- p.kill:プロセスを切る"
   ]
  },
  {
   "cell_type": "code",
   "execution_count": 13,
   "metadata": {},
   "outputs": [
    {
     "name": "stdout",
     "output_type": "stream",
     "text": [
      "Market Speed\r\n",
      "\n",
      "\n"
     ]
    }
   ],
   "source": [
    "import subprocess,os\n",
    "args=[\"python\",os.path.join(os.environ['JUPYTER_HOME'],\"common\",\"000_lib\",\"window_handle.py\"),\"Market Speed\"]\n",
    "p=subprocess.Popen(args, shell=True, stdout=subprocess.PIPE, stderr=subprocess.PIPE)\n",
    "try:\n",
    "    out,errs=p.communicate()\n",
    "except:\n",
    "    p.kill\n",
    "    out,ers=p.communicate()\n",
    "print(out.decode(\"utf-8\"))\n",
    "print(errs.decode(\"utf-8\"))"
   ]
  },
  {
   "cell_type": "markdown",
   "metadata": {},
   "source": [
    "【受ける側のコード】\n",
    "- sys.argv[i]に引数が入ってくる(i=1,2,3...)ちなみに、argv[0]はpathが入る\n",
    "- encodeもdecodeもする必要なし。strの形で入ってきてくれる"
   ]
  },
  {
   "cell_type": "code",
   "execution_count": 11,
   "metadata": {
    "collapsed": true
   },
   "outputs": [],
   "source": [
    "import sys\n",
    "#コード\n",
    "if __name__ == '__main__':\n",
    "    obj=window_ope()\n",
    "    obj.taisho_name=sys.argv[1]\n",
    "    print(obj.taisho_name)"
   ]
  },
  {
   "cell_type": "markdown",
   "metadata": {},
   "source": [
    "## 投げっぱなしにする場合\n",
    "親プロセスから必要に応じて、サブプロセスを複数投げる場合に必要\n",
    "- 何かトリガが発生した場合に、サブプロセスを投げる"
   ]
  },
  {
   "cell_type": "code",
   "execution_count": 9,
   "metadata": {
    "collapsed": true
   },
   "outputs": [],
   "source": [
    "import subprocess\n",
    "args=[\"C:\\Program Files (x86)\\MarketSpeed\\MLauncher\\MLauncher.exe\" ,\"MarketSpeed\"]\n",
    "p=subprocess.Popen(args)"
   ]
  },
  {
   "cell_type": "markdown",
   "metadata": {
    "collapsed": true
   },
   "source": [
    "# sikuli\n",
    "- document http://sikulix-2014.readthedocs.io/en/latest/genindex.html\n",
    "- command http://sikulix-2014.readthedocs.io/en/latest/faq/010-command-line.html"
   ]
  },
  {
   "cell_type": "markdown",
   "metadata": {},
   "source": [
    "## サーバを立てて実行する\n",
    "http://sikulix.weebly.com/support.html"
   ]
  },
  {
   "cell_type": "markdown",
   "metadata": {},
   "source": [
    "- stop - stops the server\n",
    "- startp - initiates a Jython runner, so the next run request will start the script without delay *\n",
    "- scripts/folder/folder/folder/... - sets the folder where the runner finds the scripts **\n",
    "- images/folder/folder/folder/... - sets the folder where the runner finds the images used in a script (image path) **\n",
    "- run/script - looks for the script in the given folder and runs it (starts the respective runner if not yet done) ***"
   ]
  },
  {
   "cell_type": "markdown",
   "metadata": {
    "ExecuteTime": {
     "end_time": "2017-07-24T10:40:52.413149Z",
     "start_time": "2017-07-24T10:40:46.007873Z"
    }
   },
   "source": [
    "cd %sikuli_home%  \n",
    "runsikulix -s"
   ]
  },
  {
   "cell_type": "code",
   "execution_count": 1,
   "metadata": {
    "ExecuteTime": {
     "end_time": "2017-07-24T11:09:20.165615Z",
     "start_time": "2017-07-24T11:09:14.203598Z"
    },
    "collapsed": true
   },
   "outputs": [],
   "source": [
    "from selenium import webdriver\n",
    "driver = webdriver.Chrome()\n",
    "driver.get(\"http://localhost:50001/startp\")\n",
    "driver.get(\"http://localhost:50001/scripts/home/OneDrive/anaconda/root/101_script\")"
   ]
  },
  {
   "cell_type": "code",
   "execution_count": 9,
   "metadata": {},
   "outputs": [
    {
     "data": {
      "text/plain": [
       "0"
      ]
     },
     "execution_count": 9,
     "metadata": {},
     "output_type": "execute_result"
    }
   ],
   "source": [
    "import os,subprocess\n",
    "\n",
    "args=[\"C:\\Program Files (x86)\\MarketSpeed\\MLauncher\\MLauncher.exe\" ,\"MarketSpeed\"]\n",
    "p1=subprocess.Popen(args)\n",
    "p1.wait()#処理待ちしない場合は、これを消す\n",
    "\n",
    "driver.get(\"http://localhost:50001/run/login_rakuten.sikuli\")\n",
    "\n",
    "args=[\"C:\\Program Files (x86)\\MarketSpeed\\MLauncher\\MLauncher.exe\" ,\"RSS\"]\n",
    "p2=subprocess.Popen(args)\n",
    "p2.wait()#処理待ちしない場合は、これを消す"
   ]
  },
  {
   "cell_type": "code",
   "execution_count": 16,
   "metadata": {
    "ExecuteTime": {
     "end_time": "2017-07-24T10:53:50.955970Z",
     "start_time": "2017-07-24T10:53:47.904891Z"
    },
    "collapsed": true
   },
   "outputs": [],
   "source": [
    "driver.quit()"
   ]
  },
  {
   "cell_type": "markdown",
   "metadata": {},
   "source": [
    "# tikinter"
   ]
  },
  {
   "cell_type": "markdown",
   "metadata": {},
   "source": [
    "http://www.not-enough.org/abe/manual/program-aa08/pythontk1.html"
   ]
  },
  {
   "cell_type": "markdown",
   "metadata": {},
   "source": [
    "# Python で線形方程式系を解く"
   ]
  },
  {
   "cell_type": "markdown",
   "metadata": {},
   "source": [
    "<img  src=\"YWP6YFYMLD1XVFK3H4MHQKGC7GX89BWR.png\"/>"
   ]
  },
  {
   "cell_type": "code",
   "execution_count": 1,
   "metadata": {},
   "outputs": [
    {
     "name": "stdout",
     "output_type": "stream",
     "text": [
      "[ 4. -2. -9.]\n"
     ]
    }
   ],
   "source": [
    "import numpy as np\n",
    "\n",
    "A = np.array([[6, 4, 1],\n",
    "              [1, 8, -2],\n",
    "              [3, 2, 0]])\n",
    "b = np.array([7, 6, 8])\n",
    "\n",
    "x = np.linalg.solve(A, b)\n",
    "\n",
    "print(x)"
   ]
  },
  {
   "cell_type": "markdown",
   "metadata": {
    "collapsed": true
   },
   "source": [
    "# Codeの使い方"
   ]
  },
  {
   "cell_type": "markdown",
   "metadata": {},
   "source": [
    "## sikuliで作ったライブラリなどの補完機能を（Intellisense）追加"
   ]
  },
  {
   "cell_type": "markdown",
   "metadata": {},
   "source": [
    "Use the setting python.autoComplete.extraPaths = []\n",
    "For instance getting autocomplete/intellisense for Google App Engine, add the following to your settings file:\n",
    "\"python.autoComplete.extraPaths\": [\n",
    "\"C:/Program Files (x86)/Google/google_appengine\",\n",
    "\"C:/Program Files (x86)/Google/google_appengine/lib\" ]"
   ]
  },
  {
   "cell_type": "code",
   "execution_count": 17,
   "metadata": {
    "collapsed": true
   },
   "outputs": [],
   "source": [
    "! explorer \"%userprofile%\\AppData\\Roaming\\Code\\User\""
   ]
  },
  {
   "cell_type": "markdown",
   "metadata": {},
   "source": [
    "https://qiita.com/t-mimura/items/e0f12ea5678b1a10bba3"
   ]
  }
 ],
 "metadata": {
  "hide_input": false,
  "kernelspec": {
   "display_name": "Python [default]",
   "language": "python",
   "name": "python3"
  },
  "language_info": {
   "codemirror_mode": {
    "name": "ipython",
    "version": 3
   },
   "file_extension": ".py",
   "mimetype": "text/x-python",
   "name": "python",
   "nbconvert_exporter": "python",
   "pygments_lexer": "ipython3",
   "version": "3.6.2"
  },
  "nbTranslate": {
   "displayLangs": [
    "*"
   ],
   "hotkey": "alt-t",
   "langInMainMenu": true,
   "sourceLang": "en",
   "targetLang": "fr",
   "useGoogleTranslate": true
  },
  "toc": {
   "nav_menu": {
    "height": "30px",
    "width": "252px"
   },
   "number_sections": true,
   "sideBar": true,
   "skip_h1_title": false,
   "toc_cell": false,
   "toc_position": {
    "height": "858px",
    "left": "0px",
    "right": "998px",
    "top": "131px",
    "width": "226px"
   },
   "toc_section_display": "block",
   "toc_window_display": true
  },
  "varInspector": {
   "cols": {
    "lenName": 16,
    "lenType": 16,
    "lenVar": 40
   },
   "kernels_config": {
    "python": {
     "delete_cmd_postfix": "",
     "delete_cmd_prefix": "del ",
     "library": "var_list.py",
     "varRefreshCmd": "print(var_dic_list())"
    },
    "r": {
     "delete_cmd_postfix": ") ",
     "delete_cmd_prefix": "rm(",
     "library": "var_list.r",
     "varRefreshCmd": "cat(var_dic_list()) "
    }
   },
   "types_to_exclude": [
    "module",
    "function",
    "builtin_function_or_method",
    "instance",
    "_Feature"
   ],
   "window_display": false
  }
 },
 "nbformat": 4,
 "nbformat_minor": 2
}
