{
 "cells": [
  {
   "cell_type": "code",
   "execution_count": null,
   "metadata": {},
   "outputs": [],
   "source": []
  },
  {
   "cell_type": "code",
   "execution_count": 1,
   "metadata": {
    "ExecuteTime": {
     "end_time": "2017-05-06T10:52:17.925594Z",
     "start_time": "2017-05-06T19:52:17.744880+09:00"
    }
   },
   "outputs": [],
   "source": [
    "! explorer ."
   ]
  },
  {
   "cell_type": "markdown",
   "metadata": {},
   "source": [
    "# 環境変数の設定\n",
    "※　有効にするには、jupyterの再起動が必要となるので注意する"
   ]
  },
  {
   "cell_type": "code",
   "execution_count": null,
   "metadata": {
    "collapsed": true
   },
   "outputs": [],
   "source": [
    "! setx PYTHONPATH \"C:/Users/mineo/Anaconda3/envs/mine36/python.exe\""
   ]
  },
  {
   "cell_type": "code",
   "execution_count": 1,
   "metadata": {
    "ExecuteTime": {
     "end_time": "2017-10-29T20:47:09.720415Z",
     "start_time": "2017-10-29T20:47:09.474399Z"
    }
   },
   "outputs": [
    {
     "name": "stdout",
     "output_type": "stream",
     "text": [
      "\n",
      "成功: 指定した値は保存されました。\n",
      "\n",
      "成功: 指定した値は保存されました。\n",
      "\n",
      "成功: 指定した値は保存されました。\n"
     ]
    }
   ],
   "source": [
    "! setx python_exe_path \"C:/Users/mineo/Anaconda3/envs/mine36/python.exe\""
   ]
  },
  {
   "cell_type": "code",
   "execution_count": 6,
   "metadata": {
    "ExecuteTime": {
     "end_time": "2017-10-29T21:02:53.731151Z",
     "start_time": "2017-10-29T21:02:53.589229Z"
    }
   },
   "outputs": [
    {
     "name": "stdout",
     "output_type": "stream",
     "text": [
      "\n",
      "成功: 指定した値は保存されました。\n"
     ]
    }
   ],
   "source": [
    "! setx sikuli_home \"%jupyter_home%\\N00_personal\\N96_sikuli\""
   ]
  },
  {
   "cell_type": "code",
   "execution_count": 4,
   "metadata": {
    "ExecuteTime": {
     "end_time": "2017-10-29T20:59:08.416459Z",
     "start_time": "2017-10-29T20:59:08.326400Z"
    }
   },
   "outputs": [
    {
     "name": "stdout",
     "output_type": "stream",
     "text": [
      "\n",
      "成功: 指定した値は保存されました。\n"
     ]
    }
   ],
   "source": [
    "! setx path \"%PATH%;C:\\Users\\mineo\\OneDrive\\anaconda\\chromedriver_win32\""
   ]
  },
  {
   "cell_type": "code",
   "execution_count": 5,
   "metadata": {
    "ExecuteTime": {
     "end_time": "2017-10-29T21:00:01.522883Z",
     "start_time": "2017-10-29T21:00:01.332830Z"
    }
   },
   "outputs": [
    {
     "name": "stdout",
     "output_type": "stream",
     "text": [
      "\n",
      "成功: 指定した値は保存されました。\n"
     ]
    }
   ],
   "source": [
    "! setx path \"%PATH%;C:\\Users\\mineo\\OneDrive\\anaconda\\protoc-3.3.0-win32\\bin\""
   ]
  },
  {
   "cell_type": "markdown",
   "metadata": {
    "collapsed": true
   },
   "source": [
    "# カスペルスキー インターネット セキュリティ"
   ]
  },
  {
   "cell_type": "markdown",
   "metadata": {
    "collapsed": true
   },
   "source": [
    "## 「入力情報の漏洩防止が有効です」を非表示に\n",
    "http://tabkul.com/?p=109874"
   ]
  },
  {
   "cell_type": "code",
   "execution_count": null,
   "metadata": {},
   "outputs": [],
   "source": []
  },
  {
   "cell_type": "markdown",
   "metadata": {
    "collapsed": true
   },
   "source": [
    "# jupyterの設定"
   ]
  },
  {
   "cell_type": "markdown",
   "metadata": {},
   "source": [
    "## 設定ファイルの配置\n",
    "- jupyter_notebook_config.pyを配置する"
   ]
  },
  {
   "cell_type": "markdown",
   "metadata": {
    "collapsed": true
   },
   "source": [
    "<video src=\"set_jupyter_config_file.mp4\" controls width=\"320\" height=\"240\"></video>"
   ]
  },
  {
   "cell_type": "markdown",
   "metadata": {},
   "source": [
    "## 環境設定\n",
    "PYTHONPATHは自作ライブラリをimportしたい場合に、その場所にpathを通す（pythonが探しにいってくれるようにする）\n",
    "\n",
    "- jupyter_home %userprofile%\\OneDrive\\anaconda\\root\n",
    "- PYTHONPATH %jupyter_home%\\000_lib\n",
    "- sikuli_home %userprofile%\\OneDrive\\anaconda\\root\\N96_sikuli\n",
    "- 環境変数\"path\"にchromedriverへのpathを通す %jupyter_home%\\anaconda\\chromedriver_win32\n",
    "- 環境変数\"path\"にprotcへのpathを通す %jupyter_home%\\protoc-3.3.0-win32\\bin"
   ]
  },
  {
   "cell_type": "markdown",
   "metadata": {},
   "source": [
    "<video src=\"env_settei.mp4\" controls width=\"640\" height=\"480\"></video>"
   ]
  },
  {
   "cell_type": "code",
   "execution_count": 2,
   "metadata": {
    "ExecuteTime": {
     "end_time": "2017-05-06T09:38:36.749112Z",
     "start_time": "2017-05-06T18:38:36.361590+09:00"
    }
   },
   "outputs": [],
   "source": [
    "import pyautogui\n",
    "import winspeech"
   ]
  },
  {
   "cell_type": "markdown",
   "metadata": {},
   "source": [
    "## コンフィグファイル"
   ]
  },
  {
   "cell_type": "code",
   "execution_count": 3,
   "metadata": {
    "ExecuteTime": {
     "end_time": "2017-05-06T09:38:45.470362Z",
     "start_time": "2017-05-06T18:38:38.049444+09:00"
    }
   },
   "outputs": [],
   "source": [
    "pyautogui.hotkey('win', 'x')  # win+x\n",
    "winspeech.say(\"次の操作をしてください\")\n",
    "pyautogui.alert('win+x')\n",
    "winspeech.say(\"システムを選んで下さい\")\n",
    "winspeech.say(\"システムの詳細設定を選んで下さい\")\n",
    "winspeech.say(\"環境設定を選んで下さい\")\n"
   ]
  },
  {
   "cell_type": "code",
   "execution_count": null,
   "metadata": {
    "ExecuteTime": {
     "end_time": "2017-04-30T09:56:28.312807Z",
     "start_time": "2017-04-30T09:56:25.769487Z"
    }
   },
   "outputs": [],
   "source": [
    "a=pyautogui.confirm(text='ジュピターホームはありますか？', title='確認', buttons=['ある', 'ない'])\n",
    "a"
   ]
  },
  {
   "cell_type": "code",
   "execution_count": null,
   "metadata": {
    "ExecuteTime": {
     "end_time": "2017-04-30T09:56:29.575848Z",
     "start_time": "2017-04-30T09:56:29.560833Z"
    }
   },
   "outputs": [],
   "source": [
    "if a==\"ある\":\n",
    "    winspeech.say(\"新規を押してください\")\n",
    "    winspeech.say(\"環境変数を設定してください\")"
   ]
  },
  {
   "cell_type": "code",
   "execution_count": null,
   "metadata": {},
   "outputs": [],
   "source": []
  },
  {
   "cell_type": "code",
   "execution_count": null,
   "metadata": {},
   "outputs": [],
   "source": []
  },
  {
   "cell_type": "code",
   "execution_count": null,
   "metadata": {},
   "outputs": [],
   "source": []
  },
  {
   "cell_type": "code",
   "execution_count": null,
   "metadata": {
    "ExecuteTime": {
     "end_time": "2017-04-30T09:56:39.854833Z",
     "start_time": "2017-04-30T09:56:36.807709Z"
    }
   },
   "outputs": [],
   "source": [
    "pyautogui.alert('This displays some text with an OK button.')"
   ]
  },
  {
   "cell_type": "code",
   "execution_count": null,
   "metadata": {
    "ExecuteTime": {
     "end_time": "2017-04-30T06:59:37.593514Z",
     "start_time": "2017-04-30T06:59:35.367968Z"
    }
   },
   "outputs": [],
   "source": [
    "a=pyautogui.confirm('This displays text and has an OK and Cancel button.')\n",
    "a\n"
   ]
  },
  {
   "cell_type": "code",
   "execution_count": null,
   "metadata": {
    "ExecuteTime": {
     "end_time": "2017-04-30T06:59:51.472605Z",
     "start_time": "2017-04-30T06:59:48.750293Z"
    }
   },
   "outputs": [],
   "source": [
    "a=pyautogui.prompt('This lets the user type in a string and press OK.')\n",
    "a"
   ]
  },
  {
   "cell_type": "code",
   "execution_count": null,
   "metadata": {
    "ExecuteTime": {
     "end_time": "2017-04-30T09:55:03.325045Z",
     "start_time": "2017-04-30T09:50:58.977780Z"
    }
   },
   "outputs": [],
   "source": [
    "a=pyautogui.password('This lets the user type in a string and press OK.')\n",
    "a"
   ]
  },
  {
   "cell_type": "code",
   "execution_count": 1,
   "metadata": {
    "ExecuteTime": {
     "end_time": "2017-06-01T05:49:32.937863",
     "start_time": "2017-06-01T05:49:32.808141"
    }
   },
   "outputs": [
    {
     "ename": "AttributeError",
     "evalue": "module 'urllib' has no attribute 'Request'",
     "output_type": "error",
     "traceback": [
      "\u001b[0;31m---------------------------------------------------------------------------\u001b[0m",
      "\u001b[0;31mAttributeError\u001b[0m                            Traceback (most recent call last)",
      "\u001b[0;32m<ipython-input-1-d341578d6f41>\u001b[0m in \u001b[0;36m<module>\u001b[0;34m()\u001b[0m\n\u001b[1;32m     19\u001b[0m \u001b[1;33m\u001b[0m\u001b[0m\n\u001b[1;32m     20\u001b[0m         \u001b[0mobj_command\u001b[0m \u001b[1;33m=\u001b[0m \u001b[0mjson\u001b[0m\u001b[1;33m.\u001b[0m\u001b[0mdumps\u001b[0m\u001b[1;33m(\u001b[0m\u001b[0mtts_command\u001b[0m\u001b[1;33m)\u001b[0m\u001b[1;33m\u001b[0m\u001b[0m\n\u001b[0;32m---> 21\u001b[0;31m         \u001b[0mreq\u001b[0m \u001b[1;33m=\u001b[0m \u001b[0murllib\u001b[0m\u001b[1;33m.\u001b[0m\u001b[0mRequest\u001b[0m\u001b[1;33m(\u001b[0m\u001b[0mtts_url\u001b[0m\u001b[1;33m,\u001b[0m \u001b[0mobj_command\u001b[0m\u001b[1;33m)\u001b[0m\u001b[1;33m\u001b[0m\u001b[0m\n\u001b[0m\u001b[1;32m     22\u001b[0m         \u001b[0mreceived\u001b[0m \u001b[1;33m=\u001b[0m \u001b[0murllib2\u001b[0m\u001b[1;33m.\u001b[0m\u001b[0murlopen\u001b[0m\u001b[1;33m(\u001b[0m\u001b[0mreq\u001b[0m\u001b[1;33m)\u001b[0m\u001b[1;33m.\u001b[0m\u001b[0mread\u001b[0m\u001b[1;33m(\u001b[0m\u001b[1;33m)\u001b[0m\u001b[1;33m\u001b[0m\u001b[0m\n\u001b[1;32m     23\u001b[0m \u001b[1;33m\u001b[0m\u001b[0m\n",
      "\u001b[0;31mAttributeError\u001b[0m: module 'urllib' has no attribute 'Request'"
     ]
    }
   ],
   "source": [
    "# -*- coding: utf-8 -*-\n",
    "import sys\n",
    "import string\n",
    "import base64\n",
    "import urllib\n",
    "import json\n",
    "import wave\n",
    "\n",
    "tts_url ='http://rospeex.ucri.jgn-x.jp/nauth_json/jsServices/VoiceTraSS'\n",
    "\n",
    "# main\n",
    "if __name__=='__main__':\n",
    "        message = sys.argv[1]\n",
    "\n",
    "        # command\n",
    "        tts_command = { 'method':'speak',\n",
    "        'params':['1.1',\n",
    "        {'language':'ja','text':message,'voiceType':\"*\",'audioType':\"audio/x-wav\"}]}\n",
    "\n",
    "        obj_command = json.dumps(tts_command)\n",
    "        req = urllib.Request(tts_url, obj_command)\n",
    "        received = urllib2.urlopen(req).read()\n",
    "\n",
    "        # extract wav file\n",
    "        obj_received = json.loads(received)\n",
    "        tmp = obj_received['result']['audio'] # extract result->audio\n",
    "        speech = base64.decodestring(tmp.encode('utf-8'))\n",
    "\n",
    "        f = open (\"out.wav\",'wb')\n",
    "        f.write(speech)\n",
    "        f.close"
   ]
  },
  {
   "cell_type": "code",
   "execution_count": null,
   "metadata": {},
   "outputs": [],
   "source": []
  }
 ],
 "metadata": {
  "anaconda-cloud": {},
  "hide_input": false,
  "kernelspec": {
   "display_name": "Python 3",
   "language": "python",
   "name": "python3"
  },
  "language_info": {
   "codemirror_mode": {
    "name": "ipython",
    "version": 3
   },
   "file_extension": ".py",
   "mimetype": "text/x-python",
   "name": "python",
   "nbconvert_exporter": "python",
   "pygments_lexer": "ipython3",
   "version": "3.6.2"
  },
  "nbTranslate": {
   "displayLangs": [
    "*"
   ],
   "hotkey": "alt-t",
   "langInMainMenu": true,
   "sourceLang": "en",
   "targetLang": "fr",
   "useGoogleTranslate": true
  },
  "toc": {
   "nav_menu": {
    "height": "12px",
    "width": "252px"
   },
   "number_sections": true,
   "sideBar": true,
   "skip_h1_title": false,
   "toc_cell": false,
   "toc_position": {},
   "toc_section_display": "block",
   "toc_window_display": true
  }
 },
 "nbformat": 4,
 "nbformat_minor": 2
}
