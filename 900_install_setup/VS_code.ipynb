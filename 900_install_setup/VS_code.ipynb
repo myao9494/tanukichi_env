{
 "cells": [
  {
   "cell_type": "code",
   "execution_count": 2,
   "metadata": {
    "ExecuteTime": {
     "end_time": "2018-06-20T21:44:14.397970Z",
     "start_time": "2018-06-20T21:44:13.986974Z"
    }
   },
   "outputs": [],
   "source": [
    "! code .."
   ]
  },
  {
   "cell_type": "markdown",
   "metadata": {},
   "source": [
    "## extentions"
   ]
  },
  {
   "cell_type": "markdown",
   "metadata": {},
   "source": [
    "## トラブル"
   ]
  },
  {
   "cell_type": "markdown",
   "metadata": {},
   "source": [
    "デバッグが出来ない\n",
    "https://stackoverflow.com/questions/51815237/issue-while-using-python-in-visual-studio-code  \n",
    "下記のように、noneにしたら、OKであった  \n",
    "\n",
    "下記にちょっと詳しく書いてあった\n",
    "http://www.atmarkit.co.jp/ait/articles/1711/24/news034_2.html"
   ]
  },
  {
   "attachments": {
    "image.png": {
     "image/png": "[encoded data removed]"
    }
   },
   "cell_type": "markdown",
   "metadata": {},
   "source": [
    "![image.png](attachment:image.png)"
   ]
  },
  {
   "cell_type": "markdown",
   "metadata": {},
   "source": [
    "### 場所"
   ]
  },
  {
   "cell_type": "code",
   "execution_count": 1,
   "metadata": {
    "ExecuteTime": {
     "end_time": "2018-06-20T21:27:29.162592Z",
     "start_time": "2018-06-20T21:27:28.739378Z"
    }
   },
   "outputs": [],
   "source": [
    "! explorer \"%userprofile%\\.vscode\\extensions\""
   ]
  },
  {
   "cell_type": "markdown",
   "metadata": {},
   "source": [
    "### リスト"
   ]
  },
  {
   "cell_type": "code",
   "execution_count": 5,
   "metadata": {
    "ExecuteTime": {
     "end_time": "2018-12-03T20:15:59.270456Z",
     "start_time": "2018-12-03T20:15:59.262462Z"
    }
   },
   "outputs": [
    {
     "name": "stdout",
     "output_type": "stream",
     "text": [
      "- almenon.arepl-1.0.3:\n",
      "- batisteo.vscode-django-0.17.0:\n",
      "- blenderfreetimeprojects.blender-python-code-templates-0.9.6:\n",
      "- coenraads.bracket-pair-colorizer-1.0.61:\n",
      "- donjayamanne.jupyter-1.1.4:\n",
      "- donjayamanne.python-extension-pack-1.4.0:\n",
      "- eamodio.gitlens-9.0.1:\n",
      "- grapecity.gc-excelviewer-2.1.26:\n",
      "- ics.japanese-proofreading-0.1.6:\n",
      "- jebbs.plantuml-2.9.10:\n",
      "- magicstack.magicpython-1.1.0:\n",
      "- mechatroner.rainbow-csv-0.8.0:\n",
      "- ms-ceintl.vscode-language-pack-ja-1.29.2:\n",
      "- ms-python.python-2018.11.0:\n",
      "- ms-toolsai.vscode-ai-0.3.1:\n",
      "- ms-vscode.azure-account-0.6.2:\n",
      "- neuron.neuron-ipe-1.0.4:\n",
      "- njpwerner.autodocstring-0.2.3:\n",
      "- rafaelmaiolla.remote-vscode-1.1.0:\n",
      "- robertohuertasm.vscode-icons-7.28.0:\n",
      "- romanpeshkov.vscode-text-tables-0.1.5:\n",
      "- shardulm94.trailing-spaces-0.2.11:\n",
      "- slevesque.vscode-3dviewer-0.1.0:\n",
      "- visualstudioexptteam.vscodeintellicode-1.0.6:\n",
      "- wholroyd.jinja-0.0.8:\n",
      "- yzane.markdown-pdf-1.2.0:\n"
     ]
    }
   ],
   "source": [
    "import os\n",
    "pat=os.path.join(os.environ['USERPROFILE'],\".vscode\\extensions\")\n",
    "li=os.listdir(pat)\n",
    "for i in li:\n",
    "    print(\"- \" + i + \":\")"
   ]
  },
  {
   "cell_type": "markdown",
   "metadata": {},
   "source": [
    "- almenon.arepl-1.0.3:https://marketplace.visualstudio.com/items?itemName=almenon.arepl\n",
    "- blenderfreetimeprojects.blender-python-code-templates-0.9.6:https://marketplace.visualstudio.com/items?itemName=blenderfreetimeprojects.blender-python-code-templates\n",
    "- coenraads.bracket-pair-colorizer-1.0.61:https://marketplace.visualstudio.com/items?itemName=CoenraadS.bracket-pair-colorizer\n",
    "- eamodio.gitlens-9.0.1:https://marketplace.visualstudio.com/items?itemName=eamodio.gitlens\n",
    "- mechatroner.rainbow-csv-0.8.0:https://marketplace.visualstudio.com/items?itemName=mechatroner.rainbow-csv\n",
    "- ms-ceintl.vscode-language-pack-ja-1.29.2:https://marketplace.visualstudio.com/items?itemName=MS-CEINTL.vscode-language-pack-ja\n",
    "- ms-python.python-2018.11.0:https://marketplace.visualstudio.com/items?itemName=ms-python.python\n",
    "- njpwerner.autodocstring-0.2.3:https://marketplace.visualstudio.com/items?itemName=njpwerner.autodocstring\n",
    "- robertohuertasm.vscode-icons-7.28.0:https://marketplace.visualstudio.com/items?itemName=robertohuertasm.vscode-icons\n",
    "- romanpeshkov.vscode-text-tables-0.1.5:https://marketplace.visualstudio.com/items?itemName=RomanPeshkov.vscode-text-tables\n",
    "- shardulm94.trailing-spaces-0.2.11:https://marketplace.visualstudio.com/items?itemName=shardulm94.trailing-spaces\n",
    "- slevesque.vscode-3dviewer-0.1.0:https://marketplace.visualstudio.com/items?itemName=slevesque.vscode-3dviewer"
   ]
  },
  {
   "cell_type": "markdown",
   "metadata": {},
   "source": [
    "- donjayamanne.python-extension-pack-1.4.0:https://marketplace.visualstudio.com/items?itemName=donjayamanne.python-extension-pack\n",
    "- visualstudioexptteam.vscodeintellicode-1.0.6:https://marketplace.visualstudio.com/items?itemName=VisualStudioExptTeam.vscodeintellicode"
   ]
  },
  {
   "cell_type": "markdown",
   "metadata": {},
   "source": [
    "- ms-toolsai.vscode-ai-0.3.1:\n",
    "- neuron.neuron-ipe-1.0.4:\n",
    "- rafaelmaiolla.remote-vscode-1.1.0:\n",
    "- wholroyd.jinja-0.0.8:\n",
    "- yzane.markdown-pdf-1.2.0:"
   ]
  }
 ],
 "metadata": {
  "hide_input": false,
  "kernelspec": {
   "display_name": "Python 3",
   "language": "python",
   "name": "python3"
  },
  "language_info": {
   "codemirror_mode": {
    "name": "ipython",
    "version": 3
   },
   "file_extension": ".py",
   "mimetype": "text/x-python",
   "name": "python",
   "nbconvert_exporter": "python",
   "pygments_lexer": "ipython3",
   "version": "3.6.5"
  },
  "nbTranslate": {
   "displayLangs": [
    "*"
   ],
   "hotkey": "alt-t",
   "langInMainMenu": true,
   "sourceLang": "en",
   "targetLang": "fr",
   "useGoogleTranslate": true
  },
  "toc": {
   "base_numbering": 1,
   "nav_menu": {},
   "number_sections": true,
   "sideBar": true,
   "skip_h1_title": false,
   "title_cell": "Table of Contents",
   "title_sidebar": "Contents",
   "toc_cell": false,
   "toc_position": {},
   "toc_section_display": true,
   "toc_window_display": false
  },
  "varInspector": {
   "cols": {
    "lenName": 16,
    "lenType": 16,
    "lenVar": "100"
   },
   "kernels_config": {
    "python": {
     "delete_cmd_postfix": "",
     "delete_cmd_prefix": "del ",
     "library": "var_list.py",
     "varRefreshCmd": "print(var_dic_list())"
    },
    "r": {
     "delete_cmd_postfix": ") ",
     "delete_cmd_prefix": "rm(",
     "library": "var_list.r",
     "varRefreshCmd": "cat(var_dic_list()) "
    }
   },
   "types_to_exclude": [
    "module",
    "function",
    "builtin_function_or_method",
    "instance",
    "_Feature"
   ],
   "window_display": false
  }
 },
 "nbformat": 4,
 "nbformat_minor": 2
}
