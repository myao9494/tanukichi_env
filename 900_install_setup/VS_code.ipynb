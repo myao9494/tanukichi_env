{
 "cells": [
  {
   "cell_type": "code",
   "execution_count": 18,
   "metadata": {
    "ExecuteTime": {
     "end_time": "2018-06-20T21:44:14.397970Z",
     "start_time": "2018-06-20T21:44:13.986974Z"
    }
   },
   "outputs": [],
   "source": [
    "! code ."
   ]
  },
  {
   "cell_type": "markdown",
   "metadata": {},
   "source": [
    "## extentions"
   ]
  },
  {
   "cell_type": "markdown",
   "metadata": {},
   "source": [
    "### 場所"
   ]
  },
  {
   "cell_type": "code",
   "execution_count": 1,
   "metadata": {
    "ExecuteTime": {
     "end_time": "2018-06-20T21:27:29.162592Z",
     "start_time": "2018-06-20T21:27:28.739378Z"
    }
   },
   "outputs": [],
   "source": [
    "! explorer \"%userprofile%\\.vscode\\extensions\""
   ]
  },
  {
   "cell_type": "markdown",
   "metadata": {},
   "source": [
    "### リスト"
   ]
  },
  {
   "cell_type": "code",
   "execution_count": 16,
   "metadata": {
    "ExecuteTime": {
     "end_time": "2018-06-20T21:36:48.311029Z",
     "start_time": "2018-06-20T21:36:48.299032Z"
    }
   },
   "outputs": [
    {
     "data": {
      "text/plain": [
       "['DavidAnson.vscode-markdownlint-0.18.0',\n",
       " 'donjayamanne.githistory-0.4.1',\n",
       " 'eamodio.gitlens-8.4.1',\n",
       " 'GrapeCity.gc-excelviewer-2.0.21',\n",
       " 'grapecity.gc-excelviewer-2.1.23',\n",
       " 'jithurjacob.nbpreviewer-1.0.0',\n",
       " 'mechatroner.rainbow-csv-0.4.2',\n",
       " 'ms-ceintl.vscode-language-pack-ja-1.24.3',\n",
       " 'ms-python.python-2018.5.0',\n",
       " 'ms-python.python-2018.6.0',\n",
       " 'njpwerner.autodocstring-0.2.1',\n",
       " 'redhat.vscode-yaml-0.0.13',\n",
       " 'robertohuertasm.vscode-icons-7.23.0',\n",
       " 'Shan.code-settings-sync-2.9.2',\n",
       " 'shardulm94.trailing-spaces-0.2.11',\n",
       " 'sleutho.hyperworks-0.1.0',\n",
       " 'sleutho.optistruct-0.1.0',\n",
       " 'sleutho.radioss-0.1.0',\n",
       " 'sleutho.templex-0.1.1',\n",
       " 'tushortz.python-extended-snippets-0.0.1',\n",
       " 'yzhang.markdown-all-in-one-1.4.0']"
      ]
     },
     "execution_count": 16,
     "metadata": {},
     "output_type": "execute_result"
    }
   ],
   "source": [
    "import os\n",
    "pat=os.path.join(os.environ['USERPROFILE'],\".vscode\\extensions\")\n",
    "li=os.listdir(pat)\n",
    "li"
   ]
  },
  {
   "cell_type": "markdown",
   "metadata": {},
   "source": [
    "['DavidAnson.vscode-markdownlint-0.18.0',\n",
    " 'donjayamanne.githistory-0.4.1',\n",
    " 'eamodio.gitlens-8.4.1',\n",
    " 'GrapeCity.gc-excelviewer-2.0.21',\n",
    " 'grapecity.gc-excelviewer-2.1.23',\n",
    " 'jithurjacob.nbpreviewer-1.0.0',\n",
    " 'mechatroner.rainbow-csv-0.4.2',\n",
    " <span class=\"mark\">'ms-ceintl.vscode-language-pack-ja-1.24.3',</span>\n",
    " 'ms-python.python-2018.5.0',\n",
    " <span class=\"burk\">'ms-python.python-2018.6.0',</span>\n",
    " <span class=\"burk\">'njpwerner.autodocstring-0.2.1',</span>\n",
    " <span class=\"burk\">'redhat.vscode-yaml-0.0.13',</span>\n",
    " <span class=\"burk\">'robertohuertasm.vscode-icons-7.23.0',</span>\n",
    " 'Shan.code-settings-sync-2.9.2',\n",
    " <span class=\"burk\">'shardulm94.trailing-spaces-0.2.11',</span>\n",
    " 'sleutho.hyperworks-0.1.0',\n",
    " 'sleutho.optistruct-0.1.0',\n",
    " 'sleutho.radioss-0.1.0',\n",
    " 'sleutho.templex-0.1.1',\n",
    " <span class=\"burk\">'tushortz.python-extended-snippets-0.0.1',</span>\n",
    " 'yzhang.markdown-all-in-one-1.4.0']"
   ]
  },
  {
   "cell_type": "code",
   "execution_count": null,
   "metadata": {},
   "outputs": [],
   "source": []
  }
 ],
 "metadata": {
  "hide_input": false,
  "kernelspec": {
   "display_name": "Python 3",
   "language": "python",
   "name": "python3"
  },
  "language_info": {
   "codemirror_mode": {
    "name": "ipython",
    "version": 3
   },
   "file_extension": ".py",
   "mimetype": "text/x-python",
   "name": "python",
   "nbconvert_exporter": "python",
   "pygments_lexer": "ipython3",
   "version": "3.6.4"
  },
  "nbTranslate": {
   "displayLangs": [
    "*"
   ],
   "hotkey": "alt-t",
   "langInMainMenu": true,
   "sourceLang": "en",
   "targetLang": "fr",
   "useGoogleTranslate": true
  },
  "toc": {
   "base_numbering": 1,
   "nav_menu": {},
   "number_sections": true,
   "sideBar": true,
   "skip_h1_title": false,
   "title_cell": "Table of Contents",
   "title_sidebar": "Contents",
   "toc_cell": false,
   "toc_position": {},
   "toc_section_display": true,
   "toc_window_display": false
  },
  "varInspector": {
   "cols": {
    "lenName": 16,
    "lenType": 16,
    "lenVar": "100"
   },
   "kernels_config": {
    "python": {
     "delete_cmd_postfix": "",
     "delete_cmd_prefix": "del ",
     "library": "var_list.py",
     "varRefreshCmd": "print(var_dic_list())"
    },
    "r": {
     "delete_cmd_postfix": ") ",
     "delete_cmd_prefix": "rm(",
     "library": "var_list.r",
     "varRefreshCmd": "cat(var_dic_list()) "
    }
   },
   "types_to_exclude": [
    "module",
    "function",
    "builtin_function_or_method",
    "instance",
    "_Feature"
   ],
   "window_display": false
  }
 },
 "nbformat": 4,
 "nbformat_minor": 2
}
