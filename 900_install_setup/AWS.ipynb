{
 "cells": [
  {
   "cell_type": "markdown",
   "metadata": {},
   "source": [
    "## AWS　ES２"
   ]
  },
  {
   "cell_type": "markdown",
   "metadata": {},
   "source": [
    "- AWS EC2でWebサーバーを構築してみる　https://qiita.com/Arashi/items/629aaed33401b8f2265c\n",
    "- SSHでログイン　http://bibouroku.blog/2018/01/06/ssh_putty/"
   ]
  },
  {
   "cell_type": "markdown",
   "metadata": {},
   "source": [
    "yum update"
   ]
  },
  {
   "cell_type": "markdown",
   "metadata": {},
   "source": [
    "yum -y update"
   ]
  },
  {
   "cell_type": "code",
   "execution_count": null,
   "metadata": {},
   "outputs": [],
   "source": [
    "sudo ln -sf /usr/share/zoneinfo/Asia/Tokyo /etc/localtime"
   ]
  },
  {
   "cell_type": "code",
   "execution_count": null,
   "metadata": {},
   "outputs": [],
   "source": [
    "sudo yum -y install wget"
   ]
  },
  {
   "cell_type": "markdown",
   "metadata": {},
   "source": [
    "## jupyter\n",
    "必要なものを入れてから、実装していく"
   ]
  },
  {
   "cell_type": "markdown",
   "metadata": {},
   "source": [
    "- sudo yum -y install git tmux emacs gcc gcc-c++ python-setuptools python-devel postgresql-devel\n",
    "- sudo yum install bzip2 -y"
   ]
  },
  {
   "cell_type": "markdown",
   "metadata": {},
   "source": [
    "- Amazon Web ServiceでJupyter notebookを立てるまでのメモ https://qiita.com/t12968yy/items/b6c14f48638060916824\n",
    "- Python 開発用サーバの構築手順（AWS + Anaconda）https://qiita.com/Salinger/items/c7b87d7000e48be6ebe2\n",
    "- CentOS7にPython3(Anaconda3)をインストール https://qiita.com/yonex_memo/items/3cf8968724829c1b116d"
   ]
  },
  {
   "cell_type": "markdown",
   "metadata": {},
   "source": [
    "### 仮想環境のアクティベイト\n",
    "source activate py27"
   ]
  },
  {
   "cell_type": "markdown",
   "metadata": {},
   "source": [
    "## shell\n",
    "- 再起動　exec $SHELL -l\n"
   ]
  },
  {
   "cell_type": "markdown",
   "metadata": {},
   "source": [
    "切っても実行　nohup jupyter notebook &"
   ]
  },
  {
   "cell_type": "markdown",
   "metadata": {},
   "source": [
    "プロセスの確認　ps aux | grep jupyter"
   ]
  },
  {
   "cell_type": "markdown",
   "metadata": {},
   "source": [
    "プロセスを切る　kill プロセス番号"
   ]
  },
  {
   "cell_type": "markdown",
   "metadata": {},
   "source": [
    "## Linux上のホームディレクトリのfolderをカレントディレクトリに落とします。  \n",
    "\n",
    "scp -i ***.pem -r ec2-user@hostserver:/home/ec2-user/folder .\n",
    "\n",
    "https://qiita.com/katsukii/items/225cd3de6d3d06a9abcb"
   ]
  },
  {
   "cell_type": "markdown",
   "metadata": {},
   "source": [
    "## フォルダ容量確認\n",
    "df"
   ]
  },
  {
   "cell_type": "code",
   "execution_count": null,
   "metadata": {},
   "outputs": [],
   "source": []
  }
 ],
 "metadata": {
  "hide_input": false,
  "kernelspec": {
   "display_name": "Python 3",
   "language": "python",
   "name": "python3"
  },
  "language_info": {
   "codemirror_mode": {
    "name": "ipython",
    "version": 3
   },
   "file_extension": ".py",
   "mimetype": "text/x-python",
   "name": "python",
   "nbconvert_exporter": "python",
   "pygments_lexer": "ipython3",
   "version": "3.6.4"
  },
  "nbTranslate": {
   "displayLangs": [
    "*"
   ],
   "hotkey": "alt-t",
   "langInMainMenu": true,
   "sourceLang": "en",
   "targetLang": "fr",
   "useGoogleTranslate": true
  },
  "toc": {
   "base_numbering": 1,
   "nav_menu": {},
   "number_sections": true,
   "sideBar": true,
   "skip_h1_title": false,
   "title_cell": "Table of Contents",
   "title_sidebar": "Contents",
   "toc_cell": false,
   "toc_position": {},
   "toc_section_display": true,
   "toc_window_display": false
  },
  "varInspector": {
   "cols": {
    "lenName": 16,
    "lenType": 16,
    "lenVar": 40
   },
   "kernels_config": {
    "python": {
     "delete_cmd_postfix": "",
     "delete_cmd_prefix": "del ",
     "library": "var_list.py",
     "varRefreshCmd": "print(var_dic_list())"
    },
    "r": {
     "delete_cmd_postfix": ") ",
     "delete_cmd_prefix": "rm(",
     "library": "var_list.r",
     "varRefreshCmd": "cat(var_dic_list()) "
    }
   },
   "types_to_exclude": [
    "module",
    "function",
    "builtin_function_or_method",
    "instance",
    "_Feature"
   ],
   "window_display": false
  }
 },
 "nbformat": 4,
 "nbformat_minor": 2
}
